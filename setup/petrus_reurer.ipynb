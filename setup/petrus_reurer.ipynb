{
 "cells": [
  {
   "cell_type": "markdown",
   "id": "a377c2a0",
   "metadata": {},
   "source": [
    "### RPE differentiation time-course\n",
    "\n",
    "This notebook is for exploratory analysis and reformatting of scRNA data on directed differentiation of PSC's to retinal epithelium, from [Petrus-Reurer et al](https://www.cell.com/stem-cell-reports/pdf/S2213-6711(22)00257-0.pdf).  "
   ]
  },
  {
   "cell_type": "code",
   "execution_count": null,
   "id": "5207ee00",
   "metadata": {},
   "outputs": [],
   "source": [
    "import warnings\n",
    "warnings.filterwarnings('ignore')\n",
    "import regex as re\n",
    "import os\n",
    "import shutil\n",
    "import importlib\n",
    "import matplotlib.colors as colors\n",
    "import matplotlib.pyplot as plt\n",
    "import numpy as np\n",
    "import pandas as pd\n",
    "import scanpy as sc\n",
    "import seaborn as sns\n",
    "from scipy.stats import spearmanr as spearmanr\n",
    "from IPython.display import display, HTML\n",
    "from collections import Counter\n",
    "\n",
    "# local\n",
    "import importlib\n",
    "import sys\n",
    "sys.path.append(\"setup\")\n",
    "import ingestion\n",
    "import global_effects\n",
    "importlib.reload(ingestion)\n",
    "importlib.reload(global_effects)\n",
    "\n",
    "import anndata\n",
    "import os, sys\n",
    "import itertools as it\n",
    "from scipy.stats import spearmanr, pearsonr, rankdata, f_oneway\n",
    "from statsmodels.stats.multitest import multipletests\n",
    "from sklearn.metrics import mutual_info_score\n",
    "import matplotlib.pyplot as plt\n",
    "import seaborn as sns\n",
    "from collections import Counter\n",
    "\n",
    "#      visualization settings\n",
    "%matplotlib inline\n",
    "plt.rcParams['figure.figsize'] = [6, 4.5]\n",
    "plt.rcParams[\"savefig.dpi\"] = 300\n",
    "\n",
    "# I prefer to specify the working directory explicitly.\n",
    "os.chdir(\"/home/ekernf01/Desktop/jhu/research/projects/perturbation_prediction/cell_type_knowledge_transfer/perturbation_data\")\n",
    "\n",
    "# Universal\n",
    "geneAnnotationPath = \"../accessory_data/gencode.v35.annotation.gtf.gz\"       # Downloaded from https://www.gencodegenes.org/human/release_35.html\n",
    "humanTFPath =  \"../accessory_data/humanTFs.csv\"                              # Downloaded from http://humantfs.ccbr.utoronto.ca/download.php\n",
    "humanEpiPath = \"../accessory_data/epiList.csv\"                               # Downloaded from https://epifactors.autosome.org/description \n",
    "cellcycleGenePath = \"../accessory_data/regev_lab_cell_cycle_genes.txt\"\n",
    "\n",
    "# petrusreurer Specific\n",
    "dataset_name = \"petrusreurer\"\n",
    "perturbEffectTFOnlyPath = \"setup/petrusreurerTFOnly.csv\"                         # a path to store temp file\n",
    "perturbEffectFullTranscriptomePath = \"setup/petrusreurerFullTranscriptome.csv\"   # a path to store temp file"
   ]
  },
  {
   "cell_type": "markdown",
   "id": "275b88c7",
   "metadata": {
    "jp-MarkdownHeadingCollapsed": true,
    "tags": []
   },
   "source": [
    "### Load expression data & set up cell metadata"
   ]
  },
  {
   "cell_type": "code",
   "execution_count": null,
   "id": "07d803df",
   "metadata": {},
   "outputs": [],
   "source": [
    "expression_quantified = sc.read_h5ad(\"not_ready/replogle4/petrus_reurer/GSE164092_all_processed_data_annotated_12_2021/Annotated_Loom_h5ad_Files/ALL_VITRO_TIMECOURSE_DATA_RAW.h5ad\")\n",
    "cell_types_keep = [\n",
    "    'LateRPE', \n",
    "    'EarlyRPE', \n",
    "    'EMT-RPE', \n",
    "    'Pluri', \n",
    "    'MidRPE',  \n",
    "    'RetProg'\n",
    "]\n",
    "expression_quantified = expression_quantified[expression_quantified.obs[\"CELLTYPE1\"].isin(cell_types_keep), :]\n",
    "for f in [\"CELLTYPE1\", \"CELLTYPE2\", \"DAY\", \"CELL_LINE\", \"batch\"]:\n",
    "    print(expression_quantified.obs[f].value_counts())\n",
    "\n",
    "expression_quantified.obs[\"DAY\"] = [int(str(d)[1:]) for d in expression_quantified.obs[\"DAY\"]]"
   ]
  },
  {
   "cell_type": "markdown",
   "id": "e58d93b8",
   "metadata": {},
   "source": [
    "### Cell cycle annotation\n",
    "\n",
    "Following the Figure 1 and S1 notebook from [here](https://github.com/lamanno-epfl/rpe_differentiation_profiling_code/blob/main/JupyterNotebooks/HTML/Figure1_S1.html). \n"
   ]
  },
  {
   "cell_type": "code",
   "execution_count": null,
   "id": "954fb0f9",
   "metadata": {},
   "outputs": [],
   "source": [
    "S_genes_hum = [\"MCM5\", \"PCNA\", \"TYMS\", \"FEN1\", \"MCM2\", \"MCM4\", \"RRM1\", \"UNG\", \"GINS2\", \n",
    "            \"MCM6\", \"CDCA7\", \"DTL\", \"PRIM1\", \"UHRF1\", \"CENPU\", \"HELLS\", \"RFC2\", \n",
    "            \"RPA2\", \"NASP\", \"RAD51AP1\", \"GMNN\", \"WDR76\", \"SLBP\", \"CCNE2\", \"UBR7\", \n",
    "            \"POLD3\", \"MSH2\", \"ATAD2\", \"RAD51\", \"RRM2\", \"CDC45\", \"CDC6\", \"EXO1\", \"TIPIN\", \n",
    "            \"DSCC1\", \"BLM\", \"CASP8AP2\", \"USP1\", \"CLSPN\", \"POLA1\", \"CHAF1B\", \"BRIP1\", \"E2F8\"]\n",
    "G2M_genes_hum = [\"HMGB2\", \"CDK1\", \"NUSAP1\", \"UBE2C\", \"BIRC5\", \"TPX2\", \"TOP2A\", \"NDC80\",\n",
    "             \"CKS2\", \"NUF2\", \"CKS1B\", \"MKI67\", \"TMPO\", \"CENPF\", \"TACC3\", \"PIMREG\", \n",
    "             \"SMC4\", \"CCNB2\", \"CKAP2L\", \"CKAP2\", \"AURKB\", \"BUB1\", \"KIF11\", \"ANP32E\", \n",
    "             \"TUBB4B\", \"GTSE1\", \"KIF20B\", \"HJURP\", \"CDCA3\", \"JPT1\", \"CDC20\", \"TTK\",\n",
    "             \"CDC25C\", \"KIF2C\", \"RANGAP1\", \"NCAPD2\", \"DLGAP5\", \"CDCA2\", \"CDCA8\", \"ECT2\", \n",
    "             \"KIF23\", \"HMMR\", \"AURKA\", \"PSRC1\", \"ANLN\", \"LBR\", \"CKAP5\", \"CENPE\", \n",
    "             \"CTCF\", \"NEK2\", \"G2E3\", \"GAS2L3\", \"CBX5\", \"CENPA\"]\n",
    "sc.tl.score_genes_cell_cycle(expression_quantified, s_genes=S_genes_hum, g2m_genes=G2M_genes_hum)"
   ]
  },
  {
   "cell_type": "markdown",
   "id": "d2a6cc7c",
   "metadata": {
    "jp-MarkdownHeadingCollapsed": true,
    "tags": []
   },
   "source": [
    "### Fill `perturbation` & `is_control`"
   ]
  },
  {
   "cell_type": "code",
   "execution_count": null,
   "id": "65d44c29",
   "metadata": {
    "tags": []
   },
   "outputs": [],
   "source": [
    "expression_quantified.obs[\"is_control\"]     = True\n",
    "expression_quantified.obs[\"is_control_int\"] = 1\n",
    "expression_quantified.obs[\"perturbation\"] = \"control\"\n",
    "expression_quantified.obs"
   ]
  },
  {
   "cell_type": "markdown",
   "id": "c2d8d347",
   "metadata": {
    "jp-MarkdownHeadingCollapsed": true,
    "tags": []
   },
   "source": [
    "### Basic EDA"
   ]
  },
  {
   "cell_type": "code",
   "execution_count": null,
   "id": "97c2e7b3",
   "metadata": {
    "scrolled": true,
    "tags": []
   },
   "outputs": [],
   "source": [
    "expression_quantified.raw = expression_quantified.copy()\n",
    "sc.pp.normalize_total(expression_quantified)\n",
    "sc.pp.log1p(expression_quantified)\n",
    "sc.pp.filter_genes(expression_quantified, min_cells=20)\n",
    "expression_quantified.var\n",
    "sc.pp.highly_variable_genes(expression_quantified, n_bins=50, n_top_genes = expression_quantified.var.shape[0], flavor = \"seurat_v3\" )\n",
    "sc.pp.regress_out(expression_quantified, [\"CELL_LINE\"])\n",
    "with warnings.catch_warnings():\n",
    "    sc.tl.pca(expression_quantified, n_comps=100)\n",
    "sc.pp.neighbors(expression_quantified)\n",
    "sc.tl.umap(expression_quantified)\n",
    "clusterResolutions = []\n",
    "sc.tl.louvain(expression_quantified)"
   ]
  },
  {
   "cell_type": "code",
   "execution_count": null,
   "id": "5216afa0",
   "metadata": {
    "scrolled": true,
    "tags": []
   },
   "outputs": [],
   "source": [
    "plt.rcParams['figure.figsize'] = [6, 4.5]\n",
    "sc.pl.umap(expression_quantified, color = [\n",
    "    \"CELLTYPE1\", \"CELLTYPE2\", \"DAY\", \"CELL_LINE\", \"batch\"\n",
    "])\n",
    "sc.pl.pca(expression_quantified, color = [\n",
    "    \"CELLTYPE1\", \"CELLTYPE2\", \"DAY\", \"CELL_LINE\", \"batch\"\n",
    "])"
   ]
  },
  {
   "cell_type": "code",
   "execution_count": null,
   "id": "619d4c01",
   "metadata": {},
   "outputs": [],
   "source": [
    "expression_quantified.uns[\"perturbed_and_measured_genes\"]     = []\n",
    "expression_quantified.uns[\"perturbed_but_not_measured_genes\"] = []"
   ]
  },
  {
   "cell_type": "code",
   "execution_count": null,
   "id": "ba9c754c",
   "metadata": {
    "scrolled": true
   },
   "outputs": [],
   "source": [
    "os.makedirs(f\"perturbations/{dataset_name}\", exist_ok = True)\n",
    "expression_quantified.write_h5ad(f\"perturbations/{dataset_name}/train.h5ad\")"
   ]
  }
 ],
 "metadata": {
  "kernelspec": {
   "display_name": "Python 3.9.13 ('cell_type_grn_transfer')",
   "language": "python",
   "name": "python3"
  },
  "language_info": {
   "codemirror_mode": {
    "name": "ipython",
    "version": 3
   },
   "file_extension": ".py",
   "mimetype": "text/x-python",
   "name": "python",
   "nbconvert_exporter": "python",
   "pygments_lexer": "ipython3",
   "version": "3.9.15"
  },
  "vscode": {
   "interpreter": {
    "hash": "7658a1e878c2df46706cc47028d7885e1865315efe8f971cf3b351dc4de1c60e"
   }
  }
 },
 "nbformat": 4,
 "nbformat_minor": 5
}
