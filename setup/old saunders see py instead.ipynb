{
 "cells": [
  {
   "attachments": {},
   "cell_type": "markdown",
   "id": "a377c2a0",
   "metadata": {},
   "source": [
    "### Zebrafish example\n",
    "\n",
    "This notebook prepares a massive zebrafish sci-RNA dataset with a densely sampled timeseries and 20 knockout experiments, from [Saunders et al. 2022](https://www.biorxiv.org/content/10.1101/2022.08.04.502764v1). Here we preprocess the dataset and carry out a simple exploration in scanpy. We will:\n",
    "\n",
    "- add specific metadata needed by our benchmarking framework\n",
    "- check to see if KO'd genes have lower transcript levels\n",
    "- check for low quality cells\n",
    "- Make metacells or otherwise aggregate\n",
    "- normalize and log-transform \n",
    "- exclude low-expressed genes and select HVG\n",
    "- visualize\n"
   ]
  },
  {
   "cell_type": "code",
   "execution_count": 1,
   "id": "5207ee00",
   "metadata": {},
   "outputs": [],
   "source": [
    "import warnings\n",
    "warnings.filterwarnings('ignore')\n",
    "import regex as re\n",
    "import os\n",
    "import gc\n",
    "import shutil\n",
    "import importlib\n",
    "import matplotlib.colors as colors\n",
    "import matplotlib.pyplot as plt\n",
    "import numpy as np\n",
    "import pandas as pd\n",
    "import scanpy as sc\n",
    "import anndata \n",
    "import seaborn as sns\n",
    "from scipy.stats import spearmanr as spearmanr\n",
    "from IPython.display import display, HTML\n",
    "\n",
    "import os, sys\n",
    "import itertools as it\n",
    "from scipy.stats import spearmanr, pearsonr, rankdata, f_oneway\n",
    "from statsmodels.stats.multitest import multipletests\n",
    "from sklearn.metrics import mutual_info_score\n",
    "import matplotlib.pyplot as plt\n",
    "import seaborn as sns\n",
    "from collections import Counter\n",
    "\n",
    "# local\n",
    "import importlib\n",
    "import sys\n",
    "sys.path.append(\"setup\")\n",
    "import ingestion\n",
    "importlib.reload(ingestion)\n",
    "\n",
    "#      visualization settings\n",
    "plt.rcParams['figure.figsize'] = [6, 4.5]\n",
    "plt.rcParams[\"savefig.dpi\"] = 300\n",
    "\n",
    "# Specify the working directory explicitly.\n",
    "os.chdir(\"/home/ekernf01/Desktop/jhu/research/projects/perturbation_prediction/cell_type_knowledge_transfer/perturbation_data\")\n",
    "\n",
    "# Universal\n",
    "geneAnnotationPath = \"../accessory_data/gencode.v35.annotation.gtf.gz\"       # Downloaded from https://www.gencodegenes.org/human/release_35.html\n",
    "humanTFPath = \"../accessory_data/humanTFs.csv\"                               # Downloaded from http://humantfs.ccbr.utoronto.ca/download.php\n",
    "humanEpiPath = \"../accessory_data/epiList.csv\"                               # Downloaded from https://epifactors.autosome.org/description \n",
    "\n",
    "finalDataFileFolder = \"perturbations/saunders\""
   ]
  },
  {
   "cell_type": "markdown",
   "id": "e086cf35",
   "metadata": {
    "jp-MarkdownHeadingCollapsed": true,
    "tags": []
   },
   "source": [
    "### Combine into anndata to keep everything together"
   ]
  },
  {
   "cell_type": "code",
   "execution_count": 2,
   "id": "a1c93739",
   "metadata": {},
   "outputs": [],
   "source": [
    "expression_quantified = {}\n",
    "try:\n",
    "    expression_quantified[\"train\"] = sc.read_h5ad(os.path.join(\"not_ready/saunders\", \"train_working.h5ad\"))\n",
    "except:\n",
    "    expression_quantified[\"train\"] = anndata.AnnData(sc.read_mtx(\"not_ready/saunders/GSE202639_reference_raw_counts.mtx.gz\").T, dtype=np.float32)\n",
    "    expression_quantified[\"train\"].var = pd.read_csv(\"not_ready/saunders/GSE202639_reference_gene_metadata.csv.gz\")\n",
    "    expression_quantified[\"train\"].obs = pd.read_csv(\"not_ready/saunders/GSE202639_reference_cell_metadata.csv.gz\")\n",
    "    os.makedirs(finalDataFileFolder, exist_ok = True)\n",
    "    expression_quantified[\"train\"].write_h5ad(os.path.join(\"not_ready/saunders\", \"train_working.h5ad\"))"
   ]
  },
  {
   "cell_type": "code",
   "execution_count": 3,
   "id": "810ca49b",
   "metadata": {},
   "outputs": [],
   "source": [
    "\n",
    "try:\n",
    "    expression_quantified[\"test\"] = sc.read_h5ad(os.path.join(\"not_ready/saunders\", \"test_working.h5ad\"))\n",
    "except:\n",
    "    expression_quantified[\"test\"] = sc.AnnData(sc.read_mtx(\"not_ready/saunders/GSE202639_zperturb_full_raw_counts.mtx.gz\").T, dtype=np.float32)         \n",
    "    expression_quantified[\"test\"].var = pd.read_csv(\"not_ready/saunders/GSE202639_zperturb_full_gene_metadata.csv.gz\")\n",
    "    expression_quantified[\"test\"].obs = pd.read_csv(\"not_ready/saunders/GSE202639_zperturb_full_cell_metadata.csv.gz\")\n",
    "    os.makedirs(finalDataFileFolder, exist_ok = True)\n",
    "    expression_quantified[\"test\"].write_h5ad(os.path.join(\"not_ready/saunders\", \"test_working.h5ad\"))"
   ]
  },
  {
   "cell_type": "code",
   "execution_count": null,
   "id": "594eca40",
   "metadata": {},
   "outputs": [],
   "source": [
    "expression_quantified[\"train\"].obs[\"perturbation\"] = \"control\"\n",
    "expression_quantified[\"train\"].obs[\"is_control\"] = True\n",
    "\n",
    "expression_quantified[\"test\"].obs[\"perturbation\"] = expression_quantified[\"test\"].obs[\"gene_target\"].str.replace(\"-\", \",\").str.replace(\"ctrl,\", \"\").str.replace(\"inj\", \"control\")\n",
    "expression_quantified[\"test\"].obs[\"is_control\"] = [g==\"ctrl-inj\" for g in expression_quantified[\"test\"].obs[\"gene_target\"]]\n",
    "\n",
    "for t in (\"train\", \"test\"):\n",
    "    expression_quantified[t].obs[\"is_control_int\"] = [float(x) for x in expression_quantified[t].obs[\"is_control\"]]\n",
    "    expression_quantified[t].obs_names = [str(s) for s in expression_quantified[t].obs_names] \n"
   ]
  },
  {
   "attachments": {},
   "cell_type": "markdown",
   "id": "66935d56",
   "metadata": {},
   "source": [
    "### Remove low-quality cells\n",
    "\n",
    "We remove unhashed cells where the timepoint or embryo is unknown. \n",
    "The data are already filtered on depth and mitochondrial content."
   ]
  },
  {
   "cell_type": "code",
   "execution_count": null,
   "id": "21ecfb88",
   "metadata": {},
   "outputs": [],
   "source": [
    "for t in (\"train\", \"test\"):\n",
    "    for f in (\"timepoint\", \"embryo\", \"cell_type_sub\"):\n",
    "        expression_quantified[t] = expression_quantified[t][pd.notnull(expression_quantified[t].obs[f]),:]\n",
    "    # sns.jointplot(\n",
    "    #     x = np.log10(expression_quantified[t].obs[\"n.umi\"]),\n",
    "    #     y = expression_quantified[t].obs[\"perc_mitochondrial_umis\"], \n",
    "    #     kind = \"hex\", \n",
    "    #     cmap = \"Blues\"\n",
    "    # )\n"
   ]
  },
  {
   "attachments": {},
   "cell_type": "markdown",
   "id": "e86260df",
   "metadata": {},
   "source": [
    "### Aggregate and normalize"
   ]
  },
  {
   "cell_type": "code",
   "execution_count": null,
   "id": "90170762",
   "metadata": {},
   "outputs": [
    {
     "name": "stdout",
     "output_type": "stream",
     "text": [
      "grouping\n",
      "mapping groups to cells\n",
      "summing\n",
      "done train\n",
      "grouping\n",
      "mapping groups to cells\n",
      "summing\n"
     ]
    },
    {
     "ename": "KeyboardInterrupt",
     "evalue": "",
     "output_type": "error",
     "traceback": [
      "\u001b[0;31m---------------------------------------------------------------------------\u001b[0m",
      "\u001b[0;31mKeyboardInterrupt\u001b[0m                         Traceback (most recent call last)",
      "\u001b[1;32m/home/ekernf01/Desktop/jhu/research/projects/perturbation_prediction/cell_type_knowledge_transfer/perturbation_data/setup/saunders.ipynb Cell 10\u001b[0m in \u001b[0;36m2\n\u001b[1;32m      <a href='vscode-notebook-cell:/home/ekernf01/Desktop/jhu/research/projects/perturbation_prediction/cell_type_knowledge_transfer/perturbation_data/setup/saunders.ipynb#X12sZmlsZQ%3D%3D?line=0'>1</a>\u001b[0m \u001b[39mfor\u001b[39;00m t \u001b[39min\u001b[39;00m (\u001b[39m\"\u001b[39m\u001b[39mtrain\u001b[39m\u001b[39m\"\u001b[39m, \u001b[39m\"\u001b[39m\u001b[39mtest\u001b[39m\u001b[39m\"\u001b[39m):\n\u001b[0;32m----> <a href='vscode-notebook-cell:/home/ekernf01/Desktop/jhu/research/projects/perturbation_prediction/cell_type_knowledge_transfer/perturbation_data/setup/saunders.ipynb#X12sZmlsZQ%3D%3D?line=1'>2</a>\u001b[0m     X \u001b[39m=\u001b[39m ingestion\u001b[39m.\u001b[39;49maggregate_by_perturbation(\n\u001b[1;32m      <a href='vscode-notebook-cell:/home/ekernf01/Desktop/jhu/research/projects/perturbation_prediction/cell_type_knowledge_transfer/perturbation_data/setup/saunders.ipynb#X12sZmlsZQ%3D%3D?line=2'>3</a>\u001b[0m         adata \u001b[39m=\u001b[39;49m expression_quantified[t][\u001b[39m0\u001b[39;49m:\u001b[39m10000\u001b[39;49m,:],\n\u001b[1;32m      <a href='vscode-notebook-cell:/home/ekernf01/Desktop/jhu/research/projects/perturbation_prediction/cell_type_knowledge_transfer/perturbation_data/setup/saunders.ipynb#X12sZmlsZQ%3D%3D?line=3'>4</a>\u001b[0m         group_by\u001b[39m=\u001b[39;49m[\u001b[39m\"\u001b[39;49m\u001b[39mperturbation\u001b[39;49m\u001b[39m\"\u001b[39;49m, \u001b[39m\"\u001b[39;49m\u001b[39mcell_type_sub\u001b[39;49m\u001b[39m\"\u001b[39;49m, \u001b[39m\"\u001b[39;49m\u001b[39membryo\u001b[39;49m\u001b[39m\"\u001b[39;49m],\n\u001b[1;32m      <a href='vscode-notebook-cell:/home/ekernf01/Desktop/jhu/research/projects/perturbation_prediction/cell_type_knowledge_transfer/perturbation_data/setup/saunders.ipynb#X12sZmlsZQ%3D%3D?line=4'>5</a>\u001b[0m         use_raw \u001b[39m=\u001b[39;49m \u001b[39mFalse\u001b[39;49;00m,\n\u001b[1;32m      <a href='vscode-notebook-cell:/home/ekernf01/Desktop/jhu/research/projects/perturbation_prediction/cell_type_knowledge_transfer/perturbation_data/setup/saunders.ipynb#X12sZmlsZQ%3D%3D?line=5'>6</a>\u001b[0m     )\n\u001b[1;32m      <a href='vscode-notebook-cell:/home/ekernf01/Desktop/jhu/research/projects/perturbation_prediction/cell_type_knowledge_transfer/perturbation_data/setup/saunders.ipynb#X12sZmlsZQ%3D%3D?line=6'>7</a>\u001b[0m     \u001b[39mprint\u001b[39m(\u001b[39mf\u001b[39m\u001b[39m\"\u001b[39m\u001b[39mdone \u001b[39m\u001b[39m{\u001b[39;00mt\u001b[39m}\u001b[39;00m\u001b[39m\"\u001b[39m)\n\u001b[1;32m      <a href='vscode-notebook-cell:/home/ekernf01/Desktop/jhu/research/projects/perturbation_prediction/cell_type_knowledge_transfer/perturbation_data/setup/saunders.ipynb#X12sZmlsZQ%3D%3D?line=7'>8</a>\u001b[0m     \u001b[39m# expression_quantified[t] = X\u001b[39;00m\n\u001b[1;32m      <a href='vscode-notebook-cell:/home/ekernf01/Desktop/jhu/research/projects/perturbation_prediction/cell_type_knowledge_transfer/perturbation_data/setup/saunders.ipynb#X12sZmlsZQ%3D%3D?line=8'>9</a>\u001b[0m     \u001b[39m# expression_quantified[t].raw = expression_quantified[t].copy()\u001b[39;00m\n\u001b[1;32m     <a href='vscode-notebook-cell:/home/ekernf01/Desktop/jhu/research/projects/perturbation_prediction/cell_type_knowledge_transfer/perturbation_data/setup/saunders.ipynb#X12sZmlsZQ%3D%3D?line=9'>10</a>\u001b[0m     \u001b[39m# expression_quantified[t].X = ingestion.deseq2Normalization(expression_quantified[t].X.T).T\u001b[39;00m\n",
      "File \u001b[0;32m~/Desktop/jhu/research/projects/perturbation_prediction/cell_type_knowledge_transfer/perturbation_data/setup/ingestion.py:434\u001b[0m, in \u001b[0;36maggregate_by_perturbation\u001b[0;34m(adata, group_by, use_raw)\u001b[0m\n\u001b[1;32m    432\u001b[0m         newX[i,:] \u001b[39m=\u001b[39m indicator\u001b[39m.\u001b[39mdot(adata\u001b[39m.\u001b[39mraw\u001b[39m.\u001b[39mX)\n\u001b[1;32m    433\u001b[0m     \u001b[39melse\u001b[39;00m:\n\u001b[0;32m--> 434\u001b[0m         newX[i,:] \u001b[39m=\u001b[39m indicator\u001b[39m.\u001b[39;49mdot(adata\u001b[39m.\u001b[39;49mX)\n\u001b[1;32m    436\u001b[0m newAdata    \u001b[39m=\u001b[39m sc\u001b[39m.\u001b[39mAnnData(\n\u001b[1;32m    437\u001b[0m     newX, \n\u001b[1;32m    438\u001b[0m     var\u001b[39m=\u001b[39madata\u001b[39m.\u001b[39mvar\u001b[39m.\u001b[39mcopy(),\n\u001b[1;32m    439\u001b[0m     obs\u001b[39m=\u001b[39mgroups,\n\u001b[1;32m    440\u001b[0m )\n\u001b[1;32m    441\u001b[0m newAdata\u001b[39m.\u001b[39mobs[\u001b[39m'\u001b[39m\u001b[39mis_control_int\u001b[39m\u001b[39m'\u001b[39m] \u001b[39m=\u001b[39m [\u001b[39mint\u001b[39m(x) \u001b[39mfor\u001b[39;00m x \u001b[39min\u001b[39;00m newAdata\u001b[39m.\u001b[39mobs[\u001b[39m\"\u001b[39m\u001b[39mis_control\u001b[39m\u001b[39m\"\u001b[39m]]\n",
      "File \u001b[0;32m~/.local/share/r-miniconda/envs/ggrn/lib/python3.9/site-packages/scipy/sparse/_base.py:416\u001b[0m, in \u001b[0;36mspmatrix.dot\u001b[0;34m(self, other)\u001b[0m\n\u001b[1;32m    414\u001b[0m     \u001b[39mreturn\u001b[39;00m \u001b[39mself\u001b[39m \u001b[39m*\u001b[39m other\n\u001b[1;32m    415\u001b[0m \u001b[39melse\u001b[39;00m:\n\u001b[0;32m--> 416\u001b[0m     \u001b[39mreturn\u001b[39;00m \u001b[39mself\u001b[39;49m \u001b[39m@\u001b[39;49m other\n",
      "File \u001b[0;32m~/.local/share/r-miniconda/envs/ggrn/lib/python3.9/site-packages/scipy/sparse/_base.py:630\u001b[0m, in \u001b[0;36mspmatrix.__matmul__\u001b[0;34m(self, other)\u001b[0m\n\u001b[1;32m    627\u001b[0m \u001b[39mif\u001b[39;00m isscalarlike(other):\n\u001b[1;32m    628\u001b[0m     \u001b[39mraise\u001b[39;00m \u001b[39mValueError\u001b[39;00m(\u001b[39m\"\u001b[39m\u001b[39mScalar operands are not allowed, \u001b[39m\u001b[39m\"\u001b[39m\n\u001b[1;32m    629\u001b[0m                      \u001b[39m\"\u001b[39m\u001b[39muse \u001b[39m\u001b[39m'\u001b[39m\u001b[39m*\u001b[39m\u001b[39m'\u001b[39m\u001b[39m instead\u001b[39m\u001b[39m\"\u001b[39m)\n\u001b[0;32m--> 630\u001b[0m \u001b[39mreturn\u001b[39;00m \u001b[39mself\u001b[39;49m\u001b[39m.\u001b[39;49m_mul_dispatch(other)\n",
      "File \u001b[0;32m~/.local/share/r-miniconda/envs/ggrn/lib/python3.9/site-packages/scipy/sparse/_base.py:541\u001b[0m, in \u001b[0;36mspmatrix._mul_dispatch\u001b[0;34m(self, other)\u001b[0m\n\u001b[1;32m    539\u001b[0m     \u001b[39mif\u001b[39;00m \u001b[39mself\u001b[39m\u001b[39m.\u001b[39mshape[\u001b[39m1\u001b[39m] \u001b[39m!=\u001b[39m other\u001b[39m.\u001b[39mshape[\u001b[39m0\u001b[39m]:\n\u001b[1;32m    540\u001b[0m         \u001b[39mraise\u001b[39;00m \u001b[39mValueError\u001b[39;00m(\u001b[39m'\u001b[39m\u001b[39mdimension mismatch\u001b[39m\u001b[39m'\u001b[39m)\n\u001b[0;32m--> 541\u001b[0m     \u001b[39mreturn\u001b[39;00m \u001b[39mself\u001b[39;49m\u001b[39m.\u001b[39;49m_mul_sparse_matrix(other)\n\u001b[1;32m    543\u001b[0m \u001b[39m# If it's a list or whatever, treat it like a matrix\u001b[39;00m\n\u001b[1;32m    544\u001b[0m other_a \u001b[39m=\u001b[39m np\u001b[39m.\u001b[39masanyarray(other)\n",
      "File \u001b[0;32m~/.local/share/r-miniconda/envs/ggrn/lib/python3.9/site-packages/scipy/sparse/_compressed.py:533\u001b[0m, in \u001b[0;36m_cs_matrix._mul_sparse_matrix\u001b[0;34m(self, other)\u001b[0m\n\u001b[1;32m    530\u001b[0m data \u001b[39m=\u001b[39m np\u001b[39m.\u001b[39mempty(nnz, dtype\u001b[39m=\u001b[39mupcast(\u001b[39mself\u001b[39m\u001b[39m.\u001b[39mdtype, other\u001b[39m.\u001b[39mdtype))\n\u001b[1;32m    532\u001b[0m fn \u001b[39m=\u001b[39m \u001b[39mgetattr\u001b[39m(_sparsetools, \u001b[39mself\u001b[39m\u001b[39m.\u001b[39mformat \u001b[39m+\u001b[39m \u001b[39m'\u001b[39m\u001b[39m_matmat\u001b[39m\u001b[39m'\u001b[39m)\n\u001b[0;32m--> 533\u001b[0m fn(M, N, np\u001b[39m.\u001b[39;49masarray(\u001b[39mself\u001b[39;49m\u001b[39m.\u001b[39;49mindptr, dtype\u001b[39m=\u001b[39;49midx_dtype),\n\u001b[1;32m    534\u001b[0m    np\u001b[39m.\u001b[39;49masarray(\u001b[39mself\u001b[39;49m\u001b[39m.\u001b[39;49mindices, dtype\u001b[39m=\u001b[39;49midx_dtype),\n\u001b[1;32m    535\u001b[0m    \u001b[39mself\u001b[39;49m\u001b[39m.\u001b[39;49mdata,\n\u001b[1;32m    536\u001b[0m    np\u001b[39m.\u001b[39;49masarray(other\u001b[39m.\u001b[39;49mindptr, dtype\u001b[39m=\u001b[39;49midx_dtype),\n\u001b[1;32m    537\u001b[0m    np\u001b[39m.\u001b[39;49masarray(other\u001b[39m.\u001b[39;49mindices, dtype\u001b[39m=\u001b[39;49midx_dtype),\n\u001b[1;32m    538\u001b[0m    other\u001b[39m.\u001b[39;49mdata,\n\u001b[1;32m    539\u001b[0m    indptr, indices, data)\n\u001b[1;32m    541\u001b[0m \u001b[39mreturn\u001b[39;00m \u001b[39mself\u001b[39m\u001b[39m.\u001b[39m\u001b[39m__class__\u001b[39m((data, indices, indptr), shape\u001b[39m=\u001b[39m(M, N))\n",
      "\u001b[0;31mKeyboardInterrupt\u001b[0m: "
     ]
    },
    {
     "ename": "",
     "evalue": "",
     "output_type": "error",
     "traceback": [
      "\u001b[1;31mThe Kernel crashed while executing code in the the current cell or a previous cell. Please review the code in the cell(s) to identify a possible cause of the failure. Click <a href='https://aka.ms/vscodeJupyterKernelCrash'>here</a> for more info. View Jupyter <a href='command:jupyter.viewOutput'>log</a> for further details."
     ]
    }
   ],
   "source": [
    "for t in (\"train\", \"test\"):\n",
    "    X = ingestion.aggregate_by_perturbation(\n",
    "        adata = expression_quantified[t][1:100,:],\n",
    "        group_by=[\"perturbation\", \"cell_type_sub\", \"embryo\"],\n",
    "        use_raw = False,\n",
    "    )\n",
    "    print(f\"done {t}\")\n",
    "    # expression_quantified[t] = X\n",
    "    # expression_quantified[t].raw = expression_quantified[t].copy()\n",
    "    # expression_quantified[t].X = ingestion.deseq2Normalization(expression_quantified[t].X.T).T\n",
    "    expression_quantified[t].write_h5ad(os.path.join(\"not_ready/saunders\", f\"{t}_aggregated.h5ad\"))"
   ]
  },
  {
   "attachments": {},
   "cell_type": "markdown",
   "id": "572bc500-dfd2-48f0-894c-1f2a6cfb0479",
   "metadata": {
    "jp-MarkdownHeadingCollapsed": true,
    "tags": []
   },
   "source": [
    "### Check on the effects of the perturbations"
   ]
  },
  {
   "cell_type": "code",
   "execution_count": null,
   "id": "13680c69-9ee5-4051-9086-deca95e08fbd",
   "metadata": {
    "jupyter": {
     "source_hidden": true
    },
    "tags": []
   },
   "outputs": [
    {
     "ename": "ValueError",
     "evalue": "zero-size array to reduction operation minimum which has no identity",
     "output_type": "error",
     "traceback": [
      "\u001b[0;31m---------------------------------------------------------------------------\u001b[0m",
      "\u001b[0;31mValueError\u001b[0m                                Traceback (most recent call last)",
      "\u001b[1;32m/home/ekernf01/Desktop/jhu/research/projects/perturbation_prediction/cell_type_knowledge_transfer/perturbation_data/setup/saunders.ipynb Cell 12\u001b[0m in \u001b[0;36m2\n\u001b[1;32m      <a href='vscode-notebook-cell:/home/ekernf01/Desktop/jhu/research/projects/perturbation_prediction/cell_type_knowledge_transfer/perturbation_data/setup/saunders.ipynb#X14sZmlsZQ%3D%3D?line=0'>1</a>\u001b[0m \u001b[39m# If verbose is set to True, display disconcordant trials and their controls\u001b[39;00m\n\u001b[0;32m----> <a href='vscode-notebook-cell:/home/ekernf01/Desktop/jhu/research/projects/perturbation_prediction/cell_type_knowledge_transfer/perturbation_data/setup/saunders.ipynb#X14sZmlsZQ%3D%3D?line=1'>2</a>\u001b[0m status, logFC \u001b[39m=\u001b[39m ingestion\u001b[39m.\u001b[39;49mcheckConsistency(expression_quantified[\u001b[39m\"\u001b[39;49m\u001b[39mtest\u001b[39;49m\u001b[39m\"\u001b[39;49m], \n\u001b[1;32m      <a href='vscode-notebook-cell:/home/ekernf01/Desktop/jhu/research/projects/perturbation_prediction/cell_type_knowledge_transfer/perturbation_data/setup/saunders.ipynb#X14sZmlsZQ%3D%3D?line=2'>3</a>\u001b[0m                                            perturbationType\u001b[39m=\u001b[39;49m\u001b[39m\"\u001b[39;49m\u001b[39mknockout\u001b[39;49m\u001b[39m\"\u001b[39;49m, \n\u001b[1;32m      <a href='vscode-notebook-cell:/home/ekernf01/Desktop/jhu/research/projects/perturbation_prediction/cell_type_knowledge_transfer/perturbation_data/setup/saunders.ipynb#X14sZmlsZQ%3D%3D?line=3'>4</a>\u001b[0m                                            group\u001b[39m=\u001b[39;49m\u001b[39m\"\u001b[39;49m\u001b[39mdonor\u001b[39;49m\u001b[39m\"\u001b[39;49m,\n\u001b[1;32m      <a href='vscode-notebook-cell:/home/ekernf01/Desktop/jhu/research/projects/perturbation_prediction/cell_type_knowledge_transfer/perturbation_data/setup/saunders.ipynb#X14sZmlsZQ%3D%3D?line=4'>5</a>\u001b[0m                                            verbose\u001b[39m=\u001b[39;49m\u001b[39mFalse\u001b[39;49;00m) \n\u001b[1;32m      <a href='vscode-notebook-cell:/home/ekernf01/Desktop/jhu/research/projects/perturbation_prediction/cell_type_knowledge_transfer/perturbation_data/setup/saunders.ipynb#X14sZmlsZQ%3D%3D?line=5'>6</a>\u001b[0m expression_quantified[\u001b[39m\"\u001b[39m\u001b[39mtest\u001b[39m\u001b[39m\"\u001b[39m]\u001b[39m.\u001b[39mobs[\u001b[39m\"\u001b[39m\u001b[39mconsistentW/Perturbation\u001b[39m\u001b[39m\"\u001b[39m] \u001b[39m=\u001b[39m status\n\u001b[1;32m      <a href='vscode-notebook-cell:/home/ekernf01/Desktop/jhu/research/projects/perturbation_prediction/cell_type_knowledge_transfer/perturbation_data/setup/saunders.ipynb#X14sZmlsZQ%3D%3D?line=6'>7</a>\u001b[0m expression_quantified[\u001b[39m\"\u001b[39m\u001b[39mtest\u001b[39m\u001b[39m\"\u001b[39m]\u001b[39m.\u001b[39mobs[\u001b[39m\"\u001b[39m\u001b[39mlogFC\u001b[39m\u001b[39m\"\u001b[39m] \u001b[39m=\u001b[39m logFC\n",
      "File \u001b[0;32m~/Desktop/jhu/research/projects/perturbation_prediction/cell_type_knowledge_transfer/perturbation_data/setup/ingestion.py:273\u001b[0m, in \u001b[0;36mcheckConsistency\u001b[0;34m(adata, perturbationType, group, verbose, do_return_pval)\u001b[0m\n\u001b[1;32m    271\u001b[0m     \u001b[39mreturn\u001b[39;00m consistencyStatus, logFC, pval\n\u001b[1;32m    272\u001b[0m \u001b[39melse\u001b[39;00m:\n\u001b[0;32m--> 273\u001b[0m     visualizeLogFC(logFC)\n\u001b[1;32m    274\u001b[0m     \u001b[39mreturn\u001b[39;00m consistencyStatus, logFC\n",
      "File \u001b[0;32m~/Desktop/jhu/research/projects/perturbation_prediction/cell_type_knowledge_transfer/perturbation_data/setup/ingestion.py:196\u001b[0m, in \u001b[0;36mcheckConsistency.<locals>.visualizeLogFC\u001b[0;34m(fc, pval)\u001b[0m\n\u001b[1;32m    194\u001b[0m \u001b[39mdef\u001b[39;00m \u001b[39mvisualizeLogFC\u001b[39m(fc, pval \u001b[39m=\u001b[39m \u001b[39mNone\u001b[39;00m):\n\u001b[1;32m    195\u001b[0m     validLogFC \u001b[39m=\u001b[39m fc[fc \u001b[39m!=\u001b[39m \u001b[39m-\u001b[39m\u001b[39m999\u001b[39m]\n\u001b[0;32m--> 196\u001b[0m     rangeMin \u001b[39m=\u001b[39m np\u001b[39m.\u001b[39mfloor(np\u001b[39m.\u001b[39;49mmin(validLogFC))\n\u001b[1;32m    197\u001b[0m     rangeMax \u001b[39m=\u001b[39m np\u001b[39m.\u001b[39mceil (np\u001b[39m.\u001b[39mmax(validLogFC))\n\u001b[1;32m    198\u001b[0m     plt\u001b[39m.\u001b[39mfigure(figsize\u001b[39m=\u001b[39m(\u001b[39m4\u001b[39m,\u001b[39m2.5\u001b[39m))\n",
      "File \u001b[0;32m<__array_function__ internals>:180\u001b[0m, in \u001b[0;36mamin\u001b[0;34m(*args, **kwargs)\u001b[0m\n",
      "File \u001b[0;32m~/.local/share/r-miniconda/envs/ggrn/lib/python3.9/site-packages/numpy/core/fromnumeric.py:2918\u001b[0m, in \u001b[0;36mamin\u001b[0;34m(a, axis, out, keepdims, initial, where)\u001b[0m\n\u001b[1;32m   2802\u001b[0m \u001b[39m@array_function_dispatch\u001b[39m(_amin_dispatcher)\n\u001b[1;32m   2803\u001b[0m \u001b[39mdef\u001b[39;00m \u001b[39mamin\u001b[39m(a, axis\u001b[39m=\u001b[39m\u001b[39mNone\u001b[39;00m, out\u001b[39m=\u001b[39m\u001b[39mNone\u001b[39;00m, keepdims\u001b[39m=\u001b[39mnp\u001b[39m.\u001b[39m_NoValue, initial\u001b[39m=\u001b[39mnp\u001b[39m.\u001b[39m_NoValue,\n\u001b[1;32m   2804\u001b[0m          where\u001b[39m=\u001b[39mnp\u001b[39m.\u001b[39m_NoValue):\n\u001b[1;32m   2805\u001b[0m     \u001b[39m\"\"\"\u001b[39;00m\n\u001b[1;32m   2806\u001b[0m \u001b[39m    Return the minimum of an array or minimum along an axis.\u001b[39;00m\n\u001b[1;32m   2807\u001b[0m \n\u001b[0;32m   (...)\u001b[0m\n\u001b[1;32m   2916\u001b[0m \u001b[39m    6\u001b[39;00m\n\u001b[1;32m   2917\u001b[0m \u001b[39m    \"\"\"\u001b[39;00m\n\u001b[0;32m-> 2918\u001b[0m     \u001b[39mreturn\u001b[39;00m _wrapreduction(a, np\u001b[39m.\u001b[39;49mminimum, \u001b[39m'\u001b[39;49m\u001b[39mmin\u001b[39;49m\u001b[39m'\u001b[39;49m, axis, \u001b[39mNone\u001b[39;49;00m, out,\n\u001b[1;32m   2919\u001b[0m                           keepdims\u001b[39m=\u001b[39;49mkeepdims, initial\u001b[39m=\u001b[39;49minitial, where\u001b[39m=\u001b[39;49mwhere)\n",
      "File \u001b[0;32m~/.local/share/r-miniconda/envs/ggrn/lib/python3.9/site-packages/numpy/core/fromnumeric.py:86\u001b[0m, in \u001b[0;36m_wrapreduction\u001b[0;34m(obj, ufunc, method, axis, dtype, out, **kwargs)\u001b[0m\n\u001b[1;32m     83\u001b[0m         \u001b[39melse\u001b[39;00m:\n\u001b[1;32m     84\u001b[0m             \u001b[39mreturn\u001b[39;00m reduction(axis\u001b[39m=\u001b[39maxis, out\u001b[39m=\u001b[39mout, \u001b[39m*\u001b[39m\u001b[39m*\u001b[39mpasskwargs)\n\u001b[0;32m---> 86\u001b[0m \u001b[39mreturn\u001b[39;00m ufunc\u001b[39m.\u001b[39;49mreduce(obj, axis, dtype, out, \u001b[39m*\u001b[39;49m\u001b[39m*\u001b[39;49mpasskwargs)\n",
      "\u001b[0;31mValueError\u001b[0m: zero-size array to reduction operation minimum which has no identity"
     ]
    }
   ],
   "source": [
    "# If verbose is set to True, display disconcordant trials and their controls\n",
    "status, logFC = ingestion.checkConsistency(expression_quantified[\"test\"], \n",
    "                                           perturbationType=\"knockout\", \n",
    "                                           group=\"donor\",\n",
    "                                           verbose=False) \n",
    "expression_quantified[\"test\"].obs[\"consistentW/Perturbation\"] = status\n",
    "expression_quantified[\"test\"].obs[\"logFC\"] = logFC\n",
    "Counter(status)"
   ]
  },
  {
   "cell_type": "code",
   "execution_count": null,
   "id": "634e8f2b-d1fb-42ea-95b5-0147734c763c",
   "metadata": {
    "jupyter": {
     "source_hidden": true
    },
    "tags": []
   },
   "outputs": [],
   "source": [
    "correlations = ingestion.computeCorrelation(expression_quantified[\"test\"], verbose=True, group=\"embryo\")\n",
    "expression_quantified.obs[\"spearmanCorr\"] = correlations[0]\n",
    "expression_quantified.obs[ \"pearsonCorr\"] = correlations[1]"
   ]
  },
  {
   "attachments": {},
   "cell_type": "markdown",
   "id": "a0bfd49c-2c7d-4597-8e86-ef3432ffb06f",
   "metadata": {
    "tags": []
   },
   "source": [
    "### Gene selection, per-gene dispersion ranking, and basic EDA"
   ]
  },
  {
   "cell_type": "code",
   "execution_count": null,
   "id": "97c2e7b3",
   "metadata": {
    "tags": []
   },
   "outputs": [],
   "source": [
    "expression_quantified.var[\"mean_umi_count\"] = expression_quantified.raw.X.mean(axis = 1)\n",
    "sns.histplot(expression_quantified.var[\"mean_umi_count\"])\n"
   ]
  },
  {
   "cell_type": "code",
   "execution_count": null,
   "id": "0cc60903",
   "metadata": {},
   "outputs": [],
   "source": [
    "sc.pp.log1p(expression_quantified)\n",
    "sc.pp.highly_variable_genes(expression_quantified, flavor = \"seurat_v3\", n_top_genes=expression_quantified.shape[1])\n",
    "sc.pl.highly_variable_genes(expression_quantified)\n",
    "with warnings.catch_warnings():\n",
    "    sc.tl.pca(expression_quantified, n_comps=5)\n",
    "sc.pp.neighbors(expression_quantified)\n",
    "sc.tl.umap(expression_quantified)\n",
    "clusterResolutions = []\n"
   ]
  },
  {
   "cell_type": "code",
   "execution_count": null,
   "id": "77c5f8c6",
   "metadata": {
    "tags": []
   },
   "outputs": [],
   "source": [
    "sc.pl.umap(expression_quantified, color = [\"embryo\", \"timepoint\", \"perturbation\", \"cell_type\", \"cell_type_sub\"])"
   ]
  },
  {
   "cell_type": "code",
   "execution_count": null,
   "id": "84b48ae3",
   "metadata": {},
   "outputs": [],
   "source": [
    "controls = [\"control\"]\n",
    "perturbed_genes = set(list(expression_quantified.obs['perturbation'].unique())).difference(controls)\n",
    "perturbed_and_measured_genes = perturbed_genes.intersection(expression_quantified.var.index)\n",
    "perturbed_but_not_measured_genes = perturbed_genes.difference(expression_quantified.var.index)\n",
    "print(\"These genes were perturbed but not measured:\")\n",
    "print(perturbed_but_not_measured_genes)"
   ]
  },
  {
   "cell_type": "code",
   "execution_count": null,
   "id": "619d4c01",
   "metadata": {},
   "outputs": [],
   "source": [
    "# final form, ready to save\n",
    "expression_quantified.uns[\"perturbed_and_measured_genes\"]     = list(perturbed_and_measured_genes)\n",
    "expression_quantified.uns[\"perturbed_but_not_measured_genes\"] = list(perturbed_but_not_measured_genes)\n",
    "expression_quantified = ingestion.describe_perturbation_effect(expression_quantified, \"knockout\")"
   ]
  }
 ],
 "metadata": {
  "kernelspec": {
   "display_name": "Python 3.9.13 ('cell_type_grn_transfer')",
   "language": "python",
   "name": "python3"
  },
  "language_info": {
   "codemirror_mode": {
    "name": "ipython",
    "version": 3
   },
   "file_extension": ".py",
   "mimetype": "text/x-python",
   "name": "python",
   "nbconvert_exporter": "python",
   "pygments_lexer": "ipython3",
   "version": "3.9.13"
  },
  "vscode": {
   "interpreter": {
    "hash": "7658a1e878c2df46706cc47028d7885e1865315efe8f971cf3b351dc4de1c60e"
   }
  }
 },
 "nbformat": 4,
 "nbformat_minor": 5
}
