{
 "cells": [
  {
   "cell_type": "markdown",
   "id": "a377c2a0",
   "metadata": {},
   "source": [
    "### Endoderm time-course\n",
    "\n",
    "This notebook is for exploratory analysis and reformatting of the Maehr group's definitive endoderm time-course data."
   ]
  },
  {
   "cell_type": "code",
   "execution_count": 1,
   "id": "5207ee00",
   "metadata": {},
   "outputs": [],
   "source": [
    "import warnings\n",
    "warnings.filterwarnings('ignore')\n",
    "import os\n",
    "import importlib\n",
    "import matplotlib.pyplot as plt\n",
    "import numpy as np\n",
    "import pandas as pd\n",
    "import scanpy as sc\n",
    "from scipy.stats import spearmanr as spearmanr\n",
    "\n",
    "# local\n",
    "import pereggrn_perturbations\n",
    "import importlib\n",
    "import sys\n",
    "sys.path.append(\"setup\")\n",
    "import ingestion\n",
    "import global_effects\n",
    "importlib.reload(ingestion)\n",
    "importlib.reload(global_effects)\n",
    "\n",
    "import os, sys\n",
    "from scipy.stats import spearmanr\n",
    "import matplotlib.pyplot as plt\n",
    "\n",
    "#      visualization settings\n",
    "%matplotlib inline\n",
    "plt.rcParams['figure.figsize'] = [6, 4.5]\n",
    "plt.rcParams[\"savefig.dpi\"] = 300\n",
    "\n",
    "# I prefer to specify the working directory explicitly.\n",
    "os.chdir(\"/home/ekernf01/Desktop/jhu/research/projects/perturbation_prediction/cell_type_knowledge_transfer/perturbation_data/setup\")\n",
    "\n",
    "pereggrn_perturbations.set_data_path('../perturbations')\n",
    "\n",
    "# Universal\n",
    "geneAnnotationPath = \"../accessory_data/gencode.v35.annotation.gtf.gz\"       # Downloaded from https://www.gencodegenes.org/human/release_35.html\n",
    "humanTFPath =  \"../accessory_data/humanTFs.csv\"                              # Downloaded from http://humantfs.ccbr.utoronto.ca/download.php\n",
    "humanEpiPath = \"../accessory_data/epiList.csv\"                               # Downloaded from https://epifactors.autosome.org/description \n",
    "cellcycleGenePath = \"../accessory_data/regev_lab_cell_cycle_genes.txt\"\n",
    "\n",
    "# dataset-specific\n",
    "dataset_name = \"definitive_endoderm\""
   ]
  },
  {
   "cell_type": "code",
   "execution_count": null,
   "id": "f2c4d9b8",
   "metadata": {},
   "outputs": [],
   "source": [
    "expression_quantified = sc.read_10x_mtx(\"../not_ready/maehrlab_endoderm/DE_Timecourse/outs/filtered_gene_bc_matrices/hg19\")\n",
    "expression_quantified.obs_names = [o.split(\"-\")[0] for o in expression_quantified.obs_names]\n",
    "expression_quantified.obs = sc.pp.calculate_qc_metrics(expression_quantified)[0]\n",
    "tags = pd.read_csv(\"../not_ready/maehrlab_endoderm/DE_Timecourse_tags.dge.txt\", index_col=0).T\n",
    "expression_quantified.obs = expression_quantified.obs.join(tags)\n",
    "expression_quantified.obs"
   ]
  },
  {
   "cell_type": "markdown",
   "id": "7c96c76a",
   "metadata": {},
   "source": [
    "### Tagging\n",
    "\n",
    "These cells were fixed and multiplexed using the method of Gehring et al., and there are 5 tags. Each tag was applied to two of the five days. For each day, there are two tags that were added. A simple model is that tag counts will be proportional to M*days with days being one-hot encoded and with M as follows. (In the code, I have had to transpose it.)\n",
    "\n",
    "```\n",
    "1 0 0 0 1\n",
    "1 1 0 0 0\n",
    "0 1 1 0 0\n",
    "0 0 1 1 0\n",
    "0 0 0 1 1\n",
    "```\n",
    "\n",
    "> Gehring J, Hwee Park J, Chen S, Thomson M, Pachter L. Highly multiplexed single-cell RNA-seq by DNA oligonucleotide tagging of cellular proteins. Nat Biotechnol. 2020 Jan;38(1):35-38. doi: 10.1038/s41587-019-0372-z. Epub 2019 Dec 23. PMID: 31873215."
   ]
  },
  {
   "cell_type": "code",
   "execution_count": null,
   "id": "63e0f45a",
   "metadata": {},
   "outputs": [],
   "source": [
    "days_vs_tags = pd.DataFrame([\n",
    "    (0, \"day0_tag1__day4_tag1\"),\n",
    "    (4, \"day0_tag1__day4_tag1\"),\t\n",
    "    (0, \"day0_tag2__day1_tag1\"),\t\n",
    "    (1, \"day0_tag2__day1_tag1\"),\t\n",
    "    (1, \"day1_tag2__day2_tag1\"),\t\n",
    "    (2, \"day1_tag2__day2_tag1\"),\t\n",
    "    (2, \"day2_tag2__day3_tag1\"),\t\n",
    "    (3, \"day2_tag2__day3_tag1\"),\t\n",
    "    (3, \"day3_tag2__day4_tag2\"),\n",
    "    (4, \"day3_tag2__day4_tag2\"),\n",
    "], columns =[\"day\", \"tag\"])\n",
    "\n",
    "deconvolution_matrix = np.linalg.inv([\n",
    "    [1, 0, 0, 0, 1],\n",
    "    [1, 1, 0, 0, 0],\n",
    "    [0, 1, 1, 0, 0],\n",
    "    [0, 0, 1, 1, 0],\n",
    "    [0, 0, 0, 1, 1]\n",
    "])\n",
    "print(deconvolution_matrix)\n",
    "# expression_quantified.obs[]\n",
    "\n",
    "expression_quantified.obs = expression_quantified.obs.merge(pd.DataFrame(\n",
    "    np.matrix(expression_quantified.obs[[\n",
    "        \"day0_tag1__day4_tag1\",\n",
    "        \"day0_tag2__day1_tag1\",\n",
    "        \"day1_tag2__day2_tag1\",\n",
    "        \"day2_tag2__day3_tag1\",\n",
    "        \"day3_tag2__day4_tag2\",\n",
    "    ]]).dot(deconvolution_matrix.T), \n",
    "    columns = \"deconv_day0 deconv_day1 deconv_day2 deconv_day3 deconv_day4\".split(), \n",
    "    index = expression_quantified.obs_names\n",
    "), left_index=True, right_index=True)\n",
    "expression_quantified.obs\n",
    "\n",
    "for day in range(5):\n",
    "    expression_quantified.obs[f\"day{day}_tag_total\"] = expression_quantified.obs[days_vs_tags.loc[day==days_vs_tags[\"day\"], \"tag\"]].sum(axis=1)\n",
    "    expression_quantified.obs[f\"day{day}_tag_proportion\"] = expression_quantified.obs[f\"day{day}_tag_total\"] / expression_quantified.obs[\"total_reads\"]\n",
    "    expression_quantified.obs[f\"deconv_day{day}_proportion\"] = expression_quantified.obs[f\"deconv_day{day}\"] / expression_quantified.obs[\"total_reads\"]\n"
   ]
  },
  {
   "cell_type": "markdown",
   "id": "d2a6cc7c",
   "metadata": {
    "jp-MarkdownHeadingCollapsed": true,
    "tags": []
   },
   "source": [
    "### Required metadata"
   ]
  },
  {
   "cell_type": "code",
   "execution_count": 4,
   "id": "65d44c29",
   "metadata": {
    "tags": []
   },
   "outputs": [],
   "source": [
    "expression_quantified.obs[\"is_control\"]     = True\n",
    "expression_quantified.obs[\"is_control_int\"] = 1\n",
    "expression_quantified.obs[\"perturbation\"]  = \"control\"\n",
    "expression_quantified.obs[\"timepoint\"]                = np.argmax(expression_quantified.obs[\"deconv_day0 deconv_day1 deconv_day2 deconv_day3 deconv_day4\".split()], axis = 1)\n",
    "expression_quantified.obs[\"timepoint_confidence\"]     = np.   max(expression_quantified.obs[\"deconv_day0 deconv_day1 deconv_day2 deconv_day3 deconv_day4\".split()], axis = 1)/expression_quantified.obs[\"total_reads\"]\n",
    "expression_quantified.obs[\"timepoint_alt\"]            = np.argmax(expression_quantified.obs[[f\"day{i}_tag_proportion\" for i in range(5)]], axis = 1)\n",
    "expression_quantified.obs[\"timepoint_alt_confidence\"] = np.   max(expression_quantified.obs[[f\"day{i}_tag_proportion\" for i in range(5)]], axis = 1)\n",
    "expression_quantified = expression_quantified[ expression_quantified.obs[\"timepoint_confidence\"] > 0.45, : ]\n",
    "labels = {0: \"pluripotent\", \n",
    "          1: \"mesendoderm\", # This is before exposure to Activin A. \n",
    "          2: \"mesendoderm\",\n",
    "          3: \"endoderm\", \n",
    "          4: \"endoderm\"}\n",
    "expression_quantified.obs[\"cell_type\"]     = [labels[t] for t in expression_quantified.obs[\"timepoint\"]]\n",
    "expression_quantified.uns[\"perturbed_and_measured_genes\"]     = []\n",
    "expression_quantified.uns[\"perturbed_but_not_measured_genes\"] = []"
   ]
  },
  {
   "cell_type": "markdown",
   "id": "e58d93b8",
   "metadata": {},
   "source": [
    "### Cell cycle annotation\n",
    "\n",
    "Following the Figure 1 and S1 notebook from [Petrus-Reurer et al.](https://github.com/lamanno-epfl/rpe_differentiation_profiling_code/blob/main/JupyterNotebooks/HTML/Figure1_S1.html). \n"
   ]
  },
  {
   "cell_type": "code",
   "execution_count": null,
   "id": "954fb0f9",
   "metadata": {},
   "outputs": [],
   "source": [
    "S_genes_hum = [\"MCM5\", \"PCNA\", \"TYMS\", \"FEN1\", \"MCM2\", \"MCM4\", \"RRM1\", \"UNG\", \"GINS2\", \n",
    "            \"MCM6\", \"CDCA7\", \"DTL\", \"PRIM1\", \"UHRF1\", \"CENPU\", \"HELLS\", \"RFC2\", \n",
    "            \"RPA2\", \"NASP\", \"RAD51AP1\", \"GMNN\", \"WDR76\", \"SLBP\", \"CCNE2\", \"UBR7\", \n",
    "            \"POLD3\", \"MSH2\", \"ATAD2\", \"RAD51\", \"RRM2\", \"CDC45\", \"CDC6\", \"EXO1\", \"TIPIN\", \n",
    "            \"DSCC1\", \"BLM\", \"CASP8AP2\", \"USP1\", \"CLSPN\", \"POLA1\", \"CHAF1B\", \"BRIP1\", \"E2F8\"]\n",
    "G2M_genes_hum = [\"HMGB2\", \"CDK1\", \"NUSAP1\", \"UBE2C\", \"BIRC5\", \"TPX2\", \"TOP2A\", \"NDC80\",\n",
    "             \"CKS2\", \"NUF2\", \"CKS1B\", \"MKI67\", \"TMPO\", \"CENPF\", \"TACC3\", \"PIMREG\", \n",
    "             \"SMC4\", \"CCNB2\", \"CKAP2L\", \"CKAP2\", \"AURKB\", \"BUB1\", \"KIF11\", \"ANP32E\", \n",
    "             \"TUBB4B\", \"GTSE1\", \"KIF20B\", \"HJURP\", \"CDCA3\", \"JPT1\", \"CDC20\", \"TTK\",\n",
    "             \"CDC25C\", \"KIF2C\", \"RANGAP1\", \"NCAPD2\", \"DLGAP5\", \"CDCA2\", \"CDCA8\", \"ECT2\", \n",
    "             \"KIF23\", \"HMMR\", \"AURKA\", \"PSRC1\", \"ANLN\", \"LBR\", \"CKAP5\", \"CENPE\", \n",
    "             \"CTCF\", \"NEK2\", \"G2E3\", \"GAS2L3\", \"CBX5\", \"CENPA\"]\n",
    "sc.tl.score_genes_cell_cycle(expression_quantified, s_genes=S_genes_hum, g2m_genes=G2M_genes_hum)"
   ]
  },
  {
   "cell_type": "markdown",
   "id": "e898143e",
   "metadata": {},
   "source": [
    "### Normalization and variable gene ranking\n",
    "\n",
    "Downstream benchmarking analysis expects both of these things to be done already. We will pair this with CRISPR knockdown data, so we also add dummy columns for perturbation and expression level after perturbation. "
   ]
  },
  {
   "cell_type": "code",
   "execution_count": 6,
   "id": "688a2601",
   "metadata": {},
   "outputs": [],
   "source": [
    "expression_quantified.raw = expression_quantified.copy()\n",
    "sc.pp.normalize_total(expression_quantified, target_sum=1e4)\n",
    "sc.pp.log1p(expression_quantified)\n",
    "sc.pp.highly_variable_genes(expression_quantified, n_bins=50, n_top_genes = expression_quantified.var.shape[0], flavor = \"seurat_v3\" )\n",
    "sc.tl.pca(expression_quantified, n_comps=10)\n",
    "expression_quantified = ingestion.describe_perturbation_effect(expression_quantified, \"knockdown\")\n"
   ]
  },
  {
   "cell_type": "markdown",
   "id": "9753c452",
   "metadata": {},
   "source": [
    "### Cleaning up labels\n",
    "\n",
    "In the visualizations below, a few cells seem to be mis-labeled by the click-tags. We will use nearest neighbors to exclude cells that seem mislabeled."
   ]
  },
  {
   "cell_type": "code",
   "execution_count": 7,
   "id": "6a047407",
   "metadata": {},
   "outputs": [],
   "source": [
    "expression_quantified.obs[\"timepoint_smoothed\"] = 0\n",
    "sc.pp.neighbors(expression_quantified, n_neighbors=20, n_pcs=10)\n",
    "for i,c in enumerate(expression_quantified.obs.index):\n",
    "    nn = expression_quantified.obsp[\"connectivities\"][i, :].nonzero()[1]\n",
    "    expression_quantified.obs.loc[c, \"timepoint_smoothed\"] = expression_quantified[nn, :].obs[\"timepoint\"].median()"
   ]
  },
  {
   "cell_type": "code",
   "execution_count": null,
   "id": "30b6cbcd",
   "metadata": {},
   "outputs": [],
   "source": [
    "print(expression_quantified.obs[[\"timepoint\", \"timepoint_smoothed\"]].value_counts())\n",
    "expression_quantified = expression_quantified[expression_quantified.obs[\"timepoint\"]==expression_quantified.obs[\"timepoint_smoothed\"], :]\n",
    "del expression_quantified.obs[\"timepoint_smoothed\"]"
   ]
  },
  {
   "cell_type": "markdown",
   "id": "10ba61e4",
   "metadata": {},
   "source": [
    "### Save the data"
   ]
  },
  {
   "cell_type": "code",
   "execution_count": null,
   "id": "53132fdb",
   "metadata": {},
   "outputs": [],
   "source": [
    "expression_quantified.write_h5ad(os.path.join(f\"../perturbations/{dataset_name}\", f\"train.h5ad\"))\n",
    "pereggrn_perturbations.check_perturbation_dataset(ad = expression_quantified, is_timeseries=True, is_perturbation=False)"
   ]
  },
  {
   "cell_type": "markdown",
   "id": "c2d8d347",
   "metadata": {
    "jp-MarkdownHeadingCollapsed": true,
    "tags": []
   },
   "source": [
    "### Basic EDA\n",
    "\n",
    "Similar to the original supplement, we see strong batch effects in UMAP but PC1 looks ok as pseudotime. "
   ]
  },
  {
   "cell_type": "code",
   "execution_count": 10,
   "id": "97c2e7b3",
   "metadata": {
    "scrolled": true,
    "tags": []
   },
   "outputs": [],
   "source": [
    "sc.pp.highly_variable_genes(expression_quantified, n_bins=50, n_top_genes = 500, flavor = \"seurat_v3\" )\n",
    "with warnings.catch_warnings():\n",
    "    sc.tl.pca(expression_quantified, n_comps=10)\n",
    "sc.pp.neighbors(expression_quantified)\n",
    "sc.tl.umap(expression_quantified)\n",
    "clusterResolutions = []\n",
    "sc.tl.louvain(expression_quantified)"
   ]
  },
  {
   "cell_type": "code",
   "execution_count": null,
   "id": "5216afa0",
   "metadata": {
    "scrolled": true,
    "tags": []
   },
   "outputs": [],
   "source": [
    "plt.rcParams['figure.figsize'] = [6, 4.5]\n",
    "\n",
    "vars_to_show = [ \n",
    "       \"total_counts\", \"phase\", \"cell_type\", \"louvain\", \"timepoint\",  \"timepoint_confidence\",  \"timepoint_alt\", \"timepoint_alt_confidence\", \n",
    "       \"SOX17\", \"FOXA2\", \"EOMES\", \"NANOG\", \"POU5F1\", \"T\", \"MIXL1\", \n",
    "    ] + \\\n",
    "       [f\"deconv_day{day}_proportion\" for day in range(5)] + \\\n",
    "       [f\"day{day}_tag_proportion\" for day in range(5)]\n",
    "for v in vars_to_show:\n",
    "   fig = sc.pl.pca(expression_quantified, color = v, show = False, legend_loc='on data')\n",
    "   try:\n",
    "      os.makedirs(f\"../perturbations/definitive_endoderm/train\", exist_ok=True)\n",
    "      fig.figure.savefig(f\"../perturbations/definitive_endoderm/train/{v}.pdf\", bbox_inches='tight')\n",
    "   except Exception as e:\n",
    "      print(f\"Plots failed with error {repr(e)}\")\n",
    "\n",
    "sc.pl.pca(expression_quantified, color = vars_to_show)\n",
    "print(expression_quantified.obs.columns)\n"
   ]
  },
  {
   "cell_type": "code",
   "execution_count": null,
   "id": "7e64bb2b",
   "metadata": {},
   "outputs": [],
   "source": [
    "expression_quantified.obs[\"timepoint\"] = expression_quantified.obs[\"timepoint\"].astype(\"string\")\n",
    "fig = sc.pl.DotPlot(expression_quantified,\n",
    "               [\"HNF1B\",\"FOXA2\",  \"GATA6\", \"SOX17\", \"CER1\", \"EOMES\", \"HHEX\", \"NODAL\", \"GSC\", \"T\", \"MIXL1\",\"POU5F1\", \"NANOG\",  \"SOX2\" ], \n",
    "              groupby = \"timepoint\", \n",
    "              cmap = \"viridis\")\n",
    "os.makedirs(f\"../perturbations/definitive_endoderm/train\", exist_ok=True)\n",
    "fig.savefig(\"../perturbations/definitive_endoderm/train/dotplot.pdf\", bbox_inches='tight')"
   ]
  },
  {
   "cell_type": "code",
   "execution_count": null,
   "id": "3d76764f",
   "metadata": {},
   "outputs": [],
   "source": [
    "fig"
   ]
  },
  {
   "cell_type": "code",
   "execution_count": null,
   "id": "3a9a3490",
   "metadata": {},
   "outputs": [],
   "source": []
  }
 ],
 "metadata": {
  "kernelspec": {
   "display_name": "Python 3.9.13 ('cell_type_grn_transfer')",
   "language": "python",
   "name": "python3"
  },
  "language_info": {
   "codemirror_mode": {
    "name": "ipython",
    "version": 3
   },
   "file_extension": ".py",
   "mimetype": "text/x-python",
   "name": "python",
   "nbconvert_exporter": "python",
   "pygments_lexer": "ipython3",
   "version": "3.9.15"
  },
  "vscode": {
   "interpreter": {
    "hash": "7658a1e878c2df46706cc47028d7885e1865315efe8f971cf3b351dc4de1c60e"
   }
  }
 },
 "nbformat": 4,
 "nbformat_minor": 5
}
