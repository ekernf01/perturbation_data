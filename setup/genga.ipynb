{
 "cells": [
  {
   "cell_type": "markdown",
   "id": "a377c2a0",
   "metadata": {},
   "source": [
    "### Endoderm perturb-seq\n",
    "\n",
    "This notebook is for exploratory analysis and reformatting of the Genga et al. [endoderm directed differentiation perturb-seq data](https://www.ncbi.nlm.nih.gov/pmc/articles/PMC6525305/).\n",
    "\n",
    "Always run `maehr.ipynb` before this notebook. This notebook relies on its outputs. "
   ]
  },
  {
   "cell_type": "code",
   "execution_count": null,
   "id": "5207ee00",
   "metadata": {},
   "outputs": [],
   "source": [
    "import warnings\n",
    "warnings.filterwarnings('ignore')\n",
    "import regex as re\n",
    "import os\n",
    "import shutil\n",
    "import importlib\n",
    "import matplotlib.colors as colors\n",
    "import matplotlib.pyplot as plt\n",
    "import numpy as np\n",
    "import pandas as pd\n",
    "import scanpy as sc\n",
    "import seaborn as sns\n",
    "from scipy.stats import spearmanr as spearmanr\n",
    "from scipy.sparse import csr_matrix\n",
    "from IPython.display import display, HTML\n",
    "from collections import Counter\n",
    "\n",
    "# local\n",
    "import pereggrn_perturbations\n",
    "import importlib\n",
    "import sys\n",
    "sys.path.append(\"setup\")\n",
    "import ingestion\n",
    "import global_effects\n",
    "importlib.reload(ingestion)\n",
    "importlib.reload(global_effects)\n",
    "\n",
    "import anndata\n",
    "import os, sys\n",
    "import itertools as it\n",
    "from scipy.stats import spearmanr, pearsonr, rankdata, f_oneway\n",
    "from statsmodels.stats.multitest import multipletests\n",
    "from sklearn.metrics import mutual_info_score\n",
    "import matplotlib.pyplot as plt\n",
    "import seaborn as sns\n",
    "from collections import Counter\n",
    "\n",
    "#      visualization settings\n",
    "%matplotlib inline\n",
    "plt.rcParams['figure.figsize'] = [6, 4.5]\n",
    "plt.rcParams[\"savefig.dpi\"] = 300\n",
    "\n",
    "# I prefer to specify the working directory explicitly.\n",
    "os.chdir(\"/home/ekernf01/Desktop/jhu/research/projects/perturbation_prediction/cell_type_knowledge_transfer/perturbation_data\")\n",
    "\n",
    "pereggrn_perturbations.set_data_path('perturbations')\n",
    "\n",
    "# Universal\n",
    "geneAnnotationPath = \"../accessory_data/gencode.v35.annotation.gtf.gz\"       # Downloaded from https://www.gencodegenes.org/human/release_35.html\n",
    "humanTFPath =  \"../accessory_data/humanTFs.csv\"                              # Downloaded from http://humantfs.ccbr.utoronto.ca/download.php\n",
    "humanEpiPath = \"../accessory_data/epiList.csv\"                               # Downloaded from https://epifactors.autosome.org/description \n",
    "cellcycleGenePath = \"../accessory_data/regev_lab_cell_cycle_genes.txt\"\n",
    "\n",
    "# dataset-specific\n",
    "dataset_name = \"definitive_endoderm\""
   ]
  },
  {
   "cell_type": "markdown",
   "id": "3bbe0f79",
   "metadata": {},
   "source": [
    "We start from the raw counts. Here is what the original authors write about filtering. \n",
    "\n",
    "> In each replicate, genes appearing in only one cell were excluded. Cells with doublet-modeling log10 LR above 0.2 were excluded (730 cells). Cells were excluded if no gRNAs were detected (29 cells). Cells assigned to scramble gRNA #5 were excluded based on the high number of differentially expressed transcripts (88 cells). This left 548 negative control cells (3.4%), which is lower than expected but still within the range used by similar studies (Dixit et al., 2016). Ten gRNAs yielded exactly 0 counts in the END gDNA ScreenProcessing results, and upon visualization of the RNA alignments, these were found to contain possible mutations or targeting errors (they were: ARNT_gRNA2, ATF3_gRNA3, CREB3_gRNA2, FOXA2_gRNA3, FOXA3_gRNA1, GATA4_gRNA1, GATA6_gRNA2, JUND_gRNA2, TGIF2_gRNA1, ZNF263_gRNA2). Cells assigned to these gRNAs were excluded from downstream analysis (634 cells). After all exclusions, 16,110 cells remained.\n",
    "\n",
    "We assign each cell to the most abundant gRNA. (Note that this is an arrayed screen, not a pooled screen; **no** cell will have more than one gRNA.) Here, we exclude: \n",
    "\n",
    "- cells assigned to scramble number 5 or to guides with possible mutations or targeting errors \n",
    "- We exclude any cell with (strictly) fewer than 3 UMIs supporting the most abundant gRNA\n",
    "- cells in which EOMES, MYBL2, and CDC5L were KD'd. There are too few cells observed (<15 cells each). This is an important finding, but not useful for understanding the *transcriptomic* response to perturbation. \n",
    "- cells in which OTX2, PITX2, or NR5A2 were KD'd, because these genes did not always decrease in expression. "
   ]
  },
  {
   "cell_type": "code",
   "execution_count": null,
   "id": "f2c4d9b8",
   "metadata": {},
   "outputs": [],
   "source": [
    "expression_quantified = anndata.concat({\n",
    "    \"rep1\":sc.read_10x_mtx(\"not_ready/genga_definitive_endoderm/rep1_filtered\"),\n",
    "    \"rep2\":sc.read_10x_mtx(\"not_ready/genga_definitive_endoderm/rep2_filtered\"),\n",
    "}, index_unique=\"-\")\n",
    "print(expression_quantified.shape)\n",
    "gRNA_counts = anndata.concat({\n",
    "    \"rep1\":sc.read_10x_mtx(\"not_ready/genga_definitive_endoderm/grna amplified libraries/rep1\"),\n",
    "    \"rep2\":sc.read_10x_mtx(\"not_ready/genga_definitive_endoderm/grna amplified libraries/rep2\"),\n",
    "}, index_unique=\"-\")"
   ]
  },
  {
   "cell_type": "code",
   "execution_count": null,
   "id": "63e0f45a",
   "metadata": {},
   "outputs": [],
   "source": [
    "# Guide assignment\n",
    "gRNA_counts = gRNA_counts[expression_quantified.obs_names, :]\n",
    "gRNA_indices = expression_quantified.var_names[expression_quantified.var_names.str.contains(\"gRNA\")]\n",
    "gRNA_indices = np.array([g for g in gRNA_indices])\n",
    "gRNA_counts = expression_quantified[:, gRNA_indices]\n",
    "expression_quantified.obs[\"total_gRNA_counts\"] = pd.Series(\n",
    "    np.array(gRNA_counts.X.sum(axis=1)).squeeze()\n",
    ")\n",
    "expression_quantified.obs[\"most_abundant_gRNA\"] = [\",\".join(gRNA_indices[i][0]) for i in gRNA_counts.X.argmax(1)]\n",
    "expression_quantified.obs[\"total_gRNA_counts\"] = gRNA_counts.X.sum(1)\n",
    "expression_quantified.obs[\"most_abundant_gRNA_counts\"] = gRNA_counts.X.toarray().max(1)\n",
    "print(expression_quantified.obs[\"most_abundant_gRNA\"].value_counts().to_csv())\n",
    "\n",
    "# Guide UMI counts -- most abundant vs total\n",
    "plt.hist2d(\n",
    "    expression_quantified.obs[\"total_gRNA_counts\"],\n",
    "    expression_quantified.obs[\"most_abundant_gRNA_counts\"], \n",
    "    bins = (200,200),\n",
    ")\n",
    "plt.xlim(0,40)\n",
    "plt.ylim(0,40)\n",
    "plt.xlabel(\"total_gRNA_counts\")\n",
    "plt.ylabel(\"most_abundant_gRNA_counts\")\n",
    "\n",
    "# Required standard metadata\n",
    "expression_quantified.obs[\"perturbation\"]   = [s.split(\"_\")[0] for s in expression_quantified.obs[\"most_abundant_gRNA\"]]\n",
    "print(expression_quantified.obs[\"perturbation\"].value_counts())\n",
    "expression_quantified.obs[\"is_control\"]     = expression_quantified.obs[\"perturbation\"].isin([\"Scramble\"])\n",
    "print(expression_quantified.obs[\"is_control\"].value_counts())\n",
    "expression_quantified.obs[\"is_control_int\"] = [1 if b else 0 for b in expression_quantified.obs[\"is_control\"]]\n",
    "expression_quantified.obs[\"timepoint\"]      = 4\n",
    "\n",
    "# EXCLUSIONS\n",
    "gRNAs_to_exclude = [\"ARNT_gRNA2\", \"ATF3_gRNA3\", \"CREB3_gRNA2\", \"FOXA2_gRNA3\", \"FOXA3_gRNA1\", \"GATA4_gRNA1\", \"GATA6_gRNA2\", \"JUND_gRNA2\", \"TGIF2_gRNA1\", \"ZNF263_gRNA2\", \"Scramble_gRNA5\"]\n",
    "perts_to_exclude = [\"EOMES\", \"CDC5L\", \"MYBL2\", \"NR5A2\", \"OTX2\", \"PITX2\"]\n",
    "expression_quantified = expression_quantified[~expression_quantified.obs[\"most_abundant_gRNA\"].isin(gRNAs_to_exclude), :]\n",
    "expression_quantified = expression_quantified[~expression_quantified.obs[\"perturbation\"].isin(perts_to_exclude), :]\n",
    "expression_quantified = expression_quantified[expression_quantified.obs[\"most_abundant_gRNA_counts\"] >= 3, :]"
   ]
  },
  {
   "cell_type": "markdown",
   "id": "e58d93b8",
   "metadata": {},
   "source": [
    "### Cell cycle annotation\n",
    "\n",
    "Following the Figure 1 and S1 notebook from [Petrus-Reurer et al.](https://github.com/lamanno-epfl/rpe_differentiation_profiling_code/blob/main/JupyterNotebooks/HTML/Figure1_S1.html). \n"
   ]
  },
  {
   "cell_type": "code",
   "execution_count": null,
   "id": "954fb0f9",
   "metadata": {},
   "outputs": [],
   "source": [
    "S_genes_hum = [\"MCM5\", \"PCNA\", \"TYMS\", \"FEN1\", \"MCM2\", \"MCM4\", \"RRM1\", \"UNG\", \"GINS2\", \n",
    "            \"MCM6\", \"CDCA7\", \"DTL\", \"PRIM1\", \"UHRF1\", \"CENPU\", \"HELLS\", \"RFC2\", \n",
    "            \"RPA2\", \"NASP\", \"RAD51AP1\", \"GMNN\", \"WDR76\", \"SLBP\", \"CCNE2\", \"UBR7\", \n",
    "            \"POLD3\", \"MSH2\", \"ATAD2\", \"RAD51\", \"RRM2\", \"CDC45\", \"CDC6\", \"EXO1\", \"TIPIN\", \n",
    "            \"DSCC1\", \"BLM\", \"CASP8AP2\", \"USP1\", \"CLSPN\", \"POLA1\", \"CHAF1B\", \"BRIP1\", \"E2F8\"]\n",
    "G2M_genes_hum = [\"HMGB2\", \"CDK1\", \"NUSAP1\", \"UBE2C\", \"BIRC5\", \"TPX2\", \"TOP2A\", \"NDC80\",\n",
    "             \"CKS2\", \"NUF2\", \"CKS1B\", \"MKI67\", \"TMPO\", \"CENPF\", \"TACC3\", \"PIMREG\", \n",
    "             \"SMC4\", \"CCNB2\", \"CKAP2L\", \"CKAP2\", \"AURKB\", \"BUB1\", \"KIF11\", \"ANP32E\", \n",
    "             \"TUBB4B\", \"GTSE1\", \"KIF20B\", \"HJURP\", \"CDCA3\", \"JPT1\", \"CDC20\", \"TTK\",\n",
    "             \"CDC25C\", \"KIF2C\", \"RANGAP1\", \"NCAPD2\", \"DLGAP5\", \"CDCA2\", \"CDCA8\", \"ECT2\", \n",
    "             \"KIF23\", \"HMMR\", \"AURKA\", \"PSRC1\", \"ANLN\", \"LBR\", \"CKAP5\", \"CENPE\", \n",
    "             \"CTCF\", \"NEK2\", \"G2E3\", \"GAS2L3\", \"CBX5\", \"CENPA\"]\n",
    "sc.tl.score_genes_cell_cycle(expression_quantified, s_genes=S_genes_hum, g2m_genes=G2M_genes_hum)"
   ]
  },
  {
   "cell_type": "markdown",
   "id": "e898143e",
   "metadata": {},
   "source": [
    "### Normalization and variable gene ranking\n",
    "\n",
    "We select the same genes and rank them in the same way as the Maehr group time-series data. We snag the timeseries data and remove the genes that aren't present in the Genga data.\n",
    "\n",
    "We also run basic total count normalization, and we log1p-transform the data."
   ]
  },
  {
   "cell_type": "code",
   "execution_count": null,
   "id": "688a2601",
   "metadata": {},
   "outputs": [],
   "source": [
    "time_series = pereggrn_perturbations.load_perturbation(\"definitive_endoderm\", is_timeseries=True)\n",
    "pd.Series(time_series.var.index.difference(expression_quantified.var.index)).to_csv(\"perturbations/definitive_endoderm/genes_missing_from_genga.csv\")\n",
    "pd.Series(expression_quantified.var.index.difference(time_series.var.index)).to_csv(\"perturbations/definitive_endoderm/genes_missing_from_cuomo.csv\")\n",
    "pd.Series(expression_quantified.var.index.intersection(time_series.var.index)).to_csv(\"perturbations/definitive_endoderm/genes_shared.csv\")\n",
    "shared_genes = expression_quantified.var.index.intersection(time_series.var.index)\n",
    "time_series           = time_series[:,shared_genes]\n",
    "expression_quantified = expression_quantified[:,shared_genes]\n",
    "expression_quantified.uns[\"perturbed_and_measured_genes\"]     = list(set(expression_quantified.obs[\"perturbation\"]).difference({\"Scramble\"}).intersection(expression_quantified.var_names))\n",
    "expression_quantified.uns[\"perturbed_but_not_measured_genes\"] = list(set(expression_quantified.obs[\"perturbation\"]).difference({\"Scramble\"}).difference(expression_quantified.var_names))\n",
    "print(expression_quantified.uns[\"perturbed_and_measured_genes\"])\n",
    "print(expression_quantified.uns[\"perturbed_but_not_measured_genes\"])\n",
    "\n",
    "expression_quantified.raw = expression_quantified.copy()\n",
    "sc.pp.normalize_total(expression_quantified)\n",
    "sc.pp.log1p(expression_quantified)\n"
   ]
  },
  {
   "cell_type": "markdown",
   "id": "df92d5e5",
   "metadata": {},
   "source": [
    "### EDA and cell type annotation\n",
    "\n",
    "(Original cell type labels are not published.)"
   ]
  },
  {
   "cell_type": "code",
   "execution_count": null,
   "id": "c97dee25",
   "metadata": {},
   "outputs": [],
   "source": [
    "sc.pp.highly_variable_genes(expression_quantified, n_bins=50, n_top_genes = 500, flavor = \"seurat_v3\" )\n",
    "sc.pp.scale(expression_quantified)\n",
    "with warnings.catch_warnings():\n",
    "    sc.tl.pca(expression_quantified, n_comps=10)\n",
    "sc.pp.neighbors(expression_quantified)\n",
    "sc.tl.umap(expression_quantified)"
   ]
  },
  {
   "cell_type": "code",
   "execution_count": null,
   "id": "45972def",
   "metadata": {},
   "outputs": [],
   "source": [
    "sc.tl.louvain(expression_quantified, resolution = 0.124)\n",
    "plt.rcParams['figure.figsize'] = [6, 4.5]\n",
    "labels = {'0':\"endoderm\", '1':\"pluripotent\", '2':\"ectopic\", '3': \"mesendoderm\"}\n",
    "expression_quantified.obs[\"cell_type\"] = [labels[l] for l in expression_quantified.obs[\"louvain\"]]\n",
    "stuff_to_show = [ \n",
    "       \"phase\", \"louvain\", \"cell_type\",\n",
    "       \"SOX17\", \"FOXA2\", \"EOMES\", \"NANOG\", \"SOX2\", \"POU5F1\", \"T\", \"MIXL1\"]\n",
    "sc.pl.umap(expression_quantified, color = stuff_to_show)\n",
    "sc.pl.pca(expression_quantified, color = stuff_to_show)"
   ]
  },
  {
   "cell_type": "markdown",
   "id": "d43bd1dd",
   "metadata": {},
   "source": [
    "### Effects on differentiation\n",
    "\n",
    "There are probably some errors in cluster assignment and gRNA assignment. After looking at the joint distribution, we will keep only combinations with at least 40 cells. "
   ]
  },
  {
   "cell_type": "code",
   "execution_count": null,
   "id": "6045ecab",
   "metadata": {},
   "outputs": [],
   "source": [
    "cell_type_and_pert = expression_quantified.obs[[\"cell_type\", \"perturbation\"]].value_counts().reset_index()\n",
    "print(cell_type_and_pert.pivot(index = \"perturbation\", columns = \"cell_type\", values = \"count\").fillna(0))\n",
    "cell_type_and_pert[\"keep\"] = cell_type_and_pert[\"count\"] >= 40\n",
    "expression_quantified.obs = expression_quantified.obs.merge(cell_type_and_pert[[\"cell_type\", \"perturbation\", \"keep\"]], on = [\"cell_type\", \"perturbation\"], how = \"left\")\n",
    "print(expression_quantified.obs[\"keep\"].value_counts())\n",
    "expression_quantified = expression_quantified[expression_quantified.obs[\"keep\"], :]"
   ]
  },
  {
   "cell_type": "markdown",
   "id": "97615eae",
   "metadata": {},
   "source": [
    "### Undo the unwanted parts of the EDA"
   ]
  },
  {
   "cell_type": "code",
   "execution_count": null,
   "id": "c2496f55",
   "metadata": {},
   "outputs": [],
   "source": [
    "expression_quantified.var[\"highly_variable_rank\"] = time_series.var[\"highly_variable_rank\"]\n",
    "expression_quantified.X = expression_quantified.raw.X.copy()\n",
    "sc.pp.normalize_total(expression_quantified)\n",
    "sc.pp.log1p(expression_quantified)\n",
    "print(expression_quantified.X.min())\n",
    "expression_quantified.X.max()"
   ]
  },
  {
   "cell_type": "markdown",
   "id": "48d06d7f",
   "metadata": {},
   "source": [
    "### Perturbation effects\n",
    "\n",
    "Check if the KD'd gene went down and then check how much the rest of the transcriptome changed. "
   ]
  },
  {
   "cell_type": "code",
   "execution_count": null,
   "id": "c27463d0",
   "metadata": {},
   "outputs": [],
   "source": [
    "expression_quantified = ingestion.describe_perturbation_effect(expression_quantified, \"knockdown\")"
   ]
  },
  {
   "cell_type": "markdown",
   "id": "10ba61e4",
   "metadata": {},
   "source": [
    "### Save the data"
   ]
  },
  {
   "cell_type": "code",
   "execution_count": null,
   "id": "53132fdb",
   "metadata": {},
   "outputs": [],
   "source": [
    "pereggrn_perturbations.check_perturbation_dataset(ad = expression_quantified, is_timeseries=False, is_perturbation=True)\n",
    "pereggrn_perturbations.check_perturbation_dataset(ad = time_series, is_timeseries=True, is_perturbation=False)\n",
    "time_series.write_h5ad(os.path.join(f\"perturbations/{dataset_name}\", f\"train.h5ad\"))\n",
    "expression_quantified.write_h5ad(os.path.join(f\"perturbations/{dataset_name}\", f\"test.h5ad\"))"
   ]
  }
 ],
 "metadata": {
  "kernelspec": {
   "display_name": "Python 3.9.13 ('cell_type_grn_transfer')",
   "language": "python",
   "name": "python3"
  },
  "language_info": {
   "codemirror_mode": {
    "name": "ipython",
    "version": 3
   },
   "file_extension": ".py",
   "mimetype": "text/x-python",
   "name": "python",
   "nbconvert_exporter": "python",
   "pygments_lexer": "ipython3",
   "version": "3.9.15"
  },
  "vscode": {
   "interpreter": {
    "hash": "7658a1e878c2df46706cc47028d7885e1865315efe8f971cf3b351dc4de1c60e"
   }
  }
 },
 "nbformat": 4,
 "nbformat_minor": 5
}
