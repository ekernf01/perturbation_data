{
 "cells": [
  {
   "attachments": {},
   "cell_type": "markdown",
   "id": "a377c2a0",
   "metadata": {},
   "source": [
    "### CD4 T cell KO example\n",
    "\n",
    "This notebook prepares a dataset with 24 individual knockout experiments applied to CD4 T cells ([Freimer et al 2020](https://www.nature.com/articles/s41588-022-01106-y)). Each knockout was profiled with both ATAC and RNA-seq measurements, but we use only RNA. The data have UMI's. Controls are 8 guide RNA's targeting the \"safe-harbor\" AAVS1 locus, and are labeled `AAVS1_1`, `AAVS1_8`, etc. The experiment was done separately on blood from 3 different donors.\n",
    "\n",
    "Here we tidy the dataset and carry out a simple exploration in scanpy. (It's not single cell data but scanpy is still useful for data exploration.)"
   ]
  },
  {
   "cell_type": "code",
   "execution_count": null,
   "id": "5207ee00",
   "metadata": {},
   "outputs": [],
   "source": [
    "import warnings\n",
    "warnings.filterwarnings('ignore')\n",
    "import regex as re\n",
    "import os\n",
    "import shutil\n",
    "import importlib\n",
    "import matplotlib.colors as colors\n",
    "import matplotlib.pyplot as plt\n",
    "import numpy as np\n",
    "import pandas as pd\n",
    "import scanpy as sc\n",
    "import seaborn as sns\n",
    "from scipy.stats import spearmanr as spearmanr\n",
    "from IPython.display import display, HTML\n",
    "\n",
    "import os, sys\n",
    "import itertools as it\n",
    "from scipy.stats import spearmanr, pearsonr\n",
    "import matplotlib.pyplot as plt\n",
    "import seaborn as sns\n",
    "from collections import Counter\n",
    "\n",
    "# local\n",
    "import importlib\n",
    "import sys\n",
    "sys.path.append(\"setup\")\n",
    "import ingestion\n",
    "import global_effects\n",
    "importlib.reload(ingestion)\n",
    "importlib.reload(global_effects)\n",
    "\n",
    "#      visualization settings\n",
    "plt.rcParams['figure.figsize'] = [6, 4.5]\n",
    "plt.rcParams[\"savefig.dpi\"] = 300\n",
    "\n",
    "# Specify the working directory explicitly.\n",
    "os.chdir(\"/home/ekernf01/Desktop/jhu/research/projects/perturbation_prediction/cell_type_knowledge_transfer/perturbation_data\")\n",
    "\n",
    "# Universal\n",
    "geneAnnotationPath = \"../accessory_data/gencode.v35.annotation.gtf.gz\"       # Downloaded from https://www.gencodegenes.org/human/release_35.html\n",
    "humanTFPath = \"../accessory_data/humanTFs.csv\"                               # Downloaded from http://humantfs.ccbr.utoronto.ca/download.php\n",
    "humanEpiPath = \"../accessory_data/epiList.csv\"                               # Downloaded from https://epifactors.autosome.org/description \n",
    "\n",
    "# Freimer Specific\n",
    "rawDataPath = \"not_ready/freimer/GSE171677_RNA_UMI_dedup_counts.txt\"\n",
    "perturbEffectTFOnlyPath = \"setup/freimerTFOnly.csv\"                         # a path to store temp file\n",
    "perturbEffectFullTranscriptomePath = \"setup/freimerFullTranscriptome.csv\"   # a path to store temp file\n",
    "\n",
    "finalDataFileFolder = \"perturbations/freimer\"\n",
    "finalDataFilePath   = \"perturbations/freimer/test.h5ad\""
   ]
  },
  {
   "attachments": {},
   "cell_type": "markdown",
   "id": "c081e213",
   "metadata": {
    "jp-MarkdownHeadingCollapsed": true,
    "tags": []
   },
   "source": [
    "### Reshape the data"
   ]
  },
  {
   "cell_type": "code",
   "execution_count": null,
   "id": "a99c0000",
   "metadata": {
    "tags": []
   },
   "outputs": [],
   "source": [
    "expression_quantified = pd.read_csv(rawDataPath, \n",
    "                                    delimiter=\"\\t\",\n",
    "                                    index_col=0, \n",
    "                                    header=0, \n",
    "                                    comment='!')   \n",
    "gene_metadata   = expression_quantified.iloc[:,0:5]\n",
    "expression_quantified = expression_quantified.iloc[:, 5:].T\n",
    "sample_metadata = pd.DataFrame(columns = [\"donor\", \"perturbation\"], \n",
    "                               index = expression_quantified.index,\n",
    "                               data = [g.split(\"_\", maxsplit=2)[1:3] for g in expression_quantified.index])\n",
    "print(\"\\n\\ngene_metadata\\n\")\n",
    "display(gene_metadata.head())\n",
    "print(\"\\n\\nsample_metadata\\n\")\n",
    "display(sample_metadata.head())\n",
    "print(\"\\n\\n expression_quantified\\n\")\n",
    "display(expression_quantified.head().T.head())"
   ]
  },
  {
   "attachments": {},
   "cell_type": "markdown",
   "id": "e086cf35",
   "metadata": {
    "jp-MarkdownHeadingCollapsed": true,
    "tags": []
   },
   "source": [
    "### Combine into anndata to keep everything together"
   ]
  },
  {
   "cell_type": "code",
   "execution_count": null,
   "id": "0ce050d4",
   "metadata": {},
   "outputs": [],
   "source": [
    "expression_quantified = sc.AnnData(expression_quantified, \n",
    "                                   var = gene_metadata.copy(),\n",
    "                                   obs = sample_metadata.copy())\n",
    "expression_quantified.raw = expression_quantified.copy()\n",
    "# DRY these up once they're in AnnData\n",
    "del gene_metadata\n",
    "del sample_metadata"
   ]
  },
  {
   "attachments": {},
   "cell_type": "markdown",
   "id": "4b3d7666",
   "metadata": {
    "jp-MarkdownHeadingCollapsed": true,
    "tags": []
   },
   "source": [
    "### Convert ensembl gene id's to gene symbol"
   ]
  },
  {
   "cell_type": "code",
   "execution_count": null,
   "id": "1e8dac1f",
   "metadata": {
    "tags": []
   },
   "outputs": [],
   "source": [
    "expression_quantified.var_names = ingestion.convert_ens_to_symbol(expression_quantified.var_names, \n",
    "                                                                  gtf=geneAnnotationPath)\n",
    "display(expression_quantified.var.head())\n",
    "display(expression_quantified.var_names[0:5])"
   ]
  },
  {
   "cell_type": "code",
   "execution_count": null,
   "id": "594eca40",
   "metadata": {},
   "outputs": [],
   "source": [
    "# Document controls with weird names\n",
    "controls = [f\"AAVS1_{i}\" for i in range(1,9)]\n",
    "for c in controls:\n",
    "    assert c in expression_quantified.obs['perturbation'].unique() \n",
    "expression_quantified.obs[\"is_control\"] = expression_quantified.obs['perturbation'].isin(controls)\n",
    "expression_quantified.obs[\"is_control_int\"] = expression_quantified.obs['perturbation'].isin(controls).astype(int)"
   ]
  },
  {
   "attachments": {},
   "cell_type": "markdown",
   "id": "5d97d4f8-380b-40dc-a2ed-4b2a984b0309",
   "metadata": {
    "tags": []
   },
   "source": [
    "### Retain genes w/ a minimum count in at least 3 samples"
   ]
  },
  {
   "cell_type": "code",
   "execution_count": null,
   "id": "d7f5db18-d5d9-4127-8860-be55f8ac5f71",
   "metadata": {
    "tags": []
   },
   "outputs": [],
   "source": [
    "minCount = np.ceil(10/min(expression_quantified.X.sum(axis=1))/1e-6)\n",
    "retainColumn = (np.sum(expression_quantified.X > minCount, axis=0) > 3)\n",
    "expression_quantified._n_vars = np.sum(retainColumn)\n",
    "expression_quantified.X = expression_quantified.X[:, retainColumn]\n",
    "expression_quantified.var = expression_quantified.var.iloc[retainColumn]\n",
    "expression_quantified"
   ]
  },
  {
   "cell_type": "code",
   "execution_count": null,
   "id": "7e8c41f1-879f-47b9-8ec1-fb272c5ffc2e",
   "metadata": {},
   "outputs": [],
   "source": [
    "retainRows = ~(expression_quantified.obs.index == 'Donor_4_AAVS1_6')\n",
    "expression_quantified._n_obs = np.sum(retainRows)\n",
    "expression_quantified.X = expression_quantified.X[retainRows, :]\n",
    "expression_quantified.obs = expression_quantified.obs.iloc[retainRows]\n",
    "expression_quantified"
   ]
  },
  {
   "cell_type": "code",
   "execution_count": null,
   "id": "c3cd7949-2126-4759-85b5-f39069a5f3f6",
   "metadata": {},
   "outputs": [],
   "source": [
    "def RPKM(mat: np.ndarray, geneLength: np.ndarray):\n",
    "    \"\"\"\n",
    "    Expects \n",
    "    Args:\n",
    "        mat: gene expression matrix with shape (n_obs, n_var)\n",
    "        geneLength: gene length vector with shape (n_var,)\n",
    "    \"\"\"\n",
    "    assert geneLength.shape[0] == mat.shape[1]\n",
    "    assert geneLength.shape\n",
    "    return mat * 1e3 * 1e6 / mat.sum(axis=1, keepdims=True) / geneLength[np.newaxis,:]\n",
    "\n",
    "expression_quantified.X = RPKM(expression_quantified.X + 0.5, expression_quantified.var.Length)"
   ]
  },
  {
   "cell_type": "code",
   "execution_count": null,
   "id": "5633af29-a5a8-4804-9cfe-49450dca46a5",
   "metadata": {
    "tags": []
   },
   "outputs": [],
   "source": [
    "\"\"\" Sanity Check:\n",
    "The sum of gene expression before and after normalization \"\"\"\n",
    "fig, axes = plt.subplots(1, 2, figsize=(12,3))\n",
    "axes[0].hist(expression_quantified.X.sum(axis=1), bins=100, log=False, label=\"before DESeq2 norm\")\n",
    "axes[1].hist(ingestion.deseq2Normalization(expression_quantified.X.T).T.sum(axis=1), bins=100, log=False, label=\"after DESeq2 norm\")\n",
    "axes[0].legend()\n",
    "axes[1].legend()\n",
    "plt.show()"
   ]
  },
  {
   "attachments": {},
   "cell_type": "markdown",
   "id": "75418e92-b3e9-40f4-b7b6-f94d50b51d95",
   "metadata": {},
   "source": [
    "### Normalization on bulk"
   ]
  },
  {
   "cell_type": "code",
   "execution_count": null,
   "id": "37e5c0fe-a5b0-46dd-b72f-1d0e4c280fdf",
   "metadata": {},
   "outputs": [],
   "source": [
    "expression_quantified.X = ingestion.deseq2Normalization(expression_quantified.X.T).T"
   ]
  },
  {
   "cell_type": "code",
   "execution_count": null,
   "id": "13680c69-9ee5-4051-9086-deca95e08fbd",
   "metadata": {
    "jupyter": {
     "source_hidden": true
    },
    "tags": []
   },
   "outputs": [],
   "source": [
    "# If verbose is set to True, display disconcordant trials and their controls\n",
    "status, logFC = ingestion.checkConsistency(expression_quantified, \n",
    "                                           perturbationType=\"knockdown\", \n",
    "                                           group=\"donor\",\n",
    "                                           verbose=False) \n",
    "expression_quantified.obs[\"consistentW/Perturbation\"] = status\n",
    "expression_quantified.obs[\"logFC\"] = logFC\n",
    "Counter(status)"
   ]
  },
  {
   "cell_type": "code",
   "execution_count": null,
   "id": "634e8f2b-d1fb-42ea-95b5-0147734c763c",
   "metadata": {
    "jupyter": {
     "source_hidden": true
    },
    "tags": []
   },
   "outputs": [],
   "source": [
    "correlations = ingestion.computeCorrelation(expression_quantified, verbose=True, group=\"donor\")\n",
    "expression_quantified.obs[\"spearmanCorr\"] = correlations[0]\n",
    "expression_quantified.obs[ \"pearsonCorr\"] = correlations[1]"
   ]
  },
  {
   "cell_type": "code",
   "execution_count": null,
   "id": "05fcac3f-3cf6-4afe-8ccc-e992df9aee14",
   "metadata": {
    "tags": []
   },
   "outputs": [],
   "source": [
    "\"\"\"\n",
    "Downloaded from http://humantfs.ccbr.utoronto.ca/download.php \"\"\"\n",
    "TFList = pd.read_csv(humanTFPath, index_col=0).iloc[:, [1,3]]\n",
    "TFDict = dict([tuple(i) for i in TFList.to_numpy().tolist() if i[1] == 'Yes'])\n",
    "\n",
    "\"\"\"\n",
    "Downloaded from https://epifactors.autosome.org/description \"\"\"\n",
    "EpiList = pd.read_csv(humanEpiPath, index_col=0).iloc[:, [0,14]]\n",
    "EpiDict = dict([tuple(i) for i in EpiList.to_numpy().tolist()])"
   ]
  },
  {
   "cell_type": "code",
   "execution_count": null,
   "id": "8e62b5a0-39b0-47b1-a7cc-84927f93f2c8",
   "metadata": {
    "tags": []
   },
   "outputs": [],
   "source": [
    "\"\"\" If want to look at bigness on TF only \"\"\"\n",
    "TFVar = [i for i,p in enumerate(expression_quantified.var.index) if p in TFDict or p in EpiDict]\n",
    "expression_quantifiedTFOnly = expression_quantified[:, TFVar].copy()\n",
    "global_effects.quantifyEffect(adata=expression_quantifiedTFOnly, \n",
    "                         fname=perturbEffectTFOnlyPath, \n",
    "                         group=None, \n",
    "                         diffExprFC=False, \n",
    "                         prefix=\"TFOnly\")\n",
    "\n",
    "global_effects.quantifyEffect(adata=expression_quantified, \n",
    "                         fname=perturbEffectFullTranscriptomePath, \n",
    "                         group=None,\n",
    "                         diffExprFC=False, \n",
    "                         prefix=\"\")\n",
    "\n",
    "listOfMetrics = [\"DEG\", \"MI\", \"logFCMean\", \"logFCNorm2\", \"logFCMedian\"]\n",
    "for m in listOfMetrics:\n",
    "    expression_quantified.obs[f\"TFOnly{m}\"] = expression_quantifiedTFOnly.obs[f\"TFOnly{m}\"]"
   ]
  },
  {
   "cell_type": "code",
   "execution_count": null,
   "id": "05f2ee7f-c288-4df0-962e-34e962c73fab",
   "metadata": {
    "tags": []
   },
   "outputs": [],
   "source": [
    "metricOfInterest = [\"DEG\", \"logFCNorm2\", \"TFOnlyDEG\", \"TFOnlylogFCNorm2\"]\n",
    "ingestion.checkPerturbationEffectMetricCorrelation(expression_quantified, metrics=metricOfInterest)"
   ]
  },
  {
   "cell_type": "code",
   "execution_count": null,
   "id": "c3bca84b-e49b-4dbd-bd5b-07e0ed91669b",
   "metadata": {
    "tags": []
   },
   "outputs": [],
   "source": [
    "ingestion.visualizePerturbationEffect(expression_quantified, metrics=metricOfInterest, TFDict=TFDict, EpiDict=EpiDict)"
   ]
  },
  {
   "cell_type": "code",
   "execution_count": null,
   "id": "db4d5eca-a855-4011-aa72-3d1675776eae",
   "metadata": {
    "tags": []
   },
   "outputs": [],
   "source": [
    "temp = expression_quantified.copy()\n",
    "\n",
    "\"\"\" If you wish to see the magnitude of perturbation effect more clearer,\n",
    "    i.e. a smoother gradient of the color shift, feel free to uncomment\n",
    "    the line below, which takes the log of the norm2 \"\"\"\n",
    "temp.obs['logFCNorm2'] = np.log2(temp.obs['logFCNorm2'])\n",
    "\n",
    "ingestion.visualizePerturbationMetadata(temp,\n",
    "                                        x=\"spearmanCorr\", \n",
    "                                        y=\"logFC\", \n",
    "                                        style=\"consistentW/Perturbation\", \n",
    "                                        hue=\"logFCNorm2\", \n",
    "                                        markers=['o', '^'], \n",
    "                                        xlim=[-0.2, 1])"
   ]
  },
  {
   "cell_type": "code",
   "execution_count": null,
   "id": "2784379c-9c3f-41b4-848e-26720757865b",
   "metadata": {
    "tags": []
   },
   "outputs": [],
   "source": [
    "keepRow      = (~expression_quantified.obs.perturbation.duplicated() & (~expression_quantified.obs.is_control)) \n",
    "perturbagens = expression_quantified[keepRow].obs.perturbation\n",
    "myDEG        = expression_quantified[keepRow].obs.DEG\n",
    "myOrder      = np.array(perturbagens)[np.argsort(myDEG)[::-1]]\n",
    "\n",
    "# Taken from Extended Figure 3d of the paper https://www.nature.com/articles/s41588-022-01106-y/figures/10\n",
    "theirOrder = ['MED12', 'ATXN7L3', 'CBFB', 'TNFAIP3', 'IRF4', 'IL2RA', 'YY1', 'MYB',\n",
    " 'KLF2', 'ETS1', 'PTEN', 'STAT5B', 'GATA3', 'KMT2A', 'ZNF217', 'MBD2', \n",
    " 'JAK3', 'STAT5A', 'FOXK1', 'IRF2', 'IRF1', 'FOXP1', 'RELA', 'HIVEP2']\n",
    "\n",
    "theirInMyOrderPos = [np.where(myOrder==i)[0][0] for i in theirOrder]\n",
    "plt.scatter(theirInMyOrderPos, range(24), s=50, marker='+', label=\"Actual Correspondance\")\n",
    "plt.scatter(range(24)        , range(24), s=10, marker=\"*\", label=\"Ideal Correspondance\")\n",
    "plt.xlabel(\"my DEG rank\")\n",
    "plt.ylabel(\"paper DEG rank\")\n",
    "plt.legend()\n",
    "(pearsonr (theirInMyOrderPos, range(24)), spearmanr(theirInMyOrderPos, range(24)))"
   ]
  },
  {
   "attachments": {},
   "cell_type": "markdown",
   "id": "a0bfd49c-2c7d-4597-8e86-ef3432ffb06f",
   "metadata": {
    "tags": []
   },
   "source": [
    "### Basic EDA"
   ]
  },
  {
   "cell_type": "code",
   "execution_count": null,
   "id": "97c2e7b3",
   "metadata": {
    "tags": []
   },
   "outputs": [],
   "source": [
    "# sc.pp.normalize_total(expression_quantified, target_sum=1e4)\n",
    "sc.pp.log1p(expression_quantified)\n",
    "sc.pp.highly_variable_genes(expression_quantified, flavor = \"seurat_v3\", n_top_genes=expression_quantified.shape[1])\n",
    "sc.pl.highly_variable_genes(expression_quantified)\n",
    "with warnings.catch_warnings():\n",
    "    sc.tl.pca(expression_quantified, n_comps=5)\n",
    "sc.pp.neighbors(expression_quantified)\n",
    "sc.tl.umap(expression_quantified)\n",
    "clusterResolutions = []\n"
   ]
  },
  {
   "cell_type": "code",
   "execution_count": null,
   "id": "cfec9138-030d-45cf-969e-fd9a79712d26",
   "metadata": {},
   "outputs": [],
   "source": [
    "expression_quantified.var_names"
   ]
  },
  {
   "cell_type": "code",
   "execution_count": null,
   "id": "5216afa0",
   "metadata": {
    "scrolled": true
   },
   "outputs": [],
   "source": [
    "\"CTLA4\" in set(expression_quantified.var.index)"
   ]
  },
  {
   "cell_type": "code",
   "execution_count": null,
   "id": "77c5f8c6",
   "metadata": {
    "tags": []
   },
   "outputs": [],
   "source": [
    "sc.pl.umap(expression_quantified, color = [\"donor\", \"is_control_int\", \"perturbation\"])\n",
    "try:\n",
    "    sc.pl.umap(expression_quantified, color = [\"IL2RA\", \"IL2\", \"CTLA4\"])\n",
    "except KeyError:\n",
    "    print('Some plots are missing due to a weird scanpy KeyError on genes \"IL2RA\", \"IL2\", \"CTLA4\".')"
   ]
  },
  {
   "cell_type": "code",
   "execution_count": null,
   "id": "84b48ae3",
   "metadata": {},
   "outputs": [],
   "source": [
    "perturbed_genes = set(list(expression_quantified.obs['perturbation'].unique())).difference(controls)\n",
    "perturbed_and_measured_genes = perturbed_genes.intersection(expression_quantified.var.index)\n",
    "perturbed_but_not_measured_genes = perturbed_genes.difference(expression_quantified.var.index)\n",
    "print(\"These genes were perturbed but not measured:\")\n",
    "print(perturbed_but_not_measured_genes)"
   ]
  },
  {
   "cell_type": "code",
   "execution_count": null,
   "id": "619d4c01",
   "metadata": {},
   "outputs": [],
   "source": [
    "# final form, ready to save\n",
    "expression_quantified.uns[\"perturbed_and_measured_genes\"]     = list(perturbed_and_measured_genes)\n",
    "expression_quantified.uns[\"perturbed_but_not_measured_genes\"] = list(perturbed_but_not_measured_genes)\n",
    "expression_quantified = ingestion.describe_perturbation_effect(expression_quantified, \"knockout\")"
   ]
  },
  {
   "attachments": {},
   "cell_type": "markdown",
   "id": "a48a58eb-e3ff-4514-943c-4841a66adbbd",
   "metadata": {
    "tags": []
   },
   "source": [
    "### Final QC Conclusion"
   ]
  },
  {
   "cell_type": "code",
   "execution_count": null,
   "id": "9ab9bd32-dbd9-4932-bab9-b791c3b7c797",
   "metadata": {},
   "outputs": [],
   "source": [
    "\"\"\" No Filtering \"\"\"\n",
    "expression_quantified = expression_quantified.copy()"
   ]
  },
  {
   "cell_type": "code",
   "execution_count": null,
   "id": "ba9c754c",
   "metadata": {
    "scrolled": true
   },
   "outputs": [],
   "source": [
    "os.makedirs(finalDataFileFolder, exist_ok = True)\n",
    "expression_quantified.write_h5ad(finalDataFilePath)"
   ]
  }
 ],
 "metadata": {
  "kernelspec": {
   "display_name": "Python 3.9.13 ('cell_type_grn_transfer')",
   "language": "python",
   "name": "python3"
  },
  "language_info": {
   "codemirror_mode": {
    "name": "ipython",
    "version": 3
   },
   "file_extension": ".py",
   "mimetype": "text/x-python",
   "name": "python",
   "nbconvert_exporter": "python",
   "pygments_lexer": "ipython3",
   "version": "3.9.15"
  },
  "vscode": {
   "interpreter": {
    "hash": "7658a1e878c2df46706cc47028d7885e1865315efe8f971cf3b351dc4de1c60e"
   }
  }
 },
 "nbformat": 4,
 "nbformat_minor": 5
}
