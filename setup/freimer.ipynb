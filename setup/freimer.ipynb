{
 "cells": [
  {
   "cell_type": "markdown",
   "id": "a377c2a0",
   "metadata": {},
   "source": [
    "### CD4 T cell KO example\n",
    "\n",
    "This notebook prepares a dataset with 24 individual knockout experiments applied to CD4 T cells ([Freimer et al 2020](https://www.nature.com/articles/s41588-022-01106-y)). Each knockout was profiled with both ATAC and RNA-seq measurements, but we use only RNA. The data have UMI's. Controls are 8 guide RNA's targeting the \"safe-harbor\" AAVS1 locus, and are labeled `AAVS1_1`, `AAVS1_8`, etc. The experiment was done separately on blood from 3 different donors.\n",
    "\n",
    "Here we tidy the dataset and carry out a simple exploration in scanpy. (It's not single cell data but scanpy is still useful for data exploration.)"
   ]
  },
  {
   "cell_type": "code",
   "execution_count": 1,
   "id": "5207ee00",
   "metadata": {
    "scrolled": false
   },
   "outputs": [],
   "source": [
    "import warnings\n",
    "warnings.filterwarnings('ignore')\n",
    "import regex as re\n",
    "import os\n",
    "import shutil\n",
    "import importlib\n",
    "import matplotlib.colors as colors\n",
    "import matplotlib.pyplot as plt\n",
    "import numpy as np\n",
    "import pandas as pd\n",
    "import scanpy as sc\n",
    "import seaborn as sns\n",
    "import celloracle as co\n",
    "from scipy.stats import spearmanr as spearmanr\n",
    "from IPython.display import display, HTML\n",
    "# local\n",
    "import importlib\n",
    "import sys\n",
    "sys.path.append(\"setup\")\n",
    "import ingestion\n",
    "importlib.reload(ingestion)\n",
    "\n",
    "#      visualization settings\n",
    "%config InlineBackend.figure_format = 'retina'\n",
    "%matplotlib inline\n",
    "plt.rcParams['figure.figsize'] = [6, 4.5]\n",
    "plt.rcParams[\"savefig.dpi\"] = 300\n",
    "\n",
    "# Specify the working directory explicitly.\n",
    "os.chdir(\"/home/ekernf01/Desktop/jhu/research/projects/perturbation_prediction/cell_type_knowledge_transfer/perturbations/\")"
   ]
  },
  {
   "cell_type": "markdown",
   "id": "c081e213",
   "metadata": {},
   "source": [
    "### Reshape the data"
   ]
  },
  {
   "cell_type": "code",
   "execution_count": 2,
   "id": "a99c0000",
   "metadata": {},
   "outputs": [
    {
     "name": "stdout",
     "output_type": "stream",
     "text": [
      "\n",
      "\n",
      "gene_metadata\n",
      "\n"
     ]
    },
    {
     "data": {
      "text/html": [
       "<div>\n",
       "<style scoped>\n",
       "    .dataframe tbody tr th:only-of-type {\n",
       "        vertical-align: middle;\n",
       "    }\n",
       "\n",
       "    .dataframe tbody tr th {\n",
       "        vertical-align: top;\n",
       "    }\n",
       "\n",
       "    .dataframe thead th {\n",
       "        text-align: right;\n",
       "    }\n",
       "</style>\n",
       "<table border=\"1\" class=\"dataframe\">\n",
       "  <thead>\n",
       "    <tr style=\"text-align: right;\">\n",
       "      <th></th>\n",
       "      <th>Chr</th>\n",
       "      <th>Start</th>\n",
       "      <th>End</th>\n",
       "      <th>Strand</th>\n",
       "      <th>Length</th>\n",
       "    </tr>\n",
       "    <tr>\n",
       "      <th>Geneid</th>\n",
       "      <th></th>\n",
       "      <th></th>\n",
       "      <th></th>\n",
       "      <th></th>\n",
       "      <th></th>\n",
       "    </tr>\n",
       "  </thead>\n",
       "  <tbody>\n",
       "    <tr>\n",
       "      <th>ENSG00000223972.5</th>\n",
       "      <td>chr1;chr1;chr1;chr1;chr1;chr1;chr1;chr1;chr1</td>\n",
       "      <td>11869;12010;12179;12613;12613;12975;13221;1322...</td>\n",
       "      <td>12227;12057;12227;12721;12697;13052;14409;1337...</td>\n",
       "      <td>+;+;+;+;+;+;+;+;+</td>\n",
       "      <td>1735</td>\n",
       "    </tr>\n",
       "    <tr>\n",
       "      <th>ENSG00000227232.5</th>\n",
       "      <td>chr1;chr1;chr1;chr1;chr1;chr1;chr1;chr1;chr1;c...</td>\n",
       "      <td>14404;15005;15796;16607;16858;17233;17606;1791...</td>\n",
       "      <td>14501;15038;15947;16765;17055;17368;17742;1806...</td>\n",
       "      <td>-;-;-;-;-;-;-;-;-;-;-</td>\n",
       "      <td>1351</td>\n",
       "    </tr>\n",
       "    <tr>\n",
       "      <th>ENSG00000278267.1</th>\n",
       "      <td>chr1</td>\n",
       "      <td>17369</td>\n",
       "      <td>17436</td>\n",
       "      <td>-</td>\n",
       "      <td>68</td>\n",
       "    </tr>\n",
       "    <tr>\n",
       "      <th>ENSG00000243485.5</th>\n",
       "      <td>chr1;chr1;chr1;chr1;chr1</td>\n",
       "      <td>29554;30267;30564;30976;30976</td>\n",
       "      <td>30039;30667;30667;31097;31109</td>\n",
       "      <td>+;+;+;+;+</td>\n",
       "      <td>1021</td>\n",
       "    </tr>\n",
       "    <tr>\n",
       "      <th>ENSG00000284332.1</th>\n",
       "      <td>chr1</td>\n",
       "      <td>30366</td>\n",
       "      <td>30503</td>\n",
       "      <td>+</td>\n",
       "      <td>138</td>\n",
       "    </tr>\n",
       "  </tbody>\n",
       "</table>\n",
       "</div>"
      ],
      "text/plain": [
       "                                                                 Chr  \\\n",
       "Geneid                                                                 \n",
       "ENSG00000223972.5       chr1;chr1;chr1;chr1;chr1;chr1;chr1;chr1;chr1   \n",
       "ENSG00000227232.5  chr1;chr1;chr1;chr1;chr1;chr1;chr1;chr1;chr1;c...   \n",
       "ENSG00000278267.1                                               chr1   \n",
       "ENSG00000243485.5                           chr1;chr1;chr1;chr1;chr1   \n",
       "ENSG00000284332.1                                               chr1   \n",
       "\n",
       "                                                               Start  \\\n",
       "Geneid                                                                 \n",
       "ENSG00000223972.5  11869;12010;12179;12613;12613;12975;13221;1322...   \n",
       "ENSG00000227232.5  14404;15005;15796;16607;16858;17233;17606;1791...   \n",
       "ENSG00000278267.1                                              17369   \n",
       "ENSG00000243485.5                      29554;30267;30564;30976;30976   \n",
       "ENSG00000284332.1                                              30366   \n",
       "\n",
       "                                                                 End  \\\n",
       "Geneid                                                                 \n",
       "ENSG00000223972.5  12227;12057;12227;12721;12697;13052;14409;1337...   \n",
       "ENSG00000227232.5  14501;15038;15947;16765;17055;17368;17742;1806...   \n",
       "ENSG00000278267.1                                              17436   \n",
       "ENSG00000243485.5                      30039;30667;30667;31097;31109   \n",
       "ENSG00000284332.1                                              30503   \n",
       "\n",
       "                                  Strand  Length  \n",
       "Geneid                                            \n",
       "ENSG00000223972.5      +;+;+;+;+;+;+;+;+    1735  \n",
       "ENSG00000227232.5  -;-;-;-;-;-;-;-;-;-;-    1351  \n",
       "ENSG00000278267.1                      -      68  \n",
       "ENSG00000243485.5              +;+;+;+;+    1021  \n",
       "ENSG00000284332.1                      +     138  "
      ]
     },
     "metadata": {},
     "output_type": "display_data"
    },
    {
     "name": "stdout",
     "output_type": "stream",
     "text": [
      "\n",
      "\n",
      "sample_metadata\n",
      "\n"
     ]
    },
    {
     "data": {
      "text/html": [
       "<div>\n",
       "<style scoped>\n",
       "    .dataframe tbody tr th:only-of-type {\n",
       "        vertical-align: middle;\n",
       "    }\n",
       "\n",
       "    .dataframe tbody tr th {\n",
       "        vertical-align: top;\n",
       "    }\n",
       "\n",
       "    .dataframe thead th {\n",
       "        text-align: right;\n",
       "    }\n",
       "</style>\n",
       "<table border=\"1\" class=\"dataframe\">\n",
       "  <thead>\n",
       "    <tr style=\"text-align: right;\">\n",
       "      <th></th>\n",
       "      <th>donor</th>\n",
       "      <th>perturbation</th>\n",
       "    </tr>\n",
       "  </thead>\n",
       "  <tbody>\n",
       "    <tr>\n",
       "      <th>Donor_1_AAVS1_4</th>\n",
       "      <td>1</td>\n",
       "      <td>AAVS1_4</td>\n",
       "    </tr>\n",
       "    <tr>\n",
       "      <th>Donor_1_STAT5B</th>\n",
       "      <td>1</td>\n",
       "      <td>STAT5B</td>\n",
       "    </tr>\n",
       "    <tr>\n",
       "      <th>Donor_1_AAVS1_7</th>\n",
       "      <td>1</td>\n",
       "      <td>AAVS1_7</td>\n",
       "    </tr>\n",
       "    <tr>\n",
       "      <th>Donor_1_TNFAIP3</th>\n",
       "      <td>1</td>\n",
       "      <td>TNFAIP3</td>\n",
       "    </tr>\n",
       "    <tr>\n",
       "      <th>Donor_1_MYB</th>\n",
       "      <td>1</td>\n",
       "      <td>MYB</td>\n",
       "    </tr>\n",
       "  </tbody>\n",
       "</table>\n",
       "</div>"
      ],
      "text/plain": [
       "                donor perturbation\n",
       "Donor_1_AAVS1_4     1      AAVS1_4\n",
       "Donor_1_STAT5B      1       STAT5B\n",
       "Donor_1_AAVS1_7     1      AAVS1_7\n",
       "Donor_1_TNFAIP3     1      TNFAIP3\n",
       "Donor_1_MYB         1          MYB"
      ]
     },
     "metadata": {},
     "output_type": "display_data"
    },
    {
     "name": "stdout",
     "output_type": "stream",
     "text": [
      "\n",
      "\n",
      " expression_quantified\n",
      "\n"
     ]
    },
    {
     "data": {
      "text/html": [
       "<div>\n",
       "<style scoped>\n",
       "    .dataframe tbody tr th:only-of-type {\n",
       "        vertical-align: middle;\n",
       "    }\n",
       "\n",
       "    .dataframe tbody tr th {\n",
       "        vertical-align: top;\n",
       "    }\n",
       "\n",
       "    .dataframe thead th {\n",
       "        text-align: right;\n",
       "    }\n",
       "</style>\n",
       "<table border=\"1\" class=\"dataframe\">\n",
       "  <thead>\n",
       "    <tr style=\"text-align: right;\">\n",
       "      <th></th>\n",
       "      <th>Donor_1_AAVS1_4</th>\n",
       "      <th>Donor_1_STAT5B</th>\n",
       "      <th>Donor_1_AAVS1_7</th>\n",
       "      <th>Donor_1_TNFAIP3</th>\n",
       "      <th>Donor_1_MYB</th>\n",
       "    </tr>\n",
       "    <tr>\n",
       "      <th>Geneid</th>\n",
       "      <th></th>\n",
       "      <th></th>\n",
       "      <th></th>\n",
       "      <th></th>\n",
       "      <th></th>\n",
       "    </tr>\n",
       "  </thead>\n",
       "  <tbody>\n",
       "    <tr>\n",
       "      <th>ENSG00000223972.5</th>\n",
       "      <td>0</td>\n",
       "      <td>0</td>\n",
       "      <td>0</td>\n",
       "      <td>0</td>\n",
       "      <td>0</td>\n",
       "    </tr>\n",
       "    <tr>\n",
       "      <th>ENSG00000227232.5</th>\n",
       "      <td>0</td>\n",
       "      <td>0</td>\n",
       "      <td>0</td>\n",
       "      <td>0</td>\n",
       "      <td>1</td>\n",
       "    </tr>\n",
       "    <tr>\n",
       "      <th>ENSG00000278267.1</th>\n",
       "      <td>0</td>\n",
       "      <td>0</td>\n",
       "      <td>0</td>\n",
       "      <td>0</td>\n",
       "      <td>0</td>\n",
       "    </tr>\n",
       "    <tr>\n",
       "      <th>ENSG00000243485.5</th>\n",
       "      <td>0</td>\n",
       "      <td>0</td>\n",
       "      <td>0</td>\n",
       "      <td>0</td>\n",
       "      <td>0</td>\n",
       "    </tr>\n",
       "    <tr>\n",
       "      <th>ENSG00000284332.1</th>\n",
       "      <td>0</td>\n",
       "      <td>0</td>\n",
       "      <td>0</td>\n",
       "      <td>0</td>\n",
       "      <td>0</td>\n",
       "    </tr>\n",
       "  </tbody>\n",
       "</table>\n",
       "</div>"
      ],
      "text/plain": [
       "                   Donor_1_AAVS1_4  Donor_1_STAT5B  Donor_1_AAVS1_7  \\\n",
       "Geneid                                                                \n",
       "ENSG00000223972.5                0               0                0   \n",
       "ENSG00000227232.5                0               0                0   \n",
       "ENSG00000278267.1                0               0                0   \n",
       "ENSG00000243485.5                0               0                0   \n",
       "ENSG00000284332.1                0               0                0   \n",
       "\n",
       "                   Donor_1_TNFAIP3  Donor_1_MYB  \n",
       "Geneid                                           \n",
       "ENSG00000223972.5                0            0  \n",
       "ENSG00000227232.5                0            1  \n",
       "ENSG00000278267.1                0            0  \n",
       "ENSG00000243485.5                0            0  \n",
       "ENSG00000284332.1                0            0  "
      ]
     },
     "metadata": {},
     "output_type": "display_data"
    }
   ],
   "source": [
    "expression_quantified = pd.read_csv(\"not_ready/freimer/GSE171677_RNA_UMI_dedup_counts.txt\", \n",
    "                              delimiter=\"\\t\",\n",
    "                              index_col=0, \n",
    "                              header=0, \n",
    "                              comment = '!')   \n",
    "gene_metadata   = expression_quantified.iloc[:,0:5]\n",
    "expression_quantified = expression_quantified.iloc[:, 5:].T\n",
    "sample_metadata = pd.DataFrame(columns = [\"donor\", \"perturbation\"], \n",
    "                               index = expression_quantified.index,\n",
    "                               data = [g.split(\"_\", maxsplit=2)[1:3] for g in expression_quantified.index])\n",
    "print(\"\\n\\ngene_metadata\\n\")\n",
    "display(gene_metadata.head())\n",
    "print(\"\\n\\nsample_metadata\\n\")\n",
    "display(sample_metadata.head())\n",
    "print(\"\\n\\n expression_quantified\\n\")\n",
    "display(expression_quantified.head().T.head())"
   ]
  },
  {
   "cell_type": "markdown",
   "id": "e086cf35",
   "metadata": {},
   "source": [
    "### Combine into anndata to keep everything together"
   ]
  },
  {
   "cell_type": "code",
   "execution_count": 3,
   "id": "0ce050d4",
   "metadata": {},
   "outputs": [],
   "source": [
    "expression_quantified = sc.AnnData(expression_quantified, \n",
    "                             var = gene_metadata.copy(),\n",
    "                             obs = sample_metadata.copy())\n",
    "# DRY these up once they're in AnnData\n",
    "del gene_metadata\n",
    "del sample_metadata"
   ]
  },
  {
   "cell_type": "markdown",
   "id": "4b3d7666",
   "metadata": {},
   "source": [
    "### Convert ensembl gene id's to gene symbol"
   ]
  },
  {
   "cell_type": "code",
   "execution_count": null,
   "id": "1e8dac1f",
   "metadata": {},
   "outputs": [],
   "source": [
    "expression_quantified.var_names = ingestion.convert_ens_to_symbol(expression_quantified.var_names, gtf = \"../accessory_data/gencode.v35.annotation.gtf.gz\")\n",
    "display(expression_quantified.var.head())\n",
    "display(expression_quantified.var_names[0:5])"
   ]
  },
  {
   "cell_type": "code",
   "execution_count": null,
   "id": "594eca40",
   "metadata": {},
   "outputs": [],
   "source": [
    "# Document controls with weird names\n",
    "controls = [f\"AAVS1_{i}\" for i in range(1,9)]\n",
    "for c in controls:\n",
    "    assert c in expression_quantified.obs['perturbation'].unique() \n",
    "expression_quantified.obs[\"is_control\"] = expression_quantified.obs['perturbation'].isin(controls).astype(int)"
   ]
  },
  {
   "cell_type": "code",
   "execution_count": null,
   "id": "97c2e7b3",
   "metadata": {},
   "outputs": [],
   "source": [
    "sc.pp.normalize_total(expression_quantified, target_sum=1e4)\n",
    "sc.pp.log1p(expression_quantified)\n",
    "sc.pp.highly_variable_genes(expression_quantified, min_mean=0.2, max_mean=4, min_disp=0.2, n_bins=50)\n",
    "sc.pl.highly_variable_genes(expression_quantified)\n",
    "with warnings.catch_warnings():\n",
    "    sc.tl.pca(expression_quantified, n_comps=5)\n",
    "sc.pp.neighbors(expression_quantified)\n",
    "sc.tl.umap(expression_quantified)\n",
    "clusterResolutions = []\n",
    "sc.tl.leiden(expression_quantified)"
   ]
  },
  {
   "cell_type": "code",
   "execution_count": null,
   "id": "5216afa0",
   "metadata": {
    "scrolled": true
   },
   "outputs": [],
   "source": [
    "sc.pl.umap(expression_quantified, color = [\"IL2RA\", \"IL2\", \"CTLA4\", \"leiden\", \"donor\", \"is_control\", \"perturbation\"])\n",
    "# Due to the small number of samples, ask CO to use only one cluster.\n",
    "# Requires setting certain other undocumented aspects of object state. :(\n",
    "expression_quantified.obs[\"fake_cluster\"]=\"all_one_cluster\"\n",
    "expression_quantified.obs.fake_cluster = expression_quantified.obs.fake_cluster.astype(\"category\")\n",
    "expression_quantified.uns[\"fake_cluster_colors\"] = ['#1f77b4']"
   ]
  },
  {
   "cell_type": "markdown",
   "id": "44a4a02a",
   "metadata": {},
   "source": [
    "### Data reduction\n",
    "\n",
    "With only 64GB of RAM, I have been unable to make whole-transcriptome predictions with CellOracle. A data reduction step is necessary where only highly variable genes are included. We also keep all genes that are perturbed, whether or not they appear highly variable -- unless they are unavailable in the first place. "
   ]
  },
  {
   "cell_type": "code",
   "execution_count": null,
   "id": "84b48ae3",
   "metadata": {},
   "outputs": [],
   "source": [
    "perturbed_genes = set(list(expression_quantified.obs['perturbation'].unique())).difference(controls)\n",
    "perturbed_and_measured_genes = perturbed_genes.intersection(expression_quantified.var.index)\n",
    "perturbed_but_not_measured_genes = perturbed_genes.difference(expression_quantified.var.index)\n",
    "genes_keep = expression_quantified.var.index[expression_quantified.var['highly_variable']]\n",
    "genes_keep = set(genes_keep).union(perturbed_and_measured_genes)\n",
    "expression_quantified_orig = expression_quantified.copy()\n",
    "print(\"These genes were perturbed but not measured:\")\n",
    "print(perturbed_but_not_measured_genes)\n",
    "print(\"This many variable genes will be kept and used by CO:\")\n",
    "print(len(genes_keep))"
   ]
  },
  {
   "cell_type": "code",
   "execution_count": null,
   "id": "619d4c01",
   "metadata": {},
   "outputs": [],
   "source": [
    "# final form, ready to save\n",
    "expression_quantified = expression_quantified_orig[:,list(genes_keep)]\n",
    "expression_quantified.uns[\"perturbed_and_measured_genes\"]     = list(perturbed_and_measured_genes)\n",
    "expression_quantified.uns[\"perturbed_but_not_measured_genes\"] = list(perturbed_but_not_measured_genes)"
   ]
  },
  {
   "cell_type": "code",
   "execution_count": null,
   "id": "ba9c754c",
   "metadata": {
    "scrolled": true
   },
   "outputs": [],
   "source": [
    "os.makedirs(\"perturbations/freimer\", exist_ok = True)\n",
    "expression_quantified.write_h5ad(\"perturbations/freimer/test.h5ad\")"
   ]
  }
 ],
 "metadata": {
  "kernelspec": {
   "display_name": "Python 3 (ipykernel)",
   "language": "python",
   "name": "python3"
  },
  "language_info": {
   "codemirror_mode": {
    "name": "ipython",
    "version": 3
   },
   "file_extension": ".py",
   "mimetype": "text/x-python",
   "name": "python",
   "nbconvert_exporter": "python",
   "pygments_lexer": "ipython3",
   "version": "3.9.7"
  }
 },
 "nbformat": 4,
 "nbformat_minor": 5
}
