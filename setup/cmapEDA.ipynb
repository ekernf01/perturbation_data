{
 "cells": [
  {
   "cell_type": "markdown",
   "id": "a377c2a0",
   "metadata": {},
   "source": [
    "### CMAP\n",
    "\n",
    "**NOT UP TO DATE**\n",
    "\n",
    "This notebook prepares a dataset with 24 individual knockout experiments applied to CD4 T cells ([Freimer et al 2020](https://www.nature.com/articles/s41588-022-01106-y)). Each knockout was profiled with both ATAC and RNA-seq measurements, but we use only RNA. The data have UMI's. Controls are 8 guide RNA's targeting the \"safe-harbor\" AAVS1 locus, and are labeled `AAVS1_1`, `AAVS1_8`, etc. The experiment was done separately on blood from 3 different donors.\n",
    "\n",
    "Here we tidy the dataset and carry out a simple exploration in scanpy. (It's not single cell data but scanpy is still useful for data exploration.)"
   ]
  },
  {
   "cell_type": "code",
   "execution_count": null,
   "id": "5207ee00",
   "metadata": {},
   "outputs": [],
   "source": [
    "import warnings\n",
    "warnings.filterwarnings('ignore')\n",
    "import regex as re\n",
    "import os\n",
    "import shutil\n",
    "import sys\n",
    "import importlib\n",
    "import matplotlib.colors as colors\n",
    "import matplotlib.pyplot as plt\n",
    "import numpy as np\n",
    "import pandas as pd\n",
    "import scanpy as sc\n",
    "import anndata as ad\n",
    "import seaborn as sns\n",
    "import celloracle as co\n",
    "from scipy.stats import spearmanr as spearmanr\n",
    "from IPython.display import display, HTML\n",
    "\n",
    "# local\n",
    "import importlib\n",
    "import sys\n",
    "sys.path.append(\"setup\")\n",
    "import ingestion\n",
    "importlib.reload(ingestion)\n",
    "\n",
    "import os, sys, time\n",
    "import itertools as it\n",
    "from scipy.stats import spearmanr, pearsonr, rankdata, f_oneway\n",
    "from statsmodels.stats.multitest import multipletests\n",
    "from sklearn.metrics import mutual_info_score\n",
    "import matplotlib.pyplot as plt\n",
    "import seaborn as sns\n",
    "from collections import Counter\n",
    "\n",
    "from sklearn import linear_model\n",
    "\n",
    "#      visualization settings\n",
    "%config InlineBackend.figure_format = 'retina'\n",
    "%matplotlib inline\n",
    "plt.rcParams['figure.figsize'] = [5, 3]\n",
    "plt.rcParams[\"savefig.dpi\"] = 200\n",
    "\n",
    "# Specify the working directory explicitly.\n",
    "os.chdir(\"/home/gary/cahan_rotation/perturbation_data/\")\n",
    "\n",
    "# Universal\n",
    "geneAnnotationPath = \"setup/gencode.v35.annotation.gtf.gz\"       # Downloaded from https://www.gencodegenes.org/human/release_35.html\n",
    "humanTFPath = \"setup/tfList.csv\"                                 # Downloaded from http://humantfs.ccbr.utoronto.ca/download.php\n",
    "humanEpiPath = \"setup/epiList.csv\"                               # Downloaded from https://epifactors.autosome.org/description \n",
    "\n",
    "# cmap Specific\n",
    "datadirRoot = \"not_ready/cmap/new\"                                                   \n",
    "controlPath = os.path.join(datadirRoot, \"level3_beta_ctl_n188708x12328.gctx\")        # From https://clue.io/data/CMap2020#LINCS2020 Nov. 29th, 2022\n",
    "treatmtPath = os.path.join(datadirRoot, \"level3_beta_trt_oe_n131668x12328.gctx\")     # From https://clue.io/data/CMap2020#LINCS2020 Nov. 29th, 2022\n",
    "instPath    = os.path.join(datadirRoot, \"instinfo_beta.txt\")                         # From https://clue.io/data/CMap2020#LINCS2020 Nov. 29th, 2022\n",
    "genePath    = os.path.join(datadirRoot, \"geneinfo_beta.txt\")                         # From https://clue.io/data/CMap2020#LINCS2020 Nov. 29th, 2022"
   ]
  },
  {
   "cell_type": "markdown",
   "id": "c081e213",
   "metadata": {
    "tags": []
   },
   "source": [
    "### Reshape the data & Filter observations failed to pass CMAP's QC test"
   ]
  },
  {
   "cell_type": "code",
   "execution_count": null,
   "id": "c3094561-05be-4bb1-ab73-60b53eab4ec0",
   "metadata": {},
   "outputs": [],
   "source": [
    "_control = ingestion.read_cmap( \n",
    "    expression_file=controlPath,\n",
    "    gene_metadata=genePath,\n",
    "    instance_metadata=instPath, \n",
    ")\n",
    "_treatmt = ingestion.read_cmap( \n",
    "    expression_file=treatmtPath,\n",
    "    gene_metadata=genePath,\n",
    "    instance_metadata=instPath, \n",
    ")"
   ]
  },
  {
   "cell_type": "code",
   "execution_count": null,
   "id": "12f35c02-a2a0-43e1-be33-2fe22e60dd8f",
   "metadata": {},
   "outputs": [],
   "source": [
    "# Removed 1 entry of MIA2, since both ENSG00000150527 & ENSG00000150526 map to MIA2\n",
    "_control = _control[:, ~_control.var.index.duplicated()].copy()\n",
    "_treatmt = _treatmt[:, ~_treatmt.var.index.duplicated()].copy()"
   ]
  },
  {
   "cell_type": "code",
   "execution_count": null,
   "id": "12015af1-f9a7-423f-98e6-b6c4edf7a9a2",
   "metadata": {},
   "outputs": [],
   "source": [
    "_control.shape, _treatmt.shape"
   ]
  },
  {
   "cell_type": "code",
   "execution_count": null,
   "id": "20653d2c-0696-406b-b49e-df86977c16d8",
   "metadata": {
    "tags": []
   },
   "outputs": [],
   "source": [
    "expression_quantified = sc.AnnData(\n",
    "    X=np.vstack([_control.X, \n",
    "                 _treatmt.X]).copy(),\n",
    "    var=_control.var.copy(),\n",
    "    obs=pd.concat([_control.obs,\n",
    "                   _treatmt.obs]).copy()\n",
    ")\n",
    "print(expression_quantified)\n",
    "\n",
    "del _control\n",
    "del _treatmt"
   ]
  },
  {
   "cell_type": "code",
   "execution_count": null,
   "id": "7b716eed-7827-47dd-b375-9b74161fb5ee",
   "metadata": {},
   "outputs": [],
   "source": [
    "overallOccupancy = expression_quantified.obs.copy()\n",
    "overallOccupancy.head()"
   ]
  },
  {
   "cell_type": "code",
   "execution_count": null,
   "id": "d4c91158-f669-4062-b961-23a1f330beec",
   "metadata": {
    "tags": []
   },
   "outputs": [],
   "source": [
    "\"\"\" Filter out observations that fail cmap standard QC \"\"\"\n",
    "expression_quantified = expression_quantified[expression_quantified.obs.qc_pass == 1].copy()\n",
    "print(expression_quantified)"
   ]
  },
  {
   "cell_type": "code",
   "execution_count": null,
   "id": "45af4297-31b5-4515-aebf-fc6669e6418f",
   "metadata": {},
   "outputs": [],
   "source": [
    "# Keep only landmark genes\n",
    "expression_quantified = expression_quantified[:,expression_quantified.var.feature_space == \"landmark\"].copy()"
   ]
  },
  {
   "cell_type": "code",
   "execution_count": null,
   "id": "2e9169cd-428c-4ece-9cb9-43e6d1321c35",
   "metadata": {},
   "outputs": [],
   "source": [
    "expression_quantified_orig = expression_quantified.copy()"
   ]
  },
  {
   "cell_type": "code",
   "execution_count": null,
   "id": "ed1ab96b-3d59-4b65-82c9-24580302bdfb",
   "metadata": {},
   "outputs": [],
   "source": [
    "expression_quantified.obs = expression_quantified.obs[['sample_id', 'bead_batch', 'cell_mfc_name', 'pert_mfc_id', 'det_plate',\n",
    "                                                       'det_well', 'rna_plate', 'rna_well', 'count_mean', 'count_cv',\n",
    "                                                       'qc_f_logp', 'qc_iqr', 'qc_slope', 'pert_id', 'pert_type', 'cell_iname',\n",
    "                                                       'qc_pass', 'dyn_range', 'inv_level_10', \n",
    "                                                       'project_code', 'cmap_name']]"
   ]
  },
  {
   "cell_type": "code",
   "execution_count": null,
   "id": "f01b7697-965d-447c-aeb8-b1421bf9ace0",
   "metadata": {},
   "outputs": [],
   "source": [
    "expression_quantified.obs[\"det_row\"] = expression_quantified.obs.det_well.apply(lambda x: x[0 ])\n",
    "expression_quantified.obs[\"det_col\"] = expression_quantified.obs.det_well.apply(lambda x: x[1:])"
   ]
  },
  {
   "cell_type": "markdown",
   "id": "9bc29a21",
   "metadata": {
    "jp-MarkdownHeadingCollapsed": true,
    "tags": []
   },
   "source": [
    "### Add `is_control` and `perturbation`"
   ]
  },
  {
   "cell_type": "code",
   "execution_count": null,
   "id": "b08ef78c-316b-4f7f-ae98-d2d631f3977d",
   "metadata": {
    "tags": []
   },
   "outputs": [],
   "source": [
    "display(expression_quantified.obs[\"pert_type\"].value_counts())"
   ]
  },
  {
   "cell_type": "code",
   "execution_count": null,
   "id": "594eca40",
   "metadata": {
    "tags": []
   },
   "outputs": [],
   "source": [
    "controls = [\"ctl_vector\", \"ctl_vehicle\", \"ctl_untrt\", \"ctl_x\"]\n",
    "expression_quantified.obs[\"is_control\"    ] = expression_quantified.obs['pert_type'].isin(controls)\n",
    "expression_quantified.obs[\"is_control_int\"] = expression_quantified.obs['pert_type'].isin(controls).astype(int)"
   ]
  },
  {
   "cell_type": "code",
   "execution_count": null,
   "id": "97dd2ff9-0345-4993-ad60-1ec10c2c3606",
   "metadata": {
    "tags": []
   },
   "outputs": [],
   "source": [
    "\"\"\" Heterogeneity of controls \"\"\"\n",
    "tmp = expression_quantified[expression_quantified.obs.is_control].obs[['pert_type', 'cmap_name']]\n",
    "for t in set(tmp.pert_type):\n",
    "    print(f\"====={t}=====\")\n",
    "    display(tmp[tmp.pert_type == t].cmap_name.value_counts().head(2))\n",
    "del tmp"
   ]
  },
  {
   "cell_type": "code",
   "execution_count": null,
   "id": "07d55cf0-c49a-4ba0-be0e-487bcd0212cc",
   "metadata": {
    "tags": []
   },
   "outputs": [],
   "source": [
    "expression_quantified.obs[\"perturbation\"] = expression_quantified.obs[\"cmap_name\"]"
   ]
  },
  {
   "cell_type": "code",
   "execution_count": null,
   "id": "762bc0ff",
   "metadata": {
    "scrolled": true,
    "tags": []
   },
   "outputs": [],
   "source": [
    "\"\"\" Count up different perturbations \"\"\" \n",
    "human_TFs = pd.read_csv(humanTFPath)\n",
    "human_TFs = human_TFs.loc[human_TFs[\"Is TF?\"]==\"Yes\",:]\n",
    "\n",
    "expression_quantified.obs[\"is_tf\"] = expression_quantified.obs[\"perturbation\"].isin(human_TFs[\"HGNC symbol\"])\n",
    "print(f\"perturbation frequencies\")\n",
    "print(expression_quantified.obs[\"perturbation\"].value_counts())\n",
    "print(f\"\\n\\nperturbation frequencies (just TF's)\")\n",
    "print(expression_quantified.obs.query(\"is_tf\")[\"perturbation\"].value_counts())"
   ]
  },
  {
   "cell_type": "code",
   "execution_count": null,
   "id": "fe5e64b4-2e6c-47c6-bcfc-3b93d7ce21d4",
   "metadata": {
    "tags": []
   },
   "outputs": [],
   "source": [
    "\"\"\" Perturbagen by count \"\"\"\n",
    "treatment = expression_quantified[~expression_quantified.obs.is_control].copy()\n",
    "print(treatment.obs.perturbation.value_counts())\n",
    "del treatment"
   ]
  },
  {
   "cell_type": "code",
   "execution_count": null,
   "id": "e78b9b82-aa52-47c9-95bc-b9052a3ec1cc",
   "metadata": {
    "tags": []
   },
   "outputs": [],
   "source": [
    "\"\"\" # of LANDMARK genes perturbed and measured \"\"\"\n",
    "landmarks = expression_quantified[:, expression_quantified.var.feature_space == \"landmark\"].var_names.tolist()\n",
    "expression_quantified.obs['is_landmark'] = expression_quantified.obs.perturbation.apply(lambda x: x in landmarks)\n",
    "treatment = expression_quantified[(~expression_quantified.obs.is_control) & (expression_quantified.obs.is_landmark)].copy()\n",
    "print(treatment.obs.perturbation.value_counts())\n",
    "del treatment"
   ]
  },
  {
   "cell_type": "markdown",
   "id": "6abf4239-df99-43bf-b4ed-3402eee7ceab",
   "metadata": {
    "jp-MarkdownHeadingCollapsed": true,
    "tags": []
   },
   "source": [
    "### Focus Analysis only on Plates w/ 1 ctl and 1 trt & Cell Types w/ more than 50 cells."
   ]
  },
  {
   "cell_type": "code",
   "execution_count": null,
   "id": "c811ed6f-496b-40ec-ac8b-f337dce0cbfd",
   "metadata": {},
   "outputs": [],
   "source": [
    "expression_quantified = expression_quantified[expression_quantified.obs.cell_iname.apply(lambda x: x not in [\"HEK293\", \"HELA\"])].copy()"
   ]
  },
  {
   "cell_type": "code",
   "execution_count": null,
   "id": "4335ccd2-05d9-4179-bfbc-ffdc59fa81a0",
   "metadata": {},
   "outputs": [],
   "source": [
    "batch = \"det_plate\"\n",
    "plates = expression_quantified.obs.groupby(batch)\n",
    "\n",
    "numControl = dict(\n",
    "    [\n",
    "        tuple([\n",
    "            plateName,\n",
    "            [sum( expression_quantified.obs.iloc[plates.indices[plateName], :].is_control), \n",
    "             sum(~expression_quantified.obs.iloc[plates.indices[plateName], :].is_control)]\n",
    "        ])\n",
    "        for plateName, _ in plates\n",
    "        if len(plates.indices[plateName]) > 0\n",
    "    ]\n",
    ")\n",
    "\n",
    "print(f\"# of plates: {len(numControl)}\")\n",
    "print(f\"1.# of plates w/ only control: {sum([x[1] == 0 for x in numControl.values()])}\")\n",
    "print(f\"2.# of plates w/ only treatmt: {sum([x[0] == 0 for x in numControl.values()])}\")\n",
    "print(f\"3.# of plates w/ both        : {sum([x[0] != 0 and x[1] != 0 for x in numControl.values()])}\")\n",
    "print(f\"# of plates w/ both ctl>15 : {sum([x[0] > 15 for x in numControl.values() if x[0] != 0 and x[1] != 0])}\")\n",
    "print(f\"# of plates w/ both ctl>20 : {sum([x[0] > 20 for x in numControl.values() if x[0] != 0 and x[1] != 0])}\")\n",
    "print(f\"# of plates w/ both ctl>5 trt>5 : {sum([x[0] > 5 and x[1] > 5 for x in numControl.values()])}\")"
   ]
  },
  {
   "cell_type": "code",
   "execution_count": null,
   "id": "743258fc-de2b-4ad4-9aa6-be1e60c32b48",
   "metadata": {},
   "outputs": [],
   "source": [
    "bothExist = dict([(k,v) for k,v in numControl.items() if v[1] > 0 and v[0] > 0])\n",
    "bothExistCount = np.array(list(bothExist.values())).T\n",
    "plt.figure(figsize=(35, 3))\n",
    "plt.bar(np.array(list(bothExist.keys())), \n",
    "        bothExistCount[0], \n",
    "        label=\"control\")\n",
    "plt.bar(np.array(list(bothExist.keys())), \n",
    "        bothExistCount[1], \n",
    "        bottom=bothExistCount[0],\n",
    "        label=\"treatment\")\n",
    "plt.axhline(20, 0, 1, color='r', label=\"y=20\")\n",
    "plt.legend()\n",
    "plt.xticks(rotation=90, fontsize=4)\n",
    "plt.ylim(0, 500)\n",
    "plt.margins(x=0)\n",
    "plt.show()"
   ]
  },
  {
   "cell_type": "code",
   "execution_count": null,
   "id": "cff8caad-1727-42c7-82b0-f54d3bef29e2",
   "metadata": {
    "tags": []
   },
   "outputs": [],
   "source": [
    "allInstMeta = pd.read_csv(instPath, delimiter=\"\\t\")\n",
    "display(allInstMeta.shape)\n",
    "groups = allInstMeta.groupby(\"det_plate\")\n",
    "\n",
    "allPertType = list(set(allInstMeta.pert_type))\n",
    "allPlateName = list(bothExist.keys())\n",
    "initGroupCounter = np.zeros((len(allPertType), len(allPlateName)), dtype=float)\n",
    "        \n",
    "for plateName in allPlateName:\n",
    "    currPlate = allInstMeta.iloc[groups.indices[plateName]]\n",
    "    for pertType,v in currPlate.pert_type.value_counts().items():\n",
    "            initGroupCounter[allPertType.index(pertType), \n",
    "                             allPlateName.index(plateName)] = v\n",
    "            \n",
    "initGroupCounter = np.array(initGroupCounter)\n",
    "initGroupCounter = np.log10(initGroupCounter)\n",
    "\n",
    "sns.heatmap(initGroupCounter, yticklabels=allPertType, vmin=0, vmax=3)\n",
    "plt.title(\"Pert Type on Plates \\nw/ Min Count of Ctl and Trt\")\n",
    "plt.show()"
   ]
  },
  {
   "cell_type": "code",
   "execution_count": null,
   "id": "32bb7431-db9e-494c-a2f2-2071cf543099",
   "metadata": {},
   "outputs": [],
   "source": [
    "\"\"\" Keep only plates with a minimum # of treatment & control \"\"\"\n",
    "print(f\"{expression_quantified.n_obs} of observations prior to filtering.\")\n",
    "rowsToKeep = [i in bothExist for i in expression_quantified.obs[batch]]\n",
    "expression_quantified = expression_quantified[rowsToKeep, :].copy()\n",
    "print(f\"{expression_quantified.n_obs} of observations after filtering.\")"
   ]
  },
  {
   "cell_type": "markdown",
   "id": "a7223b4e-d259-41e8-b021-ffb11d59fb57",
   "metadata": {
    "tags": []
   },
   "source": [
    "### EDA For Data Quality Control"
   ]
  },
  {
   "cell_type": "markdown",
   "id": "402cfde4-19a6-49b4-afa1-1f452f8a38f4",
   "metadata": {
    "jp-MarkdownHeadingCollapsed": true,
    "tags": []
   },
   "source": [
    "#### Visualization Code"
   ]
  },
  {
   "cell_type": "code",
   "execution_count": null,
   "id": "ec7c2217-e6c9-4af9-85c4-e637a0ca5a79",
   "metadata": {
    "tags": []
   },
   "outputs": [],
   "source": [
    "def visualizeControlCorrelationsWithinAndBetweenBatch(adata, batch=\"det_plate\"):\n",
    "    \n",
    "    \"\"\" Control correlations WITHIN a batch \"\"\"\n",
    "    overallControl = np.median(adata[adata.obs.is_control].X, axis=0)\n",
    "    intraPlateCorr, interPlateCorr = list(), list()\n",
    "\n",
    "    for idx, plate in enumerate(sorted(set(adata.obs[batch]))):\n",
    "        plateCorr = list()\n",
    "        controls = adata[(adata.obs[batch] == plate) &\n",
    "                         (adata.obs.is_control)]\n",
    "        nCTL = controls.n_obs * (controls.n_obs - 1) // 2\n",
    "\n",
    "        # compute correlations among controls at fold change level\n",
    "        for x1, x2 in it.combinations(controls.X, r=2):\n",
    "            if controls.n_obs > 10 and np.random.random() > 50 / nCTL:\n",
    "                continue\n",
    "            fc1 = np.log2(x1/overallControl)\n",
    "            fc2 = np.log2(x2/overallControl)\n",
    "            good= np.isfinite(fc1) & np.isfinite(fc2)\n",
    "            plateCorr.append(spearmanr(fc1[good],fc2[good])[0])\n",
    "\n",
    "        if (idx + 1) % 20 == 0:\n",
    "            print(f\"{idx+1}..\", end=\" \")\n",
    "\n",
    "        intraPlateCorr.append(np.median(plateCorr))\n",
    "\n",
    "    if len(intraPlateCorr) == 1:\n",
    "        print(f\"There is only 1 plate...ctl corr is {intraPlateCorr}.\")\n",
    "        return\n",
    "        \n",
    "    \"\"\" Control correlations BETWEEN a pair of batches \"\"\"\n",
    "    plateCombo = np.array([p for p in it.combinations(set(adata.obs[batch]), 2)])\n",
    "    plateCombo = plateCombo[np.random.choice(plateCombo.shape[0], len(intraPlateCorr)*1)]\n",
    "\n",
    "    for idx, (plate1, plate2) in enumerate(plateCombo):\n",
    "        if plate1 == plate2:\n",
    "            continue\n",
    "        plateCorr = list()\n",
    "        ctl1 = adata[(adata.obs[batch] == plate1) & (adata.obs.is_control)]\n",
    "        ctl2 = adata[(adata.obs[batch] == plate2) & (adata.obs.is_control)]\n",
    "        nCTL = ctl1.n_obs * ctl2.n_obs \n",
    "\n",
    "        # compute correlations among controls at fold change level\n",
    "        for x1, x2 in it.product(ctl1.X, ctl2.X):\n",
    "            if ctl1.n_obs > 10 and ctl2.n_obs > 10 and np.random.random() > 50 / nCTL:\n",
    "                continue\n",
    "            fc1, fc2 = np.log2(x1/overallControl), np.log2(x2/overallControl)\n",
    "            good     = np.isfinite(fc1) & np.isfinite(fc2)\n",
    "            plateCorr.append(spearmanr(fc1[good], fc2[good])[0])\n",
    "\n",
    "        if (idx + 1) % 20 == 0:\n",
    "            print(f\"{idx+1}..\", end=\" \")\n",
    "\n",
    "        interPlateCorr.append(np.median(plateCorr)) \n",
    "        \n",
    "    \"\"\" Format results into dataframe for seaborn visualization \"\"\"\n",
    "    interPlateResult = np.hstack([np.array(interPlateCorr)[:, np.newaxis],\n",
    "                                  np.array([\"InterPlateCorr\"] * len(interPlateCorr))[:, np.newaxis]])\n",
    "    intraPlateResult = np.hstack([np.array(intraPlateCorr)[:, np.newaxis],\n",
    "                                  np.array([\"IntraPlateCorr\"] * len(intraPlateCorr))[:, np.newaxis]])\n",
    "    corrResult = pd.DataFrame(np.vstack([interPlateResult, intraPlateResult]), columns=[\"Value\", \"Class\"])\n",
    "    corrResult['Value'] = corrResult['Value'].astype(np.float64)\n",
    "    \n",
    "    plt.figure(figsize=(4,2))\n",
    "    ax = sns.violinplot(corrResult, x=\"Value\", y=\"Class\", cut=0)\n",
    "    plt.xlabel(\"Spearman Correlation at FC scale\")\n",
    "    plt.xlim([-0.4, 1])\n",
    "    plt.show()"
   ]
  },
  {
   "cell_type": "code",
   "execution_count": null,
   "id": "bdfebe61-e142-4f71-9318-be5fe2fab006",
   "metadata": {
    "tags": []
   },
   "outputs": [],
   "source": [
    "def visualizeWellPositionSpecificOccupancy(adata, batch=\"det_well\"):\n",
    "    groups = adata.obs.groupby(batch)\n",
    "    wellCount   = dict([(k, len(v)) for k,v in groups])\n",
    "\n",
    "    overallOccupancyBothExist = overallOccupancy.det_plate.apply(lambda x: x in bothExist)\n",
    "    overallOccupancyBothExistGroups = overallOccupancy[overallOccupancyBothExist].groupby(\"det_well\")\n",
    "    overallWellCount = dict(\n",
    "        [\n",
    "            (wellName, len(wellEntries)) for \n",
    "             wellName, wellEntries in overallOccupancyBothExistGroups\n",
    "        ]\n",
    "    )\n",
    "    absPlateCount = np.zeros((16, 24))\n",
    "    fracPlateCount= np.zeros((16, 24))\n",
    "\n",
    "    for i,j in it.product(range(16), range(24)):\n",
    "        wellName = f\"{chr(65+i)}{1+j:02}\"\n",
    "        if wellName in wellCount:\n",
    "            absPlateCount [i][j] = wellCount[wellName]\n",
    "            fracPlateCount[i][j] = wellCount[wellName] / overallWellCount[wellName]\n",
    "\n",
    "    fig, axes = plt.subplots(1, 2, figsize=(13, 4))\n",
    "    annotation = np.full((16,24), \"\", dtype=object)\n",
    "    annotation[:2, :2] = \"0\"\n",
    "    sns.heatmap(absPlateCount, robust=True, cmap=\"coolwarm\", annot=annotation, fmt=\"s\",\n",
    "                square=True, yticklabels=[chr(i+65) for i in range(16)], \n",
    "                xticklabels=[i+1 for i in range(24)], ax=axes[0])\n",
    "    axes[0].xaxis.tick_top()\n",
    "    axes[0].set_xticklabels(axes[0].get_xticklabels(), rotation=45, horizontalalignment='center')\n",
    "    axes[0].set_yticklabels(axes[0].get_yticklabels(), rotation=0, horizontalalignment='center')\n",
    "    axes[0].set_title(\"Well Occupancy Count across 394 Plates\\n(Ignoring non-OE treatment)\")\n",
    "    sns.heatmap(fracPlateCount, robust=True, cmap=\"coolwarm\", annot=annotation, fmt=\"s\",\n",
    "                square=True, yticklabels=[chr(i+65) for i in range(16)], \n",
    "                xticklabels=[i+1 for i in range(24)], ax=axes[1])\n",
    "    axes[1].xaxis.tick_top()\n",
    "    axes[1].set_xticklabels(axes[1].get_xticklabels(), rotation=45, horizontalalignment='center')\n",
    "    axes[1].set_yticklabels(axes[1].get_yticklabels(), rotation=0, horizontalalignment='center')\n",
    "    axes[1].set_title(\"Fraction Well Occupancy across 394 Plates\\n(Count / pre-QC Count)\")\n",
    "    plt.show()"
   ]
  },
  {
   "cell_type": "code",
   "execution_count": null,
   "id": "6ff71a57-3b85-4e04-a17d-559ed0681bbb",
   "metadata": {
    "tags": []
   },
   "outputs": [],
   "source": [
    "def visualizeWellPositionSpecificExpression(adata, \n",
    "                                            batch=\"det_well\", \n",
    "                                            gene1=\"GAPDH\", \n",
    "                                            gene2=\"RPS6\"):\n",
    "    \n",
    "    def expression(geneName):\n",
    "        return dict([(\n",
    "            k, \n",
    "            np.mean(\n",
    "                adata[v].X[:,np.where(adata.var_names == geneName)[0]]\n",
    "            )\n",
    "        ) for k,v in wellIndices.items()])\n",
    "        \n",
    "    groups = adata.obs.groupby(batch)\n",
    "    wellIndices = dict([tuple([k, groups.indices[k]]) for k,v in groups])\n",
    "    meanExpr1, meanExpr2 = expression(gene1), expression(gene2)\n",
    "    \n",
    "    meanExprPlate1, meanExprPlate2 = np.zeros((16, 24)), np.zeros((16, 24))\n",
    "    \n",
    "    for i,j in it.product(range(16), range(24)):\n",
    "        wellName = f\"{chr(65+i)}{1+j:02}\"\n",
    "        meanExprPlate1[i][j] = meanExpr1[wellName] if wellName in meanExpr1 else 0\n",
    "        meanExprPlate2[i][j] = meanExpr2[wellName] if wellName in meanExpr2 else 0\n",
    "\n",
    "    mat = [meanExprPlate1, meanExprPlate2]\n",
    "        \n",
    "    fig, axes = plt.subplots(1, 2, figsize=(13, 4))\n",
    "    annotation = np.full((16,24), \"\", dtype=object)\n",
    "    annotation[:2, :2] = \"0\"\n",
    "    \n",
    "    for col in range(2):\n",
    "        sns.heatmap(mat[col], robust=True, cmap=\"coolwarm\", annot=annotation, fmt=\"s\",\n",
    "                    square=True, yticklabels=[chr(i+65) for i in range(16)], \n",
    "                    xticklabels=[i+1 for i in range(24)], ax=axes[col])\n",
    "        axes[col].xaxis.tick_top()\n",
    "        axes[col].set_xticklabels(axes[col].get_xticklabels(), rotation=45, horizontalalignment='center')\n",
    "        axes[col].set_yticklabels(axes[col].get_yticklabels(), rotation=0, horizontalalignment='center')\n",
    "        axes[col].set_title(f\"Mean {gene1 if col == 0 else gene2} Expression Across 394 Plates\")\n",
    "    plt.show()"
   ]
  },
  {
   "cell_type": "code",
   "execution_count": null,
   "id": "51f486cc-859e-4290-b415-56a9a57a2e52",
   "metadata": {
    "tags": []
   },
   "outputs": [],
   "source": [
    "def visualizeUMAPColoredByFeatureOfInterest(adata):\n",
    "    \n",
    "    def basicUnsupervisedAnalysis(adata):\n",
    "        adata = adata.copy()\n",
    "        # This is just to estimate the mean and dispersion, but we'll use all 978 landmark genes.\n",
    "        sc.pp.highly_variable_genes(adata, min_mean=0.2, max_mean=4, min_disp=0.2, n_bins=50)\n",
    "        adata.var[\"highly_variable\"] = adata.var[\"feature_space\"]==\"landmark\"\n",
    "        \"\"\" Commented out to reduce the # of figures \"\"\"\n",
    "        # sc.pl.highly_variable_genes(adata)\n",
    "        with warnings.catch_warnings():\n",
    "            sc.tl.pca(adata, n_comps=100)\n",
    "        sc.pp.neighbors(adata)\n",
    "        sc.tl.umap(adata)\n",
    "        sc.tl.leiden(adata, resolution=0.5)\n",
    "        return adata\n",
    "\n",
    "    def visualizeBasicAnalysis(adata):\n",
    "        adata = adata.copy()\n",
    "        adata.obs[\"oddRow\"] = adata.obs.det_row.apply(lambda x: 1 \n",
    "                                                      if x in ['A','C','E','G',\n",
    "                                                               'I','K','M','O'] \n",
    "                                                      else 0)\n",
    "        sc.pl.umap(adata, \n",
    "                   color=[\"GAPDH\", \"bead_batch\", \n",
    "                          \"det_row\", \"oddRow\", \n",
    "                          \"det_col\", \"leiden\", \n",
    "                          \"is_control_int\", \"rna_plate\"], \n",
    "                   ncols=2, \n",
    "                   legend_fontsize=\"xx-small\", \n",
    "                   color_map=\"coolwarm\", \n",
    "                   size=4)\n",
    "                \n",
    "        # Will ask CO to use only one cluster.\n",
    "        # Requires setting certain other undocumented aspects of object state. :(\n",
    "        adata.obs[\"fake_cluster\"]=\"all_one_cluster\"\n",
    "        adata.obs.fake_cluster = adata.obs.fake_cluster.astype(\"category\")\n",
    "        adata.uns[\"fake_cluster_colors\"] = ['#1f77b4']\n",
    "        return adata\n",
    "        \n",
    "    adata = basicUnsupervisedAnalysis(adata)\n",
    "    adata = visualizeBasicAnalysis(adata)\n",
    "    \n",
    "    return adata"
   ]
  },
  {
   "cell_type": "markdown",
   "id": "4d0741b1-6745-4284-8c10-722a53dad3c8",
   "metadata": {
    "jp-MarkdownHeadingCollapsed": true,
    "tags": []
   },
   "source": [
    "#### Regression Code"
   ]
  },
  {
   "cell_type": "code",
   "execution_count": null,
   "id": "9a3b91f4-f943-4dbd-b6c1-616c96184c6a",
   "metadata": {
    "tags": []
   },
   "outputs": [],
   "source": [
    "def customOneHotEncoding(adata, SVA=True):\n",
    "    \n",
    "    def distToCenter(well):\n",
    "        row = ord(well[0 ])\n",
    "        col = int(well[1:])\n",
    "        return np.sqrt((row - 72.5) ** 2 + \n",
    "                       (col - 12.5) ** 2)\n",
    "    \n",
    "    if 'leiden' not in adata.obs.columns:\n",
    "        raise ValueError(\"Missing leiden cluster assignment!\")\n",
    "    \n",
    "    columns = (list(sorted(set(adata.obs.rna_plate))) + \n",
    "               list(sorted(set(adata.obs.rna_well.apply(lambda x: x[0 ])))) +                \n",
    "               list(sorted(set(adata.obs.rna_well.apply(lambda x: x[1:])))) + \n",
    "               list(sorted(set(adata.obs.bead_batch))) + \n",
    "               list({\"distToPlateCenter\"}) + \n",
    "               list(sorted(set(adata.obs.project_code))))\n",
    "    \n",
    "    if SVA:\n",
    "        columns = columns + list([f'leiden{i}' for i in sorted(set(adata.obs.leiden))])\n",
    "\n",
    "    print(f\"One-hot encoding size {len(columns)}\")\n",
    "    \n",
    "    elementPerRow = 7 if SVA else 6\n",
    "    row  = np.repeat(np.arange(adata.n_obs), elementPerRow)\n",
    "    col  = np.zeros(row.shape)\n",
    "    data = np.ones (row.shape)\n",
    "    \n",
    "    for obsIdx in range(adata.n_obs):\n",
    "        startIdx = obsIdx * elementPerRow\n",
    "        currVal  = adata.obs.iloc[obsIdx]\n",
    "        col [startIdx    ] = columns.index(currVal.rna_plate)\n",
    "        col [startIdx + 1] = columns.index(currVal.rna_well [0 ])\n",
    "        col [startIdx + 2] = columns.index(currVal.rna_well [1:])\n",
    "        col [startIdx + 3] = columns.index(currVal.bead_batch)\n",
    "        col [startIdx + 4] = len(columns) - 1\n",
    "        data[startIdx + 4] = distToCenter(currVal.rna_well)\n",
    "        col [startIdx + 5] = columns.index(currVal.project_code)\n",
    "        \n",
    "        if SVA:\n",
    "            col [startIdx + 6] = columns.index(f\"leiden{currVal.leiden}\")\n",
    "        \n",
    "    \n",
    "    feature = np.zeros((adata.n_obs, len(columns)))\n",
    "    feature[row.astype(int), col.astype(int)] = data\n",
    "    feature = pd.DataFrame(feature, columns=columns, index=adata.obs.index)    \n",
    "    \n",
    "    output = adata.copy()\n",
    "    output.obs = output.obs.join(feature)\n",
    "    \n",
    "    return output"
   ]
  },
  {
   "cell_type": "code",
   "execution_count": null,
   "id": "26822e34-e45e-4208-9050-f4ca00c6fa6c",
   "metadata": {
    "scrolled": true,
    "tags": []
   },
   "outputs": [],
   "source": [
    "def checkingRegressionOutcomes(adata, cellType):\n",
    "\n",
    "    print(\"=\" * 100 + \"\\n\", f\"Will Start Processing {cellType}...\\n\", \"=\" * 100 + \"\\n\")\n",
    "    \n",
    "    curr = adata[adata.obs.cell_iname == cellType].copy()\n",
    "    meanExpr    = np.mean(curr.X, axis=0)\n",
    "    pseudocount = np.min (curr.X[curr.X != 0]) / 2 \n",
    "    curr.X = np.log2(curr.X + pseudocount)\n",
    "    \n",
    "    print(f\"\\nBefore Regression {cellType}!\\n\")\n",
    "    visualizeControlCorrelationsWithinAndBetweenBatch(curr)  \n",
    "    visualizeWellPositionSpecificOccupancy(curr)\n",
    "    visualizeWellPositionSpecificExpression(curr)\n",
    "    curr = visualizeUMAPColoredByFeatureOfInterest(curr)\n",
    "\n",
    "    print(f\"\\nRegressing {cellType}!\\n\")\n",
    "    regressOutput = customOneHotEncoding(curr, SVA=False)\n",
    "    sc.pp.regress_out(regressOutput, \n",
    "                      keys=regressOutput.obs.columns[len(curr.obs.columns):].tolist(), \n",
    "                      n_jobs=10)\n",
    "    \n",
    "    print(f\"\\nAfter Round 1 of Regression {cellType}!\\n\")\n",
    "    visualizeControlCorrelationsWithinAndBetweenBatch(regressOutput)  \n",
    "    visualizeWellPositionSpecificExpression(regressOutput)    \n",
    "    regressOutput = visualizeUMAPColoredByFeatureOfInterest(regressOutput)\n",
    "\n",
    "    regressOutput.X = np.power(2, regressOutput.X) - pseudocount\n",
    "    regressOutput.X -= np.mean(regressOutput.X, axis=0)\n",
    "    regressOutput.X += meanExpr\n",
    "    \n",
    "    return regressOutput"
   ]
  },
  {
   "cell_type": "markdown",
   "id": "cc616e5a-c8b1-46b0-8d25-9caf3d67de9e",
   "metadata": {
    "jp-MarkdownHeadingCollapsed": true,
    "tags": []
   },
   "source": [
    "#### Cell Type Specific Before and After"
   ]
  },
  {
   "cell_type": "code",
   "execution_count": null,
   "id": "a3190c2d-011d-4238-8613-a93979669daf",
   "metadata": {
    "scrolled": true,
    "tags": []
   },
   "outputs": [],
   "source": [
    "expression_quantified.obs.cell_iname.value_counts()"
   ]
  },
  {
   "cell_type": "markdown",
   "id": "9e421d33-592a-4df7-b3d1-33cc5093af27",
   "metadata": {
    "jp-MarkdownHeadingCollapsed": true,
    "tags": []
   },
   "source": [
    "##### A549"
   ]
  },
  {
   "cell_type": "code",
   "execution_count": null,
   "id": "5c1a0788-000a-4721-9e4e-449aa2dbde0d",
   "metadata": {
    "scrolled": true,
    "tags": []
   },
   "outputs": [],
   "source": [
    "currStr = \"A549\"\n",
    "currAdata = expression_quantified[expression_quantified.obs.cell_iname == currStr].copy()\n",
    "currAdata = currAdata[:, currAdata.var.gene_symbol.apply(lambda x: x \n",
    "                                                         not in ['RNF167', 'STX1A', 'CLIC4', 'MAP7']\n",
    "                                                        )].copy()\n",
    "currAdata = checkingRegressionOutcomes(currAdata, currStr)"
   ]
  },
  {
   "cell_type": "code",
   "execution_count": null,
   "id": "7fa64a9b-d8b8-4754-84d9-9e6a1ea68c74",
   "metadata": {
    "scrolled": true,
    "tags": []
   },
   "outputs": [],
   "source": [
    "currAdata.obs['outlier'] = currAdata.obs.leiden.apply(lambda x: 1 if x in ['18', '22'] else 0)\n",
    "sc.pl.umap(currAdata, color = 'outlier', color_map=\"coolwarm\")\n",
    "sc.pl.pca_variance_ratio(currAdata, n_pcs=100)\n",
    "sc.pl.pca(currAdata, color='outlier', dimensions=[(0,1), (0,2), (0,3), (1,2), (1, 4), (3, 4)], ncols=3, color_map=\"coolwarm\")\n",
    "sc.pl.pca_loadings(currAdata, components='1,2,3,4,5')"
   ]
  },
  {
   "cell_type": "code",
   "execution_count": null,
   "id": "48b19ef2-4eea-4174-a6a5-0623c7e37f68",
   "metadata": {},
   "outputs": [],
   "source": [
    "print(f\"Number of {currStr} before: {currAdata.n_obs}\")\n",
    "currAdata = currAdata[currAdata.obs.leiden.apply(lambda x: x not in [\"18\", \"22\"])].copy()\n",
    "print(f\"Number of {currStr} after : {currAdata.n_obs}\")\n",
    "A549 = currAdata.copy()\n",
    "sc.pl.umap(A549, color=\"leiden\")"
   ]
  },
  {
   "cell_type": "markdown",
   "id": "5069e5e9-c8f5-4fa2-b9ac-4a01f736b4ef",
   "metadata": {
    "jp-MarkdownHeadingCollapsed": true,
    "tags": []
   },
   "source": [
    "##### PC3"
   ]
  },
  {
   "cell_type": "code",
   "execution_count": null,
   "id": "a63029d2-89a2-435f-9e30-e9545dc44b94",
   "metadata": {
    "scrolled": true,
    "tags": []
   },
   "outputs": [],
   "source": [
    "currStr = \"PC3\"\n",
    "currAdata = expression_quantified[expression_quantified.obs.cell_iname == currStr].copy()\n",
    "currAdata = checkingRegressionOutcomes(currAdata, currStr)"
   ]
  },
  {
   "cell_type": "code",
   "execution_count": null,
   "id": "c2a99828-fd6c-4e53-ba8e-af4bb84cf81b",
   "metadata": {
    "scrolled": true,
    "tags": []
   },
   "outputs": [],
   "source": [
    "currAdata.obs['outlier'] = currAdata.obs.leiden.apply(lambda x: 1 if x in ['11'] else 0)\n",
    "sc.pl.umap(currAdata, color = 'outlier', color_map=\"coolwarm\")\n",
    "sc.pl.pca_variance_ratio(currAdata, n_pcs=100)\n",
    "sc.pl.pca(currAdata, color='outlier', dimensions=[(0,1), (0,2), (0,3), (1,2), (1, 4), (3, 4)], ncols=3, color_map=\"coolwarm\")\n",
    "sc.pl.pca_loadings(currAdata, components='1,2,3,4,5')"
   ]
  },
  {
   "cell_type": "code",
   "execution_count": null,
   "id": "fa9c4125-520a-4a53-a654-c5c120ba197d",
   "metadata": {},
   "outputs": [],
   "source": [
    "print(f\"Number of {currStr} before: {currAdata.n_obs}\")\n",
    "currAdata = currAdata[currAdata.obs.leiden.apply(lambda x: x not in [\"11\"])].copy()\n",
    "print(f\"Number of {currStr} after : {currAdata.n_obs}\")\n",
    "PC3 = currAdata.copy()\n",
    "sc.pl.umap(PC3, color=\"leiden\")"
   ]
  },
  {
   "cell_type": "markdown",
   "id": "bb26801c-1cc5-4316-b286-8a1a9658fd76",
   "metadata": {
    "jp-MarkdownHeadingCollapsed": true,
    "tags": []
   },
   "source": [
    "##### A375"
   ]
  },
  {
   "cell_type": "code",
   "execution_count": null,
   "id": "215913cc-aaa9-4756-bf18-803fff7ce9ef",
   "metadata": {
    "scrolled": true,
    "tags": []
   },
   "outputs": [],
   "source": [
    "currStr = \"A375\"\n",
    "currAdata = expression_quantified[expression_quantified.obs.cell_iname == currStr].copy()\n",
    "currAdata = currAdata[:, currAdata.var.gene_symbol.apply(lambda x: x \n",
    "                                                         not in ['MAP7', 'CLIC4', 'STX1A', 'RNF167']\n",
    "                                                        )].copy()\n",
    "currAdata = checkingRegressionOutcomes(currAdata, currStr)"
   ]
  },
  {
   "cell_type": "code",
   "execution_count": null,
   "id": "48a1b4cb-ddc0-4803-b910-b4839868ade1",
   "metadata": {
    "scrolled": true,
    "tags": []
   },
   "outputs": [],
   "source": [
    "currAdata.obs['outlier'] = currAdata.obs.leiden.apply(lambda x: 1 if x in ['17'] else 0)\n",
    "sc.pl.umap(currAdata, color = 'outlier', color_map=\"coolwarm\")\n",
    "sc.pl.pca_variance_ratio(currAdata, n_pcs=100)\n",
    "sc.pl.pca(currAdata, color='outlier', dimensions=[(2,0), (2,1), (2,3), (2,4), (2,5), (2,6), (2,7), (2,8)], ncols=3, color_map=\"coolwarm\")\n",
    "sc.pl.pca_loadings(currAdata, components='1,2,3,4,5')"
   ]
  },
  {
   "cell_type": "code",
   "execution_count": null,
   "id": "a5c033b6-a7b2-4d21-a097-3c041bd6c454",
   "metadata": {},
   "outputs": [],
   "source": [
    "print(f\"Number of {currStr} before: {currAdata.n_obs}\")\n",
    "currAdata = currAdata[currAdata.obs.leiden.apply(lambda x: x not in [\"17\"])].copy()\n",
    "print(f\"Number of {currStr} after : {currAdata.n_obs}\")\n",
    "A375 = currAdata.copy()\n",
    "sc.pl.umap(A375, color=\"leiden\")"
   ]
  },
  {
   "cell_type": "markdown",
   "id": "e4579cc1-4c22-4a45-9871-dce8028cf98a",
   "metadata": {
    "jp-MarkdownHeadingCollapsed": true,
    "tags": []
   },
   "source": [
    "##### HEK293T"
   ]
  },
  {
   "cell_type": "code",
   "execution_count": null,
   "id": "501e4a34-42d6-476d-b92b-ee5514affdd1",
   "metadata": {
    "scrolled": true,
    "tags": []
   },
   "outputs": [],
   "source": [
    "currStr = \"HEK293T\"\n",
    "currAdata = expression_quantified[expression_quantified.obs.cell_iname == currStr].copy()\n",
    "currAdata = checkingRegressionOutcomes(currAdata, currStr)"
   ]
  },
  {
   "cell_type": "code",
   "execution_count": null,
   "id": "09b91818-750e-4bc9-8661-013ab4e12342",
   "metadata": {
    "tags": []
   },
   "outputs": [],
   "source": [
    "currAdata.obs['outlier'] = currAdata.obs.leiden.apply(lambda x: 1 if x in ['14'] else 0)\n",
    "sc.pl.umap(currAdata, color = 'outlier', color_map=\"coolwarm\")\n",
    "sc.pl.pca_variance_ratio(currAdata, n_pcs=100)\n",
    "sc.pl.pca(currAdata, color='outlier', dimensions=[(0,1), (0,2), (0,3), (0,4), (1,2), (1,3), (1,4), (2,3), (2,4), (3,4)], ncols=3, color_map=\"coolwarm\")\n",
    "sc.pl.pca_loadings(currAdata, components='1,2,3,4,5')"
   ]
  },
  {
   "cell_type": "code",
   "execution_count": null,
   "id": "a24535fb-715e-438b-a683-73a10a087c0a",
   "metadata": {},
   "outputs": [],
   "source": [
    "\"\"\" No Removal \"\"\"\n",
    "print(f\"Number of {currStr} after : {currAdata.n_obs}\")\n",
    "HEK293T = currAdata.copy()"
   ]
  },
  {
   "cell_type": "markdown",
   "id": "ad98812e-a79e-4ba3-aa8d-b70cb89a8a47",
   "metadata": {
    "jp-MarkdownHeadingCollapsed": true,
    "tags": []
   },
   "source": [
    "##### HA1E"
   ]
  },
  {
   "cell_type": "code",
   "execution_count": null,
   "id": "0f47cfa0-9c43-4899-a941-77ea5288dd1b",
   "metadata": {
    "scrolled": true,
    "tags": []
   },
   "outputs": [],
   "source": [
    "currStr = \"HA1E\"\n",
    "currAdata = expression_quantified[expression_quantified.obs.cell_iname == currStr].copy()\n",
    "currAdata = currAdata[:, currAdata.var.gene_symbol.apply(lambda x: x \n",
    "                                                         not in ['MAP7', 'CLIC4', 'STX1A', 'RNF167', \n",
    "                                                                 'CEBPA', 'SATB1', 'CXCL2', \n",
    "                                                                 'FAS', \n",
    "                                                                 'ZNF586', 'PSMD2', \n",
    "                                                                 'PAN2', 'PROS1', \n",
    "                                                                 'GNAS', 'LAMA3'\n",
    "                                                                ]\n",
    "                                                        )].copy()\n",
    "currAdata = checkingRegressionOutcomes(currAdata, currStr)"
   ]
  },
  {
   "cell_type": "code",
   "execution_count": null,
   "id": "0ba86ed0-5f2e-4d37-97a4-578fe036b94b",
   "metadata": {
    "scrolled": true,
    "tags": []
   },
   "outputs": [],
   "source": [
    "currAdata.obs['outlier'] = currAdata.obs.leiden.apply(lambda x: 1 if x in ['9', '10', '11', '12', '13', '14', '15', '16'] else 0)\n",
    "print(f\"Num of instances defined as outliers: {currAdata.obs['outlier'].sum()}\")\n",
    "sc.pl.umap(currAdata, color = 'outlier', color_map=\"coolwarm\")\n",
    "sc.pl.pca_variance_ratio(currAdata, n_pcs=100)\n",
    "sc.pl.pca(currAdata, color='outlier', dimensions=[(0,1), (0,2), (0,3), (0,4), (1,2), (1,3), (1,4), (2,3), (2,4), (3,4)], ncols=3, color_map=\"coolwarm\")\n",
    "sc.pl.pca_loadings(currAdata, components='1,2,3,4,5')"
   ]
  },
  {
   "cell_type": "code",
   "execution_count": null,
   "id": "fba8d9bc-504e-4d83-8c73-5041637b84c3",
   "metadata": {},
   "outputs": [],
   "source": [
    "print(f\"Number of {currStr} before: {currAdata.n_obs}\")\n",
    "currAdata = currAdata[currAdata.obs.leiden.apply(lambda x: x not in ['9', '10', '11', '12', '13', '14', '15', '16'])].copy()\n",
    "print(f\"Number of {currStr} after : {currAdata.n_obs}\")\n",
    "HA1E = currAdata.copy()\n",
    "sc.pl.umap(HA1E, color=\"leiden\")"
   ]
  },
  {
   "cell_type": "markdown",
   "id": "85727268-3839-41a6-92e5-e4da002018a5",
   "metadata": {
    "jp-MarkdownHeadingCollapsed": true,
    "tags": []
   },
   "source": [
    "##### MCF7"
   ]
  },
  {
   "cell_type": "code",
   "execution_count": null,
   "id": "7ab33a30-a87a-4ea7-aa36-edc7843943f0",
   "metadata": {
    "tags": []
   },
   "outputs": [],
   "source": [
    "currStr = \"MCF7\"\n",
    "currAdata = expression_quantified[expression_quantified.obs.cell_iname == currStr].copy()\n",
    "currAdata = currAdata[:, currAdata.var.gene_symbol.apply(lambda x: x \n",
    "                                                         not in ['MAP7', 'CLIC4', 'STX1A', 'RNF167', 'CXCL2', \n",
    "                                                                ]\n",
    "                                                        )].copy()\n",
    "currAdata = checkingRegressionOutcomes(currAdata, currStr)"
   ]
  },
  {
   "cell_type": "code",
   "execution_count": null,
   "id": "0a3d5128-3d06-49d2-928f-5e2206240688",
   "metadata": {
    "scrolled": true,
    "tags": []
   },
   "outputs": [],
   "source": [
    "currAdata.obs['outlier'] = currAdata.obs.leiden.apply(lambda x: 1 if x in [] else 0)\n",
    "print(f\"Num of instances defined as outliers: {currAdata.obs['outlier'].sum()}\")\n",
    "sc.pl.umap(currAdata, color = 'outlier', color_map=\"coolwarm\")\n",
    "sc.pl.pca_variance_ratio(currAdata, n_pcs=100)\n",
    "sc.pl.pca(currAdata, color='outlier', dimensions=[(0,1), (0,2), (0,3), (0,4), (1,2), (1,3), (1,4), (2,3), (2,4), (3,4)], ncols=3, color_map=\"coolwarm\")\n",
    "sc.pl.pca_loadings(currAdata, components='1,2,3,4,5')"
   ]
  },
  {
   "cell_type": "code",
   "execution_count": null,
   "id": "2c8bb05c-bb47-4d5b-8b4e-1405629792d4",
   "metadata": {
    "tags": []
   },
   "outputs": [],
   "source": [
    "print(f\"Number of {currStr} after : {currAdata.n_obs}\")\n",
    "MCF7 = currAdata.copy()\n",
    "sc.pl.umap(MCF7, color=\"leiden\")"
   ]
  },
  {
   "cell_type": "markdown",
   "id": "e9d2ab52-470f-47dc-b6b0-9e46de9fcc61",
   "metadata": {
    "jp-MarkdownHeadingCollapsed": true,
    "tags": []
   },
   "source": [
    "##### HT29"
   ]
  },
  {
   "cell_type": "code",
   "execution_count": null,
   "id": "5704671b-5868-48cf-8968-31507083d923",
   "metadata": {
    "scrolled": true,
    "tags": []
   },
   "outputs": [],
   "source": [
    "currStr = \"HT29\"\n",
    "currAdata = expression_quantified[expression_quantified.obs.cell_iname == currStr].copy()\n",
    "currAdata = currAdata[:, currAdata.var.gene_symbol.apply(lambda x: x \n",
    "                                                         not in ['MAP7', 'CLIC4', 'STX1A', 'RNF167',\n",
    "                                                                 'EPHA3', 'ALDOA', 'DNAJB1', 'CSRP1', 'BHLHE40', 'GAA'                                                                 \n",
    "                                                                ]\n",
    "                                                        )].copy()\n",
    "currAdata = checkingRegressionOutcomes(currAdata, currStr)"
   ]
  },
  {
   "cell_type": "code",
   "execution_count": null,
   "id": "791f0ae1-33b0-4350-b438-cc791b7026fa",
   "metadata": {
    "scrolled": true,
    "tags": []
   },
   "outputs": [],
   "source": [
    "currAdata.obs['outlier'] = currAdata.obs.leiden.apply(lambda x: 1 if x in [] else 0)\n",
    "print(f\"Num of instances defined as outliers: {currAdata.obs['outlier'].sum()}\")\n",
    "sc.pl.umap(currAdata, color = 'outlier', color_map=\"coolwarm\")\n",
    "sc.pl.pca_variance_ratio(currAdata, n_pcs=100)\n",
    "sc.pl.pca(currAdata, color='outlier', dimensions=[(0,1), (0,2), (0,3), (0,4), (1,2), (1,3), (1,4), (2,3), (2,4), (3,4)], ncols=3, color_map=\"coolwarm\")\n",
    "sc.pl.pca_loadings(currAdata, components='1,2,3,4,5')"
   ]
  },
  {
   "cell_type": "code",
   "execution_count": null,
   "id": "0052a64b-4bf8-4709-a9da-5502d18526b4",
   "metadata": {
    "tags": []
   },
   "outputs": [],
   "source": [
    "print(f\"Number of {currStr} after : {currAdata.n_obs}\")\n",
    "HT29 = currAdata.copy()\n",
    "sc.pl.umap(HT29, color=\"leiden\")"
   ]
  },
  {
   "cell_type": "markdown",
   "id": "81df3c61-68a6-4f81-9223-968a9c7e9293",
   "metadata": {
    "jp-MarkdownHeadingCollapsed": true,
    "tags": []
   },
   "source": [
    "##### VCAP"
   ]
  },
  {
   "cell_type": "code",
   "execution_count": null,
   "id": "b97ce010-5268-4f4e-92bf-64099011dd37",
   "metadata": {
    "tags": []
   },
   "outputs": [],
   "source": [
    "currStr = \"VCAP\"\n",
    "currAdata = expression_quantified[expression_quantified.obs.cell_iname == currStr].copy()\n",
    "currAdata = checkingRegressionOutcomes(currAdata, currStr)"
   ]
  },
  {
   "cell_type": "code",
   "execution_count": null,
   "id": "40964bc8-ee13-42d4-9423-14cb64bb49a9",
   "metadata": {
    "scrolled": true,
    "tags": []
   },
   "outputs": [],
   "source": [
    "currAdata.obs['outlier'] = currAdata.obs.leiden.apply(lambda x: 1 if x in [] else 0)\n",
    "print(f\"Num of instances defined as outliers: {currAdata.obs['outlier'].sum()}\")\n",
    "sc.pl.umap(currAdata, color = 'outlier', color_map=\"coolwarm\")\n",
    "sc.pl.pca_variance_ratio(currAdata, n_pcs=100)\n",
    "sc.pl.pca(currAdata, color='outlier', dimensions=[(0,1), (0,2), (0,3), (0,4), (1,2), (1,3), (1,4), (2,3), (2,4), (3,4)], ncols=3, color_map=\"coolwarm\")\n",
    "sc.pl.pca_loadings(currAdata, components='1,2,3,4,5')"
   ]
  },
  {
   "cell_type": "code",
   "execution_count": null,
   "id": "00afc812-202a-48e9-841d-8d9b7aec8a16",
   "metadata": {
    "tags": []
   },
   "outputs": [],
   "source": [
    "print(f\"Number of {currStr} after : {currAdata.n_obs}\")\n",
    "VCAP = currAdata.copy()\n",
    "sc.pl.umap(VCAP, color=\"leiden\")"
   ]
  },
  {
   "cell_type": "markdown",
   "id": "f2e1386e-43fa-4721-95f3-3c325e072dce",
   "metadata": {
    "jp-MarkdownHeadingCollapsed": true,
    "tags": []
   },
   "source": [
    "##### HCC515"
   ]
  },
  {
   "cell_type": "code",
   "execution_count": null,
   "id": "cc9526ca-0119-4183-90ba-0fa9a90c9b26",
   "metadata": {
    "tags": []
   },
   "outputs": [],
   "source": [
    "currStr = \"HCC515\"\n",
    "currAdata = expression_quantified[expression_quantified.obs.cell_iname == currStr].copy()\n",
    "currAdata = currAdata[:, currAdata.var.gene_symbol.apply(lambda x: x \n",
    "                                                         not in ['MAP7', 'CLIC4', 'STX1A', 'RNF167', 'CEBPA',\n",
    "                                                                 'SATB1', 'FOS', 'RAC2',\n",
    "                                                                 'CSRP1', 'DNAJB1', \n",
    "                                                                 'TLR4', 'CAST', \n",
    "                                                                 'GNAS', 'SYNGR3',\n",
    "                                                                 'IKZF1', 'TCFL5', 'MAMLD1', 'ZDHHC6'\n",
    "                                                                ]\n",
    "                                                        )].copy()\n",
    "currAdata = checkingRegressionOutcomes(currAdata, currStr)"
   ]
  },
  {
   "cell_type": "code",
   "execution_count": null,
   "id": "5088c1ad-a016-4225-a3f1-3e42e8693ca2",
   "metadata": {
    "tags": []
   },
   "outputs": [],
   "source": [
    "currAdata.obs['outlier'] = currAdata.obs.leiden.apply(lambda x: 1 if x in ['7'] else 0)\n",
    "print(f\"Num of instances defined as outliers: {currAdata.obs['outlier'].sum()}\")\n",
    "sc.pl.umap(currAdata, color = 'outlier', color_map=\"coolwarm\")\n",
    "sc.pl.pca_variance_ratio(currAdata, n_pcs=100)\n",
    "sc.pl.pca(currAdata, color='outlier', dimensions=[(0,1), (0,2), (0,3), (0,4), (1,2), (1,3), (1,4), (2,3), (2,4), (3,4)], ncols=3, color_map=\"coolwarm\")\n",
    "sc.pl.pca_loadings(currAdata, components='1,2,3,4,5')"
   ]
  },
  {
   "cell_type": "code",
   "execution_count": null,
   "id": "e45c97d8-161e-4ccd-9f75-541a48394760",
   "metadata": {
    "tags": []
   },
   "outputs": [],
   "source": [
    "print(f\"Number of {currStr} before: {currAdata.n_obs}\")\n",
    "currAdata = currAdata[currAdata.obs.leiden.apply(lambda x: x not in ['7'])].copy()\n",
    "print(f\"Number of {currStr} after : {currAdata.n_obs}\")\n",
    "HCC515 = currAdata.copy()\n",
    "sc.pl.umap(HCC515, color=\"leiden\")"
   ]
  },
  {
   "cell_type": "markdown",
   "id": "dc7d0c18-eaf4-4fa9-80b9-858b43e5ffe1",
   "metadata": {
    "jp-MarkdownHeadingCollapsed": true,
    "tags": []
   },
   "source": [
    "##### H1299"
   ]
  },
  {
   "cell_type": "code",
   "execution_count": null,
   "id": "5512d053-d022-4200-8b21-8c8c80beeaa0",
   "metadata": {
    "tags": []
   },
   "outputs": [],
   "source": [
    "currStr = \"H1299\"\n",
    "currAdata = expression_quantified[expression_quantified.obs.cell_iname == currStr].copy()\n",
    "currAdata = currAdata[:, currAdata.var.gene_symbol.apply(lambda x: x \n",
    "                                                         not in ['MMP1', 'SPP1',\n",
    "                                                                ]\n",
    "                                                        )].copy()\n",
    "currAdata = checkingRegressionOutcomes(currAdata, currStr)"
   ]
  },
  {
   "cell_type": "code",
   "execution_count": null,
   "id": "1e5d79fe-1a7d-4520-b0f2-25df6fbcda17",
   "metadata": {
    "tags": []
   },
   "outputs": [],
   "source": [
    "currAdata.obs['outlier'] = currAdata.obs.leiden.apply(lambda x: 1 if x in ['5'] else 0)\n",
    "print(f\"Num of instances defined as outliers: {currAdata.obs['outlier'].sum()}\")\n",
    "sc.pl.umap(currAdata, color = 'outlier', color_map=\"coolwarm\")\n",
    "sc.pl.pca_variance_ratio(currAdata, n_pcs=100)\n",
    "sc.pl.pca(currAdata, color='outlier', dimensions=[(0,1), (0,2), (0,3), (0,4), (1,2), (1,3), (1,4), (2,3), (2,4), (3,4)], ncols=3, color_map=\"coolwarm\")\n",
    "sc.pl.pca_loadings(currAdata, components='1,2,3,4,5')"
   ]
  },
  {
   "cell_type": "code",
   "execution_count": null,
   "id": "c960f0f8-33c9-4bdb-88aa-6fde9d95accc",
   "metadata": {
    "tags": []
   },
   "outputs": [],
   "source": [
    "print(f\"Number of {currStr} after : {currAdata.n_obs}\")\n",
    "H1299 = currAdata.copy()\n",
    "sc.pl.umap(H1299, color=\"leiden\")"
   ]
  },
  {
   "cell_type": "markdown",
   "id": "df49f730-22ed-4f83-b146-da67cd1351cd",
   "metadata": {
    "jp-MarkdownHeadingCollapsed": true,
    "tags": []
   },
   "source": [
    "##### AALE"
   ]
  },
  {
   "cell_type": "code",
   "execution_count": null,
   "id": "91c2c67c-84d4-4e08-982e-e8a11a46f136",
   "metadata": {
    "tags": []
   },
   "outputs": [],
   "source": [
    "currStr = \"AALE\"\n",
    "currAdata = expression_quantified[expression_quantified.obs.cell_iname == currStr].copy()\n",
    "currAdata = checkingRegressionOutcomes(currAdata, currStr)"
   ]
  },
  {
   "cell_type": "code",
   "execution_count": null,
   "id": "5f116dc8-f504-4bb8-82fd-8c27ff82251c",
   "metadata": {
    "tags": []
   },
   "outputs": [],
   "source": [
    "currAdata.obs['outlier'] = currAdata.obs.leiden.apply(lambda x: 1 if x in ['6', '8'] else 0)\n",
    "print(f\"Num of instances defined as outliers: {currAdata.obs['outlier'].sum()}\")\n",
    "sc.pl.umap(currAdata, color = 'outlier', color_map=\"coolwarm\")\n",
    "sc.pl.pca_variance_ratio(currAdata, n_pcs=100)\n",
    "sc.pl.pca(currAdata, color='outlier', dimensions=[(0,1), (0,2), (0,3), (0,4), (1,2), (1,3), (1,4), (2,3), (2,4), (3,4)], ncols=3, color_map=\"coolwarm\")\n",
    "sc.pl.pca_loadings(currAdata, components='1,2,3,4,5')"
   ]
  },
  {
   "cell_type": "code",
   "execution_count": null,
   "id": "1cd21eb0-38e7-4285-a0cc-873547645e00",
   "metadata": {
    "tags": []
   },
   "outputs": [],
   "source": [
    "print(f\"Number of {currStr} before: {currAdata.n_obs}\")\n",
    "currAdata = currAdata[currAdata.obs.leiden.apply(lambda x: x not in ['6', '8'])].copy()\n",
    "print(f\"Number of {currStr} after : {currAdata.n_obs}\")\n",
    "AALE = currAdata.copy()\n",
    "sc.pl.umap(AALE, color=\"leiden\")"
   ]
  },
  {
   "cell_type": "markdown",
   "id": "dda16ce2-907b-414e-a29b-a0736a979c0c",
   "metadata": {
    "jp-MarkdownHeadingCollapsed": true,
    "tags": []
   },
   "source": [
    "##### SALE"
   ]
  },
  {
   "cell_type": "code",
   "execution_count": null,
   "id": "3f6346cf-6ffc-424f-ae15-cb2cc3f9fd48",
   "metadata": {
    "tags": []
   },
   "outputs": [],
   "source": [
    "currStr = \"SALE\"\n",
    "currAdata = expression_quantified[expression_quantified.obs.cell_iname == currStr].copy()\n",
    "currAdata = checkingRegressionOutcomes(currAdata, currStr)"
   ]
  },
  {
   "cell_type": "code",
   "execution_count": null,
   "id": "2d337034-220b-4e3a-8093-2d59ea34c874",
   "metadata": {
    "tags": []
   },
   "outputs": [],
   "source": [
    "currAdata.obs['outlier'] = currAdata.obs.leiden.apply(lambda x: 1 if x in ['6'] else 0)\n",
    "print(f\"Num of instances defined as outliers: {currAdata.obs['outlier'].sum()}\")\n",
    "sc.pl.umap(currAdata, color = 'outlier', color_map=\"coolwarm\")\n",
    "sc.pl.pca_variance_ratio(currAdata, n_pcs=100)\n",
    "sc.pl.pca(currAdata, color='outlier', dimensions=[(0,1), (0,2), (0,3), (0,4), (1,2), (1,3), (1,4), (2,3), (2,4), (3,4)], ncols=3, color_map=\"coolwarm\")\n",
    "sc.pl.pca_loadings(currAdata, components='1,2,3,4,5')"
   ]
  },
  {
   "cell_type": "code",
   "execution_count": null,
   "id": "cd07c205-3beb-4fbf-8584-c8532b2bda0b",
   "metadata": {
    "tags": []
   },
   "outputs": [],
   "source": [
    "print(f\"Number of {currStr} after : {currAdata.n_obs}\")\n",
    "SALE = currAdata.copy()\n",
    "sc.pl.umap(SALE, color=\"leiden\")"
   ]
  },
  {
   "cell_type": "markdown",
   "id": "38a519f1-366f-41c9-866e-96b67f37bafb",
   "metadata": {
    "jp-MarkdownHeadingCollapsed": true,
    "tags": []
   },
   "source": [
    "##### HEPG2"
   ]
  },
  {
   "cell_type": "code",
   "execution_count": null,
   "id": "313782eb-47ab-41c2-855f-0a2f62eee78b",
   "metadata": {
    "scrolled": true,
    "tags": []
   },
   "outputs": [],
   "source": [
    "currStr = \"HEPG2\"\n",
    "currAdata = expression_quantified[expression_quantified.obs.cell_iname == currStr].copy()\n",
    "currAdata = currAdata[:, currAdata.var.gene_symbol.apply(lambda x: x \n",
    "                                                         not in ['MAP7', 'CLIC4', 'STX1A', 'RNF167', \n",
    "                                                                 'SATB1', 'CXCL2',\n",
    "                                                                 'RAC2', 'CBR3', 'RPL39L',\n",
    "                                                                 'HK1', 'PAK6', 'GNAS', \n",
    "                                                                 'GHR', 'HLA-DMA',\n",
    "                                                                 'CAST', 'PSMD2', 'ZNF586', 'BHLHE40'\n",
    "                                                                ]\n",
    "                                                        )].copy()\n",
    "currAdata = checkingRegressionOutcomes(currAdata, currStr)"
   ]
  },
  {
   "cell_type": "code",
   "execution_count": null,
   "id": "de10777e-91de-4cde-9ce2-a877109ce436",
   "metadata": {
    "scrolled": true,
    "tags": []
   },
   "outputs": [],
   "source": [
    "currAdata.obs['outlier'] = currAdata.obs.leiden.apply(lambda x: 1 if x in ['3', '4', '5'] else 0)\n",
    "print(f\"Num of instances defined as outliers: {currAdata.obs['outlier'].sum()}\")\n",
    "sc.pl.umap(currAdata, color = 'outlier', color_map=\"coolwarm\")\n",
    "sc.pl.pca_variance_ratio(currAdata, n_pcs=100)\n",
    "sc.pl.pca(currAdata, color='outlier', dimensions=[(0,1), (0,2), (0,3), (0,4), (1,2), (1,3), (1,4), (2,3), (2,4), (3,4)], ncols=3, color_map=\"coolwarm\")\n",
    "sc.pl.pca_loadings(currAdata, components='1,2,3,4,5')"
   ]
  },
  {
   "cell_type": "code",
   "execution_count": null,
   "id": "dc61702e-6a8a-4a98-a9f8-cd68593ba5e8",
   "metadata": {
    "tags": []
   },
   "outputs": [],
   "source": [
    "print(f\"Number of {currStr} before: {currAdata.n_obs}\")\n",
    "currAdata = currAdata[currAdata.obs.leiden.apply(lambda x: x not in ['3', '4', '5'])].copy()\n",
    "print(f\"Number of {currStr} after : {currAdata.n_obs}\")\n",
    "HEPG2 = currAdata.copy()\n",
    "sc.pl.umap(HEPG2, color=\"leiden\")"
   ]
  },
  {
   "cell_type": "markdown",
   "id": "5ee1adc4-3b47-4a71-bd40-4abcc776a5b6",
   "metadata": {
    "jp-MarkdownHeadingCollapsed": true,
    "tags": []
   },
   "source": [
    "##### U2OS"
   ]
  },
  {
   "cell_type": "code",
   "execution_count": null,
   "id": "627696c9-093c-45d2-94d9-8cd1d6f3da07",
   "metadata": {
    "tags": []
   },
   "outputs": [],
   "source": [
    "currStr = \"U2OS\"\n",
    "currAdata = expression_quantified[expression_quantified.obs.cell_iname == currStr].copy()\n",
    "currAdata = checkingRegressionOutcomes(currAdata, currStr)"
   ]
  },
  {
   "cell_type": "code",
   "execution_count": null,
   "id": "1b697a28-0007-4566-ab35-12331493ed9c",
   "metadata": {
    "scrolled": true,
    "tags": []
   },
   "outputs": [],
   "source": [
    "currAdata.obs['outlier'] = currAdata.obs.leiden.apply(lambda x: 1 if x in [] else 0)\n",
    "print(f\"Num of instances defined as outliers: {currAdata.obs['outlier'].sum()}\")\n",
    "sc.pl.umap(currAdata, color = 'outlier', color_map=\"coolwarm\")\n",
    "sc.pl.pca_variance_ratio(currAdata, n_pcs=100)\n",
    "sc.pl.pca(currAdata, color='outlier', dimensions=[(0,1), (0,2), (0,3), (0,4), (1,2), (1,3), (1,4), (2,3), (2,4), (3,4)], ncols=3, color_map=\"coolwarm\")\n",
    "sc.pl.pca_loadings(currAdata, components='1,2,3,4,5')"
   ]
  },
  {
   "cell_type": "code",
   "execution_count": null,
   "id": "6d4a1b1b-08e9-47e4-9f9a-e005ca823a18",
   "metadata": {
    "tags": []
   },
   "outputs": [],
   "source": [
    "\"\"\" No Removal \"\"\"\n",
    "print(f\"Number of {currStr} after : {currAdata.n_obs}\")\n",
    "U2OS = currAdata.copy()\n",
    "sc.pl.umap(U2OS, color=\"leiden\")"
   ]
  },
  {
   "cell_type": "markdown",
   "id": "eddcd9e2-2718-47c0-898e-85bb2727236c",
   "metadata": {
    "jp-MarkdownHeadingCollapsed": true,
    "tags": []
   },
   "source": [
    "##### HUH7"
   ]
  },
  {
   "cell_type": "code",
   "execution_count": null,
   "id": "28685bac-979f-45ce-8639-0b09f8aa93ae",
   "metadata": {
    "scrolled": true,
    "tags": []
   },
   "outputs": [],
   "source": [
    "currStr = \"HUH7\"\n",
    "currAdata = expression_quantified[expression_quantified.obs.cell_iname == currStr].copy()\n",
    "currAdata = checkingRegressionOutcomes(currAdata, currStr)"
   ]
  },
  {
   "cell_type": "code",
   "execution_count": null,
   "id": "c6bcee43-bb25-4459-8b73-a889bbafebb0",
   "metadata": {
    "tags": []
   },
   "outputs": [],
   "source": [
    "currAdata.obs['outlier'] = currAdata.obs.leiden.apply(lambda x: 1 if x in [] else 0)\n",
    "print(f\"Num of instances defined as outliers: {currAdata.obs['outlier'].sum()}\")\n",
    "sc.pl.umap(currAdata, color = 'outlier', color_map=\"coolwarm\")\n",
    "sc.pl.pca_variance_ratio(currAdata, n_pcs=100)\n",
    "sc.pl.pca(currAdata, color='outlier', dimensions=[(0,1), (0,2), (0,3), (0,4), (1,2), (1,3), (1,4), (2,3), (2,4), (3,4)], ncols=3, color_map=\"coolwarm\")\n",
    "sc.pl.pca_loadings(currAdata, components='1,2,3,4,5')"
   ]
  },
  {
   "cell_type": "code",
   "execution_count": null,
   "id": "b531207d-ca76-4409-994d-8751e072dda1",
   "metadata": {
    "tags": []
   },
   "outputs": [],
   "source": [
    "print(f\"Number of {currStr} after : {currAdata.n_obs}\")\n",
    "HUH7 = currAdata.copy()\n",
    "sc.pl.umap(HUH7, color=\"leiden\")"
   ]
  },
  {
   "cell_type": "markdown",
   "id": "49c3f11d-1848-4f98-9303-1cba033c3cbf",
   "metadata": {
    "jp-MarkdownHeadingCollapsed": true,
    "tags": []
   },
   "source": [
    "##### RWPE1"
   ]
  },
  {
   "cell_type": "code",
   "execution_count": null,
   "id": "9f4ae39a-5f00-461a-885e-4c94a43bbcad",
   "metadata": {
    "tags": []
   },
   "outputs": [],
   "source": [
    "currStr = \"RWPE1\"\n",
    "currAdata = expression_quantified[expression_quantified.obs.cell_iname == currStr].copy()\n",
    "currAdata = checkingRegressionOutcomes(currAdata, currStr)"
   ]
  },
  {
   "cell_type": "code",
   "execution_count": null,
   "id": "7a48cf12-d06e-49bf-9b70-e3ec61f6cbbf",
   "metadata": {
    "tags": []
   },
   "outputs": [],
   "source": [
    "currAdata.obs['outlier'] = currAdata.obs.leiden.apply(lambda x: 1 if x in [] else 0)\n",
    "print(f\"Num of instances defined as outliers: {currAdata.obs['outlier'].sum()}\")\n",
    "sc.pl.umap(currAdata, color = 'outlier', color_map=\"coolwarm\")\n",
    "sc.pl.pca_variance_ratio(currAdata, n_pcs=100)\n",
    "sc.pl.pca(currAdata, color='outlier', dimensions=[(0,1), (0,2), (0,3), (0,4), (1,2), (1,3), (1,4), (2,3), (2,4), (3,4)], ncols=3, color_map=\"coolwarm\")\n",
    "sc.pl.pca_loadings(currAdata, components='1,2,3,4,5')"
   ]
  },
  {
   "cell_type": "code",
   "execution_count": null,
   "id": "05f6b9ff-38e2-46ea-ad69-a9503dd53b58",
   "metadata": {
    "tags": []
   },
   "outputs": [],
   "source": [
    "print(f\"Number of {currStr} after : {currAdata.n_obs}\")\n",
    "RWPE1 = currAdata.copy()\n",
    "sc.pl.umap(RWPE1, color=\"leiden\")"
   ]
  },
  {
   "cell_type": "markdown",
   "id": "3fc94a8d-d1de-443d-9721-b14b1693abf6",
   "metadata": {
    "jp-MarkdownHeadingCollapsed": true,
    "tags": []
   },
   "source": [
    "##### LHSAR"
   ]
  },
  {
   "cell_type": "code",
   "execution_count": null,
   "id": "6b653908-212c-4254-b91d-931a02cf0b88",
   "metadata": {
    "tags": []
   },
   "outputs": [],
   "source": [
    "currStr = \"LHSAR\"\n",
    "currAdata = expression_quantified[expression_quantified.obs.cell_iname == currStr].copy()\n",
    "currAdata = currAdata[:, currAdata.var.gene_symbol.apply(lambda x: x \n",
    "                                                         not in ['GNAS'\n",
    "                                                                ]\n",
    "                                                        )].copy()\n",
    "currAdata = checkingRegressionOutcomes(currAdata, currStr)"
   ]
  },
  {
   "cell_type": "code",
   "execution_count": null,
   "id": "5e028538-16d8-4707-b54c-bcd7c4530709",
   "metadata": {
    "tags": []
   },
   "outputs": [],
   "source": [
    "currAdata.obs['outlier'] = currAdata.obs.leiden.apply(lambda x: 1 if x in [] else 0)\n",
    "print(f\"Num of instances defined as outliers: {currAdata.obs['outlier'].sum()}\")\n",
    "sc.pl.umap(currAdata, color = 'outlier', color_map=\"coolwarm\")\n",
    "sc.pl.pca_variance_ratio(currAdata, n_pcs=100)\n",
    "sc.pl.pca(currAdata, color='outlier', dimensions=[(0,1), (0,2), (0,3), (0,4), (1,2), (1,3), (1,4), (2,3), (2,4), (3,4)], ncols=3, color_map=\"coolwarm\")\n",
    "sc.pl.pca_loadings(currAdata, components='1,2,3,4,5')"
   ]
  },
  {
   "cell_type": "code",
   "execution_count": null,
   "id": "35cb0e1e-bee4-44b0-8cb6-4b4d13ff9134",
   "metadata": {
    "tags": []
   },
   "outputs": [],
   "source": [
    "print(f\"Number of {currStr} after : {currAdata.n_obs}\")\n",
    "LHSAR = currAdata.copy()\n",
    "sc.pl.umap(LHSAR, color=\"leiden\")"
   ]
  },
  {
   "cell_type": "markdown",
   "id": "70401b0a-7537-4604-8d19-d61dafb90741",
   "metadata": {
    "jp-MarkdownHeadingCollapsed": true,
    "tags": []
   },
   "source": [
    "##### LNCAP"
   ]
  },
  {
   "cell_type": "code",
   "execution_count": null,
   "id": "5dff27b1-c2de-4f7a-83e0-366cba9b7342",
   "metadata": {
    "tags": []
   },
   "outputs": [],
   "source": [
    "currStr = \"LNCAP\"\n",
    "currAdata = expression_quantified[expression_quantified.obs.cell_iname == currStr].copy()\n",
    "currAdata = currAdata[:, currAdata.var.gene_symbol.apply(lambda x: x \n",
    "                                                         not in ['GNAS'\n",
    "                                                                ]\n",
    "                                                        )].copy()\n",
    "currAdata = checkingRegressionOutcomes(currAdata, currStr)"
   ]
  },
  {
   "cell_type": "code",
   "execution_count": null,
   "id": "dda16c01-6ae2-433a-b349-836242de92fb",
   "metadata": {
    "tags": []
   },
   "outputs": [],
   "source": [
    "currAdata.obs['outlier'] = currAdata.obs.leiden.apply(lambda x: 1 if x in [] else 0)\n",
    "print(f\"Num of instances defined as outliers: {currAdata.obs['outlier'].sum()}\")\n",
    "sc.pl.umap(currAdata, color = 'outlier', color_map=\"coolwarm\")\n",
    "sc.pl.pca_variance_ratio(currAdata, n_pcs=100)\n",
    "sc.pl.pca(currAdata, color='outlier', dimensions=[(0,1), (0,2), (0,3), (0,4), (1,2), (1,3), (1,4), (2,3), (2,4), (3,4)], ncols=3, color_map=\"coolwarm\")\n",
    "sc.pl.pca_loadings(currAdata, components='1,2,3,4,5')"
   ]
  },
  {
   "cell_type": "code",
   "execution_count": null,
   "id": "22d7267f-e07c-4f75-a0de-b6820b2b895d",
   "metadata": {
    "tags": []
   },
   "outputs": [],
   "source": [
    "print(f\"Number of {currStr} after : {currAdata.n_obs}\")\n",
    "LNCAP = currAdata.copy()\n",
    "sc.pl.umap(LNCAP, color=\"leiden\")"
   ]
  },
  {
   "cell_type": "markdown",
   "id": "33bdc888-9e70-4dbe-b16b-47a4eab7a7d7",
   "metadata": {
    "jp-MarkdownHeadingCollapsed": true,
    "tags": []
   },
   "source": [
    "#### Concatenate All AnnData"
   ]
  },
  {
   "cell_type": "code",
   "execution_count": null,
   "id": "7e16d2a5-7bea-40b3-9892-4b293605cb27",
   "metadata": {},
   "outputs": [],
   "source": [
    "allAnndata = [A549, PC3, A375, HEK293T, HA1E, MCF7, HT29, VCAP, HCC515, H1299, AALE, SALE, HEPG2, U2OS, HUH7, RWPE1, LHSAR, LNCAP]\n",
    "geneNames  = [set(adata.var_names.tolist()) for adata in allAnndata]\n",
    "geneIntersect = set.intersection(*geneNames)\n",
    "print(f\"{len(geneIntersect)} genes remaining..\")"
   ]
  },
  {
   "cell_type": "code",
   "execution_count": null,
   "id": "fc063e49-1147-4df8-8b30-bbc3305c0c8f",
   "metadata": {},
   "outputs": [],
   "source": [
    "newAnndata = sc.AnnData(\n",
    "    X=np.vstack(\n",
    "        [\n",
    "            adata[:, adata.var.gene_symbol.apply(lambda x: x in geneIntersect)].X \n",
    "            for adata \n",
    "            in allAnndata\n",
    "        ]\n",
    "    ).copy(),\n",
    "    \n",
    "    var=allAnndata[0].var.loc[geneIntersect].copy(),\n",
    "    \n",
    "    obs=pd.concat(\n",
    "        [\n",
    "            adata.obs.iloc[:, :expression_quantified.obs.shape[1]] \n",
    "            for adata \n",
    "            in allAnndata\n",
    "        ]\n",
    "    ).copy()\n",
    ")\n",
    "print(newAnndata)"
   ]
  },
  {
   "cell_type": "code",
   "execution_count": null,
   "id": "577193ce-f386-4dd8-a269-f3ca5b6adb4d",
   "metadata": {
    "tags": []
   },
   "outputs": [],
   "source": [
    "newAnndata.obs[\"consistentW/Perturbation\"] = np.full(newAnndata.n_obs, \"NA\", dtype=object)\n",
    "newAnndata.obs[\"logFC\"] = np.full(newAnndata.n_obs, -999)\n",
    "\n",
    "for cellType in set(newAnndata.obs.cell_iname):\n",
    "    currCellTypeIdx = (newAnndata.obs.cell_iname == cellType)\n",
    "    print(f\"========== {cellType} Begin ==========\")\n",
    "    try:\n",
    "        status, logFC = ingestion.checkConsistency(newAnndata[currCellTypeIdx].copy(),\n",
    "                                                   perturbationType=\"overexpression\", \n",
    "                                                   group=\"rna_plate\", \n",
    "                                                   verbose=False)\n",
    "        newAnndata.obs[\"consistentW/Perturbation\"][currCellTypeIdx] = status\n",
    "        newAnndata.obs[\"logFC\"                   ][currCellTypeIdx] = logFC\n",
    "        display(Counter(status))\n",
    "    except:\n",
    "        print(f\"Skip {cellType}\")\n",
    "    finally:\n",
    "        print(f\"========== {cellType} End ==========\\n\\n\")"
   ]
  },
  {
   "cell_type": "code",
   "execution_count": null,
   "id": "867dae21-a3f2-4c6c-97e7-15b10ec4e962",
   "metadata": {
    "tags": []
   },
   "outputs": [],
   "source": [
    "newAnndata.obs[\"spearmanCorr\"] = np.full(newAnndata.n_obs, -999)\n",
    "newAnndata.obs[ \"pearsonCorr\"] = np.full(newAnndata.n_obs, -999)\n",
    "\n",
    "for cellType in sorted(set(newAnndata.obs.cell_iname)):\n",
    "    currCellTypeIdx = (newAnndata.obs.cell_iname == cellType)\n",
    "    print(f\"========== {cellType} Begin ==========\")\n",
    "    print(f\"Total {len(set(newAnndata[currCellTypeIdx].obs.perturbation))} perturbagens...\")\n",
    "    try:\n",
    "        correlations = ingestion.computeCorrelation(newAnndata[currCellTypeIdx], \n",
    "                                                    verbose=True, group=\"rna_plate\")\n",
    "        newAnndata.obs[\"spearmanCorr\"][currCellTypeIdx] = correlations[0]\n",
    "        newAnndata.obs[ \"pearsonCorr\"][currCellTypeIdx] = correlations[1]\n",
    "    except:\n",
    "        print(f\"Skip {cellType}\")\n",
    "        plt.show()\n",
    "    finally:\n",
    "        print(f\"========== {cellType} End ==========\\n\\n\")"
   ]
  },
  {
   "cell_type": "markdown",
   "id": "c5e93685-0b9d-4c91-84da-31191fc33ee2",
   "metadata": {
    "tags": []
   },
   "source": [
    "### Output Data"
   ]
  },
  {
   "cell_type": "code",
   "execution_count": null,
   "id": "80309965-16d1-406f-bb93-e9c7f0ba623a",
   "metadata": {},
   "outputs": [],
   "source": [
    "expression_quantified = newAnndata.copy()"
   ]
  },
  {
   "cell_type": "code",
   "execution_count": null,
   "id": "2acc77ac-43bb-4b30-be16-97ae5805beac",
   "metadata": {},
   "outputs": [],
   "source": [
    "# This is just to estimate the mean and dispersion, but we'll use all 978 landmark genes.\n",
    "sc.pp.log1p(expression_quantified)\n",
    "sc.pp.highly_variable_genes(expression_quantified, min_mean=0.2, max_mean=4, min_disp=0.2, n_bins=50)\n",
    "expression_quantified.var[\"highly_variable\"] = expression_quantified.var[\"feature_space\"]==\"landmark\"\n",
    "\n",
    "with warnings.catch_warnings():\n",
    "    sc.tl.pca(expression_quantified, n_comps=100)\n",
    "sc.pp.neighbors(expression_quantified)\n",
    "sc.tl.umap(expression_quantified)\n",
    "sc.tl.leiden(expression_quantified, resolution=1)"
   ]
  },
  {
   "cell_type": "code",
   "execution_count": null,
   "id": "48a1fc39-7d1b-4fbe-a443-8e06672fae90",
   "metadata": {
    "tags": []
   },
   "outputs": [],
   "source": [
    "sc.pl.umap(expression_quantified, \n",
    "           color=[\"cell_iname\", \"GAPDH\", \n",
    "                  \"bead_batch\", \"is_control_int\",\n",
    "                  \"det_row\",  \"det_col\", \n",
    "                  \"leiden\"], \n",
    "           ncols=2, \n",
    "           legend_fontsize=\"xx-small\", \n",
    "           color_map=\"coolwarm\", \n",
    "           size=4, wspace=0.3)"
   ]
  },
  {
   "cell_type": "code",
   "execution_count": null,
   "id": "a7724269-f43e-4519-ae24-96abc96e5de9",
   "metadata": {},
   "outputs": [],
   "source": [
    "# Will ask CO to use only one cluster.\n",
    "# Requires setting certain other undocumented aspects of object state. :(\n",
    "expression_quantified.obs[\"fake_cluster\"]=\"all_one_cluster\"\n",
    "expression_quantified.obs.fake_cluster = expression_quantified.obs.fake_cluster.astype(\"category\")\n",
    "expression_quantified.uns[\"fake_cluster_colors\"] = ['#1f77b4']"
   ]
  },
  {
   "cell_type": "code",
   "execution_count": null,
   "id": "c5e4f945-fc7f-453b-8a06-b04e28192f75",
   "metadata": {
    "tags": []
   },
   "outputs": [],
   "source": [
    "perturbed_genes = set(list(expression_quantified.obs['perturbation'].unique())).difference(controls)\n",
    "perturbed_and_measured_genes = perturbed_genes.intersection(expression_quantified.var.index)\n",
    "perturbed_but_not_measured_genes = perturbed_genes.difference(expression_quantified.var.index)\n",
    "genes_keep = expression_quantified.var.index[expression_quantified.var['highly_variable']]\n",
    "genes_keep = set(genes_keep).union(perturbed_and_measured_genes)\n",
    "expression_quantified_orig = expression_quantified.copy()\n",
    "print(\"These genes were perturbed and measured:\")\n",
    "print(len(perturbed_and_measured_genes))\n",
    "print(\"These genes were perturbed but not measured:\")\n",
    "print(len(sorted(list(perturbed_but_not_measured_genes))))\n",
    "print(\"Actually, nevermind. Keeping only the 978 landmark genes (some are filtered out)\")"
   ]
  },
  {
   "cell_type": "code",
   "execution_count": null,
   "id": "07c546d8-1a41-44d5-b5b2-cc06319663ff",
   "metadata": {},
   "outputs": [],
   "source": [
    "# final form, ready to save\n",
    "expression_quantified.uns[\"perturbed_and_measured_genes\"]     = list(perturbed_and_measured_genes)\n",
    "expression_quantified.uns[\"perturbed_but_not_measured_genes\"] = list(perturbed_but_not_measured_genes)\n",
    "expression_quantified = ingestion.describe_perturbation_effect(expression_quantified, \"overexpression\")"
   ]
  },
  {
   "cell_type": "code",
   "execution_count": null,
   "id": "5ac26068-b4cf-488d-bcf8-1caeb2dba6ed",
   "metadata": {},
   "outputs": [],
   "source": [
    "expression_quantified"
   ]
  },
  {
   "cell_type": "code",
   "execution_count": null,
   "id": "e07dd150-2d10-4e2e-af1e-462759f25ce0",
   "metadata": {},
   "outputs": [],
   "source": [
    "expression_quantified.obs.logFC = expression_quantified.obs.logFC.astype(np.float64)\n",
    "expression_quantified.obs.spearmanCorr = expression_quantified.obs.spearmanCorr.astype(np.float64)\n",
    "expression_quantified.obs.pearsonCorr  = expression_quantified.obs.pearsonCorr .astype(np.float64)\n",
    "expression_quantified.raw = expression_quantified_orig"
   ]
  },
  {
   "cell_type": "code",
   "execution_count": null,
   "id": "5e502ac6-b977-4ce9-8e60-467b62228e7d",
   "metadata": {},
   "outputs": [],
   "source": [
    "os.makedirs(\"perturbations/cmap\", exist_ok = True)\n",
    "expression_quantified.write_h5ad(\"perturbations/cmap/test.h5ad\")"
   ]
  },
  {
   "cell_type": "code",
   "execution_count": null,
   "id": "095984a5-ee26-4313-841b-30e977cfc908",
   "metadata": {},
   "outputs": [],
   "source": []
  }
 ],
 "metadata": {
  "kernelspec": {
   "display_name": "perturb",
   "language": "python",
   "name": "perturb"
  },
  "language_info": {
   "codemirror_mode": {
    "name": "ipython",
    "version": 3
   },
   "file_extension": ".py",
   "mimetype": "text/x-python",
   "name": "python",
   "nbconvert_exporter": "python",
   "pygments_lexer": "ipython3",
   "version": "3.9.13"
  },
  "vscode": {
   "interpreter": {
    "hash": "7658a1e878c2df46706cc47028d7885e1865315efe8f971cf3b351dc4de1c60e"
   }
  }
 },
 "nbformat": 4,
 "nbformat_minor": 5
}
