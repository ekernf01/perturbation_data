{
 "cells": [
  {
   "cell_type": "markdown",
   "id": "a377c2a0",
   "metadata": {},
   "source": [
    "### RPE differentiation time-course\n",
    "\n",
    "This notebook is for exploratory analysis and reformatting of the Joung et al. [TF overexpression atlas](https://www.cell.com/cell/fulltext/S0092-8674(22)01470-2)."
   ]
  },
  {
   "cell_type": "code",
   "execution_count": 1,
   "id": "5207ee00",
   "metadata": {},
   "outputs": [],
   "source": [
    "import warnings\n",
    "warnings.filterwarnings('ignore')\n",
    "import regex as re\n",
    "import os\n",
    "import shutil\n",
    "import importlib\n",
    "import matplotlib.colors as colors\n",
    "import matplotlib.pyplot as plt\n",
    "import numpy as np\n",
    "import pandas as pd\n",
    "import scanpy as sc\n",
    "import seaborn as sns\n",
    "from scipy.stats import spearmanr as spearmanr\n",
    "from IPython.display import display, HTML\n",
    "from collections import Counter\n",
    "\n",
    "# local\n",
    "import importlib\n",
    "import sys\n",
    "sys.path.append(\"setup\")\n",
    "import ingestion\n",
    "import global_effects\n",
    "importlib.reload(ingestion)\n",
    "importlib.reload(global_effects)\n",
    "\n",
    "import anndata\n",
    "import os, sys\n",
    "import itertools as it\n",
    "from scipy.stats import spearmanr, pearsonr, rankdata, f_oneway\n",
    "from statsmodels.stats.multitest import multipletests\n",
    "from sklearn.metrics import mutual_info_score\n",
    "import matplotlib.pyplot as plt\n",
    "import seaborn as sns\n",
    "from collections import Counter\n",
    "\n",
    "#      visualization settings\n",
    "%matplotlib inline\n",
    "plt.rcParams['figure.figsize'] = [6, 4.5]\n",
    "plt.rcParams[\"savefig.dpi\"] = 300\n",
    "\n",
    "# I prefer to specify the working directory explicitly.\n",
    "os.chdir(\"/home/ekernf01/Desktop/jhu/research/projects/perturbation_prediction/cell_type_knowledge_transfer/perturbation_data\")\n",
    "\n",
    "# Universal\n",
    "geneAnnotationPath = \"../accessory_data/gencode.v35.annotation.gtf.gz\"       # Downloaded from https://www.gencodegenes.org/human/release_35.html\n",
    "humanTFPath =  \"../accessory_data/humanTFs.csv\"                              # Downloaded from http://humantfs.ccbr.utoronto.ca/download.php\n",
    "humanEpiPath = \"../accessory_data/epiList.csv\"                               # Downloaded from https://epifactors.autosome.org/description \n",
    "cellcycleGenePath = \"../accessory_data/regev_lab_cell_cycle_genes.txt\"\n",
    "\n",
    "# petrusreurer Specific\n",
    "dataset_name = \"joung\"\n",
    "perturbEffectTFOnlyPath = \"perturbations/TFOnly.csv\"                         # a path to store temp file\n",
    "perturbEffectFullTranscriptomePath = \"perturbations/FullTranscriptome.csv\"   # a path to store temp file"
   ]
  },
  {
   "cell_type": "markdown",
   "id": "275b88c7",
   "metadata": {
    "jp-MarkdownHeadingCollapsed": true,
    "tags": []
   },
   "source": [
    "### Load expression data & set up cell metadata"
   ]
  },
  {
   "cell_type": "code",
   "execution_count": 25,
   "id": "07d803df",
   "metadata": {},
   "outputs": [],
   "source": [
    "import gzip\n",
    "import csv\n",
    "from scipy.sparse import csr_matrix\n",
    "\n",
    "def read_gzipped_csv_to_sparse_matrix(gzipped_csv_filepath, chunksize=1000):\n",
    "    genes = []\n",
    "    counts = []\n",
    "    with gzip.open(gzipped_csv_filepath, mode='rt', newline='') as gzipped_file:\n",
    "        csv_reader = csv.reader(gzipped_file, delimiter=\"\\t\")\n",
    "        barcodes = next(csv_reader, None)[1:]\n",
    "        while True:\n",
    "            print(\".\", end = \"\", flush = True)\n",
    "            chunk = [next(csv_reader, None) for _ in range(chunksize)]\n",
    "            chunk = [row for row in chunk if row is not None]  # Filter out None values at the end of the file\n",
    "            if not chunk:\n",
    "                break  # Exit loop if there are no more rows to read\n",
    "            genes.append([row[0] for row in chunk])\n",
    "            counts.append(csr_matrix(np.array(\n",
    "                [[int(i) for i in row[1:]] for row in chunk]\n",
    "            )))\n",
    "    return np.concatenate(counts), barcodes, genes\n"
   ]
  },
  {
   "cell_type": "code",
   "execution_count": 26,
   "id": "c7d18031",
   "metadata": {},
   "outputs": [
    {
     "name": "stdout",
     "output_type": "stream",
     "text": [
      ".."
     ]
    },
    {
     "ename": "ValueError",
     "evalue": "zero-dimensional arrays cannot be concatenated",
     "output_type": "error",
     "traceback": [
      "\u001b[0;31m---------------------------------------------------------------------------\u001b[0m",
      "\u001b[0;31mValueError\u001b[0m                                Traceback (most recent call last)",
      "Cell \u001b[0;32mIn[26], line 1\u001b[0m\n\u001b[0;32m----> 1\u001b[0m expression_quantified \u001b[38;5;241m=\u001b[39m \u001b[43mread_gzipped_csv_to_sparse_matrix\u001b[49m\u001b[43m(\u001b[49m\u001b[38;5;124;43m\"\u001b[39;49m\u001b[38;5;124;43m/home/ekernf01/Desktop/jhu/research/projects/perturbation_prediction/cell_type_knowledge_transfer/perturbation_data/not_ready/joung/example.csv.gz\u001b[39;49m\u001b[38;5;124;43m\"\u001b[39;49m\u001b[43m)\u001b[49m\n\u001b[1;32m      2\u001b[0m \u001b[38;5;28mprint\u001b[39m(expression_quantified[\u001b[38;5;241m0\u001b[39m]\u001b[38;5;241m.\u001b[39mshape)\n\u001b[1;32m      3\u001b[0m \u001b[38;5;66;03m# expression_quantified = read_gzipped_csv_to_sparse_matrix(\"/home/ekernf01/Desktop/jhu/research/projects/perturbation_prediction/cell_type_knowledge_transfer/perturbation_data/not_ready/joung/GSM6719950_210322_TFAtlas_S05.csv.gz\")\u001b[39;00m\n",
      "Cell \u001b[0;32mIn[25], line 22\u001b[0m, in \u001b[0;36mread_gzipped_csv_to_sparse_matrix\u001b[0;34m(gzipped_csv_filepath, chunksize)\u001b[0m\n\u001b[1;32m     18\u001b[0m         genes\u001b[38;5;241m.\u001b[39mappend([row[\u001b[38;5;241m0\u001b[39m] \u001b[38;5;28;01mfor\u001b[39;00m row \u001b[38;5;129;01min\u001b[39;00m chunk])\n\u001b[1;32m     19\u001b[0m         counts\u001b[38;5;241m.\u001b[39mappend(csr_matrix(np\u001b[38;5;241m.\u001b[39marray(\n\u001b[1;32m     20\u001b[0m             [[\u001b[38;5;28mint\u001b[39m(i) \u001b[38;5;28;01mfor\u001b[39;00m i \u001b[38;5;129;01min\u001b[39;00m row[\u001b[38;5;241m1\u001b[39m:]] \u001b[38;5;28;01mfor\u001b[39;00m row \u001b[38;5;129;01min\u001b[39;00m chunk]\n\u001b[1;32m     21\u001b[0m         )))\n\u001b[0;32m---> 22\u001b[0m \u001b[38;5;28;01mreturn\u001b[39;00m \u001b[43mnp\u001b[49m\u001b[38;5;241;43m.\u001b[39;49m\u001b[43mconcatenate\u001b[49m\u001b[43m(\u001b[49m\u001b[43mcounts\u001b[49m\u001b[43m)\u001b[49m, barcodes, genes\n",
      "File \u001b[0;32m<__array_function__ internals>:180\u001b[0m, in \u001b[0;36mconcatenate\u001b[0;34m(*args, **kwargs)\u001b[0m\n",
      "\u001b[0;31mValueError\u001b[0m: zero-dimensional arrays cannot be concatenated"
     ]
    }
   ],
   "source": [
    "expression_quantified = read_gzipped_csv_to_sparse_matrix(\"/home/ekernf01/Desktop/jhu/research/projects/perturbation_prediction/cell_type_knowledge_transfer/perturbation_data/not_ready/joung/example.csv.gz\")\n",
    "print(expression_quantified[0].shape)\n",
    "# expression_quantified = read_gzipped_csv_to_sparse_matrix(\"/home/ekernf01/Desktop/jhu/research/projects/perturbation_prediction/cell_type_knowledge_transfer/perturbation_data/not_ready/joung/GSM6719950_210322_TFAtlas_S05.csv.gz\")\n",
    "expression_quantified[0][0, 0:5]"
   ]
  },
  {
   "cell_type": "markdown",
   "id": "e58d93b8",
   "metadata": {},
   "source": [
    "### Cell cycle annotation\n",
    "\n",
    "Following the Figure 1 and S1 notebook from [here](https://github.com/lamanno-epfl/rpe_differentiation_profiling_code/blob/main/JupyterNotebooks/HTML/Figure1_S1.html). \n"
   ]
  },
  {
   "cell_type": "code",
   "execution_count": null,
   "id": "954fb0f9",
   "metadata": {},
   "outputs": [],
   "source": [
    "S_genes_hum = [\"MCM5\", \"PCNA\", \"TYMS\", \"FEN1\", \"MCM2\", \"MCM4\", \"RRM1\", \"UNG\", \"GINS2\", \n",
    "            \"MCM6\", \"CDCA7\", \"DTL\", \"PRIM1\", \"UHRF1\", \"CENPU\", \"HELLS\", \"RFC2\", \n",
    "            \"RPA2\", \"NASP\", \"RAD51AP1\", \"GMNN\", \"WDR76\", \"SLBP\", \"CCNE2\", \"UBR7\", \n",
    "            \"POLD3\", \"MSH2\", \"ATAD2\", \"RAD51\", \"RRM2\", \"CDC45\", \"CDC6\", \"EXO1\", \"TIPIN\", \n",
    "            \"DSCC1\", \"BLM\", \"CASP8AP2\", \"USP1\", \"CLSPN\", \"POLA1\", \"CHAF1B\", \"BRIP1\", \"E2F8\"]\n",
    "G2M_genes_hum = [\"HMGB2\", \"CDK1\", \"NUSAP1\", \"UBE2C\", \"BIRC5\", \"TPX2\", \"TOP2A\", \"NDC80\",\n",
    "             \"CKS2\", \"NUF2\", \"CKS1B\", \"MKI67\", \"TMPO\", \"CENPF\", \"TACC3\", \"PIMREG\", \n",
    "             \"SMC4\", \"CCNB2\", \"CKAP2L\", \"CKAP2\", \"AURKB\", \"BUB1\", \"KIF11\", \"ANP32E\", \n",
    "             \"TUBB4B\", \"GTSE1\", \"KIF20B\", \"HJURP\", \"CDCA3\", \"JPT1\", \"CDC20\", \"TTK\",\n",
    "             \"CDC25C\", \"KIF2C\", \"RANGAP1\", \"NCAPD2\", \"DLGAP5\", \"CDCA2\", \"CDCA8\", \"ECT2\", \n",
    "             \"KIF23\", \"HMMR\", \"AURKA\", \"PSRC1\", \"ANLN\", \"LBR\", \"CKAP5\", \"CENPE\", \n",
    "             \"CTCF\", \"NEK2\", \"G2E3\", \"GAS2L3\", \"CBX5\", \"CENPA\"]\n",
    "sc.tl.score_genes_cell_cycle(expression_quantified, s_genes=S_genes_hum, g2m_genes=G2M_genes_hum)"
   ]
  },
  {
   "cell_type": "markdown",
   "id": "d2a6cc7c",
   "metadata": {
    "jp-MarkdownHeadingCollapsed": true,
    "tags": []
   },
   "source": [
    "### Fill `perturbation` & `is_control`"
   ]
  },
  {
   "cell_type": "code",
   "execution_count": null,
   "id": "65d44c29",
   "metadata": {
    "tags": []
   },
   "outputs": [],
   "source": [
    "expression_quantified.obs[\"is_control\"]     = True\n",
    "expression_quantified.obs[\"is_control_int\"] = 1\n",
    "expression_quantified.obs[\"perturbation\"] = \"control\"\n",
    "expression_quantified.obs"
   ]
  },
  {
   "cell_type": "markdown",
   "id": "c2d8d347",
   "metadata": {
    "jp-MarkdownHeadingCollapsed": true,
    "tags": []
   },
   "source": [
    "### Basic EDA"
   ]
  },
  {
   "cell_type": "code",
   "execution_count": null,
   "id": "97c2e7b3",
   "metadata": {
    "scrolled": true,
    "tags": []
   },
   "outputs": [],
   "source": [
    "expression_quantified.raw = expression_quantified.copy()\n",
    "sc.pp.normalize_total(expression_quantified)\n",
    "sc.pp.log1p(expression_quantified)\n",
    "sc.pp.filter_genes(expression_quantified, min_cells=20)\n",
    "expression_quantified.var\n",
    "sc.pp.highly_variable_genes(expression_quantified, n_bins=50, n_top_genes = expression_quantified.var.shape[0], flavor = \"seurat_v3\" )\n",
    "sc.pp.regress_out(expression_quantified, [\"CELL_LINE\"])\n",
    "with warnings.catch_warnings():\n",
    "    sc.tl.pca(expression_quantified, n_comps=100)\n",
    "sc.pp.neighbors(expression_quantified)\n",
    "sc.tl.umap(expression_quantified)\n",
    "clusterResolutions = []\n",
    "sc.tl.louvain(expression_quantified)"
   ]
  },
  {
   "cell_type": "code",
   "execution_count": null,
   "id": "5216afa0",
   "metadata": {
    "scrolled": true,
    "tags": []
   },
   "outputs": [],
   "source": [
    "plt.rcParams['figure.figsize'] = [6, 4.5]\n",
    "sc.pl.umap(expression_quantified, color = [\n",
    "    \"CELLTYPE1\", \"CELLTYPE2\", \"DAY\", \"CELL_LINE\", \"batch\"\n",
    "])\n",
    "sc.pl.pca(expression_quantified, color = [\n",
    "    \"CELLTYPE1\", \"CELLTYPE2\", \"DAY\", \"CELL_LINE\", \"batch\"\n",
    "])"
   ]
  },
  {
   "cell_type": "code",
   "execution_count": null,
   "id": "619d4c01",
   "metadata": {},
   "outputs": [],
   "source": [
    "expression_quantified.uns[\"perturbed_and_measured_genes\"]     = []\n",
    "expression_quantified.uns[\"perturbed_but_not_measured_genes\"] = []"
   ]
  },
  {
   "cell_type": "code",
   "execution_count": null,
   "id": "ba9c754c",
   "metadata": {
    "scrolled": true
   },
   "outputs": [],
   "source": [
    "os.makedirs(f\"perturbations/{dataset_name}\", exist_ok = True)\n",
    "expression_quantified.write_h5ad(f\"perturbations/{dataset_name}/train.h5ad\")"
   ]
  }
 ],
 "metadata": {
  "kernelspec": {
   "display_name": "Python 3.9.13 ('cell_type_grn_transfer')",
   "language": "python",
   "name": "python3"
  },
  "language_info": {
   "codemirror_mode": {
    "name": "ipython",
    "version": 3
   },
   "file_extension": ".py",
   "mimetype": "text/x-python",
   "name": "python",
   "nbconvert_exporter": "python",
   "pygments_lexer": "ipython3",
   "version": "3.9.15"
  },
  "vscode": {
   "interpreter": {
    "hash": "7658a1e878c2df46706cc47028d7885e1865315efe8f971cf3b351dc4de1c60e"
   }
  }
 },
 "nbformat": 4,
 "nbformat_minor": 5
}
