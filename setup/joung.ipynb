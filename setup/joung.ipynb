{
 "cells": [
  {
   "cell_type": "markdown",
   "id": "a377c2a0",
   "metadata": {},
   "source": [
    "### RPE differentiation time-course\n",
    "\n",
    "This notebook is for exploratory analysis and reformatting of the Joung et al. [TF overexpression atlas](https://www.cell.com/cell/fulltext/S0092-8674(22)01470-2)."
   ]
  },
  {
   "cell_type": "code",
   "execution_count": null,
   "id": "5207ee00",
   "metadata": {},
   "outputs": [],
   "source": [
    "import warnings\n",
    "warnings.filterwarnings('ignore')\n",
    "import regex as re\n",
    "import os\n",
    "import shutil\n",
    "import importlib\n",
    "import matplotlib.colors as colors\n",
    "import matplotlib.pyplot as plt\n",
    "import numpy as np\n",
    "import pandas as pd\n",
    "import scanpy as sc\n",
    "import seaborn as sns\n",
    "from scipy.stats import spearmanr as spearmanr\n",
    "from IPython.display import display, HTML\n",
    "from collections import Counter\n",
    "\n",
    "# local\n",
    "import importlib\n",
    "import sys\n",
    "sys.path.append(\"setup\")\n",
    "import ingestion\n",
    "import global_effects\n",
    "importlib.reload(ingestion)\n",
    "importlib.reload(global_effects)\n",
    "\n",
    "import anndata\n",
    "import os, sys\n",
    "import itertools as it\n",
    "from scipy.stats import spearmanr, pearsonr, rankdata, f_oneway\n",
    "from statsmodels.stats.multitest import multipletests\n",
    "from sklearn.metrics import mutual_info_score\n",
    "import matplotlib.pyplot as plt\n",
    "import seaborn as sns\n",
    "from collections import Counter\n",
    "\n",
    "#      visualization settings\n",
    "%matplotlib inline\n",
    "plt.rcParams['figure.figsize'] = [6, 4.5]\n",
    "plt.rcParams[\"savefig.dpi\"] = 300\n",
    "\n",
    "# I prefer to specify the working directory explicitly.\n",
    "os.chdir(\"/home/ekernf01/Desktop/jhu/research/projects/perturbation_prediction/cell_type_knowledge_transfer/perturbation_data\")\n",
    "\n",
    "# Universal\n",
    "geneAnnotationPath = \"../accessory_data/gencode.v35.annotation.gtf.gz\"       # Downloaded from https://www.gencodegenes.org/human/release_35.html\n",
    "humanTFPath =  \"../accessory_data/humanTFs.csv\"                              # Downloaded from http://humantfs.ccbr.utoronto.ca/download.php\n",
    "humanEpiPath = \"../accessory_data/epiList.csv\"                               # Downloaded from https://epifactors.autosome.org/description \n",
    "cellcycleGenePath = \"../accessory_data/regev_lab_cell_cycle_genes.txt\"\n",
    "\n",
    "# petrusreurer Specific\n",
    "dataset_name = \"joung\"\n",
    "perturbEffectTFOnlyPath = \"perturbations/TFOnly.csv\"                         # a path to store temp file\n",
    "perturbEffectFullTranscriptomePath = \"perturbations/FullTranscriptome.csv\"   # a path to store temp file"
   ]
  },
  {
   "cell_type": "markdown",
   "id": "275b88c7",
   "metadata": {
    "jp-MarkdownHeadingCollapsed": true,
    "tags": []
   },
   "source": [
    "### Load expression data & set up cell metadata"
   ]
  },
  {
   "cell_type": "code",
   "execution_count": null,
   "id": "07d803df",
   "metadata": {},
   "outputs": [],
   "source": [
    "# This is output from the script joung_reduce.py.\n",
    "# Expression is totaled across all cells sharing a perturbation and a cell cycle phase assignment.\n",
    "expression_quantified = sc.read_h5ad(\"not_ready/joung/GSE217460_210322_TFAtlas_aggregated.h5ad\")\n",
    "expression_quantified.X = np.round(expression_quantified.X, decimals=0)"
   ]
  },
  {
   "cell_type": "markdown",
   "id": "d2a6cc7c",
   "metadata": {
    "jp-MarkdownHeadingCollapsed": true,
    "tags": []
   },
   "source": [
    "### Fill `perturbation` & `is_control`"
   ]
  },
  {
   "cell_type": "code",
   "execution_count": null,
   "id": "65d44c29",
   "metadata": {
    "tags": []
   },
   "outputs": [],
   "source": [
    "sc.pp.calculate_qc_metrics(expression_quantified)\n",
    "expression_quantified.obs[\"total_umi\"] = expression_quantified.X.sum(1)\n",
    "expression_quantified.obs[\"log10_total_umi\"] = np.log10(expression_quantified.obs[\"total_umi\"])\n",
    "expression_quantified.obs[\"log10_cellcount\"] = np.log10(expression_quantified.obs[\"count\"])\n",
    "expression_quantified.obs.index = range(len(expression_quantified.obs_names))\n",
    "expression_quantified.obs"
   ]
  },
  {
   "cell_type": "code",
   "execution_count": null,
   "id": "52fe0570",
   "metadata": {},
   "outputs": [],
   "source": [
    "expression_quantified.X[1:10,1:10].toarray()"
   ]
  },
  {
   "cell_type": "code",
   "execution_count": null,
   "id": "fcc5b8a3",
   "metadata": {},
   "outputs": [],
   "source": [
    "expression_quantified.X[1:10, 1:10].toarray()"
   ]
  },
  {
   "cell_type": "markdown",
   "id": "c2d8d347",
   "metadata": {
    "jp-MarkdownHeadingCollapsed": true,
    "tags": []
   },
   "source": [
    "### Normalization and filtering"
   ]
  },
  {
   "cell_type": "code",
   "execution_count": null,
   "id": "97c2e7b3",
   "metadata": {
    "scrolled": true,
    "tags": []
   },
   "outputs": [],
   "source": [
    "expression_quantified.raw = expression_quantified.copy()\n",
    "sc.pp.filter_genes(expression_quantified, min_cells=20)\n",
    "sc.pp.filter_cells(expression_quantified, min_counts=10000)\n",
    "expression_quantified.X = ingestion.deseq2Normalization(expression_quantified.X.toarray().T).T\n",
    "sc.pp.log1p(expression_quantified)"
   ]
  },
  {
   "cell_type": "code",
   "execution_count": null,
   "id": "f6315168",
   "metadata": {},
   "outputs": [],
   "source": [
    "sc.pp.highly_variable_genes(expression_quantified, n_bins=50, n_top_genes = expression_quantified.var.shape[0], flavor = \"seurat_v3\" )"
   ]
  },
  {
   "cell_type": "markdown",
   "id": "e221ce84",
   "metadata": {},
   "source": [
    "### Perturbation effects\n",
    "\n",
    "Check if OE'd genes go up; check how much changes in general; filter; save the results. "
   ]
  },
  {
   "cell_type": "code",
   "execution_count": null,
   "id": "6366010c",
   "metadata": {},
   "outputs": [],
   "source": [
    "controls = [\"mCherry\", \"GFP\"]\n",
    "expression_quantified.obs[\"perturbation\"]   = [orf.split(\"-\")[1] for orf in expression_quantified.obs[\"TF\"]]\n",
    "expression_quantified.obs[\"is_control\"]     = [gene in controls for gene in expression_quantified.obs[\"perturbation\"]]\n",
    "expression_quantified.obs[\"is_control_int\"] = [1 if is_control else 0 for is_control in expression_quantified.obs[\"is_control\"]]\n",
    "perturbed_genes = set.union(*[set(p.split(\",\")) for p in expression_quantified.obs[\"perturbation\"]]).difference(set(controls))\n",
    "perturbed_and_measured_genes     = perturbed_genes.intersection(expression_quantified.var_names)\n",
    "perturbed_but_not_measured_genes = perturbed_genes.difference(expression_quantified.var_names)\n",
    "print(\"These genes were perturbed and measured:\")\n",
    "print(perturbed_and_measured_genes)\n",
    "print(\"These genes were perturbed but not measured:\")\n",
    "print(perturbed_but_not_measured_genes)\n",
    "expression_quantified.uns[\"perturbed_and_measured_genes\"]     = list(perturbed_and_measured_genes)\n",
    "expression_quantified.uns[\"perturbed_but_not_measured_genes\"] = list(perturbed_but_not_measured_genes)\n",
    "expression_quantified.uns[\"perturbations_overlap\"] = False\n",
    "expression_quantified = ingestion.describe_perturbation_effect( adata = expression_quantified, \n",
    "                                                                       perturbation_type=\"overexpression\", \n",
    "                                                                       multiple_genes_hit = False)\n",
    "status, logFC = ingestion.checkConsistency(adata = expression_quantified, \n",
    "                                           perturbationType=\"overexpression\", \n",
    "                                           verbose=False)\n",
    "print(Counter(status))\n",
    "expression_quantified.obs[\"consistentW/Perturbation\"] = status\n",
    "expression_quantified.obs[\"logFC\"] = logFC"
   ]
  },
  {
   "cell_type": "markdown",
   "id": "a4d1398b",
   "metadata": {},
   "source": [
    "### Total effects genome-wide\n",
    "\n"
   ]
  },
  {
   "cell_type": "code",
   "execution_count": null,
   "id": "c7fb792e",
   "metadata": {},
   "outputs": [],
   "source": [
    "global_effects.quantifyEffect(adata=expression_quantified, \n",
    "                         fname=perturbEffectTFOnlyPath, \n",
    "                         group=None, \n",
    "                         diffExprFC=False, \n",
    "                        #  prefix=\"TFOnly\", \n",
    "                         withDEG=False, \n",
    "                         withMI=False)\n",
    "ingestion.visualizePerturbationMetadata(\n",
    "    expression_quantified, \n",
    "    x=\"logFCNorm2\", \n",
    "    y=\"logFC\", \n",
    "    style=\"consistentW/Perturbation\", \n",
    "    hue=\"log10_cellcount\", \n",
    "    markers=['o', '^'],  \n",
    "    s=25, \n",
    "    xlim=[55, 130],\n",
    ")"
   ]
  },
  {
   "cell_type": "markdown",
   "id": "9873d9f3",
   "metadata": {},
   "source": [
    "### Filter and save"
   ]
  },
  {
   "cell_type": "code",
   "execution_count": null,
   "id": "ba9c754c",
   "metadata": {
    "scrolled": true
   },
   "outputs": [],
   "source": [
    "expression_quantified = expression_quantified[expression_quantified.obs[\"consistentW/Perturbation\"] != \"No\"]\n",
    "os.makedirs(f\"perturbations/{dataset_name}\", exist_ok = True)\n",
    "expression_quantified.write_h5ad(f\"perturbations/{dataset_name}/test.h5ad\")"
   ]
  },
  {
   "cell_type": "markdown",
   "id": "67c107f0",
   "metadata": {},
   "source": [
    "### Basic EDA\n",
    "\n",
    "Having aggregated within each perturbation makes factor analysis hard: there are huge depth effects and downsampling to uniform UMI count does not help. `:[` Our initial EDA was useless, so it is omitted. "
   ]
  }
 ],
 "metadata": {
  "kernelspec": {
   "display_name": "Python 3.9.13 ('cell_type_grn_transfer')",
   "language": "python",
   "name": "python3"
  },
  "language_info": {
   "codemirror_mode": {
    "name": "ipython",
    "version": 3
   },
   "file_extension": ".py",
   "mimetype": "text/x-python",
   "name": "python",
   "nbconvert_exporter": "python",
   "pygments_lexer": "ipython3",
   "version": "3.9.15"
  },
  "vscode": {
   "interpreter": {
    "hash": "7658a1e878c2df46706cc47028d7885e1865315efe8f971cf3b351dc4de1c60e"
   }
  }
 },
 "nbformat": 4,
 "nbformat_minor": 5
}
