{
 "cells": [
  {
   "cell_type": "markdown",
   "id": "a377c2a0",
   "metadata": {},
   "source": [
    "### FANTOM4 THP-1 data\n",
    "\n",
    "**DESCRIPTION IN PROGRESS**\n",
    "\n",
    "This notebook prepares a dataset with 24 individual knockout experiments applied to CD4 T cells ([Freimer et al 2020](https://www.nature.com/articles/s41588-022-01106-y)). Each knockout was profiled with both ATAC and RNA-seq measurements, but we use only RNA. The data have UMI's. Controls are 8 guide RNA's targeting the \"safe-harbor\" AAVS1 locus, and are labeled `AAVS1_1`, `AAVS1_8`, etc. The experiment was done separately on blood from 3 different donors.\n",
    "\n",
    "Here we tidy the dataset and carry out a simple exploration in scanpy. (It's not single cell data but scanpy is still useful for data exploration.)"
   ]
  },
  {
   "cell_type": "code",
   "execution_count": 1,
   "id": "5207ee00",
   "metadata": {
    "scrolled": false
   },
   "outputs": [],
   "source": [
    "import warnings\n",
    "warnings.filterwarnings('ignore')\n",
    "import regex as re\n",
    "import os\n",
    "import shutil\n",
    "import importlib\n",
    "import matplotlib.colors as colors\n",
    "import matplotlib.pyplot as plt\n",
    "import numpy as np\n",
    "import pandas as pd\n",
    "import scanpy as sc\n",
    "import seaborn as sns\n",
    "import celloracle as co\n",
    "from scipy.stats import spearmanr as spearmanr\n",
    "from IPython.display import display, HTML\n",
    "# local\n",
    "import importlib\n",
    "import sys\n",
    "sys.path.append(\"setup\")\n",
    "import ingestion\n",
    "importlib.reload(ingestion)\n",
    "\n",
    "#      visualization settings\n",
    "%config InlineBackend.figure_format = 'retina'\n",
    "%matplotlib inline\n",
    "plt.rcParams['figure.figsize'] = [6, 4.5]\n",
    "plt.rcParams[\"savefig.dpi\"] = 300\n",
    "\n",
    "# Specify the working directory explicitly.\n",
    "os.chdir(\"/home/ekernf01/Desktop/jhu/research/projects/perturbation_prediction/cell_type_knowledge_transfer/perturbations/\")"
   ]
  },
  {
   "cell_type": "markdown",
   "id": "c081e213",
   "metadata": {},
   "source": [
    "### Reshape the data"
   ]
  },
  {
   "cell_type": "code",
   "execution_count": 5,
   "id": "a99c0000",
   "metadata": {},
   "outputs": [
    {
     "data": {
      "text/html": [
       "<div>\n",
       "<style scoped>\n",
       "    .dataframe tbody tr th:only-of-type {\n",
       "        vertical-align: middle;\n",
       "    }\n",
       "\n",
       "    .dataframe tbody tr th {\n",
       "        vertical-align: top;\n",
       "    }\n",
       "\n",
       "    .dataframe thead th {\n",
       "        text-align: right;\n",
       "    }\n",
       "</style>\n",
       "<table border=\"1\" class=\"dataframe\">\n",
       "  <thead>\n",
       "    <tr style=\"text-align: right;\">\n",
       "      <th></th>\n",
       "      <th>TargetID</th>\n",
       "      <th>Signal-BCL6-2</th>\n",
       "      <th>Detection-BCL6-2</th>\n",
       "    </tr>\n",
       "    <tr>\n",
       "      <th>ProbeID</th>\n",
       "      <th></th>\n",
       "      <th></th>\n",
       "      <th></th>\n",
       "    </tr>\n",
       "  </thead>\n",
       "  <tbody>\n",
       "    <tr>\n",
       "      <th>6960451</th>\n",
       "      <td>ILMN_10000</td>\n",
       "      <td>101.9</td>\n",
       "      <td>0.98981</td>\n",
       "    </tr>\n",
       "    <tr>\n",
       "      <th>2850504</th>\n",
       "      <td>ILMN_100000</td>\n",
       "      <td>61.1</td>\n",
       "      <td>0.35298</td>\n",
       "    </tr>\n",
       "    <tr>\n",
       "      <th>7560397</th>\n",
       "      <td>ILMN_100007</td>\n",
       "      <td>58.5</td>\n",
       "      <td>0.20888</td>\n",
       "    </tr>\n",
       "    <tr>\n",
       "      <th>5360747</th>\n",
       "      <td>ILMN_100009</td>\n",
       "      <td>59.5</td>\n",
       "      <td>0.26274</td>\n",
       "    </tr>\n",
       "    <tr>\n",
       "      <th>2600731</th>\n",
       "      <td>ILMN_10001</td>\n",
       "      <td>645.4</td>\n",
       "      <td>1.00000</td>\n",
       "    </tr>\n",
       "    <tr>\n",
       "      <th>...</th>\n",
       "      <td>...</td>\n",
       "      <td>...</td>\n",
       "      <td>...</td>\n",
       "    </tr>\n",
       "    <tr>\n",
       "      <th>1780441</th>\n",
       "      <td>ILMN_99987</td>\n",
       "      <td>63.4</td>\n",
       "      <td>0.45560</td>\n",
       "    </tr>\n",
       "    <tr>\n",
       "      <th>5490379</th>\n",
       "      <td>ILMN_9999</td>\n",
       "      <td>126.9</td>\n",
       "      <td>0.99563</td>\n",
       "    </tr>\n",
       "    <tr>\n",
       "      <th>1990209</th>\n",
       "      <td>ILMN_99990</td>\n",
       "      <td>66.4</td>\n",
       "      <td>0.61135</td>\n",
       "    </tr>\n",
       "    <tr>\n",
       "      <th>1090736</th>\n",
       "      <td>ILMN_99995</td>\n",
       "      <td>70.8</td>\n",
       "      <td>0.78020</td>\n",
       "    </tr>\n",
       "    <tr>\n",
       "      <th>940189</th>\n",
       "      <td>ILMN_99996</td>\n",
       "      <td>67.3</td>\n",
       "      <td>0.64265</td>\n",
       "    </tr>\n",
       "  </tbody>\n",
       "</table>\n",
       "<p>48687 rows × 3 columns</p>\n",
       "</div>"
      ],
      "text/plain": [
       "            TargetID  Signal-BCL6-2  Detection-BCL6-2\n",
       "ProbeID                                              \n",
       "6960451   ILMN_10000          101.9           0.98981\n",
       "2850504  ILMN_100000           61.1           0.35298\n",
       "7560397  ILMN_100007           58.5           0.20888\n",
       "5360747  ILMN_100009           59.5           0.26274\n",
       "2600731   ILMN_10001          645.4           1.00000\n",
       "...              ...            ...               ...\n",
       "1780441   ILMN_99987           63.4           0.45560\n",
       "5490379    ILMN_9999          126.9           0.99563\n",
       "1990209   ILMN_99990           66.4           0.61135\n",
       "1090736   ILMN_99995           70.8           0.78020\n",
       "940189    ILMN_99996           67.3           0.64265\n",
       "\n",
       "[48687 rows x 3 columns]"
      ]
     },
     "execution_count": 5,
     "metadata": {},
     "output_type": "execute_result"
    }
   ],
   "source": [
    "expression_quantified = pd.read_csv(\"not_ready/fantom4/E-GEAD-547.raw/BCL6_s2_lot2.txt\", \n",
    "                              delimiter=\"\\t\",\n",
    "                              index_col=0, \n",
    "                              header=0, \n",
    "                              comment = '!')  \n",
    "                              \n",
    "expression_quantified \n",
    "# gene_metadata   = expression_quantified.iloc[:,0:5]\n",
    "# expression_quantified = expression_quantified.iloc[:, 5:].T\n",
    "# sample_metadata = pd.DataFrame(columns = [\"donor\", \"perturbation\"], \n",
    "#                                index = expression_quantified.index,\n",
    "#                                data = [g.split(\"_\", maxsplit=2)[1:3] for g in expression_quantified.index])\n",
    "# print(\"\\n\\ngene_metadata\\n\")\n",
    "# display(gene_metadata.head())\n",
    "# print(\"\\n\\nsample_metadata\\n\")\n",
    "# display(sample_metadata.head())\n",
    "# print(\"\\n\\n expression_quantified\\n\")\n",
    "# display(expression_quantified.head().T.head())"
   ]
  },
  {
   "cell_type": "markdown",
   "id": "e086cf35",
   "metadata": {},
   "source": [
    "### Combine into anndata to keep everything together"
   ]
  },
  {
   "cell_type": "code",
   "execution_count": 3,
   "id": "0ce050d4",
   "metadata": {},
   "outputs": [],
   "source": [
    "expression_quantified = sc.AnnData(expression_quantified, \n",
    "                             var = gene_metadata.copy(),\n",
    "                             obs = sample_metadata.copy())\n",
    "# DRY these up once they're in AnnData\n",
    "del gene_metadata\n",
    "del sample_metadata"
   ]
  },
  {
   "cell_type": "markdown",
   "id": "4b3d7666",
   "metadata": {},
   "source": [
    "### Convert ensembl gene id's to gene symbol"
   ]
  },
  {
   "cell_type": "code",
   "execution_count": null,
   "id": "1e8dac1f",
   "metadata": {},
   "outputs": [],
   "source": [
    "expression_quantified.var_names = ingestion.convert_ens_to_symbol(expression_quantified.var_names, gtf = \"../accessory_data/gencode.v35.annotation.gtf.gz\")\n",
    "display(expression_quantified.var.head())\n",
    "display(expression_quantified.var_names[0:5])"
   ]
  },
  {
   "cell_type": "code",
   "execution_count": null,
   "id": "594eca40",
   "metadata": {},
   "outputs": [],
   "source": [
    "# Document controls with weird names\n",
    "controls = [f\"AAVS1_{i}\" for i in range(1,9)]\n",
    "for c in controls:\n",
    "    assert c in expression_quantified.obs['perturbation'].unique() \n",
    "expression_quantified.obs[\"is_control\"] = expression_quantified.obs['perturbation'].isin(controls).astype(int)"
   ]
  },
  {
   "cell_type": "code",
   "execution_count": null,
   "id": "97c2e7b3",
   "metadata": {},
   "outputs": [],
   "source": [
    "sc.pp.normalize_total(expression_quantified, target_sum=1e4)\n",
    "sc.pp.log1p(expression_quantified)\n",
    "sc.pp.highly_variable_genes(expression_quantified, min_mean=0.2, max_mean=4, min_disp=0.2, n_bins=50)\n",
    "sc.pl.highly_variable_genes(expression_quantified)\n",
    "with warnings.catch_warnings():\n",
    "    sc.tl.pca(expression_quantified, n_comps=5)\n",
    "sc.pp.neighbors(expression_quantified)\n",
    "sc.tl.umap(expression_quantified)\n",
    "clusterResolutions = []\n",
    "sc.tl.leiden(expression_quantified)"
   ]
  },
  {
   "cell_type": "code",
   "execution_count": null,
   "id": "5216afa0",
   "metadata": {
    "scrolled": true
   },
   "outputs": [],
   "source": [
    "sc.pl.umap(expression_quantified, color = [\"IL2RA\", \"IL2\", \"CTLA4\", \"leiden\", \"donor\", \"is_control\", \"perturbation\"])\n",
    "# Due to the small number of samples, ask CO to use only one cluster.\n",
    "# Requires setting certain other undocumented aspects of object state. :(\n",
    "expression_quantified.obs[\"fake_cluster\"]=\"all_one_cluster\"\n",
    "expression_quantified.obs.fake_cluster = expression_quantified.obs.fake_cluster.astype(\"category\")\n",
    "expression_quantified.uns[\"fake_cluster_colors\"] = ['#1f77b4']"
   ]
  },
  {
   "cell_type": "markdown",
   "id": "44a4a02a",
   "metadata": {},
   "source": [
    "### Data reduction\n",
    "\n",
    "With only 64GB of RAM, I have been unable to make whole-transcriptome predictions with CellOracle. A data reduction step is necessary where only highly variable genes are included. We also keep all genes that are perturbed, whether or not they appear highly variable -- unless they are unavailable in the first place. "
   ]
  },
  {
   "cell_type": "code",
   "execution_count": null,
   "id": "84b48ae3",
   "metadata": {},
   "outputs": [],
   "source": [
    "perturbed_genes = set(list(expression_quantified.obs['perturbation'].unique())).difference(controls)\n",
    "perturbed_and_measured_genes = perturbed_genes.intersection(expression_quantified.var.index)\n",
    "perturbed_but_not_measured_genes = perturbed_genes.difference(expression_quantified.var.index)\n",
    "genes_keep = expression_quantified.var.index[expression_quantified.var['highly_variable']]\n",
    "genes_keep = set(genes_keep).union(perturbed_and_measured_genes)\n",
    "expression_quantified_orig = expression_quantified.copy()\n",
    "print(\"These genes were perturbed but not measured:\")\n",
    "print(perturbed_but_not_measured_genes)\n",
    "print(\"This many variable genes will be kept and used by CO:\")\n",
    "print(len(genes_keep))"
   ]
  },
  {
   "cell_type": "code",
   "execution_count": null,
   "id": "619d4c01",
   "metadata": {},
   "outputs": [],
   "source": [
    "# final form, ready to save\n",
    "expression_quantified = expression_quantified_orig[:,list(genes_keep)]\n",
    "expression_quantified.uns[\"perturbed_and_measured_genes\"]     = list(perturbed_and_measured_genes)\n",
    "expression_quantified.uns[\"perturbed_but_not_measured_genes\"] = list(perturbed_but_not_measured_genes)"
   ]
  },
  {
   "cell_type": "code",
   "execution_count": null,
   "id": "ba9c754c",
   "metadata": {
    "scrolled": true
   },
   "outputs": [],
   "source": [
    "os.makedirs(\"perturbations/freimer\", exist_ok = True)\n",
    "expression_quantified.write_h5ad(\"perturbations/freimer/test.h5ad\")"
   ]
  }
 ],
 "metadata": {
  "kernelspec": {
   "display_name": "Python 3.9.7 ('cell_type_grn_transfer')",
   "language": "python",
   "name": "python3"
  },
  "language_info": {
   "codemirror_mode": {
    "name": "ipython",
    "version": 3
   },
   "file_extension": ".py",
   "mimetype": "text/x-python",
   "name": "python",
   "nbconvert_exporter": "python",
   "pygments_lexer": "ipython3",
   "version": "3.9.7"
  },
  "vscode": {
   "interpreter": {
    "hash": "7658a1e878c2df46706cc47028d7885e1865315efe8f971cf3b351dc4de1c60e"
   }
  }
 },
 "nbformat": 4,
 "nbformat_minor": 5
}
