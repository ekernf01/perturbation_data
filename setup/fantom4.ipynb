{
 "cells": [
  {
   "attachments": {},
   "cell_type": "markdown",
   "id": "a377c2a0",
   "metadata": {},
   "source": [
    "### FANTOM4 THP-1 data\n",
    "\n",
    "This notebook prepares a 2009 dataset from the FANTOM4 consortium paper \"Transcriptional network controlling differentiation and growth arrest of a myeloid leukemia cell line\". It is barely even started and the code probably will not make sense.   "
   ]
  },
  {
   "cell_type": "code",
   "execution_count": null,
   "id": "5207ee00",
   "metadata": {
    "scrolled": false
   },
   "outputs": [],
   "source": [
    "import warnings\n",
    "warnings.filterwarnings('ignore')\n",
    "import regex as re\n",
    "import os\n",
    "import shutil\n",
    "import importlib\n",
    "import matplotlib.colors as colors\n",
    "import matplotlib.pyplot as plt\n",
    "import numpy as np\n",
    "import pandas as pd\n",
    "import scanpy as sc\n",
    "import seaborn as sns\n",
    "import celloracle as co\n",
    "from scipy.stats import spearmanr as spearmanr\n",
    "from IPython.display import display, HTML\n",
    "# local\n",
    "import importlib\n",
    "import sys\n",
    "sys.path.append(\"setup\")\n",
    "import ingestion\n",
    "importlib.reload(ingestion)\n",
    "\n",
    "#      visualization settings\n",
    "%config InlineBackend.figure_format = 'retina'\n",
    "%matplotlib inline\n",
    "plt.rcParams['figure.figsize'] = [6, 4.5]\n",
    "plt.rcParams[\"savefig.dpi\"] = 300\n",
    "\n",
    "# Specify the working directory explicitly.\n",
    "os.chdir(\"/home/ekernf01/Desktop/jhu/research/projects/perturbation_prediction/cell_type_knowledge_transfer/perturbations/\")"
   ]
  },
  {
   "cell_type": "markdown",
   "id": "c081e213",
   "metadata": {},
   "source": [
    "### Reshape the data"
   ]
  },
  {
   "cell_type": "code",
   "execution_count": null,
   "id": "a99c0000",
   "metadata": {},
   "outputs": [],
   "source": [
    "expression_quantified = pd.read_csv(\"not_ready/fantom4/E-GEAD-547.raw/BCL6_s2_lot2.txt\", \n",
    "                              delimiter=\"\\t\",\n",
    "                              index_col=0, \n",
    "                              header=0, \n",
    "                              comment = '!')  \n",
    "                              \n",
    "expression_quantified \n",
    "# gene_metadata   = expression_quantified.iloc[:,0:5]\n",
    "# expression_quantified = expression_quantified.iloc[:, 5:].T\n",
    "# sample_metadata = pd.DataFrame(columns = [\"donor\", \"perturbation\"], \n",
    "#                                index = expression_quantified.index,\n",
    "#                                data = [g.split(\"_\", maxsplit=2)[1:3] for g in expression_quantified.index])\n",
    "# print(\"\\n\\ngene_metadata\\n\")\n",
    "# display(gene_metadata.head())\n",
    "# print(\"\\n\\nsample_metadata\\n\")\n",
    "# display(sample_metadata.head())\n",
    "# print(\"\\n\\n expression_quantified\\n\")\n",
    "# display(expression_quantified.head().T.head())"
   ]
  },
  {
   "cell_type": "markdown",
   "id": "e086cf35",
   "metadata": {},
   "source": [
    "### Combine into anndata to keep everything together"
   ]
  },
  {
   "cell_type": "code",
   "execution_count": null,
   "id": "0ce050d4",
   "metadata": {},
   "outputs": [],
   "source": [
    "expression_quantified = sc.AnnData(expression_quantified, \n",
    "                             var = gene_metadata.copy(),\n",
    "                             obs = sample_metadata.copy())\n",
    "# DRY these up once they're in AnnData\n",
    "del gene_metadata\n",
    "del sample_metadata"
   ]
  },
  {
   "cell_type": "markdown",
   "id": "4b3d7666",
   "metadata": {},
   "source": [
    "### Convert ensembl gene id's to gene symbol"
   ]
  },
  {
   "cell_type": "code",
   "execution_count": null,
   "id": "1e8dac1f",
   "metadata": {},
   "outputs": [],
   "source": [
    "expression_quantified.var_names = ingestion.convert_ens_to_symbol(expression_quantified.var_names, gtf = \"../accessory_data/gencode.v35.annotation.gtf.gz\")\n",
    "display(expression_quantified.var.head())\n",
    "display(expression_quantified.var_names[0:5])"
   ]
  },
  {
   "cell_type": "code",
   "execution_count": null,
   "id": "594eca40",
   "metadata": {},
   "outputs": [],
   "source": [
    "# Document controls with weird names\n",
    "controls = [f\"AAVS1_{i}\" for i in range(1,9)]\n",
    "for c in controls:\n",
    "    assert c in expression_quantified.obs['perturbation'].unique() \n",
    "expression_quantified.obs[\"is_control\"] = expression_quantified.obs['perturbation'].isin(controls).astype(int)"
   ]
  },
  {
   "cell_type": "code",
   "execution_count": null,
   "id": "97c2e7b3",
   "metadata": {},
   "outputs": [],
   "source": [
    "sc.pp.normalize_total(expression_quantified, target_sum=1e4)\n",
    "sc.pp.log1p(expression_quantified)\n",
    "sc.pp.highly_variable_genes(expression_quantified, min_mean=0.2, max_mean=4, min_disp=0.2, n_bins=50)\n",
    "sc.pl.highly_variable_genes(expression_quantified)\n",
    "with warnings.catch_warnings():\n",
    "    sc.tl.pca(expression_quantified, n_comps=5)\n",
    "sc.pp.neighbors(expression_quantified)\n",
    "sc.tl.umap(expression_quantified)\n",
    "clusterResolutions = []\n",
    "sc.tl.leiden(expression_quantified)"
   ]
  },
  {
   "cell_type": "code",
   "execution_count": null,
   "id": "5216afa0",
   "metadata": {
    "scrolled": true
   },
   "outputs": [],
   "source": [
    "sc.pl.umap(expression_quantified, color = [\"IL2RA\", \"IL2\", \"CTLA4\", \"leiden\", \"donor\", \"is_control\", \"perturbation\"])\n",
    "# Due to the small number of samples, ask CO to use only one cluster.\n",
    "# Requires setting certain other undocumented aspects of object state. :(\n",
    "expression_quantified.obs[\"fake_cluster\"]=\"all_one_cluster\"\n",
    "expression_quantified.obs.fake_cluster = expression_quantified.obs.fake_cluster.astype(\"category\")\n",
    "expression_quantified.uns[\"fake_cluster_colors\"] = ['#1f77b4']"
   ]
  },
  {
   "cell_type": "markdown",
   "id": "44a4a02a",
   "metadata": {},
   "source": [
    "### Data reduction\n",
    "\n",
    "With only 64GB of RAM, I have been unable to make whole-transcriptome predictions with CellOracle. A data reduction step is necessary where only highly variable genes are included. We also keep all genes that are perturbed, whether or not they appear highly variable -- unless they are unavailable in the first place. "
   ]
  },
  {
   "cell_type": "code",
   "execution_count": null,
   "id": "84b48ae3",
   "metadata": {},
   "outputs": [],
   "source": [
    "perturbed_genes = set(list(expression_quantified.obs['perturbation'].unique())).difference(controls)\n",
    "perturbed_and_measured_genes = perturbed_genes.intersection(expression_quantified.var.index)\n",
    "perturbed_but_not_measured_genes = perturbed_genes.difference(expression_quantified.var.index)\n",
    "genes_keep = expression_quantified.var.index[expression_quantified.var['highly_variable']]\n",
    "genes_keep = set(genes_keep).union(perturbed_and_measured_genes)\n",
    "expression_quantified_orig = expression_quantified.copy()\n",
    "print(\"These genes were perturbed but not measured:\")\n",
    "print(perturbed_but_not_measured_genes)\n",
    "print(\"This many variable genes will be kept and used by CO:\")\n",
    "print(len(genes_keep))"
   ]
  },
  {
   "cell_type": "code",
   "execution_count": null,
   "id": "619d4c01",
   "metadata": {},
   "outputs": [],
   "source": [
    "# final form, ready to save\n",
    "expression_quantified = expression_quantified_orig[:,list(genes_keep)]\n",
    "expression_quantified.uns[\"perturbed_and_measured_genes\"]     = list(perturbed_and_measured_genes)\n",
    "expression_quantified.uns[\"perturbed_but_not_measured_genes\"] = list(perturbed_but_not_measured_genes)"
   ]
  },
  {
   "cell_type": "code",
   "execution_count": null,
   "id": "ba9c754c",
   "metadata": {
    "scrolled": true
   },
   "outputs": [],
   "source": [
    "os.makedirs(\"perturbations/freimer\", exist_ok = True)\n",
    "expression_quantified.write_h5ad(\"perturbations/freimer/test.h5ad\")"
   ]
  }
 ],
 "metadata": {
  "kernelspec": {
   "display_name": "Python 3.9.7 ('cell_type_grn_transfer')",
   "language": "python",
   "name": "python3"
  },
  "language_info": {
   "codemirror_mode": {
    "name": "ipython",
    "version": 3
   },
   "file_extension": ".py",
   "mimetype": "text/x-python",
   "name": "python",
   "nbconvert_exporter": "python",
   "pygments_lexer": "ipython3",
   "version": "3.9.7"
  },
  "vscode": {
   "interpreter": {
    "hash": "7658a1e878c2df46706cc47028d7885e1865315efe8f971cf3b351dc4de1c60e"
   }
  }
 },
 "nbformat": 4,
 "nbformat_minor": 5
}
