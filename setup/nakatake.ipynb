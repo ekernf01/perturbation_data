{
 "cells": [
  {
   "attachments": {},
   "cell_type": "markdown",
   "id": "a377c2a0",
   "metadata": {},
   "source": [
    "### PSC overexpression example\n",
    "\n",
    "This notebook prepares a dataset with hundreds of individual overexpression experiments applied to pluripotent stem cells ([Nakatake et al 2020](https://www.sciencedirect.com/science/article/pii/S2211124720306082)). This choice of dataset is meant to be an easy starting point: the time-scale (48 hours) is fairly short-term, the cell state (pluripotency) is well studied,  and the perturbations are numerous (714 genes including 481 TF's). The dataset is also small (~1k samples) so testing/debugging is fast. \n",
    "\n",
    "The data contain both microarray and RNA-seq measurements, but these have already been effectively integrated by the authors using a strategy akin to quantile normalization. There are missing values marked -9999, which include genes missing from microarrays and outlying measurements censored by the creators. For now, missing values are being filled in with control gene expression. There are three types of negative control *samples*, labeled \"control\", \"emerald\", and \"CAG-rtTA35-IH\". We use mostly \"control\". \n",
    "\n",
    "Here we tidy the PSC overexpression dataset and carry out a simple exploration in scanpy. (It's not single cell data but scanpy is a useful collection of software for any high-sample-number transcriptomics.) "
   ]
  },
  {
   "cell_type": "code",
   "execution_count": null,
   "id": "5207ee00",
   "metadata": {},
   "outputs": [],
   "source": [
    "import warnings\n",
    "warnings.filterwarnings('ignore')\n",
    "import regex as re\n",
    "import os\n",
    "import shutil\n",
    "import sys\n",
    "import importlib\n",
    "import matplotlib.colors as colors\n",
    "import matplotlib.pyplot as plt\n",
    "from IPython.display import set_matplotlib_formats\n",
    "set_matplotlib_formats('svg')\n",
    "import numpy as np\n",
    "import pandas as pd\n",
    "import scanpy as sc\n",
    "import seaborn as sns\n",
    "from scipy.stats import spearmanr as spearmanr\n",
    "from scipy.stats import pearsonr\n",
    "import itertools as it\n",
    "import anndata\n",
    "\n",
    "from scipy.stats import f_oneway\n",
    "from statsmodels.stats.multitest import multipletests\n",
    "from statsmodels.stats.oneway import anova_oneway\n",
    "from sklearn.metrics import mutual_info_score\n",
    "import time\n",
    "from collections import Counter\n",
    "\n",
    "\n",
    "# local\n",
    "import importlib\n",
    "import sys\n",
    "sys.path.append(\"setup\")\n",
    "import ingestion\n",
    "importlib.reload(ingestion)\n",
    "\n",
    "#      visualization settings\n",
    "plt.rcParams['figure.figsize'] = [6, 4.5]\n",
    "plt.rcParams[\"savefig.dpi\"] = 300\n",
    "\n",
    "# I prefer to specify the working directory explicitly.\n",
    "os.chdir(\"/home/ekernf01/Desktop/jhu/research/projects/perturbation_prediction/cell_type_knowledge_transfer/perturbation_data\")\n",
    "\n",
    "# Universal\n",
    "geneAnnotationPath = \"../accessory_data/gencode.v35.annotation.gtf.gz\"       # Downloaded from https://www.gencodegenes.org/human/release_35.html\n",
    "humanTFPath =  \"../accessory_data/humanTFs.csv\"                              # Downloaded from http://humantfs.ccbr.utoronto.ca/download.php\n",
    "humanEpiPath = \"../accessory_data/epiList.csv\"                               # Downloaded from https://epifactors.autosome.org/description \n",
    "\n",
    "# Nakatake Specific\n",
    "rawDataPath               = \"not_ready/ko_esc/CREST_06162021.txt\"\n",
    "nakatakeSupplemental1Path = \"not_ready/ko_esc/nakatakeSupplemental1.csv\"    # https://ars.els-cdn.com/content/image/1-s2.0-S2211124720306082-mmc2.xlsx                                                \n",
    "nakatakeSupplemental3Path = \"not_ready/ko_esc/nakatakeSupplemental3.csv\"    # https://ars.els-cdn.com/content/image/1-s2.0-S2211124720306082-mmc4.xlsx\n",
    "perturbEffectTFOnlyPath            = \"not_ready/ko_esc/nakatakeTFOnly.csv\"             # additional output\n",
    "perturbEffectFullTranscriptomePath = \"not_ready/ko_esc/nakatakeFullTranscriptome.csv\"  # additional output\n",
    "finalDataFileFolder = \"perturbations/nakatake\"\n",
    "finalDataFilePath   = \"perturbations/nakatake/test.h5ad\""
   ]
  },
  {
   "attachments": {},
   "cell_type": "markdown",
   "id": "c081e213",
   "metadata": {
    "tags": []
   },
   "source": [
    "### Reshape the data"
   ]
  },
  {
   "cell_type": "code",
   "execution_count": null,
   "id": "cc9411a0-e70f-429e-b7d1-64848b71ea16",
   "metadata": {},
   "outputs": [],
   "source": [
    "expression_quantified = pd.read_csv(rawDataPath, \n",
    "                                    delimiter=\"\\t\",\n",
    "                                    index_col=0, \n",
    "                                    header=0, \n",
    "                                    comment = '!') "
   ]
  },
  {
   "cell_type": "code",
   "execution_count": null,
   "id": "9618b4c4-d9f2-4e0d-960f-478f122d342a",
   "metadata": {},
   "outputs": [],
   "source": [
    "gene_metadata   = expression_quantified.iloc[:,-4:]\n",
    "expression_quantified = expression_quantified.iloc[:, 0:-4].T\n",
    "# The name of this gene in the variable names is TBXT, but its OE samples use the name T. \n",
    "expression_quantified.rename(index={'T':'TBXT', \"T.1\":\"TBXT.1\"}, inplace=True)\n",
    "sample_metadata = pd.DataFrame(columns = [\"perturbation\"], \n",
    "                               index = expression_quantified.index,\n",
    "                               data = [re.sub(\"\\..\", \"\", g) for g in expression_quantified.index])\n",
    "\n",
    "expression_quantified = sc.AnnData(expression_quantified, \n",
    "                                   var = gene_metadata,\n",
    "                                   obs = sample_metadata)\n",
    "expression_quantified.raw = expression_quantified.copy()"
   ]
  },
  {
   "cell_type": "code",
   "execution_count": null,
   "id": "8d2c2378",
   "metadata": {},
   "outputs": [],
   "source": [
    "# Document controls with weird names\n",
    "\"\"\" Emerald : Transgene w/ fluophore only\n",
    "    Control : median gene expression\n",
    "    CAG-rtTA35-IH : hESC cell line \"\"\"\n",
    "controls = (\"Emerald\", \"Control\", \"CAG-rtTA35-IH\")\n",
    "for c in controls:\n",
    "    assert c in sample_metadata['perturbation'].unique() \n",
    "expression_quantified.obs[\"is_control\"] = expression_quantified.obs['perturbation'].isin(controls)"
   ]
  },
  {
   "attachments": {},
   "cell_type": "markdown",
   "id": "131ad556",
   "metadata": {
    "tags": []
   },
   "source": [
    "### Count and Impute missing entries\n",
    "\n",
    "Most but not all of the missingness is due to microarrays capturing fewer genes than RNA-seq.\n",
    "\n",
    "Some is due to Nakatake et al. removing outliers. "
   ]
  },
  {
   "cell_type": "code",
   "execution_count": null,
   "id": "603e47e4-4277-4cdb-a530-1dae1758b7f6",
   "metadata": {
    "tags": []
   },
   "outputs": [],
   "source": [
    "\"\"\" Two controls have identical expression levels except for \n",
    "genes that are missing in the microarrays. \"\"\"\n",
    "plt.figure(figsize=(3,3))\n",
    "controlExpr = expression_quantified.X[expression_quantified.obs.perturbation == \"Control\" ,:]\n",
    "controlExpr = controlExpr[:, ~(controlExpr[1,:] == -9999)]\n",
    "plt.scatter(controlExpr[0,:], controlExpr[1,:], s=1)\n",
    "plt.title(\"Median of Expr\")\n",
    "plt.show()\n",
    "\n",
    "plt.figure(figsize=(3,3))\n",
    "controlExpr = expression_quantified.X[expression_quantified.obs.perturbation == \"Emerald\" ,:]\n",
    "controlExpr = controlExpr[:, ~(controlExpr[1,:] == -9999)]\n",
    "plt.scatter(controlExpr[0,:], controlExpr[1,:], s=1)\n",
    "plt.title(\"Emerald\")\n",
    "plt.show()"
   ]
  },
  {
   "cell_type": "code",
   "execution_count": null,
   "id": "77b1ed9e",
   "metadata": {},
   "outputs": [],
   "source": [
    "missing = expression_quantified.X==-9999\n",
    "expression_quantified.obs[\"fraction_missing\"] = missing.mean(axis=1)\n",
    "expression_quantified.var[\"fraction_missing\"] = missing.mean(axis=0)\n",
    "controlIndex = expression_quantified.obs.index==\"Control\"\n",
    "for i in range(len(expression_quantified.obs.index)):\n",
    "    missing_i = np.squeeze(expression_quantified[i,:].X==-9999)\n",
    "    expression_quantified.X[i,missing_i] = expression_quantified.X[controlIndex,missing_i]"
   ]
  },
  {
   "cell_type": "code",
   "execution_count": null,
   "id": "fc690e99-4718-487d-b4a7-40d749226cab",
   "metadata": {
    "tags": []
   },
   "outputs": [],
   "source": [
    "display(pd.DataFrame(\n",
    "    pd.DataFrame(\n",
    "        expression_quantified.obs.fraction_missing.tolist(), \n",
    "        columns=[\"% Gene Missing\"])\n",
    "    .value_counts(), \n",
    "    columns=[\"Such # of Clones\"]))\n",
    "\n",
    "display(pd.DataFrame(\n",
    "    pd.DataFrame(\n",
    "        expression_quantified.var.fraction_missing.tolist(), \n",
    "        columns=[\"% Clone Missing\"])\n",
    "    .value_counts(), \n",
    "    columns=[\"Such # of Genes\"]))"
   ]
  },
  {
   "cell_type": "code",
   "execution_count": null,
   "id": "d7a521c8-d42e-48d4-a072-7d53ccddc322",
   "metadata": {
    "tags": []
   },
   "outputs": [],
   "source": [
    "\"\"\" Sanity Check:\n",
    "The sum of gene expression before and after normalization \"\"\"\n",
    "fig, axes = plt.subplots(1, 2, figsize=(8,3))\n",
    "axes[0].hist(expression_quantified.X.sum(axis=1), bins=100, log=False, label=\"before DESeq2 norm\")\n",
    "axes[1].hist(ingestion.deseq2Normalization(expression_quantified.X.T).T.sum(axis=1), bins=100, log=False, label=\"after DESeq2 norm\")\n",
    "axes[0].legend()\n",
    "axes[1].legend()\n",
    "plt.show()"
   ]
  },
  {
   "attachments": {},
   "cell_type": "markdown",
   "id": "cf45db75-19f9-4895-adb2-4355cf977f17",
   "metadata": {},
   "source": [
    "### Normalization on bulk "
   ]
  },
  {
   "cell_type": "code",
   "execution_count": null,
   "id": "02ed9021-a637-4b55-995d-dc007c2c73c7",
   "metadata": {},
   "outputs": [],
   "source": [
    "expression_quantified.X = ingestion.deseq2Normalization(expression_quantified.X.T).T"
   ]
  },
  {
   "attachments": {},
   "cell_type": "markdown",
   "id": "b7ccf5cf-c5be-4b98-8e6d-eec00377c67a",
   "metadata": {
    "tags": []
   },
   "source": [
    "### Check Gene Expr Consistency, Replication Consistency"
   ]
  },
  {
   "cell_type": "code",
   "execution_count": null,
   "id": "cb32e47a-423a-4733-a02a-2cf1ea165949",
   "metadata": {
    "tags": []
   },
   "outputs": [],
   "source": [
    "# If verbose is set to True, display disconcordant trials and their controls\n",
    "status, logFC, pval = ingestion.checkConsistency(\n",
    "   expression_quantified, \n",
    "   perturbationType=\"overexpression\", \n",
    "   group=None,\n",
    "   verbose=False,\n",
    "   do_return_pval = True) \n",
    "expression_quantified.obs[\"consistentW/Perturbation\"] = status\n",
    "expression_quantified.obs[\"logFC\"] = logFC\n",
    "expression_quantified.obs[\"pval\"] = pval\n",
    "Counter(status)"
   ]
  },
  {
   "cell_type": "code",
   "execution_count": null,
   "id": "1c19746b-1d6b-4e3b-86b4-dfe37bb1ae5d",
   "metadata": {},
   "outputs": [],
   "source": [
    "TFqPCR = set(pd.read_csv(nakatakeSupplemental3Path)['TF'])\n",
    "expression_quantified.obs['qPCRExamined'] = [True if i in TFqPCR else False for i in expression_quantified.obs.perturbation]"
   ]
  },
  {
   "cell_type": "code",
   "execution_count": null,
   "id": "a62c1469-c10c-44fa-9b90-f169d15ce69d",
   "metadata": {
    "collapsed": true,
    "jupyter": {
     "outputs_hidden": true
    },
    "tags": []
   },
   "outputs": [],
   "source": [
    "correlations = ingestion.computeCorrelation(expression_quantified, verbose=True)\n",
    "expression_quantified.obs[\"spearmanCorr\"] = correlations[0]\n",
    "expression_quantified.obs[ \"pearsonCorr\"] = correlations[1]"
   ]
  },
  {
   "cell_type": "code",
   "execution_count": null,
   "id": "747ec9b7-cdf5-4e67-aa11-55a975d9fc0e",
   "metadata": {},
   "outputs": [],
   "source": [
    "\"\"\"Downloaded from http://humantfs.ccbr.utoronto.ca/download.php \"\"\"\n",
    "TFList = pd.read_csv(humanTFPath, index_col=0).iloc[:, [1,3]]\n",
    "TFDict = dict([tuple(i) for i in TFList.to_numpy().tolist() if i[1] == 'Yes'])\n",
    "\n",
    "\"\"\"Downloaded from https://epifactors.autosome.org/description \"\"\"\n",
    "EpiList = pd.read_csv(humanEpiPath, index_col=0).iloc[:, [0,14]]\n",
    "EpiDict = dict([tuple(i) for i in EpiList.to_numpy().tolist()])\n",
    "\n",
    "\"\"\"Download from https://ars.els-cdn.com/content/image/1-s2.0-S2211124720306082-mmc2.xlsx \"\"\"\n",
    "annotation = pd.read_csv(nakatakeSupplemental1Path).iloc[:, [0,1]]\n",
    "annotation = dict([tuple(i) for i in annotation.to_numpy().tolist()])"
   ]
  },
  {
   "cell_type": "code",
   "execution_count": null,
   "id": "f92ac606-447a-4d9c-80eb-a2f62399c77b",
   "metadata": {
    "collapsed": true,
    "jupyter": {
     "outputs_hidden": true
    },
    "tags": []
   },
   "outputs": [],
   "source": [
    "\"\"\" If want to look at effect magnitude of perturbation on TF only \"\"\"\n",
    "TFVar = [i for i,p in enumerate(expression_quantified.var.index) if p in TFDict or p in EpiDict]\n",
    "expression_quantifiedTFOnly = expression_quantified[:, TFVar].copy()\n",
    "ingestion.quantifyEffect(adata=expression_quantifiedTFOnly, \n",
    "                         fname=perturbEffectTFOnlyPath, \n",
    "                         group=None, \n",
    "                         diffExprFC=True, \n",
    "                         prefix=\"TFOnly\")"
   ]
  },
  {
   "cell_type": "code",
   "execution_count": null,
   "id": "d3dbadc4-f90e-48a3-ad3f-e0c1dc510491",
   "metadata": {
    "tags": []
   },
   "outputs": [],
   "source": [
    "\"\"\" If want to look at effect magnitude of perturbation on the entire transcriptome \"\"\"\n",
    "ingestion.quantifyEffect(adata=expression_quantified, \n",
    "                         fname=perturbEffectFullTranscriptomePath, \n",
    "                         group=None, \n",
    "                         diffExprFC=True, \n",
    "                         prefix=\"\")\n",
    "\n",
    "listOfMetrics = [\"DEG\", \"MI\", \"logFCMean\", \"logFCNorm2\", \"logFCMedian\"]\n",
    "for m in listOfMetrics:\n",
    "    expression_quantified.obs[f\"TFOnly{m}\"] = expression_quantifiedTFOnly.obs[f\"TFOnly{m}\"]"
   ]
  },
  {
   "cell_type": "code",
   "execution_count": null,
   "id": "969b1900-159f-48a1-926b-a47c7b47157f",
   "metadata": {
    "tags": []
   },
   "outputs": [],
   "source": [
    "metricOfInterest = [\"DEG\", \"logFCNorm2\", \"TFOnlyDEG\", \"TFOnlylogFCNorm2\"]\n",
    "ingestion.checkPerturbationEffectMetricCorrelation(expression_quantified, metrics=metricOfInterest)"
   ]
  },
  {
   "cell_type": "code",
   "execution_count": null,
   "id": "25d03474-e160-4e9b-81c8-ef0125fff9b4",
   "metadata": {
    "tags": []
   },
   "outputs": [],
   "source": [
    "ingestion.visualizePerturbationEffect(expression_quantified, metrics=metricOfInterest, TFDict=TFDict, EpiDict=EpiDict)"
   ]
  },
  {
   "attachments": {},
   "cell_type": "markdown",
   "id": "da5891c1",
   "metadata": {},
   "source": [
    "### The plot for the figure\n",
    "\n",
    "The below chunk is the figure we use in the manuscript."
   ]
  },
  {
   "cell_type": "code",
   "execution_count": null,
   "id": "440965d9-90a5-4190-9335-548b9e4f1a5b",
   "metadata": {
    "tags": []
   },
   "outputs": [],
   "source": [
    "temp = expression_quantified.copy()\n",
    "ingestion.visualizePerturbationMetadata(temp,\n",
    "                                        x=\"spearmanCorr\", \n",
    "                                        y=\"logFC\", \n",
    "                                        style=\"consistentW/Perturbation\", \n",
    "                                        hue=\"logFCNorm2\", \n",
    "                                        markers=['o', '^'], \n",
    "                                        xlim=[-0.2, 1])\n",
    "plt.savefig(finalDataFileFolder + \"/qc.pdf\")"
   ]
  },
  {
   "attachments": {},
   "cell_type": "markdown",
   "id": "36c2186e-689c-46f0-b0bc-52dacda846bd",
   "metadata": {
    "tags": []
   },
   "source": [
    "### Basic EDA"
   ]
  },
  {
   "cell_type": "code",
   "execution_count": null,
   "id": "5216afa0",
   "metadata": {
    "scrolled": true,
    "tags": []
   },
   "outputs": [],
   "source": [
    "sc.pp.log1p(expression_quantified)\n",
    "sc.pp.highly_variable_genes(expression_quantified, n_bins=50, n_top_genes = expression_quantified.var.shape[0], flavor = \"seurat_v3\" )\n",
    "sc.pl.highly_variable_genes(expression_quantified)\n",
    "with warnings.catch_warnings():\n",
    "    sc.tl.pca(expression_quantified, n_comps=100)\n",
    "sc.pp.neighbors(expression_quantified)\n",
    "sc.tl.umap(expression_quantified)\n",
    "sc.tl.louvain(expression_quantified)\n",
    "sc.pl.umap(expression_quantified, color = [\"NEUROG1\", \"SOX17\", \"POU5F1\", \"MYOD1\", \"fraction_missing\"])"
   ]
  },
  {
   "attachments": {},
   "cell_type": "markdown",
   "id": "af4d5884",
   "metadata": {},
   "source": [
    "### Final decision on filtering\n",
    "\n",
    "Require positive log fold change significant at p<0.1."
   ]
  },
  {
   "cell_type": "code",
   "execution_count": null,
   "id": "e6b81950",
   "metadata": {},
   "outputs": [],
   "source": [
    "expression_quantified.obs[\"logFC>0\"] = expression_quantified.obs[\"logFC\"]>0\n",
    "expression_quantified.obs[\"pval<0.1\"] = expression_quantified.obs[\"pval\"]<0.1\n",
    "print(expression_quantified.obs[[\"logFC>0\", \"pval<0.1\"]].value_counts())\n",
    "expression_quantified = expression_quantified[\n",
    "    ( ( expression_quantified.obs.logFC > 0 ) & ( expression_quantified.obs.pval < 0.1 ) ) |\n",
    "    ( expression_quantified.obs.logFC == -999 ),\n",
    "    :\n",
    "    ].copy()"
   ]
  },
  {
   "cell_type": "code",
   "execution_count": null,
   "id": "619d4c01",
   "metadata": {},
   "outputs": [],
   "source": [
    "perturbed_genes = set(list(expression_quantified.obs['perturbation'].unique())).difference(controls)\n",
    "perturbed_and_measured_genes = perturbed_genes.intersection(expression_quantified.var.index)\n",
    "perturbed_but_not_measured_genes = perturbed_genes.difference(expression_quantified.var.index)\n",
    "print(\"These genes were perturbed but not measured:\")\n",
    "print(perturbed_but_not_measured_genes)\n",
    "expression_quantified.uns[\"perturbed_and_measured_genes\"] = list(perturbed_and_measured_genes)\n",
    "expression_quantified.uns[\"perturbed_but_not_measured_genes\"] = list(perturbed_but_not_measured_genes)\n",
    "expression_quantified = ingestion.describe_perturbation_effect(expression_quantified, \"overexpression\")\n",
    "expression_quantified"
   ]
  },
  {
   "cell_type": "code",
   "execution_count": null,
   "id": "356fb9e0",
   "metadata": {},
   "outputs": [],
   "source": [
    "print(expression_quantified)"
   ]
  },
  {
   "cell_type": "code",
   "execution_count": null,
   "id": "ba9c754c",
   "metadata": {
    "scrolled": true
   },
   "outputs": [],
   "source": [
    "try:\n",
    "    os.makedirs(finalDataFileFolder)\n",
    "except FileExistsError:\n",
    "    pass\n",
    "expression_quantified.write_h5ad(finalDataFilePath)"
   ]
  }
 ],
 "metadata": {
  "kernelspec": {
   "display_name": "Python 3.9.13 ('cell_type_grn_transfer')",
   "language": "python",
   "name": "python3"
  },
  "language_info": {
   "codemirror_mode": {
    "name": "ipython",
    "version": 3
   },
   "file_extension": ".py",
   "mimetype": "text/x-python",
   "name": "python",
   "nbconvert_exporter": "python",
   "pygments_lexer": "ipython3",
   "version": "3.9.15"
  },
  "vscode": {
   "interpreter": {
    "hash": "7658a1e878c2df46706cc47028d7885e1865315efe8f971cf3b351dc4de1c60e"
   }
  }
 },
 "nbformat": 4,
 "nbformat_minor": 5
}
