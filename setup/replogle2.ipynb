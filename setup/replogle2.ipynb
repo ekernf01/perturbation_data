{
 "cells": [
  {
   "attachments": {},
   "cell_type": "markdown",
   "id": "a377c2a0",
   "metadata": {},
   "source": [
    "### Genome-wide perturb-seq\n",
    "\n",
    "This notebook prepares a dataset from a [paper with giant Perturb-seq experiments](https://www.cell.com/cell/fulltext/S0092-8674(22)00597-9?_returnURL=https%3A%2F%2Flinkinghub.elsevier.com%2Fretrieve%2Fpii%2FS0092867422005979%3Fshowall%3Dtrue) applied to all expressed genes or all essential genes.\n",
    "\n",
    "Here we tidy the dataset and carry out a simple exploration in scanpy.\n",
    "\n",
    "We start from a pseudo-bulk version where all cells are added together within each perturbation. \n",
    "\n",
    "This study is CRISPRi (knockdown, not knockout).\n"
   ]
  },
  {
   "cell_type": "code",
   "execution_count": 2,
   "id": "5207ee00",
   "metadata": {},
   "outputs": [],
   "source": [
    "import warnings\n",
    "warnings.filterwarnings('ignore')\n",
    "import regex as re\n",
    "import os\n",
    "import shutil\n",
    "import importlib\n",
    "import matplotlib.colors as colors\n",
    "import matplotlib.pyplot as plt\n",
    "import numpy as np\n",
    "import pandas as pd\n",
    "import scanpy as sc\n",
    "import seaborn as sns\n",
    "from scipy.stats import spearmanr as spearmanr\n",
    "from IPython.display import display, HTML\n",
    "from collections import Counter\n",
    "\n",
    "# local\n",
    "import importlib\n",
    "import sys\n",
    "sys.path.append(\"setup\")\n",
    "import ingestion\n",
    "importlib.reload(ingestion)\n",
    "\n",
    "import anndata\n",
    "import os, sys\n",
    "import itertools as it\n",
    "from scipy.stats import spearmanr, pearsonr, rankdata, f_oneway\n",
    "from statsmodels.stats.multitest import multipletests\n",
    "from sklearn.metrics import mutual_info_score\n",
    "import matplotlib.pyplot as plt\n",
    "import seaborn as sns\n",
    "from collections import Counter\n",
    "\n",
    "#      visualization settings\n",
    "%matplotlib inline\n",
    "plt.rcParams['figure.figsize'] = [6, 4.5]\n",
    "plt.rcParams[\"savefig.dpi\"] = 300\n",
    "\n",
    "# I prefer to specify the working directory explicitly.\n",
    "os.chdir(\"/home/ekernf01/Desktop/jhu/research/projects/perturbation_prediction/cell_type_knowledge_transfer/perturbation_data\")\n",
    "\n",
    "# Universal\n",
    "geneAnnotationPath = \"../accessory_data/gencode.v35.annotation.gtf.gz\"       # Downloaded from https://www.gencodegenes.org/human/release_35.html\n",
    "humanTFPath =  \"../accessory_data/humanTFs.csv\"                              # Downloaded from http://humantfs.ccbr.utoronto.ca/download.php\n",
    "humanEpiPath = \"../accessory_data/epiList.csv\"                               # Downloaded from https://epifactors.autosome.org/description \n",
    "cellcycleGenePath = \"../accessory_data/regev_lab_cell_cycle_genes.txt\"\n",
    "\n",
    "# Replogle2 Specific\n",
    "dataset_name = \"replogle2\"\n",
    "perturbEffectTFOnlyPath = \"setup/replogle2TFOnly.csv\"                         # a path to store temp file\n",
    "perturbEffectFullTranscriptomePath = \"setup/replogle2FullTranscriptome.csv\"   # a path to store temp file"
   ]
  },
  {
   "attachments": {},
   "cell_type": "markdown",
   "id": "275b88c7",
   "metadata": {
    "jp-MarkdownHeadingCollapsed": true,
    "tags": []
   },
   "source": [
    "### Load expression data & set up cell metadata"
   ]
  },
  {
   "cell_type": "code",
   "execution_count": null,
   "id": "336c0615-e276-4866-b7e5-59aa33465312",
   "metadata": {},
   "outputs": [],
   "source": [
    "expression_quantified = sc.read_h5ad(f\"not_ready/{dataset_name}/K562_gwps_raw_bulk_01.h5ad\")\n",
    "expression_quantified.var_names = ingestion.convert_ens_to_symbol(\n",
    "    expression_quantified.var_names, \n",
    "    gtf=geneAnnotationPath,\n",
    "    strip_version=True,\n",
    ")\n",
    "expression_quantified"
   ]
  },
  {
   "attachments": {},
   "cell_type": "markdown",
   "id": "d2a6cc7c",
   "metadata": {
    "jp-MarkdownHeadingCollapsed": true,
    "tags": []
   },
   "source": [
    "### Fill `perturbation` & `is_control` and find TF's"
   ]
  },
  {
   "cell_type": "code",
   "execution_count": null,
   "id": "26ca1f8f",
   "metadata": {},
   "outputs": [],
   "source": [
    "human_tfs = pd.read_csv(humanTFPath)\n",
    "human_tfs = human_tfs.loc[human_tfs[\"Is TF?\"]==\"Yes\",:]\n",
    "expression_quantified.obs[\"gene_symbol\"] = [s.split(\"_\")[1] for s in expression_quantified.obs.index]\n",
    "expression_quantified.obs[\"is_tf\"] = expression_quantified.obs[\"gene_symbol\"].isin(human_tfs[\"HGNC symbol\"])\n",
    "expression_quantified.obs[\"ensembl_id\"] = [s.split(\"_\")[3] for s in expression_quantified.obs.index]\n",
    "expression_quantified.obs[\"is_control\"]     = expression_quantified.obs[\"gene_symbol\"].str.contains(\"non\")\n",
    "expression_quantified.obs[\"is_control_int\"] = expression_quantified.obs[\"gene_symbol\"].str.contains(\"non\").astype(\"int\")\n",
    "expression_quantified.obs[\"perturbation\"] = expression_quantified.obs[\"gene_symbol\"]\n",
    "controls = expression_quantified.obs.query(\"is_control\")[\"perturbation\"]\n",
    "expression_quantified.obs[\"is_tf\"].value_counts()"
   ]
  },
  {
   "attachments": {},
   "cell_type": "markdown",
   "id": "57649517-f86e-4207-8028-6c41ecad32f4",
   "metadata": {
    "jp-MarkdownHeadingCollapsed": true,
    "tags": []
   },
   "source": [
    "### Normalization"
   ]
  },
  {
   "cell_type": "code",
   "execution_count": null,
   "id": "dd2194f6-e270-403b-aef3-b1a5eedca186",
   "metadata": {},
   "outputs": [],
   "source": [
    "pseudobulk = expression_quantified.copy()\n",
    "pseudobulk.raw = pseudobulk\n",
    "pseudobulk.X = ingestion.deseq2Normalization(pseudobulk.X.T).T"
   ]
  },
  {
   "cell_type": "code",
   "execution_count": null,
   "id": "ee1bed88-e55f-4444-b804-82d35e29d173",
   "metadata": {
    "tags": []
   },
   "outputs": [],
   "source": [
    "\"\"\" Sanity check: expression for house keeping genes are relatively stable \"\"\"\n",
    "fig, axes = plt.subplots(1, 2, figsize=(8,2))\n",
    "axes[0].hist(pseudobulk.raw.X[:, [idx for idx, n in enumerate(pseudobulk.raw.var.index) if n.upper() == 'ACTB' ]], bins=100, label=\"ACTB\" )\n",
    "axes[1].hist(pseudobulk.raw.X[:, [idx for idx, n in enumerate(pseudobulk.raw.var.index) if n.upper() == 'GAPDH']], bins=100, label=\"GAPDH\")\n",
    "axes[0].legend()\n",
    "axes[1].legend()\n",
    "plt.suptitle(\"Expression across pseudobulk samples\")\n",
    "plt.show()"
   ]
  },
  {
   "cell_type": "code",
   "execution_count": null,
   "id": "17143a71-90f2-44d7-8dd6-92ac411f6b42",
   "metadata": {
    "tags": []
   },
   "outputs": [],
   "source": [
    "plt.figure(figsize=(3,3))\n",
    "logbins = np.geomspace(\n",
    "    pseudobulk.raw.X.sum(axis=0).min(),                    \n",
    "    pseudobulk.raw.X.sum(axis=0).max(), \n",
    "    100)\n",
    "plt.hist(pseudobulk.raw.X.sum(axis=0), \n",
    "         bins=logbins, \n",
    "         log=True, \n",
    "         color=\"orange\")\n",
    "plt.xscale('log')\n",
    "plt.show()"
   ]
  },
  {
   "cell_type": "code",
   "execution_count": null,
   "id": "50d83a52-b7c2-418a-a727-fa5066f585d7",
   "metadata": {
    "tags": []
   },
   "outputs": [],
   "source": [
    "\"\"\" The sum of gene expression before and after normalization \"\"\"\n",
    "fig, axes = plt.subplots(1, 2, figsize=(12,3))\n",
    "axes[0].hist(\n",
    "    pseudobulk.raw.X.sum(axis=1), \n",
    "    bins=100, \n",
    "    log=True, \n",
    "    label=\"before DESeq2 norm\")\n",
    "axes[1].hist(\n",
    "    pseudobulk.X.sum(axis=1), \n",
    "    bins=100, \n",
    "    log=True, \n",
    "    label=\"after DESeq2 norm\")\n",
    "axes[0].legend()\n",
    "axes[1].legend()\n",
    "plt.show()"
   ]
  },
  {
   "cell_type": "code",
   "execution_count": null,
   "id": "0a888235-e7fd-431f-8d0f-0ff0a8ff79ba",
   "metadata": {
    "tags": []
   },
   "outputs": [],
   "source": [
    "\"\"\" Check an exmaple (correlation at expression scale and at logFC scale) \"\"\"\n",
    "\n",
    "TFBePerturb = 'ABCF1'\n",
    "display(pseudobulk[pseudobulk.obs.perturbation == TFBePerturb].obs)\n",
    "expr1 = pseudobulk[pseudobulk.obs.perturbation == TFBePerturb].X[0,:]\n",
    "expr2 = pseudobulk[pseudobulk.obs.perturbation == TFBePerturb].X[1,:]\n",
    "\n",
    "controlExpr  = pseudobulk[pseudobulk.obs.is_control, :].X\n",
    "c1 = np.median(controlExpr.copy(), axis=0)\n",
    "\n",
    "fig, axes = plt.subplots(1,2,figsize=(7,3))\n",
    "logFC1 = np.log2(pseudobulk[pseudobulk.obs.perturbation == TFBePerturb].X[0,:]/c1)\n",
    "logFC2 = np.log2(pseudobulk[pseudobulk.obs.perturbation == TFBePerturb].X[1,:]/c1)\n",
    "validGeneEntry = np.isfinite(logFC1) & np.isfinite(logFC2)\n",
    "logFC1 = logFC1[validGeneEntry]\n",
    "logFC2 = logFC2[validGeneEntry]\n",
    "print(logFC1.shape, logFC2.shape)\n",
    "axes[0].scatter(expr1 , expr2 , s=0.2)\n",
    "axes[0].plot(np.linspace(-1,50,50), np.linspace(-1,50,50), color='red', lw=0.5)\n",
    "axes[1].scatter(logFC1, logFC2, s=0.2)\n",
    "axes[1].plot(np.linspace(-1,1,50), np.linspace(-1,1,50), color='red', lw=0.5)\n",
    "spearmanr(logFC1, logFC2)"
   ]
  },
  {
   "attachments": {},
   "cell_type": "markdown",
   "id": "34600678-0b71-43d1-ba7c-2f74cab0b483",
   "metadata": {
    "jp-MarkdownHeadingCollapsed": true,
    "tags": []
   },
   "source": [
    "### Consistency w/ Perturbation Direction"
   ]
  },
  {
   "cell_type": "code",
   "execution_count": null,
   "id": "b188452a-76e6-4c0f-903f-354c2f978e46",
   "metadata": {
    "tags": []
   },
   "outputs": [],
   "source": [
    "# If verbose is set to True, display disconcordant trials and their controls\n",
    "\n",
    "# Using the fold_expr field it stored in .obs \n",
    "# For perturbations where fold_expr = 0, some\n",
    "# pct_expr = -1, denoting a knockout;\n",
    "# others are nan, denoting lack of data or control run\n",
    "fc = pseudobulk.obs.fold_expr.copy()\n",
    "fc[pseudobulk.obs.pct_expr == -1] = 1e-2  # knockout\n",
    "logFC = np.log2(fc)\n",
    "logFC[np.isnan(logFC)] = -999             # control or no data\n",
    "\n",
    "# Visualize the CRISPRi performance\n",
    "validLogFC = logFC[logFC != -999]\n",
    "rangeMin = np.floor(np.min(validLogFC))\n",
    "rangeMax = np.ceil (np.max(validLogFC))\n",
    "plt.figure(figsize=(4,2.5))\n",
    "plt.hist(validLogFC, \n",
    "         bins=np.linspace(rangeMin, \n",
    "                          rangeMax, \n",
    "                          int((rangeMax-rangeMin)*3+1)), \n",
    "         label=\"Per Trial\")\n",
    "plt.axvline(0, 0, 1, color='red', label=\"No Change\")\n",
    "plt.xlabel(\"Log2 Fold Change (perturbed/control)\")\n",
    "plt.ylabel(\"Count\")\n",
    "plt.legend()\n",
    "plt.show()\n",
    "\n",
    "# Label knockdown outcome\n",
    "status = np.full(logFC.shape[0], \"NA\", dtype=object)\n",
    "status[(logFC <  0) & (logFC != -999)] = \"Yes\"\n",
    "status[(logFC >= 0)] = \"No\"\n",
    "\n",
    "pseudobulk.obs[\"consistentW/Perturbation\"] = status\n",
    "pseudobulk.obs[\"logFC\"] = logFC\n",
    "Counter(status)"
   ]
  },
  {
   "attachments": {},
   "cell_type": "markdown",
   "id": "0c3552ce-9415-421c-892f-c685a28de6b7",
   "metadata": {
    "jp-MarkdownHeadingCollapsed": true,
    "tags": []
   },
   "source": [
    "### Consistency across replications"
   ]
  },
  {
   "cell_type": "code",
   "execution_count": null,
   "id": "ff2c3221-9e1d-4f1c-bafd-6cc6a6be068e",
   "metadata": {},
   "outputs": [],
   "source": [
    "print(f\"Of {pseudobulk.n_obs} observations, {len(set(pseudobulk.obs.perturbation))} unique perturbagen\")"
   ]
  },
  {
   "cell_type": "code",
   "execution_count": null,
   "id": "84787911-9d77-4dad-80e6-4ea7e360eb35",
   "metadata": {
    "scrolled": true,
    "tags": []
   },
   "outputs": [],
   "source": [
    "# !! A very small proportion of perturbations have replications\n",
    "correlations = ingestion.computeCorrelation(pseudobulk, verbose=True)\n",
    "pseudobulk.obs[\"spearmanCorr\"] = correlations[0]\n",
    "pseudobulk.obs[ \"pearsonCorr\"] = correlations[1]"
   ]
  },
  {
   "attachments": {},
   "cell_type": "markdown",
   "id": "f224a0b1-2bf8-4f50-9412-cdd8cf787010",
   "metadata": {
    "jp-MarkdownHeadingCollapsed": true,
    "tags": []
   },
   "source": [
    "### Perturbation Effect"
   ]
  },
  {
   "cell_type": "code",
   "execution_count": null,
   "id": "9e3772da-1e99-4db7-b70d-30ef43bf79fe",
   "metadata": {},
   "outputs": [],
   "source": [
    "\"\"\"\n",
    "Downloaded from http://humantfs.ccbr.utoronto.ca/download.php \"\"\"\n",
    "TFList = pd.read_csv(humanTFPath, index_col=0).iloc[:, [1,3]]\n",
    "TFDict = dict([tuple(i) for i in TFList.to_numpy().tolist() if i[1] == 'Yes'])\n",
    "\n",
    "\"\"\"\n",
    "Downloaded from https://epifactors.autosome.org/description \"\"\"\n",
    "EpiList = pd.read_csv(humanEpiPath, index_col=0).iloc[:, [0,14]]\n",
    "EpiDict = dict([tuple(i) for i in EpiList.to_numpy().tolist()])"
   ]
  },
  {
   "attachments": {},
   "cell_type": "markdown",
   "id": "2457a4c5",
   "metadata": {},
   "source": [
    "### How big are the effects?\n",
    "\n",
    "We examine different quantitative measures that answer this question. Some discriminate poorly among large effects (p-values all ~=0), and some discriminate poorly among small effects (count of DE genes). "
   ]
  },
  {
   "cell_type": "code",
   "execution_count": null,
   "id": "1517a3ab-48ca-43bf-84c2-63cbd676983a",
   "metadata": {
    "collapsed": true,
    "jupyter": {
     "outputs_hidden": true
    },
    "scrolled": true,
    "tags": []
   },
   "outputs": [],
   "source": [
    "\"\"\" If want to look at bigness on TF only \"\"\"\n",
    "TFVar = [i for i,p in enumerate(pseudobulk.var.index) if p in TFDict or p in EpiDict]\n",
    "pseudobulkTFOnly = pseudobulk[:, TFVar].copy()\n",
    "ingestion.quantifyEffect(adata=pseudobulkTFOnly, \n",
    "                         fname=perturbEffectTFOnlyPath, \n",
    "                         group=None, \n",
    "                         diffExprFC=False, \n",
    "                         prefix=\"TFOnly\", \n",
    "                         withDEG=False, \n",
    "                         withMI=False)"
   ]
  },
  {
   "cell_type": "code",
   "execution_count": null,
   "id": "a6821a1d-9964-4186-acf4-ffce0c837198",
   "metadata": {
    "collapsed": true,
    "jupyter": {
     "outputs_hidden": true
    },
    "scrolled": true,
    "tags": []
   },
   "outputs": [],
   "source": [
    "ingestion.quantifyEffect(adata=pseudobulk, \n",
    "                         fname=perturbEffectFullTranscriptomePath, \n",
    "                         group=None,\n",
    "                         diffExprFC=False, \n",
    "                         prefix=\"\",\n",
    "                         withDEG=False, \n",
    "                         withMI=False)\n",
    "\n",
    "listOfMetrics = [\"DEG\", \"MI\", \"logFCMean\", \"logFCNorm2\", \"logFCMedian\"]\n",
    "for m in listOfMetrics:\n",
    "    pseudobulk.obs[f\"TFOnly{m}\"] = pseudobulkTFOnly.obs[f\"TFOnly{m}\"]"
   ]
  },
  {
   "cell_type": "code",
   "execution_count": null,
   "id": "1954aa27-99e0-47c3-9ff4-0258903ac656",
   "metadata": {
    "tags": []
   },
   "outputs": [],
   "source": [
    "metricOfInterest = [\"mean_leverage_score\", 'energy_test_p_value', 'anderson_darling_counts', \n",
    "                    'mann_whitney_counts', 'logFCNorm2']\n",
    "ingestion.checkPerturbationEffectMetricCorrelation(pseudobulk, metrics=metricOfInterest)"
   ]
  },
  {
   "cell_type": "code",
   "execution_count": 17,
   "id": "854c8ed6-a861-4057-918d-f1ecf87a3912",
   "metadata": {
    "tags": []
   },
   "outputs": [
    {
     "ename": "NameError",
     "evalue": "name 'metricOfInterest' is not defined",
     "output_type": "error",
     "traceback": [
      "\u001b[0;31m---------------------------------------------------------------------------\u001b[0m",
      "\u001b[0;31mNameError\u001b[0m                                 Traceback (most recent call last)",
      "Cell \u001b[0;32mIn[17], line 5\u001b[0m\n\u001b[1;32m      1\u001b[0m \u001b[39m# Unable to look at everything\u001b[39;00m\n\u001b[1;32m      2\u001b[0m \u001b[39m# Thus, look only at perturbation that results in more than 1000 DEGs\u001b[39;00m\n\u001b[1;32m      3\u001b[0m ingestion\u001b[39m.\u001b[39mvisualizePerturbationEffect(\n\u001b[1;32m      4\u001b[0m     pseudobulk[pseudobulk\u001b[39m.\u001b[39mobs\u001b[39m.\u001b[39mmann_whitney_counts \u001b[39m>\u001b[39m \u001b[39m1000\u001b[39m], \n\u001b[0;32m----> 5\u001b[0m     metrics\u001b[39m=\u001b[39mmetricOfInterest, \n\u001b[1;32m      6\u001b[0m     TFDict\u001b[39m=\u001b[39mTFDict, \n\u001b[1;32m      7\u001b[0m     EpiDict\u001b[39m=\u001b[39mEpiDict\n\u001b[1;32m      8\u001b[0m )\n",
      "\u001b[0;31mNameError\u001b[0m: name 'metricOfInterest' is not defined"
     ]
    }
   ],
   "source": [
    "# Unable to look at everything\n",
    "# Thus, look only at perturbation that results in more than 1000 DEGs\n",
    "ingestion.visualizePerturbationEffect(\n",
    "    pseudobulk[pseudobulk.obs.mann_whitney_counts > 1000], \n",
    "    metrics=metricOfInterest, \n",
    "    TFDict=TFDict, \n",
    "    EpiDict=EpiDict\n",
    ")"
   ]
  },
  {
   "cell_type": "code",
   "execution_count": null,
   "id": "ce20a34e-7188-4bfe-bef2-98d37baa4f84",
   "metadata": {
    "tags": []
   },
   "outputs": [],
   "source": [
    "for idx, p in enumerate(sorted(set([(i,j) for i,j in pseudobulk.obs[['perturbation', 'logFCNorm2']].to_numpy()]), key=lambda x: x[1])):\n",
    "    print(idx, p)"
   ]
  },
  {
   "cell_type": "code",
   "execution_count": null,
   "id": "15acb451-3ea4-4258-a6ca-0ba2acc98ffd",
   "metadata": {
    "tags": []
   },
   "outputs": [],
   "source": [
    "ingestion.visualizePerturbationMetadata(pseudobulk, \n",
    "                                        x=\"mann_whitney_counts\", \n",
    "                                        y=\"logFC\", \n",
    "                                        style=\"consistentW/Perturbation\", \n",
    "                                        hue=\"logFCNorm2\", \n",
    "                                        markers=['^', 'o'],\n",
    "                                        s=25)\n",
    "pseudobulk.obs.head()"
   ]
  },
  {
   "attachments": {},
   "cell_type": "markdown",
   "id": "c2d8d347",
   "metadata": {
    "jp-MarkdownHeadingCollapsed": true,
    "tags": []
   },
   "source": [
    "### Basic EDA"
   ]
  },
  {
   "cell_type": "code",
   "execution_count": null,
   "id": "97c2e7b3",
   "metadata": {},
   "outputs": [],
   "source": [
    "sc.pp.log1p(pseudobulk)\n",
    "sc.pp.highly_variable_genes(pseudobulk, n_bins=50, n_top_genes = pseudobulk.var.shape[0], flavor = \"seurat_v3\" )\n",
    "print(pseudobulk.var.shape)\n",
    "print(pseudobulk.var.columns)\n",
    "pseudobulk.var.head()"
   ]
  },
  {
   "cell_type": "code",
   "execution_count": null,
   "id": "7b3c35bf",
   "metadata": {},
   "outputs": [],
   "source": [
    "\n",
    "sc.pl.highly_variable_genes(pseudobulk)\n",
    "with warnings.catch_warnings():\n",
    "    sc.tl.pca(pseudobulk, n_comps=100)\n",
    "sc.pp.neighbors(pseudobulk)\n",
    "sc.tl.umap(pseudobulk)\n",
    "clusterResolutions = []\n",
    "sc.tl.leiden(pseudobulk)"
   ]
  },
  {
   "cell_type": "code",
   "execution_count": null,
   "id": "5216afa0",
   "metadata": {
    "scrolled": true
   },
   "outputs": [],
   "source": [
    "plt.rcParams['figure.figsize'] = [6, 4.5]\n",
    "sc.pl.umap(pseudobulk, color = [\n",
    "    \"is_control_int\",\n",
    "    'UMI_count_unfiltered', 'num_cells_unfiltered', 'num_cells_filtered',\n",
    "       'control_expr', 'fold_expr', \n",
    "       'mean_leverage_score', 'std_leverage_score', 'energy_test_p_value',\n",
    "       'anderson_darling_counts', 'mann_whitney_counts', 'z_gemgroup_UMI',\n",
    "       'mitopercent', 'TE_ratio', 'cnv_score_z',\n",
    "])"
   ]
  },
  {
   "cell_type": "code",
   "execution_count": null,
   "id": "67046ea2-9c96-4e26-bf02-112272837e82",
   "metadata": {},
   "outputs": [],
   "source": [
    "\"\"\" Keep everything that gets correctly knocked down. -999 applies to controls and unmeasured perturbed genes.\"\"\"\n",
    "pseudobulk = pseudobulk[(pseudobulk.obs.logFC < 0) | (pseudobulk.obs.logFC == -999),:].copy()"
   ]
  },
  {
   "cell_type": "code",
   "execution_count": null,
   "id": "84b48ae3",
   "metadata": {},
   "outputs": [],
   "source": [
    "perturbed_genes = set(list(pseudobulk.obs['perturbation'].unique())).difference(controls)\n",
    "perturbed_and_measured_genes = perturbed_genes.intersection(pseudobulk.var.index)\n",
    "perturbed_but_not_measured_genes = perturbed_genes.difference(pseudobulk.var.index)\n",
    "print(len(perturbed_genes))\n",
    "print(\"These genes were perturbed but not measured:\")\n",
    "print(len(perturbed_but_not_measured_genes))\n",
    "pseudobulk.uns[\"perturbed_and_measured_genes\"]     = list(perturbed_and_measured_genes)\n",
    "pseudobulk.uns[\"perturbed_but_not_measured_genes\"] = list(perturbed_but_not_measured_genes)\n",
    "pseudobulk = ingestion.describe_perturbation_effect(pseudobulk, \"knockdown\")"
   ]
  },
  {
   "cell_type": "code",
   "execution_count": null,
   "id": "ba9c754c",
   "metadata": {
    "scrolled": true
   },
   "outputs": [],
   "source": [
    "os.makedirs(f\"perturbations/{dataset_name}\", exist_ok = True)\n",
    "pseudobulk.write_h5ad(f\"perturbations/{dataset_name}/test.h5ad\")"
   ]
  },
  {
   "attachments": {},
   "cell_type": "markdown",
   "id": "dddfbd6c",
   "metadata": {},
   "source": [
    "### Only TF's\n",
    "\n",
    "Below, we subset just the samples where TF's are perturbed (and the controls)."
   ]
  },
  {
   "cell_type": "code",
   "execution_count": 7,
   "id": "36ab44ec",
   "metadata": {},
   "outputs": [
    {
     "name": "stdout",
     "output_type": "stream",
     "text": [
      "Is TF?\n",
      "No     9252\n",
      "Yes    1689\n",
      "Name: count, dtype: int64\n",
      "OverloadedDict, wrapping:\n",
      "\t{'hvg': {'flavor': 'seurat_v3'}, 'leiden': {'params': {'n_iterations': -1, 'random_state': 0, 'resolution': 1}}, 'log1p': {}, 'neighbors': {'connectivities_key': 'connectivities', 'distances_key': 'distances', 'params': {'method': 'umap', 'metric': 'euclidean', 'n_neighbors': 15, 'random_state': 0}}, 'pca': {'params': {'use_highly_variable': True, 'zero_center': True}, 'variance': array([1.0760996 , 0.67853737, 0.44488195, 0.3002128 , 0.22484879,\n",
      "       0.16062291, 0.14863642, 0.131709  , 0.12376022, 0.10616101,\n",
      "       0.09309376, 0.08144835, 0.07646364, 0.0735774 , 0.05987897,\n",
      "       0.05835764, 0.0567736 , 0.05220428, 0.05017737, 0.04898355,\n",
      "       0.04750114, 0.04498466, 0.04281035, 0.04168032, 0.04070834,\n",
      "       0.03891734, 0.03783587, 0.0369512 , 0.03578322, 0.03480855,\n",
      "       0.03414743, 0.03278113, 0.03217657, 0.03161468, 0.02981188,\n",
      "       0.02950421, 0.02855336, 0.02805476, 0.02775101, 0.02730792,\n",
      "       0.02657875, 0.0261285 , 0.02566743, 0.02553968, 0.02479563,\n",
      "       0.02418003, 0.02384761, 0.02369227, 0.0233625 , 0.02306518,\n",
      "       0.02257272, 0.02249337, 0.0221889 , 0.02190873, 0.02146398,\n",
      "       0.02137196, 0.02104988, 0.0206867 , 0.02034117, 0.02029906,\n",
      "       0.01986175, 0.01970896, 0.01933819, 0.01918423, 0.0191147 ,\n",
      "       0.01903933, 0.01888806, 0.01849669, 0.01819769, 0.01798103,\n",
      "       0.01778237, 0.01767835, 0.0175715 , 0.01724317, 0.01719148,\n",
      "       0.01710922, 0.0168047 , 0.01666411, 0.01654096, 0.01647856,\n",
      "       0.01636201, 0.01622227, 0.01581989, 0.01579886, 0.01563972,\n",
      "       0.01557356, 0.0154737 , 0.01533436, 0.01503169, 0.01496998,\n",
      "       0.01492891, 0.0148265 , 0.01477766, 0.01469812, 0.01450584,\n",
      "       0.01441986, 0.01433038, 0.01426272, 0.01415141, 0.01412479],\n",
      "      dtype=float32), 'variance_ratio': array([0.05542549, 0.03494868, 0.02291405, 0.01546273, 0.01158104,\n",
      "       0.00827303, 0.00765565, 0.00678379, 0.00637438, 0.00546792,\n",
      "       0.00479488, 0.00419507, 0.00393833, 0.00378967, 0.00308412,\n",
      "       0.00300576, 0.00292418, 0.00268883, 0.00258443, 0.00252294,\n",
      "       0.00244659, 0.00231698, 0.00220499, 0.00214678, 0.00209672,\n",
      "       0.00200447, 0.00194877, 0.00190321, 0.00184305, 0.00179285,\n",
      "       0.00175879, 0.00168842, 0.00165728, 0.00162834, 0.00153549,\n",
      "       0.00151964, 0.00147067, 0.00144499, 0.00142934, 0.00140652,\n",
      "       0.00136896, 0.00134577, 0.00132202, 0.00131544, 0.00127712,\n",
      "       0.00124541, 0.00122829, 0.00122029, 0.00120331, 0.00118799,\n",
      "       0.00116263, 0.00115854, 0.00114286, 0.00112843, 0.00110552,\n",
      "       0.00110078, 0.00108419, 0.00106549, 0.00104769, 0.00104552,\n",
      "       0.001023  , 0.00101513, 0.00099603, 0.0009881 , 0.00098452,\n",
      "       0.00098064, 0.00097285, 0.00095269, 0.00093729, 0.00092613,\n",
      "       0.0009159 , 0.00091054, 0.00090504, 0.00088813, 0.00088546,\n",
      "       0.00088123, 0.00086554, 0.0008583 , 0.00085196, 0.00084874,\n",
      "       0.00084274, 0.00083554, 0.00081482, 0.00081373, 0.00080554,\n",
      "       0.00080213, 0.00079699, 0.00078981, 0.00077422, 0.00077104,\n",
      "       0.00076893, 0.00076365, 0.00076114, 0.00075704, 0.00074714,\n",
      "       0.00074271, 0.0007381 , 0.00073461, 0.00072888, 0.00072751],\n",
      "      dtype=float32)}, 'perturbed_and_measured_genes': ['NFATC3', 'RFX2', 'CLOCK', 'TSC22D1', 'ZNF26', 'ZNF576', 'ZNF143', 'PITX1', 'XBP1', 'MITF', 'FOXG1', 'ZFP91', 'ZNF493', 'ZNF429', 'EGR1', 'CBX2', 'SETDB2', 'KDM5B', 'FOXP1', 'ZNF280B', 'ZKSCAN1', 'ZNF827', 'ZNF451', 'CEBPZ', 'STAT6', 'ZBTB7A', 'IKZF3', 'ZNF664', 'DMTF1', 'ZBTB43', 'JUN', 'SRF', 'ATF3', 'MYBL2', 'GPBP1L1', 'ZNF197', 'ARID3A', 'ZNF200', 'ELK4', 'ZNF384', 'ZNF587B', 'RXRB', 'CENPS', 'ZXDC', 'SOX4', 'SREBF2', 'LIN28B', 'ATF6B', 'NCOA3', 'HES4', 'ZNF121', 'CC2D1A', 'ZNF100', 'MTF2', 'ZNF770', 'SOX18', 'ZFX', 'ZNF286A', 'TET1', 'ARHGAP35', 'ZNF146', 'SAFB2', 'ZNF695', 'BPTF', 'HBP1', 'TAL1', 'ZNF205', 'ZNF281', 'ZNF787', 'PKNOX1', 'ZNF207', 'AKAP8L', 'GATA2', 'EEA1', 'JUND', 'ATF4', 'ZNF566', 'IKZF5', 'ZBTB11', 'CREB3', 'E2F2', 'CTCF', 'BAZ2A', 'PURB', 'TBPL1', 'ZNF92', 'NFXL1', 'ZNF408', 'NFE2L2', 'ZNF385A', 'SRCAP', 'ZNF800', 'SMAD1', 'MEF2C', 'SP100', 'MYSM1', 'ATMIN', 'ZBTB10', 'TFDP1', 'TGIF2', 'MLXIP', 'ZNF33B', 'DLX4', 'RBPJ', 'DOT1L', 'CUX1', 'JRK', 'PLAGL2', 'ZNF780A', 'NCOA1', 'NFE2', 'FOXK2', 'CREBZF', 'LEF1', 'ZBTB40', 'ZHX3', 'ZNF8', 'DNMT1', 'ZNF581', 'DDIT3', 'THAP3', 'ZNF160', 'HOXB9', 'ZNF292', 'E4F1', 'TBP', 'ZNF684', 'MEIS2', 'TFDP2', 'CEBPB', 'HMG20A', 'TBX19', 'ZNF830', 'ZNF212', 'SP2', 'TET2', 'MAX', 'TCF7', 'ZNF124', 'NR6A1', 'MYRF', 'MLX', 'ATF6', 'ZNF768', 'E2F6', 'MXD1', 'PAX6', 'TERF1', 'ZNF598', 'KLF1', 'ZNF711', 'ZNF274', 'ZNF587', 'ZNF74', 'PRDM4', 'PHF21A', 'ARID2', 'MBNL2', 'ZNF518B', 'SMAD5', 'ZNF519', 'SNAPC5', 'NR2C2', 'REST', 'ARID5A', 'MAZ', 'CDC5L', 'PA2G4', 'ZNF394', 'ZNF761', 'JUNB', 'MYC', 'HES6', 'HMGN3', 'ZBTB8A', 'CHCHD3', 'FOXP4', 'STAT3', 'CPEB1', 'ZNF644', 'HMX3', 'ZKSCAN5', 'TTF1', 'ETV5', 'ZNF696', 'ZNF84', 'UBP1', 'YBX1', 'ARID3B', 'NCOA2', 'NFKB1', 'ZNF706', 'ZNF414', 'CXXC5', 'SOX1', 'SETDB1', 'PRMT3', 'THAP7', 'ZNF740', 'ZNF500', 'ZNF681', 'ZNF655', 'PRR12', 'GABPA', 'TET3', 'TBX18', 'E2F3', 'MBD4', 'NR1H2', 'ZNF507', 'TCF3', 'NR2F2', 'ZNF652', 'PCGF2', 'IKZF4', 'GATAD2B', 'TBX1', 'REPIN1', 'RLF', 'AEBP2', 'THAP4', 'LCOR', 'ZNF440', 'ZBED1', 'PBX2', 'ZNF397', 'ZNF428', 'FOXN2', 'ZNF514', 'DNTTIP1', 'TOPORS', 'ZNF282', 'ZNF277', 'ASH1L', 'NR3C1', 'ZNF629', 'FOXO1', 'ZNF511', 'E2F1', 'FEV', 'ZNF736', 'ZNF276', 'ZNF510', 'CREB3L2', 'SON', 'THAP6', 'ZNF75A', 'SLC2A4RG', 'SMYD3', 'ZNF764', 'GLYR1', 'ZNF672', 'ZNF689', 'STAT1', 'RREB1', 'HOXB7', 'HSF2', 'ANKZF1', 'ARID5B', 'ZNF398', 'ZNF12', 'SPI1', 'ZNF708', 'ATF7', 'REL', 'ZNF76', 'FOXM1', 'ISL2', 'NFIL3', 'BRF2', 'NAIF1', 'ZNF217', 'ZNF746', 'HOXC10', 'NFE2L1', 'ZNF529', 'ZNF263', 'NKRF', 'ZNF175', 'SP110', 'ZNF670', 'AHCTF1', 'HOMEZ', 'HHEX', 'MXD3', 'ZFPM1', 'CHAMP1', 'KLF13', 'ZNF268', 'HMBOX1', 'ZNF785', 'DRAP1', 'SATB2', 'SMAD4', 'AHDC1', 'RFX5', 'ZNF431', 'ZNF91', 'PCGF6', 'ATF5', 'BACH1', 'CXXC1', 'CENPBD1', 'MTF1', 'CEBPG', 'ZNF749', 'AKAP8', 'PPARA', 'RXRA', 'ZNF410', 'SP1', 'PATZ1', 'WIZ', 'MBD2', 'ZNF138', 'ZNF777', 'BHLHE40', 'NACC2', 'THAP12', 'ZEB1', 'KLF9', 'ZNF83', 'NR2C1', 'ZNF280D', 'STAT5B', 'THRA', 'ZNF24', 'TEAD1', 'ZNF592', 'ZBTB24', 'ZNF700', 'HOXC9', 'THAP1', 'HIVEP3', 'ZNF318', 'ZSCAN12', 'REXO4', 'RFX1', 'ZBTB1', 'GTF2I', 'THRB', 'ZNF117', 'ELK3', 'ERF', 'ZBTB21', 'MECP2', 'RFX7', 'ZNF678', 'ZNF775', 'SKIL', 'NFYC', 'TFCP2', 'ZNF766', 'GFI1B', 'SNAPC2', 'TRAFD1', 'KDM2A', 'ADNP2', 'FAM200B', 'ADNP', 'GATA1', 'HINFP', 'MEF2A', 'EPAS1', 'ZNF28', 'ELK1', 'ZNF580', 'HSF1', 'JDP2', 'KAT7', 'FOXO3', 'TFAP4', 'ZNF512', 'CEBPD', 'ZBTB33', 'KMT2B', 'KLF11', 'ZNF595', 'ZNF37A', 'NFIA', 'ZKSCAN8', 'USF2', 'ETV6', 'ZNF714', 'GATAD2A', 'ZNF326', 'ZNF589', 'PRDM2', 'ZNF675', 'ZNF260', 'ETS2', 'ZNF430', 'MXD4', 'GLI4', 'GMEB2', 'ZNF131', 'MBD6', 'ZNF771', 'ZFPM2', 'ZNF611', 'ZBTB48', 'MSX1', 'CENPT', 'GZF1', 'TIGD5', 'ZNF267', 'KLF16', 'ASCL2', 'TGIF1', 'ZNF791', 'MSANTD3', 'BBX', 'ZNF35', 'CENPB', 'NR1D2', 'ZBED4', 'ZNF668', 'MNX1', 'SOX12', 'ZNF518A', 'THYN1', 'PHF20', 'ETV4', 'ARNT', 'NFIC', 'ZNF273', 'ZBTB41', 'HIF1A', 'ZNF891', 'SALL2', 'NFX1', 'TCF4', 'ZNF426', 'GTF3A', 'MGA', 'CREB1', 'KLF3', 'ZNF22', 'IKZF1', 'MBD3', 'TEAD4', 'LHX6', 'ZNF561', 'ZNF3', 'POU2F1', 'RBCK1', 'CAMTA1', 'SREBF1', 'LIN54', 'XPA', 'NFYB', 'ATF1', 'KIN', 'NFAT5', 'SCMH1', 'ATF2', 'ONECUT2', 'ZNF789', 'E2F5', 'HIC2', 'ZNF669', 'ZNF283', 'YY1', 'CREM', 'GMEB1', 'ZNF346', 'TCF7L2', 'PREB', 'ELF1', 'ZNF574', 'ZNF195', 'KCMF1', 'ZHX1', 'TERF2', 'HMG20B', 'CGGBP1', 'TCF12', 'THAP11', 'LCORL', 'TCF20', 'FIZ1', 'ZNF496', 'MAFG', 'FOXC1', 'VEZF1', 'ESRRA', 'ZNF148', 'ARNTL2', 'PLAGL1', 'TMF1', 'ZNF609', 'SPEN', 'GTF2B', 'HMGA1', 'ZNF7', 'AEBP1', 'RBAK', 'FOXL2', 'KLF6', 'MYNN', 'SAFB', 'GPBP1', 'SHOX2', 'ZNF444', 'PLSCR1', 'ZNF358', 'ZNF562', 'SP3', 'PIN1', 'ZNF544', 'ZNF445', 'SIX1', 'LYL1', 'YBX3', 'ZKSCAN4', 'ZBTB39', 'ZBTB44', 'ZSCAN9', 'ZNF480', 'DR1', 'ZBTB37', 'ZNF224', 'POU4F1', 'MXI1', 'ZNF33A', 'HOXB3', 'BAZ2B', 'ZNF579', 'MNT', 'ZBTB2', 'PURA', 'ZNF567', 'FBXL19', 'ELF2', 'MYB', 'CIC', 'TCF15', 'HOXB4', 'CTCFL', 'E2F8', 'E2F4', 'IRF3', 'ZC3H8', 'FOXK1', 'KMT2A', 'WT1', 'HOXC8', 'ZNF721', 'ZBTB17', 'ZNF526', 'POGK', 'ZIC2', 'FOXJ3', 'ZNF621', 'ZNF226', 'NFE2L3', 'PHF1', 'RELA', 'FOXN3', 'ZNF248', 'ZNF639', 'HES1', 'RHOXF2B', 'ZNF32', 'ZBED5', 'TFAP2A', 'NR2F6', 'ZNF107', 'ZNF692', 'ZNF680', 'THAP5', 'ZNF322', 'CENPA', 'ZNF317', 'ZNF512B', 'STAT5A', 'DEAF1', 'ZBTB38', 'ZNF254', 'ZSCAN30', 'RUNX2'], 'perturbed_but_not_measured_genes': ['ZNF461', 'ZNF888', 'SNAI2', 'ZNF80', 'NKX2-8', 'LHX9', 'CREBL2', 'PRDM12', 'RAX2', 'ZNF419', 'FOXN4', 'FOXH1', 'ZNF560', 'ZNF57', 'SOX10', 'GATA3', 'PPARG', 'ZNF287', 'ZNF728', 'ZNF536', 'POU3F2', 'THAP2', 'ZNF34', 'ZNF470', 'KLF8', 'ZNF790', 'ZNF341', 'USF1', 'CAMTA2', 'MSANTD4', 'ZSCAN10', 'NPAS3', 'ZNF823', 'CRX', 'ZNF319', 'BATF3', 'OTX2', 'ZNF25', 'HOXC12', 'NKX2-3', 'SOX14', 'CEBPA', 'ZXDB', 'ZNF133', 'ZNF362', 'EGR2', 'PDX1', 'ZNF416', 'NANOG', 'CSRNP1', 'ESRRG', 'ZNF236', 'ZNF707', 'ASCL4', 'ZFP14', 'ZNF688', 'ZNF157', 'RELB', 'OLIG2', 'RARG', 'MAFK', 'TLX2', 'TLX3', 'ZNF691', 'NEUROG2', 'ZNF471', 'ZNF778', 'ZSCAN21', 'SP140', 'ZNF90', 'ZNF44', 'ZNF202', 'GATA4', 'ZMAT1', 'TCFL5', 'SOHLH1', 'FOXA1', 'ZNF578', 'ZNF705D', 'FOXD3', 'ZNF667', 'ZNF662', 'ZNF182', 'TBX10', 'AKNA', 'FOXD1', 'ZNF396', 'ZHX2', 'GTF2IRD2B', 'ZNF620', 'HMX2', 'PAX9', 'IRF7', 'TFAP2D', 'PURG', 'SGSM2', 'TP73', 'ZNF628', 'FOXB2', 'ZNF607', 'ZNF558', 'PRDM5', 'TIGD3', 'TBX4', 'PROX1', 'MSC', 'ZNF417', 'MEF2D', 'HES5', 'NR2E3', 'NR1I3', 'ZBED2', 'LIN28A', 'ZNF490', 'DPF3', 'ZNF732', 'ZNF703', 'ZNF606', 'NANOGNB', 'ZNF155', 'TP53', 'RFX8', 'ZNF705B', 'EMX1', 'ZNF250', 'ZNF559', 'AHRR', 'ZNF350', 'ZNF280C', 'TIGD1', 'DMRT1', 'ZSCAN5A', 'DLX1', 'INSM2', 'POU3F1', 'NEUROD6', 'GSX2', 'KLF2', 'NKX1-1', 'ATOH7', 'HOXA9', 'TSHZ1', 'NKX6-2', 'PAX2', 'BATF', 'ZFP41', 'ZBTB25', 'TSHZ3', 'ZSCAN32', 'MYF6', 'EN1', 'IRF8', 'ZNF324', 'FOXR2', 'NKX3-1', 'HESX1', 'ZNF776', 'ZNF503', 'GSC', 'HDX', 'TEF', 'ZNF132', 'ZNF850', 'ZSCAN25', 'ZNF569', 'ZFP57', 'ZNF821', 'ZBTB7C', 'FOSB', 'DBP', 'ZIC3', 'ZNF600', 'NKX6-1', 'ZNF474', 'POU5F1', 'ZNF222', 'ZNF843', 'HOXA1', 'SEBOX', 'TWIST2', 'NKX2-6', 'KLF7', 'TFEB', 'TBX5', 'DLX3', 'TSHZ2', 'ZNF391', 'ZNF256', 'CDX4', 'ZSCAN23', 'ETV2', 'FOXD4L1', 'ZNF443', 'HOXC13', 'PGR', 'GTF2IRD1', 'ZNF730', 'FOXO4', 'ZIC4', 'ZNF335', 'ZNF253', 'HIC1', 'CPXCR1', 'UNCX', 'LHX5', 'ZNF71', 'TBPL2', 'ZNF699', 'HOXB1', 'ZFP1', 'PITX2', 'CUX2', 'OSR2', 'MYCN', 'HOXD3', 'NR5A2', 'ZKSCAN7', 'OVOL1', 'ZNF439', 'ZNF610', 'ZSCAN31', 'TRERF1', 'ZNF141', 'SIM2', 'ZBTB9', 'SOX5', 'ZFP28', 'ZNF615', 'ZNF18', 'ZSCAN20', 'FOSL1', 'ZNF674', 'ZNF483', 'ZBTB3', 'ZNF180', 'HEYL', 'SP4', 'GBX1', 'THAP8', 'BCL11B', 'NEUROD4', 'SPZ1', 'ZNF134', 'ZNF354A', 'HAND2', 'TCF21', 'PRDM14', 'ZNF550', 'ZNF641', 'BHLHE41', 'FERD3L', 'TFCP2L1', 'ZNF43', 'CARF', 'NKX2-1', 'LHX1', 'ZNF484', 'HNF4G', 'DZIP1', 'ZNF232', 'GRHL1', 'HOXA4', 'ZNF653', 'ZNF623', 'ZNF442', 'PAX7', 'ZNF501', 'HIF3A', 'ZNF658', 'CREB3L4', 'ZNF582', 'ZNF781', 'PRDM15', 'OLIG3', 'ZBTB14', 'OTP', 'FIGLA', 'BATF2', 'ZNF836', 'IRX3', 'ZNF467', 'FOXJ2', 'NHLH1', 'ZNF782', 'HOXD12', 'ZNF48', 'NR4A1', 'NEUROG1', 'ZNF786', 'PAX4', 'GLIS3', 'GLI3', 'ZNF16', 'LMX1A', 'ZNF793', 'ZNF524', 'ONECUT1', 'EVX1', 'TRPS1', 'ZNF235', 'HSF4', 'TFAP2C', 'ELF5', 'IRF2', 'ZNF331', 'FOXL1', 'NKX1-2', 'MEIS1', 'HOXA5', 'ZNF460', 'ZNF468', 'ZNF462', 'ZNF568', 'ZFY', 'ZNF208', 'ZNF865', 'FOXC2', 'ZNF479', 'ZNF846', 'HOXC6', 'NFIX', 'ZNF557', 'MYRFL', 'BACH2', 'L3MBTL1', 'HOXA2', 'TAL2', 'ZNF772', 'SALL3', 'NPAS2', 'HOXD13', 'ZNF181', 'TCF24', 'ZNF597', 'ZIC5', 'ZNF311', 'ZIM2', 'ZNF816', 'ZBTB34', 'MYT1L', 'DMRTC2', 'ZNF446', 'GCM1', 'ZNF586', 'ZSCAN2', 'FLI1', 'NR1I2', 'DLX5', 'SOX3', 'PRRX2', 'ZNF599', 'ZNF709', 'ZNF540', 'DPF1', 'ZNF385C', 'ALX1', 'ONECUT3', 'FAM170A', 'FOXE3', 'AR', 'ZNF286B', 'SIX4', 'BARHL1', 'FOXE1', 'HOXB6', 'ZFP82', 'RARA', 'PRDM10', 'HMX1', 'ZKSCAN2', 'ZNF774', 'SKOR1', 'SCML4', 'ZNF665', 'ZNF546', 'NR2E1', 'EBF2', 'ZNF280A', 'ZNF541', 'ZNF93', 'NKX2-4', 'NR1H3', 'ZNF234', 'ZNF584', 'FOXI2', 'TWIST1', 'ZNF438', 'ZNF304', 'LMX1B', 'DMBX1', 'FOXN1', 'TBX20', 'HOXC4', 'VAX1', 'GCM2', 'TLX1', 'ZNF415', 'SOX2', 'OSR1', 'ZBTB4', 'CDX1', 'SCRT2', 'ZBED6', 'POU2F3', 'VENTX', 'ZNF837', 'ZNF549', 'SALL4', 'HLF', 'ISL1', 'ZNF454', 'HNF4A', 'NFATC4', 'ZNF221', 'GFI1', 'TIGD6', 'ZNF85', 'OLIG1', 'ZNF701', 'ZFP3', 'FOXP2', 'YY2', 'MKX', 'ZNF79', 'SMAD3', 'ZNF436', 'ZSCAN26', 'ZNF264', 'ZNF564', 'FOXA3', 'AIRE', 'POU6F1', 'ZNF425', 'ZNF135', 'PRDM16', 'FOXR1', 'ZNF184', 'ZNF23', 'MSX2', 'ZNF683', 'SKOR2', 'ZNF585A', 'OVOL2', 'ZNF502', 'ZNF385B', 'PAX8', 'ZNF302', 'EHF', 'SPIB', 'PRDM1', 'MZF1', 'ZNF214', 'PHOX2B', 'ZNF189', 'ZBTB26', 'ZNF251', 'ZNF594', 'ZNF773', 'ETV3', 'HOXD10', 'SP140L', 'ANHX', 'HOXA11', 'ZNF735', 'TIGD7', 'TGIF2LY', 'FOXI1', 'ZNF624', 'OVOL3', 'ZNF547', 'ZNF783', 'SALL1', 'MEIS3', 'PBX4', 'HSF5', 'HOXC5', 'EVX2', 'NEUROD2', 'BSX', 'ZNF223', 'TGIF2LX', 'ZNF616', 'NEUROG3', 'PRDM8', 'ZNF804B', 'TIGD4', 'DLX6', 'ZFP37', 'ZNF70', 'ZNF382', 'ZNF814', 'ZKSCAN3', 'BCL11A', 'EGR3', 'ZNF516', 'PRDM13', 'ZNF433', 'POU2F2', 'ZNF329', 'FOXO6', 'GSX1', 'IRF9', 'GBX2', 'IRX6', 'PBX1', 'ETV1', 'TBX6', 'MYT1', 'DBX1', 'ASCL1', 'ZBTB8B', 'SPIC', 'VDR', 'BHLHE22', 'ZFP64', 'ZNF852', 'BHLHE23', 'GTF2IRD2', 'ZNF395', 'ZNF485', 'ZNF583', 'FEZF2', 'ZNF552', 'ZNF765', 'IRX5', 'ZNF705G', 'DMRTA1', 'FOS', 'ZNF99', 'ZNF883', 'HSFY1', 'IRX1', 'FLYWCH1', 'MYCL', 'ZNF829', 'ZNF563', 'POU5F1B', 'ZNF513', 'ZNF521', 'ZNF677', 'ZNF98', 'ARX', 'NR4A3', 'ZNF337', 'L3MBTL3', 'IKZF2', 'HNF1A', 'DMRT3', 'PPARD', 'ZFHX4', 'ZNF169', 'SIM1', 'ZNF704', 'SATB1', 'ZBTB7B', 'SOX21', 'ZNF585B', 'POU3F3', 'HOXD4', 'RAX', 'NFE4', 'SOX9', 'ZBTB45', 'TEAD3', 'ZNF737', 'TEAD2', 'ZNF860', 'ZSCAN1', 'ZNF792', 'ZNF614', 'FOXJ1', 'ERG', 'HES3', 'ZNF517', 'BHLHA15', 'GSC2', 'ZXDA', 'PBX3', 'ZNF75D', 'ZNF30', 'ZFAT', 'ZNF845', 'ZNF726', 'SOX6', 'GLI2', 'MAFF', 'EBF4', 'HOXD11', 'ZNF101', 'ZBTB12', 'ZNF763', 'POU3F4', 'ZNF727', 'PEG3', 'IRF4', 'RHOXF1', 'ZGLP1', 'ZNF808', 'ZNF366', 'RFX6', 'ZFP2', 'NKX2-5', 'ZNF211', 'ZBTB49', 'ZNF660', 'ZNF239', 'LBX2', 'DBX2', 'EN2', 'ZNF565', 'ZNF572', 'PHOX2A', 'DUXA', 'PRRX1', 'HAND1', 'ZNF853', 'IRX2', 'ZNF275', 'ZBTB20', 'ZNF555', 'ZNF449', 'ZNF41', 'ZNF354B', 'NR1D1', 'ATOH8', 'SNAI3', 'ZIK1', 'ZFHX2', 'MEOX2', 'SOX8', 'ZNF813', 'FOSL2', 'HIVEP2', 'FOXB1', 'ESRRB', 'ZNF573', 'VSX2', 'ZNF532', 'TP63', 'ZNF473', 'ZNF570', 'ZMAT4', 'ZNF230', 'ZNF577', 'JAZF1', 'ASCL5', 'FOXI3', 'CREB3L1', 'ZNF219', 'ZNF81', 'RFX3', 'ATOH1', 'FOXD2', 'HELT', 'MESP1', 'KLF15', 'ZFP90', 'HLX', 'EBF1', 'ZNF300', 'ZFP62', 'ZNF530', 'SP8', 'NFKB2', 'ZNF469', 'LBX1', 'LHX2', 'MYBL1', 'ZNF19', 'KLF4', 'TBX22', 'HOXB13', 'IRX4', 'ZNF17', 'ZNF343', 'FOXS1', 'RORC', 'HSFX1', 'ZNF177', 'HOXB5', 'ZNF367', 'C11orf95', 'MSGN1', 'MYOG', 'VAX2', 'ZSCAN22', 'NR3C2', 'MESP2', 'CREB3L3', 'ARNT2', 'ZSCAN5B', 'SOX13', 'POU6F2', 'ZNF77', 'TIGD2', 'HES7', 'ZNF679', 'NR1H4', 'ZNF154', 'EOMES', 'ZNF506', 'ZNF799', 'YBX2', 'ZNF556', 'ZNF805', 'ZNF407', 'ZNF114', 'MEOX1', 'ZNF713', 'ZFP69B', 'TBX2', 'NFIB', 'NR2F1', 'ZNF404', 'RHOXF2', 'ZNF420', 'ZNF729', 'ZFP69', 'NR0B1', 'OTX1', 'SETBP1', 'CSRNP3', 'ZNF596', 'ZNF491', 'HOXA3', 'IRF6', 'FOXF1', 'PAX3', 'RFX4', 'ZNF716', 'ZNF215', 'ZNF747', 'ZNF284', 'ZNF575', 'NR4A2', 'ZNF705A', 'TFAP2E', 'MYPOP', 'ESX1', 'LTF', 'ZNF296', 'ZNF687', 'ZNF174', 'NKX6-3', 'SMAD9', 'MLXIPL', 'ZNF10', 'PAX5', 'ZNF497', 'ZNF750', 'HEY1', 'ALX4', 'PKNOX2', 'TFEC', 'EGR4', 'ZNF831', 'SP5', 'ZNF648', 'HOXC11', 'BHLHA9', 'LHX8', 'SOX15', 'ZNF486', 'KLF17', 'HEY2', 'ZNF879', 'ETV7', 'GLIS1', 'STAT4', 'KLF10', 'ZNF334', 'SIX5', 'ZNF2', 'TPRX1', 'DPRX', 'ZNF613', 'SHOX', 'ZFP92', 'ZFP42', 'RXRG', 'HOXB8', 'BARX2', 'ZBED3', 'AHR', 'LEUTX', 'MBD1', 'DRGX', 'HOXA13', 'ZNF140', 'FEZF1', 'VSX1', 'IRF1', 'NRF1', 'ZNF492', 'NKX3-2', 'RORB', 'TFE3', 'ZBTB6', 'MSANTD1', 'SOX30', 'GATA6', 'EMX2', 'SIX6', 'NPAS4', 'ZNF682', 'ZNF835', 'ZNF608', 'ZNF423', 'ZNF844', 'CCDC17', 'THAP10', 'KCNIP3', 'ZNF324B', 'ZBTB42', 'RBPJL', 'ESR1', 'CASZ1', 'ZNF213', 'ST18', 'ZNF14', 'PROP1', 'ZNF571', 'ZNF543', 'HOXD1', 'ZNF45', 'TBX21', 'ZNF841', 'ZNF266', 'ZBTB5', 'CREB5', 'NRL', 'ZNF320', 'DMRTA2', 'ZNF630', 'FOXF2', 'ZNF385D', 'DACH1', 'LHX3', 'SOX17', 'MAF', 'ZNF20', 'ZBTB22', 'ZBTB46', 'KLF12', 'NFYA', 'PITX3', 'ETV3L', 'ZNF233', 'ZNF619', 'MEF2B', 'ZNF354C', 'ZIM3', 'PTF1A', 'ZNF880', 'ZNF257', 'ZNF441', 'MYF5', 'ZNF225', 'ZNF227', 'SIX2', 'HNF1B', 'ZNF697', 'MAFA', 'GRHL3', 'POU2AF1', 'IRF5', 'ZNF528', 'BNC1', 'ZNF142', 'NHLH2', 'NFATC1', 'ZNF112', 'BCL6B', 'ELF4', 'ZNF347', 'POU4F3', 'ZNF710', 'ZSCAN16', 'ZNF878', 'SP7', 'ZNF534', 'THAP9', 'NFATC2', 'RORA', 'ZNF432', 'ZNF548', 'HMGA2', 'ZNF345', 'FOXQ1', 'ASCL3', 'PAX1', 'CSRNP2', 'DACH2', 'RUNX3', 'ZNF804A', 'CEBPE', 'ZNF618', 'BARHL2', 'TCF23', 'POU1F1', 'SRY', 'CCDC169-SOHLH2', 'SP6', 'ZNF383', 'MYOD1', 'ZBTB32', 'STAT2', 'ZNF627', 'TFDP3', 'SIX3', 'ZSCAN18', 'FOXA2', 'NPAS1', 'E2F7', 'SOX11', 'MAFB', 'BNC2', 'ZNF488', 'DMRT2', 'SNAI1', 'BARX1', 'ZNF605', 'ZNF136', 'ZNF551', 'PLAG1', 'ZNF333', 'NOBOX', 'CXXC4', 'HES2', 'PRDM9', 'ZNF285', 'TBX3', 'KLF5', 'GATA5', 'RARB', 'HOXA6', 'ISX', 'HOXD9', 'ZNF69', 'DLX2', 'CDX2', 'NEUROD1', 'ZNF676', 'ZFP30', 'ARNTL', 'ZNF654', 'INSM1', 'JRKL', 'EBF3', 'ZNF365', 'GLIS2', 'ZNF229', 'NOTO', 'DMRTB1', 'ZNF718', 'GLI1', 'ETS1', 'ZNF527', 'PROX2', 'MIXL1', 'ZNF649', 'HOXD8', 'ZNF646', 'ZNF784', 'ZNF626', 'SCRT1', 'ZBTB47', 'ZNF717', 'ZNF418', 'GRHL2', 'ARID3C', 'ZNF554'], 'umap': {'params': {'a': 0.583030019929305, 'b': 1.334166993276973}}}\n",
      "With overloaded keys:\n",
      "\t['neighbors'].\n"
     ]
    }
   ],
   "source": [
    "pseudobulk = sc.read_h5ad(f\"perturbations/{dataset_name}/test.h5ad\")\n",
    "TFList = pd.read_csv(humanTFPath, index_col=0).iloc[:, [1,3]]\n",
    "pseudobulk.obs = pseudobulk.obs.merge(TFList, left_on = \"perturbation\", right_on = \"HGNC symbol\", how = \"left\")\n",
    "pseudobulk.obs[\"Is TF?\"] = pseudobulk.obs[\"Is TF?\"].fillna(\"No\")\n",
    "print(pseudobulk.obs[\"Is TF?\"].value_counts())\n",
    "pseudobulk = pseudobulk[pseudobulk.obs[\"is_control\"] | (pseudobulk.obs[\"Is TF?\"]==\"Yes\"), :]\n",
    "pseudobulk.uns[\"perturbed_and_measured_genes\"]     = [g for g in pseudobulk.uns[\"perturbed_and_measured_genes\"]  \n",
    "                                                      if g in set(pseudobulk.obs[\"perturbation\"])]\n",
    "pseudobulk.uns[\"perturbed_but_not_measured_genes\"] = [g for g in pseudobulk.uns[\"perturbed_but_not_measured_genes\"] \n",
    "                                                      if g in set(pseudobulk.obs[\"perturbation\"])]\n",
    "print(pseudobulk.uns)\n",
    "os.makedirs(f\"perturbations/{dataset_name}_tf_only\", exist_ok = True)\n",
    "pseudobulk.write_h5ad(f\"perturbations/{dataset_name}_tf_only/test.h5ad\")"
   ]
  },
  {
   "attachments": {},
   "cell_type": "markdown",
   "id": "24277e15",
   "metadata": {},
   "source": [
    "### Large effects only\n",
    "\n",
    "Below, we subset only the largest effects using the leverage score defined in the original paper. "
   ]
  },
  {
   "cell_type": "code",
   "execution_count": 6,
   "id": "91901391",
   "metadata": {},
   "outputs": [
    {
     "name": "stdout",
     "output_type": "stream",
     "text": [
      "OverloadedDict, wrapping:\n",
      "\t{'hvg': {'flavor': 'seurat_v3'}, 'leiden': {'params': {'n_iterations': -1, 'random_state': 0, 'resolution': 1}}, 'log1p': {}, 'neighbors': {'connectivities_key': 'connectivities', 'distances_key': 'distances', 'params': {'method': 'umap', 'metric': 'euclidean', 'n_neighbors': 15, 'random_state': 0}}, 'pca': {'params': {'use_highly_variable': True, 'zero_center': True}, 'variance': array([1.0760996 , 0.67853737, 0.44488195, 0.3002128 , 0.22484879,\n",
      "       0.16062291, 0.14863642, 0.131709  , 0.12376022, 0.10616101,\n",
      "       0.09309376, 0.08144835, 0.07646364, 0.0735774 , 0.05987897,\n",
      "       0.05835764, 0.0567736 , 0.05220428, 0.05017737, 0.04898355,\n",
      "       0.04750114, 0.04498466, 0.04281035, 0.04168032, 0.04070834,\n",
      "       0.03891734, 0.03783587, 0.0369512 , 0.03578322, 0.03480855,\n",
      "       0.03414743, 0.03278113, 0.03217657, 0.03161468, 0.02981188,\n",
      "       0.02950421, 0.02855336, 0.02805476, 0.02775101, 0.02730792,\n",
      "       0.02657875, 0.0261285 , 0.02566743, 0.02553968, 0.02479563,\n",
      "       0.02418003, 0.02384761, 0.02369227, 0.0233625 , 0.02306518,\n",
      "       0.02257272, 0.02249337, 0.0221889 , 0.02190873, 0.02146398,\n",
      "       0.02137196, 0.02104988, 0.0206867 , 0.02034117, 0.02029906,\n",
      "       0.01986175, 0.01970896, 0.01933819, 0.01918423, 0.0191147 ,\n",
      "       0.01903933, 0.01888806, 0.01849669, 0.01819769, 0.01798103,\n",
      "       0.01778237, 0.01767835, 0.0175715 , 0.01724317, 0.01719148,\n",
      "       0.01710922, 0.0168047 , 0.01666411, 0.01654096, 0.01647856,\n",
      "       0.01636201, 0.01622227, 0.01581989, 0.01579886, 0.01563972,\n",
      "       0.01557356, 0.0154737 , 0.01533436, 0.01503169, 0.01496998,\n",
      "       0.01492891, 0.0148265 , 0.01477766, 0.01469812, 0.01450584,\n",
      "       0.01441986, 0.01433038, 0.01426272, 0.01415141, 0.01412479],\n",
      "      dtype=float32), 'variance_ratio': array([0.05542549, 0.03494868, 0.02291405, 0.01546273, 0.01158104,\n",
      "       0.00827303, 0.00765565, 0.00678379, 0.00637438, 0.00546792,\n",
      "       0.00479488, 0.00419507, 0.00393833, 0.00378967, 0.00308412,\n",
      "       0.00300576, 0.00292418, 0.00268883, 0.00258443, 0.00252294,\n",
      "       0.00244659, 0.00231698, 0.00220499, 0.00214678, 0.00209672,\n",
      "       0.00200447, 0.00194877, 0.00190321, 0.00184305, 0.00179285,\n",
      "       0.00175879, 0.00168842, 0.00165728, 0.00162834, 0.00153549,\n",
      "       0.00151964, 0.00147067, 0.00144499, 0.00142934, 0.00140652,\n",
      "       0.00136896, 0.00134577, 0.00132202, 0.00131544, 0.00127712,\n",
      "       0.00124541, 0.00122829, 0.00122029, 0.00120331, 0.00118799,\n",
      "       0.00116263, 0.00115854, 0.00114286, 0.00112843, 0.00110552,\n",
      "       0.00110078, 0.00108419, 0.00106549, 0.00104769, 0.00104552,\n",
      "       0.001023  , 0.00101513, 0.00099603, 0.0009881 , 0.00098452,\n",
      "       0.00098064, 0.00097285, 0.00095269, 0.00093729, 0.00092613,\n",
      "       0.0009159 , 0.00091054, 0.00090504, 0.00088813, 0.00088546,\n",
      "       0.00088123, 0.00086554, 0.0008583 , 0.00085196, 0.00084874,\n",
      "       0.00084274, 0.00083554, 0.00081482, 0.00081373, 0.00080554,\n",
      "       0.00080213, 0.00079699, 0.00078981, 0.00077422, 0.00077104,\n",
      "       0.00076893, 0.00076365, 0.00076114, 0.00075704, 0.00074714,\n",
      "       0.00074271, 0.0007381 , 0.00073461, 0.00072888, 0.00072751],\n",
      "      dtype=float32)}, 'perturbed_and_measured_genes': ['EIF3I', 'RPS21', 'DDB1', 'SF3A2', 'CPSF3', 'DHX33', 'TOMM20', 'METTL16', 'BCCIP', 'RPL26', 'MED8', 'DBR1', 'TAF1', 'IMPDH2', 'SEM1', 'PGM2', 'INTS8', 'TAF6', 'GRB2', 'ZCCHC9', 'RRP7A', 'EIF4G2', 'ORC6', 'RPS3A', 'FTSJ3', 'LONP1', 'MIS12', 'MCM4', 'MED1', 'TRNT1', 'DKC1', 'AHCY', 'EXOSC4', 'RPL13', 'POLD3', 'ATP5F1C', 'CCDC84', 'HADHB', 'HIGD1A', 'CEBPZ', 'STAT6', 'BORA', 'PSMC1', 'SHC1', 'MFAP1', 'TIMM23B', 'MICOS10', 'CCDC174', 'ZMYM4', 'DPCD', 'RBMX2', 'BRIX1', 'TPR', 'NUDT12', 'PABPN1', 'RPL23', 'SDAD1', 'SRRT', 'TTF2', 'PRPF4B', 'RARS2', 'SYF2', 'DNAJC17', 'FAM136A', 'AKAP11', 'RRS1', 'ASCC3', 'PHAX', 'UXT', 'UBL5', 'EIF2B3', 'GPN3', 'ZNHIT6', 'GTF2H4', 'RPL14', 'AGBL5', 'POLR2G', 'ANAPC10', 'SEC13', 'EXOSC5', 'RPL37', 'RUVBL1', 'PAFAH1B1', 'NBAS', 'MED17', 'MAP2K7', 'RPS7', 'SRSF1', 'METTL21A', 'NCL', 'EXOSC6', 'MAK16', 'VPS28', 'DYNLL2', 'POLR2K', 'DDX27', 'GINS2', 'ZNF695', 'WDR3', 'BDP1', 'ZCRB1', 'RPA2', 'EXOSC10', 'ESYT1', 'PSMA7', 'NIP7', 'COPS4', 'DOHH', 'ZNF207', 'ACTR10', 'HSPE1', 'YAE1', 'RPS19BP1', 'MRPL43', 'CDK12', 'CDS2', 'CAD', 'NOC4L', 'POLR3F', 'PTPN1', 'RPS24', 'RAB1B', 'MED4', 'EIF4E', 'ZNRD1', 'DDX51', 'TPP2', 'MIER1', 'PCNA', 'SACM1L', 'RNF31', 'DUT', 'IP6K1', 'KANSL3', 'PPP1R37', 'PRPF19', 'DMAC1', 'RPSA', 'RPL12', 'CD3EAP', 'RPS18', 'HSPD1', 'EIF3E', 'TOMM22', 'RPL18A', 'VPS72', 'PTTG1', 'POP1', 'RAPGEF6', 'VPS29', 'SRSF7', 'KRI1', 'NCAPH', 'SERF2', 'WDR46', 'INTS5', 'ABCB7', 'NVL', 'RPA3', 'NACA', 'PAXBP1', 'MIS18A', 'PRIM2', 'PFDN2', 'DSN1', 'RPL9', 'HERC1', 'HAT1', 'RPN1', 'CCT2', 'SAP30BP', 'RFC2', 'SPATA5L1', 'PES1', 'PSMD13', 'XRCC5', 'DDOST', 'NOP10', 'GTF2H1', 'MNAT1', 'EBNA1BP2', 'HSPA5', 'RPS12', 'CRLF3', 'RBFOX2', 'RABGGTA', 'EIF3H', 'UTP6', 'COX15', 'PMPCA', 'TRMT5', 'SH3KBP1', 'TSR2', 'TAF7', 'WDR61', 'MED20', 'ORC5', 'KANSL2', 'UTP18', 'RRP36', 'PAPOLA', 'LEF1', 'POLR2I', 'CINP', 'AP2A1', 'POLR2B', 'EIF1AX', 'IMP3', 'UMPS', 'TUBGCP3', 'CCNH', 'NCBP2', 'SLC35G2', 'RPLP2', 'CDC73', 'SDR39U1', 'UHRF1', 'WDR36', 'XPC', 'LSM2', 'TXNDC9', 'GLB1', 'GINS1', 'TBP', 'THOC3', 'PPAT', 'INTS3', 'FARSA', 'EFHD2', 'PSMB6', 'RPS9', 'SUPT5H', 'NOP58', 'ZNF830', 'PPIE', 'ATP6V1B2', 'SEC61G', 'PABPC1', 'NLE1', 'KRR1', 'DCTN3', 'MAX', 'RPS3', 'CTR9', 'TCP1', 'RPTOR', 'CMIP', 'HNRNPL', 'TAF2', 'ATP1A1', 'PSMG3', 'SKP1', 'RPS2', 'HAUS8', 'NAA25', 'MDN1', 'TADA3', 'EIF3G', 'TICRR', 'ATP6V1A', 'NOP16', 'GEMIN4', 'DDX24', 'LIAS', 'SYNCRIP', 'RTCB', 'ARL2', 'NSL1', 'DDX21', 'GPALPP1', 'THOC7', 'NELFA', 'RPS23', 'MRM1', 'TTK', 'SETD1A', 'PAF1', 'SLBP', 'PNPT1', 'MRPL34', 'GNPAT', 'EXOSC9', 'COTL1', 'UTP20', 'GFER', 'NOM1', 'RPAP2', 'SSX2IP', 'ACSS2', 'RPS6', 'DMAP1', 'CDC5L', 'GTF2A1', 'NOP53', 'DERL2', 'ADPGK', 'PRPF38B', 'UBA1', 'PDLIM5', 'MRPL49', 'UBA2', 'NUP54', 'LAMB1', 'POLR1B', 'RPL23A', 'TAF8', 'TRNAU1AP', 'TNFSF10', 'WDR70', 'RPL4', 'NEDD1', 'RBM19', 'ANAPC5', 'CPEB1', 'MRGBP', 'PRPF31', 'NUDT15', 'COG8', 'EMG1', 'TTF1', 'ETV5', 'REXO2', 'MLF2', 'XRN1', 'DCTN5', 'ZNF84', 'PHF5A', 'NOL11', 'EEF2', 'SMIM29', 'EIF5B', 'SNRNP25', 'ZNF414', 'POLR2F', 'DHX29', 'RNPC3', 'TBCD', 'BET1', 'POLR1D', 'CCT7', 'NOL9', 'TXN', 'CCDC86', 'MED7', 'RPL30', 'RTF1', 'EIF2B4', 'HIPK1', 'RPL32', 'CARM1', 'MRPL18', 'NAPA', 'BMP2K', 'POGLUT3', 'SUMO1', 'CTPS1', 'TMEM41B', 'PSMD7', 'GEMIN5', 'CWF19L2', 'DLD', 'EIF4G1', 'MED28', 'BTF3', 'PMF1', 'RACK1', 'CNOT2', 'DICER1', 'SRBD1', 'EIF3D', 'RPL7L1', 'CUL2', 'TCERG1', 'PDCD11', 'DHDDS', 'NR2F2', 'UTP14A', 'XRCC6', 'HAUS1', 'GTPBP4', 'KCTD10', 'RPLP1', 'EXOC4', 'HSD17B12', 'ABCB10', 'HARS2', 'RPL7', 'LMO2', 'CFL1', 'NUBP1', 'CAPZB', 'PRXL2A', 'NELFCD', 'NDC80', 'POP4', 'CHAF1A', 'RPL31', 'DLAT', 'ECD', 'UQCRFS1', 'GTF2F2', 'CEP63', 'GATD1', 'EIF2B5', 'MED29', 'RPLP0', 'EXOSC7', 'NOC3L', 'COPS3', 'PDRG1', 'RCC1', 'TBCB', 'ZNF397', 'ATP6AP1', 'POLR1C', 'RPS8', 'CPSF4', 'SFSWAP', 'MED10', 'RPL18', 'MCM6', 'TSG101', 'EEF1G', 'ANKRD17', 'RPS27', 'COG3', 'NUP133', 'TRPM7', 'CSNK2B', 'MTOR', 'SUPT4H1', 'ZDHHC7', 'FOXO1', 'GTF2A2', 'ACLY', 'PPRC1', 'GTF2E1', 'TRIM24', 'RPL21', 'CWC22', 'GTF2H3', 'CUL1', 'HAUS4', 'MOSMO', 'LRIF1', 'NAA20', 'AP2M1', 'IMMP1L', 'WDR74', 'SSRP1', 'FDPS', 'SON', 'LIN9', 'NHP2', 'POLR1E', 'C1orf131', 'MED16', 'CEP152', 'TIMM44', 'MED24', 'SPCS2', 'SPINDOC', 'PUF60', 'SPCS3', 'PSMD4', 'DDX39B', 'RBX1', 'SMC6', 'RPL10A', 'RPS11', 'MCM2', 'ZWINT', 'PRMT1', 'C12orf45', 'EIF3M', 'SMC1A', 'CASP8AP2', 'SSBP1', 'TRAF2', 'INTS9', 'RPS29', 'U2SURP', 'TRAPPC11', 'TUBA1B', 'HSCB', 'PDLIM2', 'ATR', 'HMGB3', 'RNASEK', 'PPA1', 'ACTL6A', 'RRN3', 'ROMO1', 'ILF2', 'DIMT1', 'NELFB', 'GET3', 'NOB1', 'RFC3', 'MED15', 'FOXRED2', 'KIF20A', 'DDX56', 'ZMAT2', 'HNRNPC', 'DCTN4', 'ILF3', 'WDR43', 'DDX49', 'USP39', 'CIAPIN1', 'ALG13', 'RAMAC', 'MTPAP', 'HNRNPDL', 'ABCE1', 'DONSON', 'PRPF40A', 'GRPEL1', 'EIF5A', 'INTS7', 'FAU', 'SNRPD3', 'LRPPRC', 'IPO13', 'YKT6', 'RPF1', 'TAF1D', 'RPL38', 'MED19', 'PSMD6', 'ARIH1', 'RPL7A', 'IARS2', 'WBP11', 'ZWILCH', 'TMEM161B', 'CHML', 'CLP1', 'TTC27', 'HMBOX1', 'SLC35A4', 'PRPF39', 'RPP38', 'ATP8B2', 'RPL27A', 'PTP4A2', 'UBA6', 'TAF10', 'CENPJ', 'DROSHA', 'TTI1', 'NEPRO', 'RSL1D1', 'DDX6', 'LETM1', 'RPS13', 'COPS6', 'SAE1', 'RPL24', 'SLC25A10', 'DDX20', 'ATF5', 'C18orf32', 'PSMB7', 'FNBP1', 'TMA16', 'DCAF13', 'NKAP', 'BAP1', 'CXXC1', 'SMG5', 'INPPL1', 'BRD8', 'MCEE', 'SIRT7', 'POLE', 'SART3', 'CEBPG', 'CCT4', 'SLC4A7', 'PYURF', 'TFAM', 'FCF1', 'SUGP1', 'PIAS4', 'MYBBP1A', 'EIF2B1', 'EIF2S1', 'UTP25', 'FUNDC2', 'DHX37', 'CCNJ', 'PSMG4', 'MRPL46', 'STX18', 'NOP2', 'RPS5', 'RRP9', 'CHCHD4', 'DNAJA3', 'PSMC6', 'TBRG4', 'NUMA1', 'POLRMT', 'SNRPD2', 'CNOT1', 'PTBP1', 'RPS20', 'SNRPC', 'SNRNP27', 'TWISTNB', 'STAT5B', 'CCNQ', 'PKM', 'ZNHIT1', 'SRP19', 'RBBP5', 'NIFK', 'TUBGCP4', 'ANAPC4', 'SEH1L', 'MBNL1', 'POLR1A', 'RPL34', 'TFRC', 'MCM3', 'DHX15', 'RPS15A', 'SEC61A1', 'NCBP1', 'SPOUT1', 'INTS11', 'CLSPN', 'SPC24', 'ATP5MD', 'RAD21', 'URB2', 'PELO', 'TRRAP', 'RPL8', 'DCTN2', 'MASTL', 'HPS5', 'UBA3', 'RPL11', 'PSMD12', 'LSM7', 'OXA1L', 'SUPT6H', 'CNOT3', 'RPS17', 'POLD2', 'RPL6', 'ZC3H4', 'SLU7', 'SAP18', 'PRPF6', 'TPRKB', 'RPS19', 'ATP5PD', 'TSC1', 'PTGES3', 'DMXL1', 'UTP3', 'GPATCH1', 'CWC15', 'EIF6', 'PRPF4', 'PTCD3', 'GAB2', 'RAD51', 'DDX10', 'HBS1L', 'ATP5F1A', 'HSD17B10', 'CENPK', 'NFYC', 'DNAJC19', 'TOP1', 'SYMPK', 'TFPT', 'CAST', 'GFI1B', 'PPAN', 'RRP15', 'TELO2', 'NUP85', 'LEO1', 'MLLT1', 'MAU2', 'MIIP', 'RPL35', 'NUDC', 'PHB2', 'RNF113A', 'SRSF8', 'SRFBP1', 'MED14', 'TSR1', 'TTC4', 'GATA1', 'NMD3', 'NUDT21', 'HINFP', 'EIF3C', 'NRDE2', 'RNF20', 'CHERP', 'MRPS14', 'RRP1', 'EIF2S2', 'ATRIP', 'MEF2A', 'GKAP1', 'NDUFAF5', 'NADSYN1', 'AAR2', 'AQR', 'HJURP', 'TFAP4', 'MBTPS2', 'RPL17', 'AFG3L2', 'RAD51C', 'MCM10', 'OGT', 'FANCI', 'RABGGTB', 'NOL8', 'NELFE', 'RPAP1', 'TUBB', 'PTPN11', 'CHMP6', 'ALDOA', 'EIF2S3', 'RCL1', 'ESF1', 'NEDD8', 'MTREX', 'DYNLRB1', 'TSEN2', 'RTRAF', 'SNRNP48', 'MXRA8', 'PNO1', 'SUPT20H', 'BUB3', 'UBE2I', 'HGS', 'RPS16', 'NOL10', 'NUP62', 'DXO', 'SURF6', 'CENPC', 'MED12', 'CENPT', 'LSG1', 'KNL1', 'TTC1', 'PGD', 'MAD2L1', 'EXOSC3', 'MMS22L', 'RPP30', 'GTF3C2', 'PRKCA', 'CENPE', 'FBXO28', 'POLR3B', 'GTF2E2', 'FBL', 'DNTTIP2', 'RNF40', 'LAS1L', 'RIOK1', 'MPHOSPH10', 'POLR2C', 'SPC25', 'HAUS5', 'MAVS', 'PMPCB', 'TMX2', 'EIF3A', 'ERCC2', 'BYSL', 'RPL36A', 'EXOSC2', 'UTP11', 'ETV4', 'RNMT', 'TAF5', 'TONSL', 'IRF2BP2', 'TAF1A', 'BCAS2', 'KANSL1', 'COX11', 'GTF3C3', 'NAA38', 'GMPS', 'FAM102B', 'ZC3H13', 'TAF12', 'ADAM10', 'SUGT1', 'TAF3', 'RPS10', 'MIS18BP1', 'RPP40', 'SPAG7', 'PPIL4', 'RANGAP1', 'MED21', 'WDR12', 'CCT5', 'MVD', 'MED6', 'ISG20L2', 'PAK1IP1', 'ATP5F1B', 'STK24', 'NOL12', 'NUP88', 'RPL5', 'HSPH1', 'SUPT16H', 'PSMD14', 'HIF1AN', 'CPSF6', 'KAT8', 'PPM1G', 'STXBP3', 'RPS27A', 'MED11', 'UTP15', 'RPAP3', 'USP37', 'CPSF1', 'SNRNP35', 'CLNS1A', 'KIN', 'INTS2', 'PRIM1', 'GNL2', 'MTHFD1', 'KDM1A', 'TEFM', 'DLST', 'E2F5', 'POLR2H', 'DHX36', 'TEX10', 'MAST1', 'RNF144A', 'ARRB2', 'NPAT', 'GPN2', 'LTO1', 'PSME3', 'PPIH', 'RPL37A', 'NAE1', 'TWSG1', 'FARSB', 'NIPBL', 'POLR3A', 'U2AF2', 'ABT1', 'PDIA6', 'GOLT1B', 'SNRNP70', 'GNL3', 'FAM50A', 'TBL3', 'THG1L', 'GYPC', 'TERF2', 'UPF1', 'INTS4', 'EFR3A', 'MED30', 'CMTR1', 'DAD1', 'RAE1', 'RPS14', 'PDCD2', 'RPL15', 'SFPQ', 'NOL6', 'RBBP6', 'CLTC', 'PSMD2', 'PHB', 'POLL', 'BRCA2', 'METAP2', 'LTV1', 'THUMPD1', 'RBMX', 'SNIP1', 'XPO1', 'GINS4', 'STX5', 'ABCF1', 'LSM3', 'SNX15', 'TPX2', 'RPS26', 'YEATS2', 'AAMP', 'RPL36', 'DDX55', 'RINT1', 'AP2S1', 'RPF2', 'POLD1', 'RPS15', 'C1QBP', 'ATP5ME', 'NUFIP1', 'DDX46', 'SMC2', 'SNRPD1', 'RBM48', 'CSE1L', 'HSPA9', 'WDTC1', 'CHAF1B', 'TUT1', 'SAMM50', 'CPSF2', 'NGDN', 'PTGR2', 'BMS1', 'LUC7L3', 'DDX41', 'ARPC1B', 'RBBP8', 'NOL7', 'BCR', 'SUPV3L1', 'NUP107', 'RPS4X', 'ATAD3A', 'SRP68', 'EP400', 'BNIP1', 'COPS5', 'USP5', 'NUDCD3', 'BUB1B', 'RSL24D1', 'SRPRB', 'NAT10', 'RRP12', 'USE1', 'RPS28', 'BUD23', 'LSM6', 'RIOK2', 'SRP72', 'DDX52', 'PAM16', 'SORT1', 'ATXN10', 'TOMM40', 'LSM5', 'UBA52', 'TIMM13', 'ETF1', 'PRELID3B', 'RPP14', 'DHODH', 'UTP23', 'PET117', 'CTNNB1', 'GBF1', 'CHMP3', 'TACC3', 'ZNF567', 'PLK4', 'FYN', 'RPL10', 'PCED1A', 'GART', 'NAF1', 'MYB', 'WDR75', 'POP5', 'HNRNPK', 'MED23', 'SNRPF', 'DNAJC21', 'STT3B', 'PNISR', 'DYNC1H1', 'GSK3B', 'SAMD4B', 'PRORP', 'BUD13', 'CENPM', 'MED27', 'FUT11', 'GSPT1', 'COPS2', 'GNL3L', 'WDR82', 'ZC3H8', 'CSTF1', 'PARK7', 'RPL19', 'SMG7', 'EIF3F', 'TRAPPC5', 'DIS3', 'TARS2', 'EXOSC8', 'SLC7A1', 'CDK11B', 'TMEM129', 'SENP5', 'VPS35', 'PSMA4', 'OGFOD1', 'RPL39', 'GPN1', 'C18orf21', 'NCKAP1', 'TCOF1', 'RPL27', 'NOP14', 'PELP1', 'ACTG1', 'WDR5', 'PSMA6', 'DDX54', 'CENPP', 'MFN2', 'AATF', 'RBM28', 'CSTF3', 'LDB1', 'DGCR8', 'SLIRP', 'PLEKHJ1', 'DDX23', 'POLA2', 'PIBF1', 'PRAME', 'HEATR1', 'ZMAT5', 'CCDC59', 'ZNHIT3', 'RBM25', 'DDX18', 'ENTR1', 'TAF13', 'BOP1', 'EIF2B2', 'EXOC7', 'IMP4', 'MED22', 'ATIC', 'CENPA', 'SMC3', 'TRMT112', 'CCT3', 'TAF6L', 'LSM4'], 'perturbed_but_not_measured_genes': ['CENPI', 'MED9', 'KLF8', 'NARS', 'ZNF236', 'MAPRE3', 'CDAN1', 'ZNF396', 'PURG', 'TP73', 'RARS', 'MED18', 'SLC2A8', 'NFKBIE', 'ANKRA2', 'TBKBP1', 'ZNF324', 'DBP', 'NKX6-1', 'LLGL2', 'HAUS7', 'ST20-MTHFS', 'TRMT44', 'PWP2', 'HAND2', 'SNAPC1', 'TFCP2L1', 'CARF', 'FOLR3', 'PRDM15', 'ZBTB14', 'EPS8L1', 'CDR2L', 'AARS', 'TANGO6', 'DMRTC2', 'ZSCAN2', 'SOX3', 'SMN2', 'NR2E1', 'LARS', 'NR1H3', 'EPRS', 'LMX1B', 'LRSAM1', 'ARMC7', 'WDR7', 'ZC3H3', 'MEIS3', 'RPS10-NUDT3', 'PRDM8', 'DARS', 'CTDP1', 'SLC25A42', 'TARS', 'C14orf178', 'CARS', 'TIPARP', 'VARS', 'MARCH3', 'SIGMAR1', 'SOCS3', 'RBM14-RBM4', 'RIPOR1', 'TAF1C', 'ZNF219', 'SARS', 'CREB3L3', 'QARS', 'DMC1', 'DNASE1L1', 'ZNF729', 'CSRNP3', 'HIST1H4A', 'NEDD8-MDP1', 'MARS', 'GLIS1', 'IMPA2', 'LSM11', 'HEBP1', 'CCDC17', 'B3GNTL1', 'HARS', 'LIME1', 'S100A1', 'IARS', 'BGLAP', 'DDX47', 'KARS'], 'umap': {'params': {'a': 0.583030019929305, 'b': 1.334166993276973}}}\n",
      "With overloaded keys:\n",
      "\t['neighbors'].\n"
     ]
    },
    {
     "data": {
      "image/png": "[encoded data removed]",
      "text/plain": [
       "<Figure size 600x450 with 1 Axes>"
      ]
     },
     "metadata": {},
     "output_type": "display_data"
    }
   ],
   "source": [
    "pseudobulk = sc.read_h5ad(f\"perturbations/{dataset_name}/test.h5ad\")\n",
    "sns.histplot(pseudobulk.obs[\"mean_leverage_score\"])\n",
    "pseudobulk = pseudobulk[pseudobulk.obs[\"is_control\"] | (pseudobulk.obs[\"mean_leverage_score\"]>=0.6), :]\n",
    "pseudobulk.uns[\"perturbed_and_measured_genes\"]     = [g for g in pseudobulk.uns[\"perturbed_and_measured_genes\"]  \n",
    "                                                      if g in set(pseudobulk.obs[\"perturbation\"])]\n",
    "pseudobulk.uns[\"perturbed_but_not_measured_genes\"] = [g for g in pseudobulk.uns[\"perturbed_but_not_measured_genes\"] \n",
    "                                                      if g in set(pseudobulk.obs[\"perturbation\"])]\n",
    "print(pseudobulk.uns)\n",
    "os.makedirs(f\"perturbations/{dataset_name}_large_effect\", exist_ok = True)\n",
    "pseudobulk.write_h5ad(f\"perturbations/{dataset_name}_large_effect/test.h5ad\")"
   ]
  }
 ],
 "metadata": {
  "kernelspec": {
   "display_name": "Python 3.9.13 ('cell_type_grn_transfer')",
   "language": "python",
   "name": "python3"
  },
  "language_info": {
   "codemirror_mode": {
    "name": "ipython",
    "version": 3
   },
   "file_extension": ".py",
   "mimetype": "text/x-python",
   "name": "python",
   "nbconvert_exporter": "python",
   "pygments_lexer": "ipython3",
   "version": "3.9.15"
  },
  "vscode": {
   "interpreter": {
    "hash": "7658a1e878c2df46706cc47028d7885e1865315efe8f971cf3b351dc4de1c60e"
   }
  }
 },
 "nbformat": 4,
 "nbformat_minor": 5
}
