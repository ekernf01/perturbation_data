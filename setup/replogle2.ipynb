{
 "cells": [
  {
   "attachments": {},
   "cell_type": "markdown",
   "id": "a377c2a0",
   "metadata": {},
   "source": [
    "### Genome-wide perturb-seq\n",
    "\n",
    "This notebook prepares a dataset from a [paper with giant Perturb-seq experiments](https://www.cell.com/cell/fulltext/S0092-8674(22)00597-9?_returnURL=https%3A%2F%2Flinkinghub.elsevier.com%2Fretrieve%2Fpii%2FS0092867422005979%3Fshowall%3Dtrue) applied to all expressed genes or all essential genes.\n",
    "\n",
    "Here we tidy the dataset and carry out a simple exploration in scanpy.\n",
    "\n",
    "We start from a pseudo-bulk version where all cells are added together within each perturbation. \n",
    "\n",
    "This study is CRISPRi (knockdown, not knockout).\n"
   ]
  },
  {
   "cell_type": "code",
   "execution_count": null,
   "id": "5207ee00",
   "metadata": {},
   "outputs": [],
   "source": [
    "import warnings\n",
    "warnings.filterwarnings('ignore')\n",
    "import regex as re\n",
    "import os\n",
    "import shutil\n",
    "import importlib\n",
    "import matplotlib.colors as colors\n",
    "import matplotlib.pyplot as plt\n",
    "import numpy as np\n",
    "import pandas as pd\n",
    "import scanpy as sc\n",
    "import seaborn as sns\n",
    "from scipy.stats import spearmanr as spearmanr\n",
    "from IPython.display import display, HTML\n",
    "from collections import Counter\n",
    "from IPython.display import set_matplotlib_formats\n",
    "set_matplotlib_formats('svg')\n",
    "\n",
    "# local\n",
    "import importlib\n",
    "import sys\n",
    "sys.path.append(\"setup\")\n",
    "import ingestion\n",
    "importlib.reload(ingestion)\n",
    "\n",
    "import anndata\n",
    "import os, sys\n",
    "import itertools as it\n",
    "from scipy.stats import spearmanr, pearsonr, rankdata, f_oneway\n",
    "from statsmodels.stats.multitest import multipletests\n",
    "from sklearn.metrics import mutual_info_score\n",
    "import matplotlib.pyplot as plt\n",
    "import seaborn as sns\n",
    "from collections import Counter\n",
    "\n",
    "#      visualization settings\n",
    "%matplotlib inline\n",
    "plt.rcParams['figure.figsize'] = [6, 4.5]\n",
    "plt.rcParams[\"savefig.dpi\"] = 300\n",
    "\n",
    "# I prefer to specify the working directory explicitly.\n",
    "os.chdir(\"/home/ekernf01/Desktop/jhu/research/projects/perturbation_prediction/cell_type_knowledge_transfer/perturbation_data\")\n",
    "\n",
    "# Universal\n",
    "geneAnnotationPath = \"../accessory_data/gencode.v35.annotation.gtf.gz\"       # Downloaded from https://www.gencodegenes.org/human/release_35.html\n",
    "humanTFPath =  \"../accessory_data/humanTFs.csv\"                              # Downloaded from http://humantfs.ccbr.utoronto.ca/download.php\n",
    "humanEpiPath = \"../accessory_data/epiList.csv\"                               # Downloaded from https://epifactors.autosome.org/description \n",
    "cellcycleGenePath = \"../accessory_data/regev_lab_cell_cycle_genes.txt\"\n",
    "\n",
    "# Replogle2 Specific\n",
    "dataset_name = \"replogle2\"\n",
    "perturbEffectTFOnlyPath = \"setup/replogle2TFOnly.csv\"                         # a path to store temp file\n",
    "perturbEffectFullTranscriptomePath = \"setup/replogle2FullTranscriptome.csv\"   # a path to store temp file\n",
    "finalDataFileFolder = \"perturbations/replogle2\"\n"
   ]
  },
  {
   "attachments": {},
   "cell_type": "markdown",
   "id": "275b88c7",
   "metadata": {
    "jp-MarkdownHeadingCollapsed": true,
    "tags": []
   },
   "source": [
    "### Load expression data & set up cell metadata"
   ]
  },
  {
   "cell_type": "code",
   "execution_count": null,
   "id": "336c0615-e276-4866-b7e5-59aa33465312",
   "metadata": {},
   "outputs": [],
   "source": [
    "expression_quantified = sc.read_h5ad(f\"not_ready/{dataset_name}/K562_gwps_raw_bulk_01.h5ad\")\n",
    "expression_quantified.var_names = ingestion.convert_ens_to_symbol(\n",
    "    expression_quantified.var_names, \n",
    "    gtf=geneAnnotationPath,\n",
    "    strip_version=True,\n",
    ")\n",
    "new_index = pd.Series([str(s) for s in expression_quantified.var[\"gene_name\"]])\n",
    "dupes = new_index.duplicated()\n",
    "new_index[dupes] += \"_duplicate\"\n",
    "expression_quantified.var.index = new_index\n",
    "expression_quantified"
   ]
  },
  {
   "cell_type": "code",
   "execution_count": null,
   "id": "705bb7fe",
   "metadata": {},
   "outputs": [],
   "source": [
    "expression_quantified.var.loc[expression_quantified.var.index.duplicated(),:]"
   ]
  },
  {
   "attachments": {},
   "cell_type": "markdown",
   "id": "d2a6cc7c",
   "metadata": {
    "jp-MarkdownHeadingCollapsed": true,
    "tags": []
   },
   "source": [
    "### Fill `perturbation` & `is_control` and find TF's"
   ]
  },
  {
   "cell_type": "code",
   "execution_count": null,
   "id": "26ca1f8f",
   "metadata": {},
   "outputs": [],
   "source": [
    "human_tfs = pd.read_csv(humanTFPath)\n",
    "human_tfs = human_tfs.loc[human_tfs[\"Is TF?\"]==\"Yes\",:]\n",
    "expression_quantified.obs[\"gene_symbol\"] = [s.split(\"_\")[1] for s in expression_quantified.obs.index]\n",
    "expression_quantified.obs[\"is_tf\"] = expression_quantified.obs[\"gene_symbol\"].isin(human_tfs[\"HGNC symbol\"])\n",
    "expression_quantified.obs[\"ensembl_id\"] = [s.split(\"_\")[3] for s in expression_quantified.obs.index]\n",
    "expression_quantified.obs[\"is_control\"]     = expression_quantified.obs[\"gene_symbol\"].str.contains(\"non\")\n",
    "expression_quantified.obs[\"is_control_int\"] = expression_quantified.obs[\"gene_symbol\"].str.contains(\"non\").astype(\"int\")\n",
    "expression_quantified.obs[\"perturbation\"] = expression_quantified.obs[\"gene_symbol\"]\n",
    "controls = expression_quantified.obs.query(\"is_control\")[\"perturbation\"]\n",
    "expression_quantified.obs[\"is_tf\"].value_counts()"
   ]
  },
  {
   "attachments": {},
   "cell_type": "markdown",
   "id": "57649517-f86e-4207-8028-6c41ecad32f4",
   "metadata": {
    "jp-MarkdownHeadingCollapsed": true,
    "tags": []
   },
   "source": [
    "### Normalization"
   ]
  },
  {
   "cell_type": "code",
   "execution_count": null,
   "id": "dd2194f6-e270-403b-aef3-b1a5eedca186",
   "metadata": {},
   "outputs": [],
   "source": [
    "pseudobulk = expression_quantified.copy()\n",
    "pseudobulk.raw = pseudobulk\n",
    "pseudobulk.X = ingestion.deseq2Normalization(pseudobulk.X.T).T"
   ]
  },
  {
   "cell_type": "code",
   "execution_count": null,
   "id": "ee1bed88-e55f-4444-b804-82d35e29d173",
   "metadata": {
    "tags": []
   },
   "outputs": [],
   "source": [
    "\"\"\" Sanity check: expression for house keeping genes are relatively stable \"\"\"\n",
    "fig, axes = plt.subplots(1, 2, figsize=(8,2))\n",
    "axes[0].hist(pseudobulk.raw.X[:, [idx for idx, n in enumerate(pseudobulk.raw.var.index) if n.upper() == 'ACTB' ]], bins=100, label=\"ACTB\" )\n",
    "axes[1].hist(pseudobulk.raw.X[:, [idx for idx, n in enumerate(pseudobulk.raw.var.index) if n.upper() == 'GAPDH']], bins=100, label=\"GAPDH\")\n",
    "axes[0].legend()\n",
    "axes[1].legend()\n",
    "plt.suptitle(\"Expression across pseudobulk samples\")\n",
    "plt.show()"
   ]
  },
  {
   "cell_type": "code",
   "execution_count": null,
   "id": "17143a71-90f2-44d7-8dd6-92ac411f6b42",
   "metadata": {
    "tags": []
   },
   "outputs": [],
   "source": [
    "plt.figure(figsize=(3,3))\n",
    "logbins = np.geomspace(\n",
    "    pseudobulk.raw.X.sum(axis=0).min(),                    \n",
    "    pseudobulk.raw.X.sum(axis=0).max(), \n",
    "    100)\n",
    "plt.hist(pseudobulk.raw.X.sum(axis=0), \n",
    "         bins=logbins, \n",
    "         log=True, \n",
    "         color=\"orange\")\n",
    "plt.xscale('log')\n",
    "plt.show()"
   ]
  },
  {
   "cell_type": "code",
   "execution_count": null,
   "id": "50d83a52-b7c2-418a-a727-fa5066f585d7",
   "metadata": {
    "tags": []
   },
   "outputs": [],
   "source": [
    "\"\"\" The sum of gene expression before and after normalization \"\"\"\n",
    "fig, axes = plt.subplots(1, 2, figsize=(12,3))\n",
    "axes[0].hist(\n",
    "    pseudobulk.raw.X.sum(axis=1), \n",
    "    bins=100, \n",
    "    log=True, \n",
    "    label=\"before DESeq2 norm\")\n",
    "axes[1].hist(\n",
    "    pseudobulk.X.sum(axis=1), \n",
    "    bins=100, \n",
    "    log=True, \n",
    "    label=\"after DESeq2 norm\")\n",
    "axes[0].legend()\n",
    "axes[1].legend()\n",
    "plt.show()"
   ]
  },
  {
   "cell_type": "code",
   "execution_count": null,
   "id": "0a888235-e7fd-431f-8d0f-0ff0a8ff79ba",
   "metadata": {
    "tags": []
   },
   "outputs": [],
   "source": [
    "\"\"\" Check an exmaple (correlation at expression scale and at logFC scale) \"\"\"\n",
    "\n",
    "TFBePerturb = 'ABCF1'\n",
    "display(pseudobulk[pseudobulk.obs.perturbation == TFBePerturb].obs)\n",
    "expr1 = pseudobulk[pseudobulk.obs.perturbation == TFBePerturb].X[0,:]\n",
    "expr2 = pseudobulk[pseudobulk.obs.perturbation == TFBePerturb].X[1,:]\n",
    "\n",
    "controlExpr  = pseudobulk[pseudobulk.obs.is_control, :].X\n",
    "c1 = np.median(controlExpr.copy(), axis=0)\n",
    "\n",
    "fig, axes = plt.subplots(1,2,figsize=(7,3))\n",
    "logFC1 = np.log2(pseudobulk[pseudobulk.obs.perturbation == TFBePerturb].X[0,:]/c1)\n",
    "logFC2 = np.log2(pseudobulk[pseudobulk.obs.perturbation == TFBePerturb].X[1,:]/c1)\n",
    "validGeneEntry = np.isfinite(logFC1) & np.isfinite(logFC2)\n",
    "logFC1 = logFC1[validGeneEntry]\n",
    "logFC2 = logFC2[validGeneEntry]\n",
    "print(logFC1.shape, logFC2.shape)\n",
    "axes[0].scatter(expr1 , expr2 , s=0.2)\n",
    "axes[0].plot(np.linspace(-1,50,50), np.linspace(-1,50,50), color='red', lw=0.5)\n",
    "axes[1].scatter(logFC1, logFC2, s=0.2)\n",
    "axes[1].plot(np.linspace(-1,1,50), np.linspace(-1,1,50), color='red', lw=0.5)\n",
    "spearmanr(logFC1, logFC2)"
   ]
  },
  {
   "attachments": {},
   "cell_type": "markdown",
   "id": "34600678-0b71-43d1-ba7c-2f74cab0b483",
   "metadata": {
    "jp-MarkdownHeadingCollapsed": true,
    "tags": []
   },
   "source": [
    "### Consistency w/ Perturbation Direction"
   ]
  },
  {
   "cell_type": "code",
   "execution_count": null,
   "id": "b188452a-76e6-4c0f-903f-354c2f978e46",
   "metadata": {
    "tags": []
   },
   "outputs": [],
   "source": [
    "# If verbose is set to True, display disconcordant trials and their controls\n",
    "\n",
    "# Using the fold_expr field it stored in .obs \n",
    "# For perturbations where fold_expr = 0, some\n",
    "# pct_expr = -1, denoting a knockout;\n",
    "# others are nan, denoting lack of data or control run\n",
    "fc = pseudobulk.obs.fold_expr.copy()\n",
    "fc[pseudobulk.obs.pct_expr == -1] = 1e-2  # knockout\n",
    "logFC = np.log2(fc)\n",
    "logFC[np.isnan(logFC)] = -999             # control or no data\n",
    "\n",
    "# Visualize the CRISPRi performance\n",
    "validLogFC = logFC[logFC != -999]\n",
    "rangeMin = np.floor(np.min(validLogFC))\n",
    "rangeMax = np.ceil (np.max(validLogFC))\n",
    "plt.figure(figsize=(4,2.5))\n",
    "plt.hist(validLogFC, \n",
    "         bins=np.linspace(rangeMin, \n",
    "                          rangeMax, \n",
    "                          int((rangeMax-rangeMin)*3+1)), \n",
    "         label=\"Per Trial\")\n",
    "plt.axvline(0, 0, 1, color='red', label=\"No Change\")\n",
    "plt.xlabel(\"Log2 Fold Change (perturbed/control)\")\n",
    "plt.ylabel(\"Count\")\n",
    "plt.legend()\n",
    "plt.show()\n",
    "\n",
    "# Label knockdown outcome\n",
    "status = np.full(logFC.shape[0], \"NA\", dtype=object)\n",
    "status[(logFC <  0) & (logFC != -999)] = \"Yes\"\n",
    "status[(logFC >= 0)] = \"No\"\n",
    "\n",
    "pseudobulk.obs[\"consistentW/Perturbation\"] = status\n",
    "pseudobulk.obs[\"logFC\"] = logFC\n",
    "Counter(status)"
   ]
  },
  {
   "attachments": {},
   "cell_type": "markdown",
   "id": "0c3552ce-9415-421c-892f-c685a28de6b7",
   "metadata": {
    "jp-MarkdownHeadingCollapsed": true,
    "tags": []
   },
   "source": [
    "### Consistency across replications"
   ]
  },
  {
   "cell_type": "code",
   "execution_count": null,
   "id": "ff2c3221-9e1d-4f1c-bafd-6cc6a6be068e",
   "metadata": {},
   "outputs": [],
   "source": [
    "print(f\"Of {pseudobulk.n_obs} observations, {len(set(pseudobulk.obs.perturbation))} unique perturbagen\")"
   ]
  },
  {
   "cell_type": "code",
   "execution_count": null,
   "id": "84787911-9d77-4dad-80e6-4ea7e360eb35",
   "metadata": {
    "scrolled": true,
    "tags": []
   },
   "outputs": [],
   "source": [
    "# !! A very small proportion of perturbations have replications\n",
    "correlations = ingestion.computeCorrelation(pseudobulk, verbose=True)\n",
    "pseudobulk.obs[\"spearmanCorr\"] = correlations[0]\n",
    "pseudobulk.obs[ \"pearsonCorr\"] = correlations[1]"
   ]
  },
  {
   "attachments": {},
   "cell_type": "markdown",
   "id": "f224a0b1-2bf8-4f50-9412-cdd8cf787010",
   "metadata": {
    "jp-MarkdownHeadingCollapsed": true,
    "tags": []
   },
   "source": [
    "### Perturbation Effect"
   ]
  },
  {
   "cell_type": "code",
   "execution_count": null,
   "id": "9e3772da-1e99-4db7-b70d-30ef43bf79fe",
   "metadata": {},
   "outputs": [],
   "source": [
    "\"\"\"\n",
    "Downloaded from http://humantfs.ccbr.utoronto.ca/download.php \"\"\"\n",
    "TFList = pd.read_csv(humanTFPath, index_col=0).iloc[:, [1,3]]\n",
    "TFDict = dict([tuple(i) for i in TFList.to_numpy().tolist() if i[1] == 'Yes'])\n",
    "\n",
    "\"\"\"\n",
    "Downloaded from https://epifactors.autosome.org/description \"\"\"\n",
    "EpiList = pd.read_csv(humanEpiPath, index_col=0).iloc[:, [0,14]]\n",
    "EpiDict = dict([tuple(i) for i in EpiList.to_numpy().tolist()])"
   ]
  },
  {
   "attachments": {},
   "cell_type": "markdown",
   "id": "2457a4c5",
   "metadata": {},
   "source": [
    "### How big are the effects?\n",
    "\n",
    "We examine different quantitative measures that answer this question. Some discriminate poorly among large effects (p-values all ~=0), and some discriminate poorly among small effects (count of DE genes). "
   ]
  },
  {
   "cell_type": "code",
   "execution_count": null,
   "id": "1517a3ab-48ca-43bf-84c2-63cbd676983a",
   "metadata": {
    "collapsed": true,
    "jupyter": {
     "outputs_hidden": true
    },
    "scrolled": true,
    "tags": []
   },
   "outputs": [],
   "source": [
    "\"\"\" If want to look at bigness on TF only \"\"\"\n",
    "TFVar = [i for i,p in enumerate(pseudobulk.var.index) if p in TFDict or p in EpiDict]\n",
    "pseudobulkTFOnly = pseudobulk[:, TFVar].copy()\n",
    "ingestion.quantifyEffect(adata=pseudobulkTFOnly, \n",
    "                         fname=perturbEffectTFOnlyPath, \n",
    "                         group=None, \n",
    "                         diffExprFC=False, \n",
    "                         prefix=\"TFOnly\", \n",
    "                         withDEG=False, \n",
    "                         withMI=False)"
   ]
  },
  {
   "cell_type": "code",
   "execution_count": null,
   "id": "a6821a1d-9964-4186-acf4-ffce0c837198",
   "metadata": {
    "collapsed": true,
    "jupyter": {
     "outputs_hidden": true
    },
    "scrolled": true,
    "tags": []
   },
   "outputs": [],
   "source": [
    "ingestion.quantifyEffect(adata=pseudobulk, \n",
    "                         fname=perturbEffectFullTranscriptomePath, \n",
    "                         group=None,\n",
    "                         diffExprFC=False, \n",
    "                         prefix=\"\",\n",
    "                         withDEG=False, \n",
    "                         withMI=False)\n",
    "\n",
    "listOfMetrics = [\"DEG\", \"MI\", \"logFCMean\", \"logFCNorm2\", \"logFCMedian\"]\n",
    "for m in listOfMetrics:\n",
    "    pseudobulk.obs[f\"TFOnly{m}\"] = pseudobulkTFOnly.obs[f\"TFOnly{m}\"]"
   ]
  },
  {
   "cell_type": "code",
   "execution_count": null,
   "id": "1954aa27-99e0-47c3-9ff4-0258903ac656",
   "metadata": {
    "tags": []
   },
   "outputs": [],
   "source": [
    "metricOfInterest = [\"mean_leverage_score\", 'energy_test_p_value', 'anderson_darling_counts', \n",
    "                    'mann_whitney_counts', 'logFCNorm2']\n",
    "ingestion.checkPerturbationEffectMetricCorrelation(pseudobulk, metrics=metricOfInterest)"
   ]
  },
  {
   "cell_type": "code",
   "execution_count": null,
   "id": "854c8ed6-a861-4057-918d-f1ecf87a3912",
   "metadata": {
    "tags": []
   },
   "outputs": [],
   "source": [
    "# Unable to look at everything\n",
    "# Thus, look only at perturbation that results in more than 1000 DEGs\n",
    "ingestion.visualizePerturbationEffect(\n",
    "    pseudobulk[pseudobulk.obs.mann_whitney_counts > 1000], \n",
    "    metrics=metricOfInterest, \n",
    "    TFDict=TFDict, \n",
    "    EpiDict=EpiDict\n",
    ")"
   ]
  },
  {
   "cell_type": "code",
   "execution_count": null,
   "id": "ce20a34e-7188-4bfe-bef2-98d37baa4f84",
   "metadata": {
    "tags": []
   },
   "outputs": [],
   "source": [
    "for idx, p in enumerate(sorted(set([(i,j) for i,j in pseudobulk.obs[['perturbation', 'logFCNorm2']].to_numpy()]), key=lambda x: x[1])):\n",
    "    print(idx, p)"
   ]
  },
  {
   "attachments": {},
   "cell_type": "markdown",
   "id": "c8bf8f31",
   "metadata": {},
   "source": [
    "### The plot for the figure\n",
    "\n",
    "The below chunk is the figure we use in the manuscript."
   ]
  },
  {
   "cell_type": "code",
   "execution_count": null,
   "id": "15acb451-3ea4-4258-a6ca-0ba2acc98ffd",
   "metadata": {
    "tags": []
   },
   "outputs": [],
   "source": [
    "ingestion.visualizePerturbationMetadata(\n",
    "    pseudobulk, \n",
    "    x=\"mann_whitney_counts\", \n",
    "    y=\"logFC\", \n",
    "    style=\"consistentW/Perturbation\", \n",
    "    hue=\"logFCNorm2\", \n",
    "    markers=['o', '^'], \n",
    "    s=25\n",
    ")\n",
    "plt.savefig(finalDataFileFolder + \"/qc.pdf\")"
   ]
  },
  {
   "attachments": {},
   "cell_type": "markdown",
   "id": "c2d8d347",
   "metadata": {
    "jp-MarkdownHeadingCollapsed": true,
    "tags": []
   },
   "source": [
    "### Basic EDA"
   ]
  },
  {
   "cell_type": "code",
   "execution_count": null,
   "id": "97c2e7b3",
   "metadata": {},
   "outputs": [],
   "source": [
    "sc.pp.log1p(pseudobulk)\n",
    "sc.pp.highly_variable_genes(pseudobulk, n_bins=50, n_top_genes = pseudobulk.var.shape[0], flavor = \"seurat_v3\" )\n",
    "print(pseudobulk.var.shape)\n",
    "print(pseudobulk.var.columns)\n",
    "pseudobulk.var.head()"
   ]
  },
  {
   "cell_type": "code",
   "execution_count": null,
   "id": "7b3c35bf",
   "metadata": {},
   "outputs": [],
   "source": [
    "\n",
    "sc.pl.highly_variable_genes(pseudobulk)\n",
    "with warnings.catch_warnings():\n",
    "    sc.tl.pca(pseudobulk, n_comps=100)\n",
    "sc.pp.neighbors(pseudobulk)\n",
    "sc.tl.umap(pseudobulk)\n",
    "clusterResolutions = []\n",
    "sc.tl.louvain(pseudobulk)"
   ]
  },
  {
   "cell_type": "code",
   "execution_count": null,
   "id": "5216afa0",
   "metadata": {
    "scrolled": true
   },
   "outputs": [],
   "source": [
    "plt.rcParams['figure.figsize'] = [6, 4.5]\n",
    "sc.pl.umap(pseudobulk, color = [\n",
    "    \"is_control_int\",\n",
    "    'UMI_count_unfiltered', 'num_cells_unfiltered', 'num_cells_filtered',\n",
    "       'control_expr', 'fold_expr', \n",
    "       'mean_leverage_score', 'std_leverage_score', 'energy_test_p_value',\n",
    "       'anderson_darling_counts', 'mann_whitney_counts', 'z_gemgroup_UMI',\n",
    "       'mitopercent', 'TE_ratio', 'cnv_score_z', \"louvain\",\n",
    "])"
   ]
  },
  {
   "cell_type": "code",
   "execution_count": null,
   "id": "67046ea2-9c96-4e26-bf02-112272837e82",
   "metadata": {},
   "outputs": [],
   "source": [
    "\"\"\" Keep everything that gets correctly knocked down. Allowing -999 lets us retain controls and unmeasured perturbed genes.\"\"\"\n",
    "pseudobulk = pseudobulk[(pseudobulk.obs.logFC < 0) | (pseudobulk.obs.logFC == -999),:].copy()"
   ]
  },
  {
   "cell_type": "code",
   "execution_count": null,
   "id": "84b48ae3",
   "metadata": {},
   "outputs": [],
   "source": [
    "perturbed_genes = set(list(pseudobulk.obs['perturbation'].unique())).difference(controls)\n",
    "perturbed_and_measured_genes = perturbed_genes.intersection(pseudobulk.var.index)\n",
    "perturbed_but_not_measured_genes = perturbed_genes.difference(pseudobulk.var.index)\n",
    "print(len(perturbed_genes))\n",
    "print(\"These genes were perturbed but not measured:\")\n",
    "print(len(perturbed_but_not_measured_genes))\n",
    "pseudobulk.uns[\"perturbed_and_measured_genes\"]     = list(perturbed_and_measured_genes)\n",
    "pseudobulk.uns[\"perturbed_but_not_measured_genes\"] = list(perturbed_but_not_measured_genes)\n",
    "pseudobulk = ingestion.describe_perturbation_effect(pseudobulk, \"knockdown\")"
   ]
  },
  {
   "cell_type": "code",
   "execution_count": null,
   "id": "ba9c754c",
   "metadata": {
    "scrolled": true
   },
   "outputs": [],
   "source": [
    "os.makedirs(f\"perturbations/{dataset_name}\", exist_ok = True)\n",
    "pseudobulk.write_h5ad(f\"perturbations/{dataset_name}/test.h5ad\")"
   ]
  },
  {
   "attachments": {},
   "cell_type": "markdown",
   "id": "dddfbd6c",
   "metadata": {},
   "source": [
    "### Only TF's\n",
    "\n",
    "Below, we subset just the samples where TF's are perturbed (and the controls)."
   ]
  },
  {
   "cell_type": "code",
   "execution_count": null,
   "id": "36ab44ec",
   "metadata": {},
   "outputs": [],
   "source": [
    "pseudobulk = sc.read_h5ad(f\"perturbations/{dataset_name}/test.h5ad\")\n",
    "TFList = pd.read_csv(humanTFPath, index_col=0).iloc[:, [1,3]]\n",
    "pseudobulk.obs = pseudobulk.obs.merge(TFList, left_on = \"perturbation\", right_on = \"HGNC symbol\", how = \"left\")\n",
    "pseudobulk.obs[\"Is TF?\"] = pseudobulk.obs[\"Is TF?\"].fillna(\"No\")\n",
    "print(pseudobulk.obs[\"Is TF?\"].value_counts())\n",
    "pseudobulk = pseudobulk[pseudobulk.obs[\"is_control\"] | (pseudobulk.obs[\"Is TF?\"]==\"Yes\"), :]\n",
    "pseudobulk.uns[\"perturbed_and_measured_genes\"]     = [g for g in pseudobulk.uns[\"perturbed_and_measured_genes\"]  \n",
    "                                                      if g in set(pseudobulk.obs[\"perturbation\"])]\n",
    "pseudobulk.uns[\"perturbed_but_not_measured_genes\"] = [g for g in pseudobulk.uns[\"perturbed_but_not_measured_genes\"] \n",
    "                                                      if g in set(pseudobulk.obs[\"perturbation\"])]\n",
    "print(pseudobulk.uns)\n",
    "os.makedirs(f\"perturbations/{dataset_name}_tf_only\", exist_ok = True)\n",
    "pseudobulk.write_h5ad(f\"perturbations/{dataset_name}_tf_only/test.h5ad\")"
   ]
  },
  {
   "attachments": {},
   "cell_type": "markdown",
   "id": "24277e15",
   "metadata": {},
   "source": [
    "### Large effects only\n",
    "\n",
    "Below, we subset only the largest effects using the leverage score defined in the original paper. "
   ]
  },
  {
   "cell_type": "code",
   "execution_count": null,
   "id": "91901391",
   "metadata": {},
   "outputs": [],
   "source": [
    "pseudobulk = sc.read_h5ad(f\"perturbations/{dataset_name}/test.h5ad\")\n",
    "sns.histplot(pseudobulk.obs[\"mean_leverage_score\"])\n",
    "pseudobulk = pseudobulk[pseudobulk.obs[\"is_control\"] | (pseudobulk.obs[\"mean_leverage_score\"]>=0.6), :]\n",
    "pseudobulk.uns[\"perturbed_and_measured_genes\"]     = [g for g in pseudobulk.uns[\"perturbed_and_measured_genes\"]  \n",
    "                                                      if g in set(pseudobulk.obs[\"perturbation\"])]\n",
    "pseudobulk.uns[\"perturbed_but_not_measured_genes\"] = [g for g in pseudobulk.uns[\"perturbed_but_not_measured_genes\"] \n",
    "                                                      if g in set(pseudobulk.obs[\"perturbation\"])]\n",
    "print(pseudobulk.uns)\n",
    "os.makedirs(f\"perturbations/{dataset_name}_large_effect\", exist_ok = True)\n",
    "pseudobulk.write_h5ad(f\"perturbations/{dataset_name}_large_effect/test.h5ad\")"
   ]
  }
 ],
 "metadata": {
  "kernelspec": {
   "display_name": "Python 3.9.13 ('cell_type_grn_transfer')",
   "language": "python",
   "name": "python3"
  },
  "language_info": {
   "codemirror_mode": {
    "name": "ipython",
    "version": 3
   },
   "file_extension": ".py",
   "mimetype": "text/x-python",
   "name": "python",
   "nbconvert_exporter": "python",
   "pygments_lexer": "ipython3",
   "version": "3.9.15"
  },
  "vscode": {
   "interpreter": {
    "hash": "7658a1e878c2df46706cc47028d7885e1865315efe8f971cf3b351dc4de1c60e"
   }
  }
 },
 "nbformat": 4,
 "nbformat_minor": 5
}
