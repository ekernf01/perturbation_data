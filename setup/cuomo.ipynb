{
 "cells": [
  {
   "cell_type": "markdown",
   "id": "a377c2a0",
   "metadata": {},
   "source": [
    "### Endoderm time-course\n",
    "\n",
    "This notebook is for exploratory analysis and reformatting of the Cuomo et al. [endoderm directed differentiation scRNA data](https://www.nature.com/articles/s41467-020-14457-z)."
   ]
  },
  {
   "cell_type": "code",
   "execution_count": null,
   "id": "5207ee00",
   "metadata": {},
   "outputs": [],
   "source": [
    "import warnings\n",
    "warnings.filterwarnings('ignore')\n",
    "import regex as re\n",
    "import os\n",
    "import shutil\n",
    "import importlib\n",
    "import matplotlib.colors as colors\n",
    "import matplotlib.pyplot as plt\n",
    "import numpy as np\n",
    "import pandas as pd\n",
    "import scanpy as sc\n",
    "import seaborn as sns\n",
    "from scipy.stats import spearmanr as spearmanr\n",
    "from scipy.sparse import csr_matrix\n",
    "from IPython.display import display, HTML\n",
    "from collections import Counter\n",
    "\n",
    "# local\n",
    "import load_perturbations\n",
    "import importlib\n",
    "import sys\n",
    "sys.path.append(\"setup\")\n",
    "import ingestion\n",
    "import global_effects\n",
    "importlib.reload(ingestion)\n",
    "importlib.reload(global_effects)\n",
    "\n",
    "import anndata\n",
    "import os, sys\n",
    "import itertools as it\n",
    "from scipy.stats import spearmanr, pearsonr, rankdata, f_oneway\n",
    "from statsmodels.stats.multitest import multipletests\n",
    "from sklearn.metrics import mutual_info_score\n",
    "import matplotlib.pyplot as plt\n",
    "import seaborn as sns\n",
    "from collections import Counter\n",
    "\n",
    "#      visualization settings\n",
    "%matplotlib inline\n",
    "plt.rcParams['figure.figsize'] = [6, 4.5]\n",
    "plt.rcParams[\"savefig.dpi\"] = 300\n",
    "\n",
    "# I prefer to specify the working directory explicitly.\n",
    "os.chdir(\"/home/ekernf01/Desktop/jhu/research/projects/perturbation_prediction/cell_type_knowledge_transfer/perturbation_data\")\n",
    "\n",
    "load_perturbations.set_data_path('perturbations')\n",
    "\n",
    "# Universal\n",
    "geneAnnotationPath = \"../accessory_data/gencode.v35.annotation.gtf.gz\"       # Downloaded from https://www.gencodegenes.org/human/release_35.html\n",
    "humanTFPath =  \"../accessory_data/humanTFs.csv\"                              # Downloaded from http://humantfs.ccbr.utoronto.ca/download.php\n",
    "humanEpiPath = \"../accessory_data/epiList.csv\"                               # Downloaded from https://epifactors.autosome.org/description \n",
    "cellcycleGenePath = \"../accessory_data/regev_lab_cell_cycle_genes.txt\"\n",
    "\n",
    "# dataset-specific\n",
    "dataset_name = \"definitive_endoderm\""
   ]
  },
  {
   "cell_type": "code",
   "execution_count": null,
   "id": "f2c4d9b8",
   "metadata": {},
   "outputs": [],
   "source": [
    "# Raw counts are from https://zenodo.org/records/3625024#.Xil-0y2cZ0s\n",
    "expression_quantified = sc.read_csv(\"not_ready/cuomo_definitive_endoderm/raw_counts.csv\")\n",
    "expression_quantified = expression_quantified.T"
   ]
  },
  {
   "cell_type": "code",
   "execution_count": null,
   "id": "63e0f45a",
   "metadata": {},
   "outputs": [],
   "source": [
    "expression_quantified.var_names = [gene.split(\"_\")[1] for gene in expression_quantified.var_names]"
   ]
  },
  {
   "cell_type": "code",
   "execution_count": null,
   "id": "2bbecbcb",
   "metadata": {},
   "outputs": [],
   "source": [
    "obs = pd.read_csv(\"not_ready/cuomo_definitive_endoderm/cell_metadata_cols.tsv\", sep = \"\\t\")\n",
    "assert all(expression_quantified.obs.index == obs.index)\n",
    "expression_quantified.obs = obs"
   ]
  },
  {
   "cell_type": "markdown",
   "id": "d2a6cc7c",
   "metadata": {
    "jp-MarkdownHeadingCollapsed": true,
    "tags": []
   },
   "source": [
    "### Required metadata"
   ]
  },
  {
   "cell_type": "code",
   "execution_count": null,
   "id": "65d44c29",
   "metadata": {
    "tags": []
   },
   "outputs": [],
   "source": [
    "expression_quantified.obs[\"is_control\"]     = True\n",
    "expression_quantified.obs[\"is_control_int\"] = 1\n",
    "expression_quantified.obs[\"perturbation\"]  = \"control\"\n",
    "expression_quantified.obs[\"timepoint\"]     = expression_quantified.obs[\"day\"]\n",
    "expression_quantified.obs[\"cell_type\"]     = \"endoderm_differentiation\"\n",
    "expression_quantified.uns[\"perturbed_and_measured_genes\"]     = []\n",
    "expression_quantified.uns[\"perturbed_but_not_measured_genes\"] = []\n"
   ]
  },
  {
   "cell_type": "markdown",
   "id": "e58d93b8",
   "metadata": {},
   "source": [
    "### Cell cycle annotation\n",
    "\n",
    "Following the Figure 1 and S1 notebook from [Petrus-Reurer et al.](https://github.com/lamanno-epfl/rpe_differentiation_profiling_code/blob/main/JupyterNotebooks/HTML/Figure1_S1.html). \n"
   ]
  },
  {
   "cell_type": "code",
   "execution_count": null,
   "id": "954fb0f9",
   "metadata": {},
   "outputs": [],
   "source": [
    "S_genes_hum = [\"MCM5\", \"PCNA\", \"TYMS\", \"FEN1\", \"MCM2\", \"MCM4\", \"RRM1\", \"UNG\", \"GINS2\", \n",
    "            \"MCM6\", \"CDCA7\", \"DTL\", \"PRIM1\", \"UHRF1\", \"CENPU\", \"HELLS\", \"RFC2\", \n",
    "            \"RPA2\", \"NASP\", \"RAD51AP1\", \"GMNN\", \"WDR76\", \"SLBP\", \"CCNE2\", \"UBR7\", \n",
    "            \"POLD3\", \"MSH2\", \"ATAD2\", \"RAD51\", \"RRM2\", \"CDC45\", \"CDC6\", \"EXO1\", \"TIPIN\", \n",
    "            \"DSCC1\", \"BLM\", \"CASP8AP2\", \"USP1\", \"CLSPN\", \"POLA1\", \"CHAF1B\", \"BRIP1\", \"E2F8\"]\n",
    "G2M_genes_hum = [\"HMGB2\", \"CDK1\", \"NUSAP1\", \"UBE2C\", \"BIRC5\", \"TPX2\", \"TOP2A\", \"NDC80\",\n",
    "             \"CKS2\", \"NUF2\", \"CKS1B\", \"MKI67\", \"TMPO\", \"CENPF\", \"TACC3\", \"PIMREG\", \n",
    "             \"SMC4\", \"CCNB2\", \"CKAP2L\", \"CKAP2\", \"AURKB\", \"BUB1\", \"KIF11\", \"ANP32E\", \n",
    "             \"TUBB4B\", \"GTSE1\", \"KIF20B\", \"HJURP\", \"CDCA3\", \"JPT1\", \"CDC20\", \"TTK\",\n",
    "             \"CDC25C\", \"KIF2C\", \"RANGAP1\", \"NCAPD2\", \"DLGAP5\", \"CDCA2\", \"CDCA8\", \"ECT2\", \n",
    "             \"KIF23\", \"HMMR\", \"AURKA\", \"PSRC1\", \"ANLN\", \"LBR\", \"CKAP5\", \"CENPE\", \n",
    "             \"CTCF\", \"NEK2\", \"G2E3\", \"GAS2L3\", \"CBX5\", \"CENPA\"]\n",
    "sc.tl.score_genes_cell_cycle(expression_quantified, s_genes=S_genes_hum, g2m_genes=G2M_genes_hum)"
   ]
  },
  {
   "cell_type": "markdown",
   "id": "e898143e",
   "metadata": {},
   "source": [
    "### Normalization and variable gene ranking\n",
    "\n",
    "Downstream benchmarking analysis expects both of these things to be done already. We will pair this with CRISPR knockdown data, so we also add dummy columns for perturbation and expression level after perturbation. "
   ]
  },
  {
   "cell_type": "code",
   "execution_count": null,
   "id": "688a2601",
   "metadata": {},
   "outputs": [],
   "source": [
    "expression_quantified.raw = expression_quantified.copy()\n",
    "expression_quantified.X = csr_matrix(expression_quantified.X.T / np.array(expression_quantified.obs[\"size_factor\"])).T\n",
    "sc.pp.log1p(expression_quantified)\n",
    "sc.pp.highly_variable_genes(expression_quantified, n_bins=50, n_top_genes = expression_quantified.var.shape[0], flavor = \"seurat_v3\" )\n",
    "expression_quantified = ingestion.describe_perturbation_effect(expression_quantified, \"knockdown\")\n"
   ]
  },
  {
   "cell_type": "markdown",
   "id": "10ba61e4",
   "metadata": {},
   "source": [
    "### Save the data"
   ]
  },
  {
   "cell_type": "code",
   "execution_count": null,
   "id": "53132fdb",
   "metadata": {},
   "outputs": [],
   "source": [
    "load_perturbations.check_perturbation_dataset(ad = expression_quantified, is_timeseries=True, is_perturbation=False)\n",
    "expression_quantified.write_h5ad(os.path.join(f\"perturbations/{dataset_name}\", f\"train.h5ad\"))"
   ]
  },
  {
   "cell_type": "markdown",
   "id": "c2d8d347",
   "metadata": {
    "jp-MarkdownHeadingCollapsed": true,
    "tags": []
   },
   "source": [
    "### Basic EDA\n",
    "\n",
    "Similar to the original supplement, we see strong batch effects in UMAP but PC1 looks ok as pseudotime. "
   ]
  },
  {
   "cell_type": "code",
   "execution_count": null,
   "id": "97c2e7b3",
   "metadata": {
    "scrolled": true,
    "tags": []
   },
   "outputs": [],
   "source": [
    "sc.pp.highly_variable_genes(expression_quantified, n_bins=50, n_top_genes = 500, flavor = \"seurat_v3\" )\n",
    "sc.pp.regress_out(expression_quantified, [\"experiment\"])\n",
    "sc.pp.regress_out(expression_quantified, [\"total_counts\", \"total_counts_endogenous\", \"total_counts_ERCC\", \"size_factor\"])\n",
    "with warnings.catch_warnings():\n",
    "    sc.tl.pca(expression_quantified, n_comps=100)\n",
    "sc.pp.neighbors(expression_quantified)\n",
    "sc.tl.umap(expression_quantified)\n",
    "clusterResolutions = []\n",
    "sc.tl.louvain(expression_quantified)"
   ]
  },
  {
   "cell_type": "code",
   "execution_count": null,
   "id": "5216afa0",
   "metadata": {
    "scrolled": true,
    "tags": []
   },
   "outputs": [],
   "source": [
    "plt.rcParams['figure.figsize'] = [6, 4.5]\n",
    "stuff_to_show = [ \n",
    "       'experiment', \"day\", \"doublet_score\",\n",
    "       'log10_total_counts', 'log10_total_counts_endogenous',\n",
    "       'log10_total_counts_ERCC', 'log10_total_counts_feature_control',\n",
    "       'log10_total_counts_MT', 'log10_total_features',\n",
    "       'log10_total_features_endogenous', 'log10_total_features_ERCC',\n",
    "       'log10_total_features_feature_control', 'log10_total_features_MT',\n",
    "       'pct_counts_top_50_features',\n",
    "       'plate_id', 'post_prob',\n",
    "       'well_type',  'pseudo', \"phase\", \"louvain\",\n",
    "       \"SOX17\", \"FOXA2\", \"EOMES\", \"NANOG\", \"POU5F1\", \"T\", \"MIXL1\"]\n",
    "sc.pl.umap(expression_quantified, color = stuff_to_show)\n",
    "sc.pl.pca(expression_quantified, color = stuff_to_show)\n",
    "print(expression_quantified.obs.columns)"
   ]
  },
  {
   "cell_type": "code",
   "execution_count": null,
   "id": "75e951c3",
   "metadata": {},
   "outputs": [],
   "source": []
  }
 ],
 "metadata": {
  "kernelspec": {
   "display_name": "Python 3.9.13 ('cell_type_grn_transfer')",
   "language": "python",
   "name": "python3"
  },
  "language_info": {
   "codemirror_mode": {
    "name": "ipython",
    "version": 3
   },
   "file_extension": ".py",
   "mimetype": "text/x-python",
   "name": "python",
   "nbconvert_exporter": "python",
   "pygments_lexer": "ipython3",
   "version": "3.9.15"
  },
  "vscode": {
   "interpreter": {
    "hash": "7658a1e878c2df46706cc47028d7885e1865315efe8f971cf3b351dc4de1c60e"
   }
  }
 },
 "nbformat": 4,
 "nbformat_minor": 5
}
