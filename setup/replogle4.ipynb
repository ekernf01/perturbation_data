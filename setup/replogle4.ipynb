{
 "cells": [
  {
   "cell_type": "markdown",
   "id": "a377c2a0",
   "metadata": {},
   "source": [
    "### Genome-wide perturb-seq\n",
    "\n",
    "This notebook prepares a dataset from a [paper with giant Perturb-seq experiments](https://www.cell.com/cell/fulltext/S0092-8674(22)00597-9?_returnURL=https%3A%2F%2Flinkinghub.elsevier.com%2Fretrieve%2Fpii%2FS0092867422005979%3Fshowall%3Dtrue) applied to all expressed genes or all essential genes.\n",
    "\n",
    "Here we tidy the dataset and carry out a simple exploration in scanpy.\n",
    "\n",
    "We start from a pseudo-bulk version where all cells are added together within each perturbation. \n",
    "\n",
    "This study does knockdown, not knockout. "
   ]
  },
  {
   "cell_type": "code",
   "execution_count": null,
   "id": "5207ee00",
   "metadata": {},
   "outputs": [],
   "source": [
    "import warnings\n",
    "warnings.filterwarnings('ignore')\n",
    "import regex as re\n",
    "import os\n",
    "import shutil\n",
    "import importlib\n",
    "import matplotlib.colors as colors\n",
    "import matplotlib.pyplot as plt\n",
    "import numpy as np\n",
    "import pandas as pd\n",
    "import scanpy as sc\n",
    "import seaborn as sns\n",
    "from scipy.stats import spearmanr as spearmanr\n",
    "from IPython.display import display, HTML\n",
    "from collections import Counter\n",
    "\n",
    "# local\n",
    "import importlib\n",
    "import sys\n",
    "sys.path.append(\"setup\")\n",
    "import ingestion\n",
    "import global_effects\n",
    "importlib.reload(ingestion)\n",
    "importlib.reload(global_effects)\n",
    "\n",
    "import anndata\n",
    "import os, sys\n",
    "import itertools as it\n",
    "from scipy.stats import spearmanr, pearsonr, rankdata, f_oneway\n",
    "from statsmodels.stats.multitest import multipletests\n",
    "from sklearn.metrics import mutual_info_score\n",
    "import matplotlib.pyplot as plt\n",
    "import seaborn as sns\n",
    "from collections import Counter\n",
    "\n",
    "#      visualization settings\n",
    "%matplotlib inline\n",
    "plt.rcParams['figure.figsize'] = [6, 4.5]\n",
    "plt.rcParams[\"savefig.dpi\"] = 300\n",
    "\n",
    "# I prefer to specify the working directory explicitly.\n",
    "os.chdir(\"/home/ekernf01/Desktop/jhu/research/projects/perturbation_prediction/cell_type_knowledge_transfer/perturbation_data\")\n",
    "\n",
    "# Universal\n",
    "geneAnnotationPath = \"../accessory_data/gencode.v35.annotation.gtf.gz\"       # Downloaded from https://www.gencodegenes.org/human/release_35.html\n",
    "humanTFPath =  \"../accessory_data/humanTFs.csv\"                              # Downloaded from http://humantfs.ccbr.utoronto.ca/download.php\n",
    "humanEpiPath = \"../accessory_data/epiList.csv\"                               # Downloaded from https://epifactors.autosome.org/description \n",
    "cellcycleGenePath = \"../accessory_data/regev_lab_cell_cycle_genes.txt\"\n",
    "\n",
    "# Replogle3 Specific\n",
    "dataset_name = \"replogle4\"\n",
    "perturbEffectTFOnlyPath = \"setup/replogle4TFOnly.csv\"                         # a path to store temp file\n",
    "perturbEffectFullTranscriptomePath = \"setup/replogle4FullTranscriptome.csv\"   # a path to store temp file"
   ]
  },
  {
   "cell_type": "markdown",
   "id": "275b88c7",
   "metadata": {
    "jp-MarkdownHeadingCollapsed": true,
    "tags": []
   },
   "source": [
    "### Load expression data & set up cell metadata"
   ]
  },
  {
   "cell_type": "code",
   "execution_count": null,
   "id": "07d803df",
   "metadata": {},
   "outputs": [],
   "source": [
    "expression_quantified = sc.read_h5ad(f\"not_ready/{dataset_name}/rpe1_raw_bulk_01.h5ad\")\n",
    "expression_quantified.var_names = ingestion.convert_ens_to_symbol(\n",
    "    expression_quantified.var_names, \n",
    "    gtf=geneAnnotationPath,\n",
    "    strip_version=True,\n",
    ")\n",
    "expression_quantified"
   ]
  },
  {
   "cell_type": "markdown",
   "id": "d2a6cc7c",
   "metadata": {
    "jp-MarkdownHeadingCollapsed": true,
    "tags": []
   },
   "source": [
    "### Fill `perturbation` & `is_control` and find TF's"
   ]
  },
  {
   "cell_type": "code",
   "execution_count": null,
   "id": "65d44c29",
   "metadata": {
    "tags": []
   },
   "outputs": [],
   "source": [
    "human_tfs = pd.read_csv(humanTFPath)\n",
    "human_tfs = human_tfs.loc[human_tfs[\"Is TF?\"]==\"Yes\",:]\n",
    "expression_quantified.obs[\"gene_symbol\"] = [s.split(\"_\")[1] for s in expression_quantified.obs.index]\n",
    "expression_quantified.obs[\"is_tf\"] = expression_quantified.obs[\"gene_symbol\"].isin(human_tfs[\"HGNC symbol\"])\n",
    "expression_quantified.obs[\"ensembl_id\"] = [s.split(\"_\")[3] for s in expression_quantified.obs.index]\n",
    "expression_quantified.obs[\"is_control\"]     = expression_quantified.obs[\"gene_symbol\"].str.contains(\"non\")\n",
    "expression_quantified.obs[\"is_control_int\"] = expression_quantified.obs[\"gene_symbol\"].str.contains(\"non\").astype(\"int\")\n",
    "expression_quantified.obs[\"perturbation\"] = expression_quantified.obs[\"gene_symbol\"]\n",
    "controls = expression_quantified.obs.query(\"is_control\")[\"perturbation\"]\n",
    "print(\"controls\")\n",
    "print(controls)\n",
    "expression_quantified.obs[\"is_tf\"].value_counts()\n",
    "expression_quantified.raw = expression_quantified.copy()"
   ]
  },
  {
   "cell_type": "markdown",
   "id": "aad31ce4-ab91-48fa-ba35-0970668d48f3",
   "metadata": {
    "jp-MarkdownHeadingCollapsed": true,
    "tags": []
   },
   "source": [
    "### Normalization"
   ]
  },
  {
   "cell_type": "code",
   "execution_count": null,
   "id": "a06e5086-430d-4a72-b6ca-dfd23684905d",
   "metadata": {},
   "outputs": [],
   "source": [
    "pseudobulk = expression_quantified.copy()\n",
    "pseudobulk.raw = pseudobulk\n",
    "pseudobulk.X = ingestion.deseq2Normalization(pseudobulk.X.T).T"
   ]
  },
  {
   "cell_type": "code",
   "execution_count": null,
   "id": "ff2fde1f-3121-4c35-84d0-904a6f11f686",
   "metadata": {
    "tags": []
   },
   "outputs": [],
   "source": [
    "\"\"\" Sanity check: expression for house keeping genes are relatively stable \"\"\"\n",
    "fig, axes = plt.subplots(1, 2, figsize=(8,2))\n",
    "axes[0].hist(pseudobulk.raw.X[:, [idx for idx, n in enumerate(pseudobulk.raw.var.index) if n.upper() == 'ACTB' ]], bins=100, label=\"ACTB\" )\n",
    "axes[1].hist(pseudobulk.raw.X[:, [idx for idx, n in enumerate(pseudobulk.raw.var.index) if n.upper() == 'GAPDH']], bins=100, label=\"GAPDH\")\n",
    "axes[0].legend()\n",
    "axes[1].legend()\n",
    "plt.suptitle(\"Expression across pseudobulk samples\")\n",
    "plt.show()"
   ]
  },
  {
   "cell_type": "code",
   "execution_count": null,
   "id": "08af2fe9-403a-4092-9017-3011484c8422",
   "metadata": {
    "tags": []
   },
   "outputs": [],
   "source": [
    "plt.figure(figsize=(3,3))\n",
    "logbins = np.geomspace(\n",
    "    pseudobulk.raw.X.sum(axis=0).min(),                    \n",
    "    pseudobulk.raw.X.sum(axis=0).max(), \n",
    "    100)\n",
    "plt.hist(pseudobulk.raw.X.sum(axis=0), \n",
    "         bins=logbins, \n",
    "         log=True, \n",
    "         color=\"orange\")\n",
    "plt.xscale('log')\n",
    "plt.show()"
   ]
  },
  {
   "cell_type": "code",
   "execution_count": null,
   "id": "15471e42-6333-423b-bda7-d724f02c663c",
   "metadata": {},
   "outputs": [],
   "source": [
    "\"\"\" The sum of gene expression before and after normalization \"\"\"\n",
    "fig, axes = plt.subplots(1, 2, figsize=(12,3))\n",
    "axes[0].hist(\n",
    "    pseudobulk.raw.X.sum(axis=1), \n",
    "    bins=100, \n",
    "    log=True, \n",
    "    label=\"before DESeq2 norm\")\n",
    "axes[1].hist(\n",
    "    pseudobulk.X.sum(axis=1), \n",
    "    bins=100, \n",
    "    log=True, \n",
    "    label=\"after DESeq2 norm\")\n",
    "axes[0].legend()\n",
    "axes[1].legend()\n",
    "plt.show()"
   ]
  },
  {
   "cell_type": "code",
   "execution_count": null,
   "id": "46f26b43-867d-47e1-8ea4-400725f1ab16",
   "metadata": {},
   "outputs": [],
   "source": [
    "\"\"\" Check an exmaple (correlation at expression scale and at logFC scale) \"\"\"\n",
    "\n",
    "TFBePerturb = 'ABCF1'\n",
    "display(pseudobulk[pseudobulk.obs.perturbation == TFBePerturb].obs)\n",
    "expr1 = pseudobulk[pseudobulk.obs.perturbation == TFBePerturb].X[0,:]\n",
    "expr2 = pseudobulk[pseudobulk.obs.perturbation == TFBePerturb].X[1,:]\n",
    "\n",
    "controlExpr  = pseudobulk[pseudobulk.obs.is_control, :].X\n",
    "c1 = np.median(controlExpr.copy(), axis=0)\n",
    "\n",
    "fig, axes = plt.subplots(1,2,figsize=(7,3))\n",
    "logFC1 = np.log2(pseudobulk[pseudobulk.obs.perturbation == TFBePerturb].X[0,:]/c1)\n",
    "logFC2 = np.log2(pseudobulk[pseudobulk.obs.perturbation == TFBePerturb].X[1,:]/c1)\n",
    "validGeneEntry = np.isfinite(logFC1) & np.isfinite(logFC2)\n",
    "logFC1 = logFC1[validGeneEntry]\n",
    "logFC2 = logFC2[validGeneEntry]\n",
    "print(logFC1.shape, logFC2.shape)\n",
    "axes[0].scatter(expr1 , expr2 , s=0.2)\n",
    "axes[0].plot(np.linspace(-1,50,50), np.linspace(-1,50,50), color='red', lw=0.5)\n",
    "axes[1].scatter(logFC1, logFC2, s=0.2)\n",
    "axes[1].plot(np.linspace(-1,1,50), np.linspace(-1,1,50), color='red', lw=0.5)\n",
    "spearmanr(logFC1, logFC2)"
   ]
  },
  {
   "cell_type": "markdown",
   "id": "66a79d58-0ca2-4341-8afa-fc516d7e2c73",
   "metadata": {
    "jp-MarkdownHeadingCollapsed": true,
    "tags": []
   },
   "source": [
    "### Consistency w/ Perturbation Direction"
   ]
  },
  {
   "cell_type": "code",
   "execution_count": null,
   "id": "40a25cac-a158-4936-971e-720d5908350f",
   "metadata": {
    "tags": []
   },
   "outputs": [],
   "source": [
    "# If verbose is set to True, display disconcordant trials and their controls\n",
    "\n",
    "# Using the fold_expr field it stored in .obs \n",
    "# For perturbations where fold_expr = 0, some\n",
    "# pct_expr = -1, denoting a knockout;\n",
    "# others are nan, denoting lack of data or control run\n",
    "fc = pseudobulk.obs.fold_expr.copy()\n",
    "fc[pseudobulk.obs.pct_expr == -1] = 1e-2  # knockout\n",
    "logFC = np.log2(fc)\n",
    "logFC[np.isnan(logFC)] = -999             # control or no data\n",
    "\n",
    "# Visualize the CRISPRi performance\n",
    "validLogFC = logFC[logFC != -999]\n",
    "rangeMin = np.floor(np.min(validLogFC))\n",
    "rangeMax = np.ceil (np.max(validLogFC))\n",
    "plt.figure(figsize=(4,2.5))\n",
    "plt.hist(validLogFC, \n",
    "         bins=np.linspace(rangeMin, \n",
    "                          rangeMax, \n",
    "                          int((rangeMax-rangeMin)*3+1)), \n",
    "         label=\"Per Trial\")\n",
    "plt.axvline(0, 0, 1, color='red', label=\"No Change\")\n",
    "plt.xlabel(\"Log2 Fold Change (perturbed/control)\")\n",
    "plt.ylabel(\"Count\")\n",
    "plt.legend()\n",
    "plt.show()\n",
    "\n",
    "# Label knockdown outcome\n",
    "status = np.full(logFC.shape[0], \"NA\", dtype=object)\n",
    "status[(logFC <  0) & (logFC != -999)] = \"Yes\"\n",
    "status[(logFC >= 0)] = \"No\"\n",
    "\n",
    "pseudobulk.obs[\"consistentW/Perturbation\"] = status\n",
    "pseudobulk.obs[\"logFC\"] = logFC\n",
    "Counter(status)"
   ]
  },
  {
   "cell_type": "markdown",
   "id": "ba2e0eae-f76c-4c37-9a2b-f5db4e580f82",
   "metadata": {
    "jp-MarkdownHeadingCollapsed": true,
    "tags": []
   },
   "source": [
    "### Consistency across replications"
   ]
  },
  {
   "cell_type": "code",
   "execution_count": null,
   "id": "2979adc9-df22-4b30-97ab-9514466a9880",
   "metadata": {},
   "outputs": [],
   "source": [
    "print(f\"Of {pseudobulk.n_obs} observations, {len(set(pseudobulk.obs.perturbation))} unique perturbagen\")"
   ]
  },
  {
   "cell_type": "code",
   "execution_count": null,
   "id": "a6c6f72e-d201-4730-b7e0-5f392073702f",
   "metadata": {
    "scrolled": true,
    "tags": []
   },
   "outputs": [],
   "source": [
    "# !! A very small proportion of perturbations have replications\n",
    "correlations = ingestion.computeCorrelation(pseudobulk, verbose=True)\n",
    "pseudobulk.obs[\"spearmanCorr\"] = correlations[0]\n",
    "pseudobulk.obs[ \"pearsonCorr\"] = correlations[1]"
   ]
  },
  {
   "cell_type": "markdown",
   "id": "d54b5508-4f3e-47b0-97cc-2f0d3b65be16",
   "metadata": {
    "jp-MarkdownHeadingCollapsed": true,
    "tags": []
   },
   "source": [
    "### Perturbation Effect"
   ]
  },
  {
   "cell_type": "code",
   "execution_count": null,
   "id": "a89ae3bc-5aec-444b-b704-1980406ebe60",
   "metadata": {},
   "outputs": [],
   "source": [
    "\"\"\"\n",
    "Downloaded from http://humantfs.ccbr.utoronto.ca/download.php \"\"\"\n",
    "TFList = pd.read_csv(humanTFPath, index_col=0).iloc[:, [1,3]]\n",
    "TFDict = dict([tuple(i) for i in TFList.to_numpy().tolist() if i[1] == 'Yes'])\n",
    "\n",
    "\"\"\"\n",
    "Downloaded from https://epifactors.autosome.org/description \"\"\"\n",
    "EpiList = pd.read_csv(humanEpiPath, index_col=0).iloc[:, [0,14]]\n",
    "EpiDict = dict([tuple(i) for i in EpiList.to_numpy().tolist()])"
   ]
  },
  {
   "cell_type": "code",
   "execution_count": null,
   "id": "ba2f4016-6470-4465-9528-a2f8a3f9acfe",
   "metadata": {
    "collapsed": true,
    "jupyter": {
     "outputs_hidden": true
    },
    "scrolled": true,
    "tags": []
   },
   "outputs": [],
   "source": [
    "\"\"\" If want to look at bigness on TF only \"\"\"\n",
    "TFVar = [i for i,p in enumerate(pseudobulk.var.index) if p in TFDict or p in EpiDict]\n",
    "pseudobulkTFOnly = pseudobulk[:, TFVar].copy()\n",
    "global_effects.quantifyEffect(adata=pseudobulkTFOnly, \n",
    "                         fname=perturbEffectTFOnlyPath, \n",
    "                         group=None, \n",
    "                         diffExprFC=False, \n",
    "                         prefix=\"TFOnly\", \n",
    "                         withDEG=False, \n",
    "                         withMI=False)"
   ]
  },
  {
   "cell_type": "code",
   "execution_count": null,
   "id": "1e3ed428-c89a-418f-8307-32bef4ccae80",
   "metadata": {
    "collapsed": true,
    "jupyter": {
     "outputs_hidden": true
    },
    "scrolled": true,
    "tags": []
   },
   "outputs": [],
   "source": [
    "global_effects.quantifyEffect(adata=pseudobulk, \n",
    "                         fname=perturbEffectFullTranscriptomePath, \n",
    "                         group=None,\n",
    "                         diffExprFC=False, \n",
    "                         prefix=\"\",\n",
    "                         withDEG=False, \n",
    "                         withMI=False)\n",
    "\n",
    "listOfMetrics = [\"DEG\", \"MI\", \"logFCMean\", \"logFCNorm2\", \"logFCMedian\"]\n",
    "for m in listOfMetrics:\n",
    "    pseudobulk.obs[f\"TFOnly{m}\"] = pseudobulkTFOnly.obs[f\"TFOnly{m}\"]"
   ]
  },
  {
   "cell_type": "code",
   "execution_count": null,
   "id": "cfe32f7d-29d9-4bac-bb46-1ccc875dbd96",
   "metadata": {
    "tags": []
   },
   "outputs": [],
   "source": [
    "metricOfInterest = [\"mean_leverage_score\", 'energy_test_p_value', 'anderson_darling_counts', \n",
    "                    'mann_whitney_counts', 'logFCNorm2']\n",
    "ingestion.checkPerturbationEffectMetricCorrelation(pseudobulk, metrics=metricOfInterest)"
   ]
  },
  {
   "cell_type": "code",
   "execution_count": null,
   "id": "be3f171e-163e-475a-8876-916e9be2be27",
   "metadata": {
    "tags": []
   },
   "outputs": [],
   "source": [
    "# Unable to look at everything\n",
    "# Thus, look only at perturbation that results in more than 1000 DEGs\n",
    "ingestion.visualizePerturbationEffect(\n",
    "    pseudobulk[pseudobulk.obs.mann_whitney_counts > 2000], \n",
    "    metrics=metricOfInterest, \n",
    "    TFDict=TFDict, \n",
    "    EpiDict=EpiDict\n",
    ")"
   ]
  },
  {
   "cell_type": "code",
   "execution_count": null,
   "id": "7d936cff-2a31-4995-bb5e-0e097a12367c",
   "metadata": {
    "scrolled": true,
    "tags": []
   },
   "outputs": [],
   "source": [
    "for idx, p in enumerate(sorted(set([(i,j) for i,j in pseudobulk.obs[['perturbation', 'logFCNorm2']].to_numpy()]), key=lambda x: x[1])):\n",
    "    print(idx, p)"
   ]
  },
  {
   "cell_type": "code",
   "execution_count": null,
   "id": "32c58189-e5f8-4428-b336-d17e23fa37e9",
   "metadata": {},
   "outputs": [],
   "source": [
    "ingestion.visualizePerturbationMetadata(pseudobulk, \n",
    "                                        x=\"mann_whitney_counts\", \n",
    "                                        y=\"logFC\", \n",
    "                                        style=\"consistentW/Perturbation\", \n",
    "                                        hue=\"logFCNorm2\", \n",
    "                                        markers=['^', 'o'],\n",
    "                                        s=25)"
   ]
  },
  {
   "cell_type": "markdown",
   "id": "c2d8d347",
   "metadata": {
    "jp-MarkdownHeadingCollapsed": true,
    "tags": []
   },
   "source": [
    "### Basic EDA"
   ]
  },
  {
   "cell_type": "code",
   "execution_count": null,
   "id": "97c2e7b3",
   "metadata": {
    "scrolled": true,
    "tags": []
   },
   "outputs": [],
   "source": [
    "sc.pp.log1p(pseudobulk)\n",
    "sc.pp.highly_variable_genes(pseudobulk, n_bins=50, n_top_genes = pseudobulk.var.shape[0], flavor = \"seurat_v3\" )\n",
    "print(pseudobulk.var.shape)\n",
    "print(pseudobulk.var.columns)\n",
    "pseudobulk.var.head()\n",
    "sc.pl.highly_variable_genes(pseudobulk)\n",
    "with warnings.catch_warnings():\n",
    "    sc.tl.pca(pseudobulk, n_comps=100)\n",
    "sc.pp.neighbors(pseudobulk)\n",
    "sc.tl.umap(pseudobulk)\n",
    "clusterResolutions = []\n",
    "sc.tl.louvain(pseudobulk)"
   ]
  },
  {
   "cell_type": "code",
   "execution_count": null,
   "id": "5216afa0",
   "metadata": {
    "scrolled": true,
    "tags": []
   },
   "outputs": [],
   "source": [
    "plt.rcParams['figure.figsize'] = [6, 4.5]\n",
    "sc.pl.umap(pseudobulk, color = [\n",
    "    \"is_control_int\",\n",
    "    'UMI_count_unfiltered', 'num_cells_unfiltered', 'num_cells_filtered',\n",
    "       'control_expr', 'fold_expr', \n",
    "       'mean_leverage_score', 'std_leverage_score', 'energy_test_p_value',\n",
    "       'anderson_darling_counts', 'mann_whitney_counts', 'z_gemgroup_UMI',\n",
    "       'mitopercent', 'TE_ratio', 'cnv_score_z', \"louvain\"\n",
    "])"
   ]
  },
  {
   "cell_type": "code",
   "execution_count": null,
   "id": "16d5ebdd",
   "metadata": {},
   "outputs": [],
   "source": [
    "\"\"\" Keep everything that gets correctly knocked down. -999 applies to controls and unmeasured perturbed genes.\"\"\"\n",
    "pseudobulk = pseudobulk[(pseudobulk.obs.logFC < 0) | (pseudobulk.obs.logFC == -999),:].copy()"
   ]
  },
  {
   "cell_type": "code",
   "execution_count": null,
   "id": "84b48ae3",
   "metadata": {
    "tags": []
   },
   "outputs": [],
   "source": [
    "perturbed_genes = set(list(pseudobulk.obs['perturbation'].unique())).difference(controls)\n",
    "perturbed_and_measured_genes = perturbed_genes.intersection(pseudobulk.var.index)\n",
    "perturbed_but_not_measured_genes = perturbed_genes.difference(pseudobulk.var.index)\n",
    "print(\"This many genes were perturbed:\")\n",
    "print(len(perturbed_genes))\n",
    "print(\"These genes were perturbed but not measured:\")\n",
    "print(len(perturbed_but_not_measured_genes))"
   ]
  },
  {
   "cell_type": "code",
   "execution_count": null,
   "id": "619d4c01",
   "metadata": {},
   "outputs": [],
   "source": [
    "pseudobulk.uns[\"perturbed_and_measured_genes\"]     = list(perturbed_and_measured_genes)\n",
    "pseudobulk.uns[\"perturbed_but_not_measured_genes\"] = list(perturbed_but_not_measured_genes)\n",
    "pseudobulk = ingestion.describe_perturbation_effect(pseudobulk, \"knockdown\")"
   ]
  },
  {
   "cell_type": "code",
   "execution_count": null,
   "id": "ba9c754c",
   "metadata": {
    "scrolled": true
   },
   "outputs": [],
   "source": [
    "os.makedirs(f\"perturbations/{dataset_name}\", exist_ok = True)\n",
    "pseudobulk.write_h5ad(f\"perturbations/{dataset_name}/test.h5ad\")"
   ]
  },
  {
   "cell_type": "code",
   "execution_count": null,
   "id": "8c935931",
   "metadata": {},
   "outputs": [],
   "source": []
  }
 ],
 "metadata": {
  "kernelspec": {
   "display_name": "Python 3.9.13 ('cell_type_grn_transfer')",
   "language": "python",
   "name": "python3"
  },
  "language_info": {
   "codemirror_mode": {
    "name": "ipython",
    "version": 3
   },
   "file_extension": ".py",
   "mimetype": "text/x-python",
   "name": "python",
   "nbconvert_exporter": "python",
   "pygments_lexer": "ipython3",
   "version": "3.9.15"
  },
  "vscode": {
   "interpreter": {
    "hash": "7658a1e878c2df46706cc47028d7885e1865315efe8f971cf3b351dc4de1c60e"
   }
  }
 },
 "nbformat": 4,
 "nbformat_minor": 5
}
