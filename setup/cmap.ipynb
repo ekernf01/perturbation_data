{
 "cells": [
  {
   "cell_type": "markdown",
   "id": "f75dc82f",
   "metadata": {},
   "source": [
    "An initial exploration of the CMAP overexpression data"
   ]
  },
  {
   "cell_type": "code",
   "execution_count": null,
   "id": "5207ee00",
   "metadata": {
    "scrolled": false
   },
   "outputs": [],
   "source": [
    "import warnings\n",
    "warnings.filterwarnings('ignore')\n",
    "import regex as re\n",
    "import os\n",
    "import shutil\n",
    "import sys\n",
    "import importlib\n",
    "import matplotlib.colors as colors\n",
    "import matplotlib.pyplot as plt\n",
    "import numpy as np\n",
    "import pandas as pd\n",
    "import scanpy as sc\n",
    "import anndata as ad\n",
    "import seaborn as sns\n",
    "import celloracle as co\n",
    "from scipy.stats import spearmanr as spearmanr\n",
    "from IPython.display import display, HTML\n",
    "# local\n",
    "import importlib\n",
    "import sys\n",
    "sys.path.append(\"setup\")\n",
    "import ingestion\n",
    "importlib.reload(ingestion)\n",
    "\n",
    "#      visualization settings\n",
    "%config InlineBackend.figure_format = 'retina'\n",
    "%matplotlib inline\n",
    "plt.rcParams['figure.figsize'] = [6, 4.5]\n",
    "plt.rcParams[\"savefig.dpi\"] = 300\n",
    "\n",
    "# Specify the working directory explicitly.\n",
    "os.chdir(\"/home/ekernf01/Desktop/jhu/research/projects/perturbation_prediction/cell_type_knowledge_transfer/perturbations/\")"
   ]
  },
  {
   "cell_type": "markdown",
   "id": "c081e213",
   "metadata": {},
   "source": [
    "### Reshape the data"
   ]
  },
  {
   "cell_type": "code",
   "execution_count": null,
   "id": "7ff869b5",
   "metadata": {},
   "outputs": [],
   "source": [
    "expression_quantified = ad.concat([\n",
    "    ingestion.read_cmap( \n",
    "        expression_file = 'not_ready/cmap/level3_beta_ctl_n188708x12328.gctx',\n",
    "        gene_metadata = \"not_ready/cmap/GSE70138_Broad_LINCS_gene_info_2017-03-06.txt.gz\",\n",
    "        instance_metadata = \"not_ready/cmap/instinfo_beta.txt\", \n",
    "    ),\n",
    "    ingestion.read_cmap( \n",
    "        expression_file = 'not_ready/cmap/level3_beta_trt_oe_n131668x12328.gctx',\n",
    "        gene_metadata = \"not_ready/cmap/GSE70138_Broad_LINCS_gene_info_2017-03-06.txt.gz\",\n",
    "        instance_metadata = \"not_ready/cmap/instinfo_beta.txt\", \n",
    "    ),\n",
    "])\n",
    "expression_quantified\n",
    "expression_quantified.raw = expression_quantified.copy()"
   ]
  },
  {
   "cell_type": "code",
   "execution_count": null,
   "id": "b701373e",
   "metadata": {},
   "outputs": [],
   "source": [
    "# concat discards gene metadata even with \"outer\". grrr. have to remake it.\n",
    "expression_quantified.var = pd.merge(\n",
    "    expression_quantified.var, \n",
    "    pd.read_csv(\"not_ready/cmap/GSE70138_Broad_LINCS_gene_info_2017-03-06.txt.gz\", sep = \"\\t\"),\n",
    "    how = \"left\", \n",
    "    left_index = True,\n",
    "    right_on = \"pr_gene_symbol\",\n",
    ")\n",
    "expression_quantified.var_names = expression_quantified.var[\"pr_gene_symbol\"]"
   ]
  },
  {
   "cell_type": "code",
   "execution_count": null,
   "id": "93674c46",
   "metadata": {},
   "outputs": [],
   "source": [
    "# Find names of genes perturbed\n",
    "perturbation_metadata = pd.read_csv(\"not_ready/cmap/GSE92742_Broad_LINCS_pert_info.txt.gz\", sep = \"\\t\")\n",
    "print(perturbation_metadata.head())\n",
    "expression_quantified.obs = pd.merge(\n",
    "    expression_quantified.obs,\n",
    "    perturbation_metadata,\n",
    "    left_on = \"pert_id\", ???\n",
    "    right_on = \"pert_id\",\n",
    ")\n",
    "expression_quantified.obs[\"perturbation\"] = expression_quantified.obs[\"pert_iname\"] "
   ]
  },
  {
   "cell_type": "markdown",
   "id": "82d62862",
   "metadata": {},
   "source": [
    "### Count up different perturbations"
   ]
  },
  {
   "cell_type": "code",
   "execution_count": null,
   "id": "762bc0ff",
   "metadata": {},
   "outputs": [],
   "source": [
    "human_TFs = pd.read_csv(\"../accessory_data/humanTFs.csv\")\n",
    "human_TFs = human_TFs.loc[human_TFs[\"Is TF?\"]==\"Yes\",:]\n",
    "\n",
    "perturbation_metadata = pd.read_csv(\"not_ready/cmap/GSE92742_Broad_LINCS_pert_info.txt.gz\", sep = \"\\t\")\n",
    "print(\"\\n\\nperturbation metadata\")\n",
    "display(perturbation_metadata)\n",
    "meta_with_pert_meta = pd.merge(\n",
    "    expression_quantified.obs,\n",
    "    perturbation_metadata, \n",
    "    on = \"pert_id\",\n",
    "    how = \"left\",\n",
    ")\n",
    "meta_with_pert_meta[\"is_tf\"] = meta_with_pert_meta[\"pert_iname\"].isin(human_TFs[\"HGNC symbol\"])\n",
    "print(\"\\n\\nperturbation frequencies\")\n",
    "print(meta_with_pert_meta[\"pert_iname\"].value_counts())\n",
    "print(\"\\n\\nperturbation frequencies (just TF's)\")\n",
    "print(meta_with_pert_meta.query(\"is_tf\")[\"pert_iname\"].value_counts())"
   ]
  },
  {
   "cell_type": "markdown",
   "id": "9bc29a21",
   "metadata": {},
   "source": [
    "### Add `is_control` and `perturbation`"
   ]
  },
  {
   "cell_type": "code",
   "execution_count": null,
   "id": "594eca40",
   "metadata": {},
   "outputs": [],
   "source": [
    "print(expression_quantified.obs.columns)\n",
    "print(expression_quantified.obs[\"pert_type\"].value_counts())\n",
    "controls = [\"ctl_vector\"]\n",
    "expression_quantified.obs['perturbation'] = expression_quantified.obs[\"pert_id\"]\n",
    "expression_quantified.obs[\"is_control\"] = expression_quantified.obs['pert_type'].isin(controls).astype(int)"
   ]
  },
  {
   "cell_type": "markdown",
   "id": "647b1ca0",
   "metadata": {},
   "source": [
    "### Basic unsupervised analysis"
   ]
  },
  {
   "cell_type": "code",
   "execution_count": null,
   "id": "facf6d89",
   "metadata": {},
   "outputs": [],
   "source": [
    "expression_quantified.X\n",
    "# This is just to estimate the mean and dispersion, but we'll use all 978 landmark genes.\n",
    "sc.pp.highly_variable_genes(expression_quantified, min_mean=0.2, max_mean=4, min_disp=0.2, n_bins=50)"
   ]
  },
  {
   "cell_type": "code",
   "execution_count": null,
   "id": "ef6af1d8",
   "metadata": {},
   "outputs": [],
   "source": [
    "expression_quantified.var[\"highly_variable\"] = expression_quantified.var[\"pr_is_lm\"]==1\n",
    "expression_quantified.var"
   ]
  },
  {
   "cell_type": "code",
   "execution_count": null,
   "id": "97c2e7b3",
   "metadata": {},
   "outputs": [],
   "source": [
    "sc.pl.highly_variable_genes(expression_quantified)\n",
    "with warnings.catch_warnings():\n",
    "    sc.tl.pca(expression_quantified, n_comps=100)\n",
    "sc.pp.neighbors(expression_quantified)\n",
    "sc.tl.umap(expression_quantified)\n",
    "clusterResolutions = []\n",
    "sc.tl.leiden(expression_quantified)"
   ]
  },
  {
   "cell_type": "code",
   "execution_count": null,
   "id": "ff7852d3",
   "metadata": {},
   "outputs": [],
   "source": [
    "expression_quantified.obs = ingestion.simplify_categorical(expression_quantified.obs, column = \"cell_iname\")"
   ]
  },
  {
   "cell_type": "code",
   "execution_count": null,
   "id": "df21982b",
   "metadata": {},
   "outputs": [],
   "source": [
    "expression_quantified.obs[\"cell_iname_simplified\"].value_counts()"
   ]
  },
  {
   "cell_type": "code",
   "execution_count": null,
   "id": "5216afa0",
   "metadata": {
    "scrolled": true
   },
   "outputs": [],
   "source": [
    "print(expression_quantified.obs.columns)\n",
    "for l in [\n",
    "    \"GAPDH\", \"leiden\", \"is_control\",\n",
    "     'bead_batch', 'nearest_dose', 'pert_dose',\n",
    "    'count_mean', 'count_cv',\n",
    "    'qc_f_logp', 'qc_iqr', 'qc_slope', 'pert_type', 'cell_iname_simplified',\n",
    "    'qc_pass', 'dyn_range', 'inv_level_10', 'build_name', 'failure_mode',\n",
    "    'project_code',\n",
    "    ]:\n",
    "    try:\n",
    "        print(sc.pl.umap(expression_quantified, color = l))\n",
    "    except Exception as e:\n",
    "        print(\"Error on input\\n\" + l + \":\\n\" + repr(e))\n",
    "# Will ask CO to use only one cluster.\n",
    "# Requires setting certain other undocumented aspects of object state. :(\n",
    "expression_quantified.obs[\"fake_cluster\"]=\"all_one_cluster\"\n",
    "expression_quantified.obs.fake_cluster = expression_quantified.obs.fake_cluster.astype(\"category\")\n",
    "expression_quantified.uns[\"fake_cluster_colors\"] = ['#1f77b4']"
   ]
  },
  {
   "cell_type": "markdown",
   "id": "44a4a02a",
   "metadata": {},
   "source": [
    "### Data reduction\n",
    "\n",
    "With only 64GB of RAM, I have been unable to make whole-transcriptome predictions with CellOracle. A data reduction step is necessary where only highly variable genes are included. We also keep all genes that are perturbed, whether or not they appear highly variable -- unless they are unavailable in the first place. "
   ]
  },
  {
   "cell_type": "code",
   "execution_count": null,
   "id": "84b48ae3",
   "metadata": {},
   "outputs": [],
   "source": [
    "perturbed_genes = set(list(expression_quantified.obs['perturbation'].unique())).difference(controls)\n",
    "perturbed_and_measured_genes = perturbed_genes.intersection(expression_quantified.var.index)\n",
    "perturbed_but_not_measured_genes = perturbed_genes.difference(expression_quantified.var.index)\n",
    "genes_keep = expression_quantified.var.index[expression_quantified.var['highly_variable']]\n",
    "genes_keep = set(genes_keep).union(perturbed_and_measured_genes)\n",
    "expression_quantified_orig = expression_quantified.copy()\n",
    "print(\"These genes were perturbed and measured:\")\n",
    "print(perturbed_and_measured_genes)\n",
    "print(\"These genes were perturbed but not measured:\")\n",
    "print(sorted(list(perturbed_but_not_measured_genes)))\n",
    "print(\"This many variable genes will be kept and used by CO:\")\n",
    "print(len(genes_keep))\n",
    "print(\"Actually, nevermind. Let us keep just the 978 landmark genes.\")\n",
    "genes_keep = expression_quantified.var.index[expression_quantified.var['pr_is_lm']]\n",
    "expression_quantified = ingestion.describe_perturbation_effect(expression_quantified, \"overexpression\")\n"
   ]
  },
  {
   "cell_type": "code",
   "execution_count": null,
   "id": "619d4c01",
   "metadata": {},
   "outputs": [],
   "source": [
    "# final form, ready to save\n",
    "expression_quantified = expression_quantified_orig[:,list(genes_keep)]\n",
    "expression_quantified.uns[\"perturbed_and_measured_genes\"]     = list(perturbed_and_measured_genes)\n",
    "expression_quantified.uns[\"perturbed_but_not_measured_genes\"] = list(perturbed_but_not_measured_genes)"
   ]
  },
  {
   "cell_type": "code",
   "execution_count": null,
   "id": "ba9c754c",
   "metadata": {
    "scrolled": true
   },
   "outputs": [],
   "source": [
    "os.makedirs(\"perturbations/cmap\", exist_ok = True)\n",
    "expression_quantified.write_h5ad(\"perturbations/cmap/test.h5ad\")"
   ]
  },
  {
   "cell_type": "code",
   "execution_count": null,
   "id": "fef1781e",
   "metadata": {},
   "outputs": [],
   "source": []
  }
 ],
 "metadata": {
  "kernelspec": {
   "display_name": "Python 3.9.7 ('cell_type_grn_transfer')",
   "language": "python",
   "name": "python3"
  },
  "language_info": {
   "codemirror_mode": {
    "name": "ipython",
    "version": 3
   },
   "file_extension": ".py",
   "mimetype": "text/x-python",
   "name": "python",
   "nbconvert_exporter": "python",
   "pygments_lexer": "ipython3",
   "version": "3.9.7"
  },
  "vscode": {
   "interpreter": {
    "hash": "7658a1e878c2df46706cc47028d7885e1865315efe8f971cf3b351dc4de1c60e"
   }
  }
 },
 "nbformat": 4,
 "nbformat_minor": 5
}
