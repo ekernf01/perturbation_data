{
 "cells": [
  {
   "cell_type": "markdown",
   "metadata": {},
   "source": [
    "### Understanding Paul's Cell Oracle Data\n",
    "\n",
    "This notebook adjusts a dataset from a paper about Myeloid Progenitors Transcriptional Heterogeneity ([Paul et al 2017](https://pubmed.ncbi.nlm.nih.gov/26627738/)). The goal is to check the dataset against a data checker and make necessary adjustments until it passes all conditions.\n",
    "\n",
    "Here we tidy the dataset and carry out a simple exploration in pandas to ensure its integrity and usability."
   ]
  },
  {
   "cell_type": "code",
   "execution_count": 1,
   "metadata": {},
   "outputs": [],
   "source": [
    "# Get required libraries\n",
    "\n",
    "import pandas as pd\n",
    "import scanpy as sc\n",
    "import numpy as np\n",
    "import importlib\n",
    "import pereggrn_perturbations as dc # the data checker (dc)"
   ]
  },
  {
   "cell_type": "code",
   "execution_count": 2,
   "metadata": {},
   "outputs": [
    {
     "data": {
      "text/plain": [
       "<module 'pereggrn_perturbations' from '/home/ec2-user/expression_forecasting_benchmarks/perturbation_data/setup/pereggrn_perturbations.py'>"
      ]
     },
     "execution_count": 2,
     "metadata": {},
     "output_type": "execute_result"
    }
   ],
   "source": [
    "# Reload the module to catch any updates\n",
    "importlib.reload(dc)"
   ]
  },
  {
   "cell_type": "code",
   "execution_count": 3,
   "metadata": {},
   "outputs": [],
   "source": [
    "# Load the main dataframe\n",
    "df = pd.read_csv('../../perturbation_data_wrong/not_ready/paul/GSE72857_umitab.txt', sep='\\t')"
   ]
  },
  {
   "cell_type": "code",
   "execution_count": 40,
   "metadata": {},
   "outputs": [
    {
     "name": "stdout",
     "output_type": "stream",
     "text": [
      "                      W29953  W29954  W29955  W29956  W29957  W29958  W29959  \\\n",
      "0610007C21Rik;Apr3         0       0       0       0       0       0       0   \n",
      "0610007L01Rik              0       2       1       1       2       0       0   \n",
      "0610007P08Rik;Rad26l       0       0       0       0       1       0       0   \n",
      "0610007P14Rik              0       0       0       1       1       0       0   \n",
      "0610007P22Rik              0       0       0       0       0       0       0   \n",
      "\n",
      "                      W29960  W29961  W29962  ...  W76327  W76328  W76329  \\\n",
      "0610007C21Rik;Apr3         0       0       0  ...       0       0       0   \n",
      "0610007L01Rik              0       1       1  ...       0       0       0   \n",
      "0610007P08Rik;Rad26l       0       0       0  ...       0       0       0   \n",
      "0610007P14Rik              1       0       0  ...       1       0       0   \n",
      "0610007P22Rik              0       0       0  ...       0       0       0   \n",
      "\n",
      "                      W76330  W76331  W76332  W76333  W76334  W76335  W76336  \n",
      "0610007C21Rik;Apr3         0       0       0       0       0       0       0  \n",
      "0610007L01Rik              0       0       1       1       0       0       0  \n",
      "0610007P08Rik;Rad26l       0       0       0       0       0       0       0  \n",
      "0610007P14Rik              0       0       0       0       0       0       0  \n",
      "0610007P22Rik              0       0       0       0       0       0       0  \n",
      "\n",
      "[5 rows x 10368 columns]\n",
      "<class 'pandas.core.frame.DataFrame'>\n",
      "Index: 27297 entries, 0610007C21Rik;Apr3 to tspan-3;Tspan3\n",
      "Columns: 10368 entries, W29953 to W76336\n",
      "dtypes: int64(10368)\n",
      "memory usage: 2.1+ GB\n",
      "None\n",
      "             W29953        W29954        W29955        W29956        W29957  \\\n",
      "count  27297.000000  27297.000000  27297.000000  27297.000000  27297.000000   \n",
      "mean       0.008389      0.082720      0.005715      0.088654      0.215994   \n",
      "std        0.097047      0.533986      0.079636      0.578453      1.371746   \n",
      "min        0.000000      0.000000      0.000000      0.000000      0.000000   \n",
      "25%        0.000000      0.000000      0.000000      0.000000      0.000000   \n",
      "50%        0.000000      0.000000      0.000000      0.000000      0.000000   \n",
      "75%        0.000000      0.000000      0.000000      0.000000      0.000000   \n",
      "max        3.000000     22.000000      3.000000     24.000000     88.000000   \n",
      "\n",
      "             W29958        W29959        W29960        W29961        W29962  \\\n",
      "count  27297.000000  27297.000000  27297.000000  27297.000000  27297.000000   \n",
      "mean       0.092867      0.004579      0.115764      0.137341      0.069531   \n",
      "std        0.621564      0.072740      0.762743      0.755890      0.489561   \n",
      "min        0.000000      0.000000      0.000000      0.000000      0.000000   \n",
      "25%        0.000000      0.000000      0.000000      0.000000      0.000000   \n",
      "50%        0.000000      0.000000      0.000000      0.000000      0.000000   \n",
      "75%        0.000000      0.000000      0.000000      0.000000      0.000000   \n",
      "max       27.000000      3.000000     40.000000     35.000000     18.000000   \n",
      "\n",
      "       ...        W76327        W76328        W76329        W76330  \\\n",
      "count  ...  27297.000000  27297.000000  27297.000000  27297.000000   \n",
      "mean   ...      0.009561      0.002564      0.021504      0.004176   \n",
      "std    ...      0.111689      0.053395      0.206714      0.075967   \n",
      "min    ...      0.000000      0.000000      0.000000      0.000000   \n",
      "25%    ...      0.000000      0.000000      0.000000      0.000000   \n",
      "50%    ...      0.000000      0.000000      0.000000      0.000000   \n",
      "75%    ...      0.000000      0.000000      0.000000      0.000000   \n",
      "max    ...      5.000000      2.000000      7.000000      5.000000   \n",
      "\n",
      "             W76331        W76332        W76333        W76334        W76335  \\\n",
      "count  27297.000000  27297.000000  27297.000000  27297.000000  27297.000000   \n",
      "mean       0.075027      0.108180      0.151225      0.002491      0.008975   \n",
      "std        0.585531      0.860626      1.201975      0.050579      0.111410   \n",
      "min        0.000000      0.000000      0.000000      0.000000      0.000000   \n",
      "25%        0.000000      0.000000      0.000000      0.000000      0.000000   \n",
      "50%        0.000000      0.000000      0.000000      0.000000      0.000000   \n",
      "75%        0.000000      0.000000      0.000000      0.000000      0.000000   \n",
      "max       25.000000     45.000000     64.000000      2.000000      6.000000   \n",
      "\n",
      "             W76336  \n",
      "count  27297.000000  \n",
      "mean       0.002967  \n",
      "std        0.058920  \n",
      "min        0.000000  \n",
      "25%        0.000000  \n",
      "50%        0.000000  \n",
      "75%        0.000000  \n",
      "max        4.000000  \n",
      "\n",
      "[8 rows x 10368 columns]\n"
     ]
    }
   ],
   "source": [
    "# Optional - Inspect the DataFrame\n",
    "print(df.head())  # Print the first few rows to inspect the data\n",
    "print(df.info())  # Print information about the DataFrame\n",
    "print(df.describe())  # Get descriptive statistics if applicable"
   ]
  },
  {
   "cell_type": "code",
   "execution_count": 41,
   "metadata": {},
   "outputs": [
    {
     "name": "stdout",
     "output_type": "stream",
     "text": [
      "Index(['W29953', 'W29954', 'W29955', 'W29956', 'W29957', 'W29958', 'W29959',\n",
      "       'W29960', 'W29961', 'W29962',\n",
      "       ...\n",
      "       'W76327', 'W76328', 'W76329', 'W76330', 'W76331', 'W76332', 'W76333',\n",
      "       'W76334', 'W76335', 'W76336'],\n",
      "      dtype='object', length=10368)\n",
      "Index(['0610007C21Rik;Apr3', '0610007L01Rik', '0610007P08Rik;Rad26l',\n",
      "       '0610007P14Rik', '0610007P22Rik', '0610008F07Rik', '0610009B22Rik',\n",
      "       '0610009D07Rik', '0610009O20Rik', '0610010B08Rik;Gm14434;Gm14308',\n",
      "       ...\n",
      "       'mTPK1;Tpk1', 'mimp3;Igf2bp3;AK045244', 'mszf84;Gm14288;Gm14435;Gm8898',\n",
      "       'mt-Nd4', 'mt3-mmp;Mmp16', 'rp9', 'scmh1;Scmh1', 'slc43a2;Slc43a2',\n",
      "       'tsec-1;Tex9', 'tspan-3;Tspan3'],\n",
      "      dtype='object', length=27297)\n"
     ]
    }
   ],
   "source": [
    "# Optional - Understand the structure\n",
    "# Check for the presence of headers, the shape of the data, and sample the data\n",
    "print(df.columns)  # Check column names\n",
    "print(df.index)  # Check row indices"
   ]
  },
  {
   "cell_type": "code",
   "execution_count": 4,
   "metadata": {},
   "outputs": [],
   "source": [
    "# Load the experimental design table\n",
    "exp_design = pd.read_csv('../../perturbation_data_wrong/not_ready/paul/GSE72857_experimental_design.txt', sep='\\t', skiprows=19)"
   ]
  },
  {
   "cell_type": "code",
   "execution_count": 8,
   "metadata": {},
   "outputs": [
    {
     "name": "stdout",
     "output_type": "stream",
     "text": [
      "      Well_ID Seq_batch_ID Amp_batch_ID well_coordinates  Mouse_ID  Plate_ID  \\\n",
      "0      W29953         SB17        AB167               A1         1         1   \n",
      "1      W29954         SB17        AB167               C1         1         1   \n",
      "2      W29955         SB17        AB167               E1         1         1   \n",
      "3      W29956         SB17        AB167               G1         1         1   \n",
      "4      W29957         SB17        AB167               I1         1         1   \n",
      "...       ...          ...          ...              ...       ...       ...   \n",
      "10363  W76332         SB29        AB396              H24         6        27   \n",
      "10364  W76333         SB29        AB396              J24         6        27   \n",
      "10365  W76334         SB29        AB396              L24         6        27   \n",
      "10366  W76335         SB29        AB396              N24         6        27   \n",
      "10367  W76336         SB29        AB396              P24         6        27   \n",
      "\n",
      "          Batch_desc Pool_barcode Cell_barcode RMT_sequence  Number_of_cells  \\\n",
      "0           CMP CD41         TGAT       CTACCA         NNNN                1   \n",
      "1           CMP CD41         TGAT       CATGCT         NNNN                1   \n",
      "2           CMP CD41         TGAT       GCACAT         NNNN                1   \n",
      "3           CMP CD41         TGAT       TGCTCG         NNNN                1   \n",
      "4           CMP CD41         TGAT       AGCAAT         NNNN                1   \n",
      "...              ...          ...          ...          ...              ...   \n",
      "10363  Cebpa control         ATGC       GCATTG         NNNN                1   \n",
      "10364  Cebpa control         ATGC       GGCTAA         NNNN                1   \n",
      "10365  Cebpa control         ATGC       CTGTGA         NNNN                1   \n",
      "10366  Cebpa control         ATGC       CATGCA         NNNN                1   \n",
      "10367  Cebpa control         ATGC       GATCGA         NNNN                1   \n",
      "\n",
      "       CD34_measurement  FcgR3_measurement  \n",
      "0                   NaN                NaN  \n",
      "1                   NaN                NaN  \n",
      "2                   NaN                NaN  \n",
      "3                   NaN                NaN  \n",
      "4                   NaN                NaN  \n",
      "...                 ...                ...  \n",
      "10363               NaN                NaN  \n",
      "10364               NaN                NaN  \n",
      "10365               NaN                NaN  \n",
      "10366               NaN                NaN  \n",
      "10367               NaN                NaN  \n",
      "\n",
      "[10368 rows x 13 columns]\n"
     ]
    }
   ],
   "source": [
    "# Optional - Check that it only has the table of interest\n",
    "print(exp_design)"
   ]
  },
  {
   "cell_type": "markdown",
   "metadata": {},
   "source": [
    "##### Isolating the Wildtype and Perturbations\n",
    "\n",
    "The data is currently stored in two files:\n",
    "- GSE72857_umitab.txt which has the genes and sample/cell names based on well ID.\n",
    "- GSE72857_experimental_design which has metadata about each sample (based on well ID).\n",
    "\n",
    "Our next step will be merging the main dataframe with the experimental design table using the well IDs to have the data for wildtype and perturbations."
   ]
  },
  {
   "cell_type": "code",
   "execution_count": 5,
   "metadata": {},
   "outputs": [],
   "source": [
    "# Transpose the main dataframe for merging\n",
    "df_t = df.T\n",
    "\n",
    "# Merge the main dataframe with the experimental design table using the well IDs\n",
    "merged_df = df_t.merge(exp_design[['Well_ID', 'Batch_desc']], left_index=True, right_on='Well_ID', how='left')\n",
    "\n",
    "# Set the index back to the well IDs\n",
    "merged_df.set_index('Well_ID', inplace=True)"
   ]
  },
  {
   "cell_type": "markdown",
   "metadata": {},
   "source": [
    "##### Creating the AnnData Structures\n",
    "\n",
    "Before transposing the matrix, the data appears to have gene names as row indices and sample/cell names as column headers.\n",
    "The values represent expression levels for each gene in each sample/cell.\n",
    "\n",
    "Do the following to convert the txt file to h5ad and add the necessary metadata:"
   ]
  },
  {
   "cell_type": "markdown",
   "metadata": {},
   "source": [
    "- Split the data into train (which contains the wildtype data) and test (which contains the perturbation data).\n",
    "- Create the AnnData structure for train."
   ]
  },
  {
   "cell_type": "code",
   "execution_count": 11,
   "metadata": {},
   "outputs": [
    {
     "ename": "KeyboardInterrupt",
     "evalue": "",
     "output_type": "error",
     "traceback": [
      "\u001b[0;31m---------------------------------------------------------------------------\u001b[0m",
      "\u001b[0;31mKeyboardInterrupt\u001b[0m                         Traceback (most recent call last)",
      "Cell \u001b[0;32mIn[11], line 20\u001b[0m\n\u001b[1;32m     18\u001b[0m \u001b[38;5;66;03m# Save train.h5ad\u001b[39;00m\n\u001b[1;32m     19\u001b[0m train_output_file_path \u001b[38;5;241m=\u001b[39m \u001b[38;5;124m'\u001b[39m\u001b[38;5;124m../perturbations/paul/train.h5ad\u001b[39m\u001b[38;5;124m'\u001b[39m\n\u001b[0;32m---> 20\u001b[0m \u001b[43madata_train\u001b[49m\u001b[38;5;241;43m.\u001b[39;49m\u001b[43mwrite_h5ad\u001b[49m\u001b[43m(\u001b[49m\u001b[43mtrain_output_file_path\u001b[49m\u001b[43m)\u001b[49m\n\u001b[1;32m     21\u001b[0m \u001b[38;5;28mprint\u001b[39m(\u001b[38;5;124mf\u001b[39m\u001b[38;5;124m\"\u001b[39m\u001b[38;5;124mTrain data successfully saved to \u001b[39m\u001b[38;5;132;01m{\u001b[39;00mtrain_output_file_path\u001b[38;5;132;01m}\u001b[39;00m\u001b[38;5;124m\"\u001b[39m)\n",
      "File \u001b[0;32m~/miniforge3/envs/ggrn/lib/python3.9/site-packages/anndata/_core/anndata.py:2009\u001b[0m, in \u001b[0;36mAnnData.write_h5ad\u001b[0;34m(self, filename, compression, compression_opts, as_dense)\u001b[0m\n\u001b[1;32m   2006\u001b[0m \u001b[38;5;28;01mif\u001b[39;00m filename \u001b[38;5;129;01mis\u001b[39;00m \u001b[38;5;28;01mNone\u001b[39;00m:\n\u001b[1;32m   2007\u001b[0m     filename \u001b[38;5;241m=\u001b[39m \u001b[38;5;28mself\u001b[39m\u001b[38;5;241m.\u001b[39mfilename\n\u001b[0;32m-> 2009\u001b[0m \u001b[43mwrite_h5ad\u001b[49m\u001b[43m(\u001b[49m\n\u001b[1;32m   2010\u001b[0m \u001b[43m    \u001b[49m\u001b[43mPath\u001b[49m\u001b[43m(\u001b[49m\u001b[43mfilename\u001b[49m\u001b[43m)\u001b[49m\u001b[43m,\u001b[49m\n\u001b[1;32m   2011\u001b[0m \u001b[43m    \u001b[49m\u001b[38;5;28;43mself\u001b[39;49m\u001b[43m,\u001b[49m\n\u001b[1;32m   2012\u001b[0m \u001b[43m    \u001b[49m\u001b[43mcompression\u001b[49m\u001b[38;5;241;43m=\u001b[39;49m\u001b[43mcompression\u001b[49m\u001b[43m,\u001b[49m\n\u001b[1;32m   2013\u001b[0m \u001b[43m    \u001b[49m\u001b[43mcompression_opts\u001b[49m\u001b[38;5;241;43m=\u001b[39;49m\u001b[43mcompression_opts\u001b[49m\u001b[43m,\u001b[49m\n\u001b[1;32m   2014\u001b[0m \u001b[43m    \u001b[49m\u001b[43mas_dense\u001b[49m\u001b[38;5;241;43m=\u001b[39;49m\u001b[43mas_dense\u001b[49m\u001b[43m,\u001b[49m\n\u001b[1;32m   2015\u001b[0m \u001b[43m\u001b[49m\u001b[43m)\u001b[49m\n\u001b[1;32m   2017\u001b[0m \u001b[38;5;28;01mif\u001b[39;00m \u001b[38;5;28mself\u001b[39m\u001b[38;5;241m.\u001b[39misbacked:\n\u001b[1;32m   2018\u001b[0m     \u001b[38;5;28mself\u001b[39m\u001b[38;5;241m.\u001b[39mfile\u001b[38;5;241m.\u001b[39mfilename \u001b[38;5;241m=\u001b[39m filename\n",
      "File \u001b[0;32m~/miniforge3/envs/ggrn/lib/python3.9/site-packages/anndata/_io/h5ad.py:110\u001b[0m, in \u001b[0;36mwrite_h5ad\u001b[0;34m(filepath, adata, as_dense, dataset_kwargs, **kwargs)\u001b[0m\n\u001b[1;32m    108\u001b[0m write_elem(f, \u001b[38;5;124m\"\u001b[39m\u001b[38;5;124mvarp\u001b[39m\u001b[38;5;124m\"\u001b[39m, \u001b[38;5;28mdict\u001b[39m(adata\u001b[38;5;241m.\u001b[39mvarp), dataset_kwargs\u001b[38;5;241m=\u001b[39mdataset_kwargs)\n\u001b[1;32m    109\u001b[0m write_elem(f, \u001b[38;5;124m\"\u001b[39m\u001b[38;5;124mlayers\u001b[39m\u001b[38;5;124m\"\u001b[39m, \u001b[38;5;28mdict\u001b[39m(adata\u001b[38;5;241m.\u001b[39mlayers), dataset_kwargs\u001b[38;5;241m=\u001b[39mdataset_kwargs)\n\u001b[0;32m--> 110\u001b[0m write_elem(f, \u001b[38;5;124m\"\u001b[39m\u001b[38;5;124muns\u001b[39m\u001b[38;5;124m\"\u001b[39m, \u001b[38;5;28mdict\u001b[39m(adata\u001b[38;5;241m.\u001b[39muns), dataset_kwargs\u001b[38;5;241m=\u001b[39mdataset_kwargs)\n",
      "File \u001b[0;32mh5py/_objects.pyx:54\u001b[0m, in \u001b[0;36mh5py._objects.with_phil.wrapper\u001b[0;34m()\u001b[0m\n",
      "File \u001b[0;32mh5py/_objects.pyx:55\u001b[0m, in \u001b[0;36mh5py._objects.with_phil.wrapper\u001b[0;34m()\u001b[0m\n",
      "File \u001b[0;32m~/miniforge3/envs/ggrn/lib/python3.9/site-packages/h5py/_hl/files.py:599\u001b[0m, in \u001b[0;36mFile.__exit__\u001b[0;34m(self, *args)\u001b[0m\n\u001b[1;32m    596\u001b[0m \u001b[38;5;129m@with_phil\u001b[39m\n\u001b[1;32m    597\u001b[0m \u001b[38;5;28;01mdef\u001b[39;00m \u001b[38;5;21m__exit__\u001b[39m(\u001b[38;5;28mself\u001b[39m, \u001b[38;5;241m*\u001b[39margs):\n\u001b[1;32m    598\u001b[0m     \u001b[38;5;28;01mif\u001b[39;00m \u001b[38;5;28mself\u001b[39m\u001b[38;5;241m.\u001b[39mid:\n\u001b[0;32m--> 599\u001b[0m         \u001b[38;5;28;43mself\u001b[39;49m\u001b[38;5;241;43m.\u001b[39;49m\u001b[43mclose\u001b[49m\u001b[43m(\u001b[49m\u001b[43m)\u001b[49m\n",
      "File \u001b[0;32m~/miniforge3/envs/ggrn/lib/python3.9/site-packages/h5py/_hl/files.py:581\u001b[0m, in \u001b[0;36mFile.close\u001b[0;34m(self)\u001b[0m\n\u001b[1;32m    575\u001b[0m \u001b[38;5;28;01mif\u001b[39;00m \u001b[38;5;28mself\u001b[39m\u001b[38;5;241m.\u001b[39mid\u001b[38;5;241m.\u001b[39mvalid:\n\u001b[1;32m    576\u001b[0m     \u001b[38;5;66;03m# We have to explicitly murder all open objects related to the file\u001b[39;00m\n\u001b[1;32m    577\u001b[0m \n\u001b[1;32m    578\u001b[0m     \u001b[38;5;66;03m# Close file-resident objects first, then the files.\u001b[39;00m\n\u001b[1;32m    579\u001b[0m     \u001b[38;5;66;03m# Otherwise we get errors in MPI mode.\u001b[39;00m\n\u001b[1;32m    580\u001b[0m     \u001b[38;5;28mself\u001b[39m\u001b[38;5;241m.\u001b[39mid\u001b[38;5;241m.\u001b[39m_close_open_objects(h5f\u001b[38;5;241m.\u001b[39mOBJ_LOCAL \u001b[38;5;241m|\u001b[39m \u001b[38;5;241m~\u001b[39mh5f\u001b[38;5;241m.\u001b[39mOBJ_FILE)\n\u001b[0;32m--> 581\u001b[0m     \u001b[38;5;28;43mself\u001b[39;49m\u001b[38;5;241;43m.\u001b[39;49m\u001b[43mid\u001b[49m\u001b[38;5;241;43m.\u001b[39;49m\u001b[43m_close_open_objects\u001b[49m\u001b[43m(\u001b[49m\u001b[43mh5f\u001b[49m\u001b[38;5;241;43m.\u001b[39;49m\u001b[43mOBJ_LOCAL\u001b[49m\u001b[43m \u001b[49m\u001b[38;5;241;43m|\u001b[39;49m\u001b[43m \u001b[49m\u001b[43mh5f\u001b[49m\u001b[38;5;241;43m.\u001b[39;49m\u001b[43mOBJ_FILE\u001b[49m\u001b[43m)\u001b[49m\n\u001b[1;32m    583\u001b[0m     \u001b[38;5;28mself\u001b[39m\u001b[38;5;241m.\u001b[39mid\u001b[38;5;241m.\u001b[39mclose()\n\u001b[1;32m    584\u001b[0m     _objects\u001b[38;5;241m.\u001b[39mnonlocal_close()\n",
      "\u001b[0;31mKeyboardInterrupt\u001b[0m: "
     ]
    }
   ],
   "source": [
    "# Split the data based on Batch_desc\n",
    "train_df = merged_df[~merged_df['Batch_desc'].str.contains('control|KO', na=False)]\n",
    "\n",
    "# Extract gene names and expression data for train\n",
    "train_numeric_data = train_df.select_dtypes(include=[np.number])\n",
    "train_gene_names = train_numeric_data.columns.values\n",
    "train_cell_names = train_numeric_data.index.values\n",
    "\n",
    "# Create AnnData object for train\n",
    "adata_train = sc.AnnData(X=train_numeric_data.values.astype(float))\n",
    "adata_train.var_names = train_gene_names\n",
    "adata_train.obs_names = train_cell_names\n",
    "\n",
    "# Add metadata to obs\n",
    "adata_train.obs['Batch_desc'] = train_df['Batch_desc'].values\n",
    "\n",
    "# Save train.h5ad\n",
    "train_output_file_path = '../perturbations/paul/train.h5ad'\n",
    "adata_train.write_h5ad(train_output_file_path)\n",
    "print(f\"Train data successfully saved to {train_output_file_path}\")"
   ]
  },
  {
   "cell_type": "markdown",
   "metadata": {},
   "source": [
    "- Prepare the AnnData structure for test."
   ]
  },
  {
   "cell_type": "code",
   "execution_count": 6,
   "metadata": {},
   "outputs": [],
   "source": [
    "# Split the data based on Batch_desc\n",
    "test_df = merged_df[merged_df['Batch_desc'].str.contains('control|KO', na=False)]\n",
    "\n",
    "# Extract numeric data for test\n",
    "test_numeric_data = test_df.select_dtypes(include=[np.number])\n",
    "test_gene_names = test_numeric_data.columns.values\n",
    "test_cell_names = test_df.index.values\n",
    "\n",
    "# Create AnnData object for test\n",
    "adata_test = sc.AnnData(X=test_numeric_data.values.astype(float))\n",
    "adata_test.var_names = test_gene_names\n",
    "adata_test.obs_names = test_cell_names\n",
    "\n",
    "# Add metadata to obs\n",
    "adata_test.obs['Batch_desc'] = test_df['Batch_desc'].values"
   ]
  },
  {
   "cell_type": "markdown",
   "metadata": {},
   "source": [
    "- Add the required metadata (highly_variable_rank)."
   ]
  },
  {
   "cell_type": "code",
   "execution_count": 8,
   "metadata": {},
   "outputs": [],
   "source": [
    "# Add highly_variable_rank by sorting the genes then ranking them\n",
    "\n",
    "# Calculate highly variable genes using Scanpy\n",
    "sc.pp.highly_variable_genes(adata_test, n_bins=50, n_top_genes=adata_test.var.shape[0], flavor=\"seurat_v3\")\n",
    "\n",
    "# Rank genes based on the high variability information provided by Scanpy\n",
    "adata_test.var['highly_variable_rank'] = np.argsort(~adata_test.var['highly_variable'].values)\n"
   ]
  },
  {
   "cell_type": "markdown",
   "metadata": {},
   "source": [
    "- Add the required metadata (perturbation, expression_level_after_perturbation, is_control, perturbation_type)."
   ]
  },
  {
   "cell_type": "code",
   "execution_count": 9,
   "metadata": {},
   "outputs": [],
   "source": [
    "# Perturbation: Use 'Batch_desc' to infer perturbations\n",
    "adata_test.obs['perturbation'] = test_df['Batch_desc'].apply(lambda x: 'None' if pd.isnull(x) else x)\n",
    "\n",
    "# Expression level after perturbation: Calculate based on actual expression data\n",
    "# Placeholder logic here, adjust according to the actual experiment details\n",
    "adata_test.obs['expression_level_after_perturbation'] = test_df.max(axis=1, numeric_only=True)\n",
    "\n",
    "# Is control: Infer from 'Batch_desc' or other logic\n",
    "adata_test.obs['is_control'] = test_df['Batch_desc'].apply(lambda x: True if 'control' in str(x).lower() else False)\n",
    "\n",
    "# Perturbation type: Derive from 'Batch_desc'\n",
    "adata_test.obs['perturbation_type'] = test_df['Batch_desc'].apply(\n",
    "    lambda x: 'knockout' if 'KO' in x else 'overexpression'\n",
    ")"
   ]
  },
  {
   "cell_type": "code",
   "execution_count": 10,
   "metadata": {},
   "outputs": [
    {
     "name": "stdout",
     "output_type": "stream",
     "text": [
      "Data successfully saved to ../perturbations/paul/test.h5ad\n"
     ]
    }
   ],
   "source": [
    "# Save to .h5ad file\n",
    "test_output_file_path  = '../perturbations/paul/test.h5ad'\n",
    "adata_test.write_h5ad(test_output_file_path )\n",
    "\n",
    "print(f\"Data successfully saved to {test_output_file_path }\")"
   ]
  },
  {
   "cell_type": "code",
   "execution_count": 21,
   "metadata": {},
   "outputs": [],
   "source": [
    "# set the path to the dataset\n",
    "dc.set_data_path(\"../perturbations\")"
   ]
  },
  {
   "cell_type": "code",
   "execution_count": 22,
   "metadata": {},
   "outputs": [
    {
     "name": "stdout",
     "output_type": "stream",
     "text": [
      "Index(['highly_variable_rank'], dtype='object')\n"
     ]
    }
   ],
   "source": [
    "# load the paul perturbation dataset to the data checker\n",
    "paul = dc.load_perturbation(\"paul\")\n",
    "print(paul.var.columns)"
   ]
  },
  {
   "cell_type": "code",
   "execution_count": 23,
   "metadata": {},
   "outputs": [
    {
     "name": "stdout",
     "output_type": "stream",
     "text": [
      "Checking gene metadata...\n",
      "Checking perturbation labels...\n",
      "Checking control labels...\n",
      "Checking which genes are measured...\n"
     ]
    },
    {
     "ename": "KeyError",
     "evalue": "'perturbed_and_measured_genes'",
     "output_type": "error",
     "traceback": [
      "\u001b[0;31m---------------------------------------------------------------------------\u001b[0m",
      "\u001b[0;31mKeyError\u001b[0m                                  Traceback (most recent call last)",
      "Cell \u001b[0;32mIn[23], line 2\u001b[0m\n\u001b[1;32m      1\u001b[0m \u001b[38;5;66;03m# check the dataset using the data checker\u001b[39;00m\n\u001b[0;32m----> 2\u001b[0m is_valid \u001b[38;5;241m=\u001b[39m \u001b[43mdc\u001b[49m\u001b[38;5;241;43m.\u001b[39;49m\u001b[43mcheck_perturbation_dataset\u001b[49m\u001b[43m(\u001b[49m\u001b[43mad\u001b[49m\u001b[38;5;241;43m=\u001b[39;49m\u001b[43mpaul\u001b[49m\u001b[43m)\u001b[49m\n\u001b[1;32m      3\u001b[0m \u001b[38;5;28mprint\u001b[39m(\u001b[38;5;124m\"\u001b[39m\u001b[38;5;124mDataset validation result:\u001b[39m\u001b[38;5;124m\"\u001b[39m, is_valid)\n",
      "File \u001b[0;32m~/expression_forecasting_benchmarks/perturbation_data/setup/pereggrn_perturbations.py:188\u001b[0m, in \u001b[0;36mcheck_perturbation_dataset\u001b[0;34m(dataset_name, ad, is_timeseries, do_full, is_perturbation)\u001b[0m\n\u001b[1;32m    186\u001b[0m \u001b[38;5;66;03m# if it says it's (not) measured, make sure it's (not) measured.\u001b[39;00m\n\u001b[1;32m    187\u001b[0m \u001b[38;5;28mprint\u001b[39m(\u001b[38;5;124m\"\u001b[39m\u001b[38;5;124mChecking which genes are measured...\u001b[39m\u001b[38;5;124m\"\u001b[39m, flush \u001b[38;5;241m=\u001b[39m \u001b[38;5;28;01mTrue\u001b[39;00m) \u001b[38;5;66;03m# Check gene measurement status\u001b[39;00m\n\u001b[0;32m--> 188\u001b[0m \u001b[38;5;28;01massert\u001b[39;00m \u001b[38;5;28mall\u001b[39m( [    g \u001b[38;5;129;01min\u001b[39;00m ad\u001b[38;5;241m.\u001b[39mvar_names \u001b[38;5;28;01mfor\u001b[39;00m g \u001b[38;5;129;01min\u001b[39;00m \u001b[43mad\u001b[49m\u001b[38;5;241;43m.\u001b[39;49m\u001b[43muns\u001b[49m\u001b[43m[\u001b[49m\u001b[38;5;124;43m\"\u001b[39;49m\u001b[38;5;124;43mperturbed_and_measured_genes\u001b[39;49m\u001b[38;5;124;43m\"\u001b[39;49m\u001b[43m]\u001b[49m] ),     \u001b[38;5;124m\"\u001b[39m\u001b[38;5;124mperturbed_and_measured_genes\u001b[39m\u001b[38;5;124m\"\u001b[39m    \u001b[38;5;124m\"\u001b[39m\u001b[38;5;124m not all measured\u001b[39m\u001b[38;5;124m\"\u001b[39m\n\u001b[1;32m    189\u001b[0m \u001b[38;5;28;01massert\u001b[39;00m \u001b[38;5;28mall\u001b[39m( [\u001b[38;5;129;01mnot\u001b[39;00m g \u001b[38;5;129;01min\u001b[39;00m ad\u001b[38;5;241m.\u001b[39mvar_names \u001b[38;5;28;01mfor\u001b[39;00m g \u001b[38;5;129;01min\u001b[39;00m ad\u001b[38;5;241m.\u001b[39muns[\u001b[38;5;124m\"\u001b[39m\u001b[38;5;124mperturbed_but_not_measured_genes\u001b[39m\u001b[38;5;124m\"\u001b[39m]] ), \u001b[38;5;124m\"\u001b[39m\u001b[38;5;124mperturbed_and_not_measured_genes sometimes measured\u001b[39m\u001b[38;5;124m\"\u001b[39m\n\u001b[1;32m    191\u001b[0m \u001b[38;5;66;03m# If it says it's perturbed, make sure it's perturbed. \u001b[39;00m\n",
      "\u001b[0;31mKeyError\u001b[0m: 'perturbed_and_measured_genes'"
     ]
    }
   ],
   "source": [
    "# check the dataset using the data checker\n",
    "is_valid = dc.check_perturbation_dataset(ad=paul)\n",
    "print(\"Dataset validation result:\", is_valid)"
   ]
  }
 ],
 "metadata": {
  "kernelspec": {
   "display_name": "ggrn",
   "language": "python",
   "name": "python3"
  },
  "language_info": {
   "codemirror_mode": {
    "name": "ipython",
    "version": 3
   },
   "file_extension": ".py",
   "mimetype": "text/x-python",
   "name": "python",
   "nbconvert_exporter": "python",
   "pygments_lexer": "ipython3",
   "version": "3.9.18"
  }
 },
 "nbformat": 4,
 "nbformat_minor": 2
}
