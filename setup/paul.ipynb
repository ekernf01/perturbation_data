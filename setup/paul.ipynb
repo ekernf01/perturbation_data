{
 "cells": [
  {
   "cell_type": "markdown",
   "metadata": {},
   "source": [
    "### Mouse hematopoiesis \n",
    "\n",
    "This notebook ingests a dataset from a paper about myeloid progenitor transcriptional heterogeneity ([Paul et al 2015](https://pubmed.ncbi.nlm.nih.gov/26627738/)). We reformat the data, conduct exploratory analysis, and annotate cell types. "
   ]
  },
  {
   "cell_type": "code",
   "execution_count": null,
   "metadata": {},
   "outputs": [],
   "source": [
    "# Get required libraries\n",
    "import pandas as pd\n",
    "import scanpy as sc\n",
    "import numpy as np\n",
    "import matplotlib.pyplot as plt\n",
    "import pereggrn_perturbations as dc # the data checker (dc)\n",
    "import scipy.sparse\n",
    "import re\n",
    "import os"
   ]
  },
  {
   "cell_type": "code",
   "execution_count": null,
   "metadata": {},
   "outputs": [],
   "source": [
    "# Load the main dataframe\n",
    "df = pd.read_csv('../not_ready/paul/GSE72857_umitab.txt', sep='\\t')\n",
    "\n",
    "# Load the experimental design table\n",
    "exp_design = pd.read_csv('../not_ready/paul/GSE72857_experimental_design.txt', sep='\\t', skiprows=19)"
   ]
  },
  {
   "cell_type": "markdown",
   "metadata": {},
   "source": [
    "##### Isolating the Wildtype and Perturbations\n",
    "\n",
    "The data is currently stored in two files:\n",
    "- GSE72857_umitab.txt which has the genes and sample/cell names based on well ID.\n",
    "- GSE72857_experimental_design which has metadata about each sample (based on well ID).\n",
    "\n",
    "Our next step will be merging the main dataframe with the experimental design table using the well IDs to have the data for wildtype and perturbations."
   ]
  },
  {
   "cell_type": "code",
   "execution_count": null,
   "metadata": {},
   "outputs": [],
   "source": [
    "# Transpose the main dataframe for merging\n",
    "df_t = df.T\n",
    "df_t.index.name = 'Well_ID'\n",
    "\n",
    "# Merge the main dataframe with the experimental design table using the well IDs\n",
    "# merged_df = df_t.merge(exp_design[['Well_ID', 'Batch_desc']], left_index=True, right_on='Well_ID', how='left')\n",
    "merged_df = df_t.merge(exp_design, left_index=True, right_on='Well_ID', how='left')\n",
    "merged_df.set_index('Well_ID', inplace=True)"
   ]
  },
  {
   "cell_type": "markdown",
   "metadata": {},
   "source": [
    "##### Creating the AnnData Structures\n",
    "\n",
    "Before transposing the matrix, the data appears to have gene names as row indices and sample/cell names as column headers.\n",
    "The values represent expression levels for each gene in each sample/cell.\n",
    "\n",
    "Do the following to convert the txt file to h5ad and add the necessary metadata:"
   ]
  },
  {
   "cell_type": "code",
   "execution_count": null,
   "metadata": {},
   "outputs": [],
   "source": [
    "# Extract gene names and expression data\n",
    "merged_gene_columns = [col for col in merged_df.select_dtypes(include=[np.number]).columns if col not in exp_design]\n",
    "merged_numeric_data = merged_df[merged_gene_columns]\n",
    "merged_gene_names = merged_numeric_data.columns.values\n",
    "merged_cell_names = merged_numeric_data.index.values\n",
    "\n",
    "# Create AnnData object\n",
    "adata_merged = sc.AnnData(X=merged_numeric_data.values.astype(float))\n",
    "adata_merged.X = scipy.sparse.csr_matrix(adata_merged.X)\n",
    "adata_merged.X = adata_merged.X.tocsr()\n",
    "adata_merged.var_names = merged_gene_names\n",
    "adata_merged.obs_names = merged_cell_names\n",
    "\n",
    "# Add metadata to obs\n",
    "adata_merged.obs['Batch_desc'] = merged_df['Batch_desc'].values\n",
    "adata_merged.obs['Seq_batch_ID'] = merged_df['Seq_batch_ID'].values\n",
    "adata_merged.obs['Amp_batch_ID'] = merged_df['Amp_batch_ID'].values\n",
    "adata_merged.obs['well_coordinates'] = merged_df['well_coordinates'].values\n",
    "adata_merged.obs['Mouse_ID'] = merged_df['Mouse_ID'].values\n",
    "adata_merged.obs['Plate_ID'] = merged_df['Plate_ID'].values\n",
    "adata_merged.obs['Pool_barcode'] = merged_df['Pool_barcode'].values\n",
    "adata_merged.obs['Cell_barcode'] = merged_df['Cell_barcode'].values\n",
    "adata_merged.obs['Number_of_cells'] = merged_df['Number_of_cells'].values\n",
    "adata_merged.obs['CD34_measurement'] = merged_df['CD34_measurement'].values\n",
    "adata_merged.obs['FcgR3_measurement'] = merged_df['FcgR3_measurement'].values\n",
    "adata_merged.obs[\"well_row\"]    = adata_merged.obs[\"well_coordinates\"].str.extract(r\"([A-Z])\\d+\")[0]\n",
    "adata_merged.obs[\"well_column\"] = adata_merged.obs[\"well_coordinates\"].str.extract(r\"([0-9]+)\")[0]"
   ]
  },
  {
   "cell_type": "markdown",
   "metadata": {},
   "source": [
    "##### Labeling by Cell Type\n",
    "\n",
    "To label by cell types, we'll have to process the data, perform PCA & clustering, and label based on the clusters and our knowledge of the sequence and relations of cell types in human hematopoiesis."
   ]
  },
  {
   "cell_type": "markdown",
   "metadata": {},
   "source": [
    "- Exclude cells with RNA count <1000, then normalize and apply log transformation"
   ]
  },
  {
   "cell_type": "code",
   "execution_count": null,
   "metadata": {},
   "outputs": [],
   "source": [
    "# Calculate the total counts per cell\n",
    "adata_merged.obs['total_counts'] = adata_merged.X.sum(axis=1)\n",
    "adata_merged.obs['log10_total_counts'] = np.log10(adata_merged.obs['total_counts'])\n",
    "# Filter out cells with fewer than 1,000 RNA counts\n",
    "print(f\"Total cells before filtering: {adata_merged.n_obs}\")\n",
    "adata_merged = adata_merged[adata_merged.obs['total_counts'] >= 1000, :].copy()\n",
    "\n",
    "# Verify filtering step\n",
    "print(f\"Total cells after filtering: {adata_merged.n_obs}\")"
   ]
  },
  {
   "cell_type": "code",
   "execution_count": null,
   "metadata": {},
   "outputs": [],
   "source": [
    "# Normalize each cell by the total counts, then multiply by a scaling factor (e.g., 10,000)\n",
    "adata_merged.X = adata_merged.X / adata_merged.obs['total_counts'].values[:, None] * 10000\n",
    "\n",
    "# Perform log transformation\n",
    "adata_merged.X = adata_merged.X.tocsr()\n",
    "adata_merged.raw = adata_merged.copy()\n",
    "adata_merged.X = np.log1p(adata_merged.X)  # This is equivalent to np.log(adata_merged.X + 1)\n",
    "adata_merged.X = adata_merged.X.tocsr()\n",
    "\n",
    "# Verify normalization and log transformation\n",
    "print(f\"Data after normalization and log transformation (top left corner):\\n{adata_merged.X.A[0:5, 0:5]}\")"
   ]
  },
  {
   "cell_type": "code",
   "execution_count": null,
   "metadata": {},
   "outputs": [],
   "source": [
    "# Check the dimensions of the filtered data\n",
    "print(f\"adata_filtered shape: {adata_merged.shape}\")\n",
    "\n",
    "# Check for NaN values\n",
    "if np.any(np.isnan(adata_merged.X.A)):\n",
    "    print(\"NaN values found in the data.\")\n",
    "else:\n",
    "    print(\"No NaN values found in the data.\")\n"
   ]
  },
  {
   "cell_type": "markdown",
   "metadata": {},
   "source": [
    "We run a typical exploratory analysis: variable gene selection, PCA, nearest-neighbors, diffusion maps, and modularity-minimizing graph clustering."
   ]
  },
  {
   "cell_type": "code",
   "execution_count": null,
   "metadata": {},
   "outputs": [],
   "source": [
    "sc.pp.highly_variable_genes(adata_merged, n_bins=50, n_top_genes = adata_merged.var.shape[0], flavor = \"seurat_v3\" )\n",
    "sc.tl.pca(adata_merged, svd_solver='arpack', n_comps=50)\n",
    "sc.pp.neighbors(adata_merged, n_neighbors=4, n_pcs=20)\n",
    "sc.tl.umap(adata_merged)\n",
    "sc.tl.diffmap(adata_merged)\n",
    "sc.tl.louvain(adata_merged, resolution=0.8)\n",
    "S_genes_hum = [\"MCM5\", \"PCNA\", \"TYMS\", \"FEN1\", \"MCM2\", \"MCM4\", \"RRM1\", \"UNG\", \"GINS2\", \n",
    "            \"MCM6\", \"CDCA7\", \"DTL\", \"PRIM1\", \"UHRF1\", \"CENPU\", \"HELLS\", \"RFC2\", \n",
    "            \"RPA2\", \"NASP\", \"RAD51AP1\", \"GMNN\", \"WDR76\", \"SLBP\", \"CCNE2\", \"UBR7\", \n",
    "            \"POLD3\", \"MSH2\", \"ATAD2\", \"RAD51\", \"RRM2\", \"CDC45\", \"CDC6\", \"EXO1\", \"TIPIN\", \n",
    "            \"DSCC1\", \"BLM\", \"CASP8AP2\", \"USP1\", \"CLSPN\", \"POLA1\", \"CHAF1B\", \"BRIP1\", \"E2F8\"]\n",
    "G2M_genes_hum = [\"HMGB2\", \"CDK1\", \"NUSAP1\", \"UBE2C\", \"BIRC5\", \"TPX2\", \"TOP2A\", \"NDC80\",\n",
    "             \"CKS2\", \"NUF2\", \"CKS1B\", \"MKI67\", \"TMPO\", \"CENPF\", \"TACC3\", \"PIMREG\", \n",
    "             \"SMC4\", \"CCNB2\", \"CKAP2L\", \"CKAP2\", \"AURKB\", \"BUB1\", \"KIF11\", \"ANP32E\", \n",
    "             \"TUBB4B\", \"GTSE1\", \"KIF20B\", \"HJURP\", \"CDCA3\", \"JPT1\", \"CDC20\", \"TTK\",\n",
    "             \"CDC25C\", \"KIF2C\", \"RANGAP1\", \"NCAPD2\", \"DLGAP5\", \"CDCA2\", \"CDCA8\", \"ECT2\", \n",
    "             \"KIF23\", \"HMMR\", \"AURKA\", \"PSRC1\", \"ANLN\", \"LBR\", \"CKAP5\", \"CENPE\", \n",
    "             \"CTCF\", \"NEK2\", \"G2E3\", \"GAS2L3\", \"CBX5\", \"CENPA\"]\n",
    "sc.tl.score_genes_cell_cycle(\n",
    "    adata_merged, \n",
    "    s_genes   = [g.title() for g in S_genes_hum if g.title() in adata_merged.var_names], \n",
    "    g2m_genes = [g.title() for g in G2M_genes_hum if g.title() in adata_merged.var_names]\n",
    ")\n",
    "adata_merged.write_h5ad('../not_ready/paul/paul_clustered_but_not_annotated.h5ad')"
   ]
  },
  {
   "cell_type": "code",
   "execution_count": null,
   "metadata": {},
   "outputs": [],
   "source": [
    "# PAGA graph construction\n",
    "sc.tl.paga(adata_merged, groups='louvain')\n",
    "plt.rcParams[\"figure.figsize\"] = [6, 4.5]\n",
    "sc.pl.paga(adata_merged)\n",
    "\n",
    "# Label PAGA graph\n",
    "sc.tl.draw_graph(adata_merged, init_pos='paga', random_state=123)\n",
    "sc.pl.draw_graph(adata_merged, color='louvain', legend_loc='on data')"
   ]
  },
  {
   "cell_type": "markdown",
   "metadata": {},
   "source": [
    "Add the required metadata:\n",
    "\n",
    "- highly_variable_rank\n",
    "- perturbation\n",
    "- is_control\n",
    "- expression_level_after_perturbation\n",
    "- perturbation_type\n",
    "- perturbed_and_measured_genes\n",
    "- perturbed_but_not_measured_genes"
   ]
  },
  {
   "cell_type": "code",
   "execution_count": null,
   "metadata": {},
   "outputs": [],
   "source": [
    "# Rank genes based on the high variability information provided by Scanpy\n",
    "adata_merged.var['highly_variable_rank'] = np.argsort(~adata_merged.var['highly_variable'].values)\n",
    "\n",
    "# Is control: Infer from 'Batch_desc'\n",
    "adata_merged.obs['is_control'] = adata_merged.obs['Batch_desc'].apply(lambda x: False if 'KO' in str(x) else True)\n",
    "\n",
    "# Perturbation: Use 'Batch_desc' to infer perturbations\n",
    "adata_merged.obs['perturbation'] = adata_merged.obs['Batch_desc'].apply(\n",
    "    lambda x: 'Cebpa' if 'Cebpa KO' in x else ('Cebpe' if 'Cebpe KO' in x else ('Cebpe control' if 'Cebpe control' in x else ('Cebpa control' if 'Cebpa control' in x else 'None')))\n",
    ")\n",
    "\n",
    "# Expression level after perturbation: Set to NaN if control or 0 if not control\n",
    "adata_merged.obs['expression_level_after_perturbation'] = adata_merged.obs['is_control'].apply(\n",
    "    lambda x: np.nan if x else 0\n",
    ").values\n",
    "\n",
    "# Perturbation type: Always knockout since this is the only possible perturbation in this data\n",
    "adata_merged.obs['perturbation_type'] = adata_merged.obs['Batch_desc'].apply(\n",
    "    lambda x: 'knockout'\n",
    ")\n",
    "\n",
    "print(adata_merged.obs[[\"is_control\", \"perturbation\", \"Batch_desc\"]].value_counts())\n",
    "\n",
    "# Define perturbed and measured genes\n",
    "perturbed_but_not_measured_genes = []\n",
    "\n",
    "# Store these lists in the uns attribute\n",
    "adata_merged.uns['perturbed_but_not_measured_genes'] = perturbed_but_not_measured_genes"
   ]
  },
  {
   "cell_type": "code",
   "execution_count": null,
   "metadata": {},
   "outputs": [],
   "source": [
    "plt.rcParams[\"figure.figsize\"] = [12, 8]\n",
    "markers = {\n",
    "    \"Erythroids\": [\"Gata1\", \"Gfi1b\", \"Car1\", \"Car2\", \"Klf1\", \"Zfpm1\", \"Cpox\", \"Beta-s\", \"Hbb-b1\", \"Hba-a2\"],\n",
    "    \"Megakaryocytes\": [\"Pf4\", \"Itga2b\", \"Pbx1\", \"Mef2c\", \"Fli1\"],\n",
    "    \"Granulocytes\": [\"Elane\", \"Prtn3\", \"Mpo\", \"Cebpe\", \"Csf1r\", \"Cebpa\", \"Lgals1\"],\n",
    "    \"Eosinophil\": [\"Prg2\"],\n",
    "    \"Basophil\": [\"Prss34\", \"Lmo4\"],\n",
    "    \"Monocytes\": [\"Flt3\", \"Ifitm1\", \"Lmo4\", \"Elane\", \"Prtn3\", \"Mpo\", \"Cebpe\", \"Csf1r\", \"Cebpa\", \"Lgals1\"],\n",
    "    \"DC\": [\"Irf8\", \"Id2\", \"Cd74\", \"H2-Aa\"],\n",
    "    \"Lymphoid\": [\"Gzmb\", \"Tcb\", \"Ccl5\"], \n",
    "    \"other_variables\": [\"log10_total_counts\", \"phase\", \"perturbation\", \"Batch_desc\", \"cell_type\", \"timepoint\"],\n",
    "}\n",
    "\n",
    "for cell_type, genes in markers.items():\n",
    "    present_genes = []\n",
    "    for gene in genes:\n",
    "        pattern = re.compile(rf\"^{re.escape(gene)}(;.*)?$\")\n",
    "        present_genes.extend([g for g in adata_merged.var_names if pattern.match(g)])\n",
    "        present_genes.extend([g for g in adata_merged.obs.columns if pattern.match(g)])\n",
    "    if present_genes:\n",
    "        print(f\"Marker genes for {cell_type} present in the dataset: {present_genes}\")\n",
    "        # Calculate the number of rows needed for 2 plots per row\n",
    "        n_cols = 2\n",
    "        n_rows = (len(present_genes) + 1) // n_cols\n",
    "        \n",
    "        # Create subplots\n",
    "        fig, axes = plt.subplots(n_rows, n_cols, figsize=(5 * n_cols, 4.5 * n_rows))\n",
    "        fig.suptitle(f\"{cell_type} Marker Genes\", fontsize=16)\n",
    "        axes = axes.flatten()  # Flatten the axes array for easy iteration\n",
    "        \n",
    "        for ax, gene in zip(axes, present_genes):\n",
    "            sc.pl.draw_graph(adata_merged, color=[gene], use_raw=False, ax=ax, show=False)\n",
    "            ax.set_title(gene)\n",
    "        \n",
    "        # Remove any empty subplots\n",
    "        for i in range(len(present_genes), len(axes)):\n",
    "            fig.delaxes(axes[i])\n",
    "            \n",
    "        plt.tight_layout(rect=[0, 0, 1, 0.96])  # Adjust layout to make room for the main title\n",
    "        plt.show()\n",
    "    else:\n",
    "        print(f\"No marker genes found for {cell_type} in the dataset.\")\n"
   ]
  },
  {
   "cell_type": "code",
   "execution_count": null,
   "metadata": {},
   "outputs": [],
   "source": [
    "# Make cluster anottation dictionary - CHANGE based on observations\n",
    "annotation_filtered = {\n",
    "    \"MEP\":[17, 2, 14],\n",
    "    \"Erythroids\":[9, 5, 18, 3, 13, 20],  \n",
    "    \"GMP\":[16],\n",
    "    \"late_GMP\" :[10, 4, 12],   \n",
    "    \"Megakaryocytes\":[11, 17],\n",
    "    \"Granulocytes\":[6, 0, 15],\n",
    "    \"Monocytes\": [8, 1, 19],\n",
    "    \"DC\":[7]\n",
    "}\n",
    "\n",
    "# Reverse the dictionary format to map cluster to cell types\n",
    "annotation_filtered_rev = {}\n",
    "for cell_type, clusters in annotation_filtered.items():\n",
    "    for cluster in clusters:\n",
    "        annotation_filtered_rev[str(cluster)] = cell_type\n",
    "        \n",
    "annotation_filtered_rev"
   ]
  },
  {
   "cell_type": "code",
   "execution_count": null,
   "metadata": {},
   "outputs": [],
   "source": [
    "adata_merged.obs[\"cell_type\"] = [annotation_filtered_rev.get(i, 'NaN') for i in adata_merged.obs.louvain]\n",
    "\n",
    "# Define the timepoint mapping based on research about the order of the cell types\n",
    "timepoint_mapping = {\n",
    "    \"MEP\": 0,\n",
    "    \"GMP\": 0,\n",
    "    \"late_GMP\": 1,\n",
    "    \"Monocytes\": 2,\n",
    "    \"Erythroids\": 1,\n",
    "    \"Megakaryocytes\": 1,\n",
    "    \"Granulocytes\": 2,\n",
    "    \"DC\": 2,\n",
    "}\n",
    "\n",
    "# Create the timepoint column based on the cell_type column\n",
    "adata_merged.obs['timepoint'] = adata_merged.obs['cell_type'].map(timepoint_mapping).astype('category')\n",
    "\n",
    "# Display the unique values in the 'cell_type' and 'timepoint' columns to ensure labels are correctly assigned\n",
    "print(adata_merged.obs[['cell_type', 'timepoint']].drop_duplicates())\n",
    "\n",
    "# Visualize results\n",
    "sc.pl.draw_graph(adata_merged, color='cell_type', legend_loc='on data')\n"
   ]
  },
  {
   "cell_type": "markdown",
   "metadata": {},
   "source": [
    "Split and save the data into train (which contains the wildtype data) and test (which contains the perturbation data and paired controls)."
   ]
  },
  {
   "cell_type": "code",
   "execution_count": null,
   "metadata": {},
   "outputs": [],
   "source": [
    "# Create train and test anndata objects\n",
    "# Filter the data based on Batch_desc\n",
    "train_adata = adata_merged[~adata_merged.obs['Batch_desc'].str.contains('control|KO', na=False)].copy()\n",
    "test_adata = adata_merged[adata_merged.obs['Batch_desc'].str.contains('control|KO', na=False)].copy()\n",
    "print(test_adata.obs['Batch_desc'].value_counts())\n",
    "cell_type_composition = test_adata.obs[['perturbation', 'cell_type', 'timepoint']].value_counts().reset_index().sort_values([\"cell_type\", \"perturbation\"])\n",
    "cell_type_composition[\"cell_type_is_abundant\"] = cell_type_composition[\"count\"] > 25\n",
    "print(cell_type_composition)\n",
    "test_adata.obs = test_adata.obs.merge(cell_type_composition[[\"perturbation\", \"cell_type\", \"timepoint\", \"cell_type_is_abundant\"]], on=[\"perturbation\", \"cell_type\", \"timepoint\"], how=\"left\")\n",
    "test_adata = test_adata[test_adata.obs['cell_type_is_abundant']].copy()\n",
    "train_adata.uns[\"perturbed_and_measured_genes\"] = [] # No perturbation in the training data\n",
    "\n",
    "# Since the CEPBA and CEBPE perturbations have separate genetic backgrounds\n",
    "# and sorting strategies, they each need their own matched control, and \n",
    "# the easiest way to avoid mixing this up is to split the data into two. \n",
    "train_output_file_path = '../perturbations/paul1/train.h5ad'\n",
    "os.makedirs(os.path.dirname(train_output_file_path), exist_ok=True)\n",
    "train_adata.write_h5ad(train_output_file_path)\n",
    "train_output_file_path = '../perturbations/paul2/train.h5ad'\n",
    "os.makedirs(os.path.dirname(train_output_file_path), exist_ok=True)\n",
    "train_adata.write_h5ad(train_output_file_path)\n",
    "\n",
    "# Save test.h5ad\n",
    "test1 = test_adata[test_adata.obs[\"perturbation\"].str.contains(\"Cebpa\"), :]\n",
    "test1.uns['perturbed_and_measured_genes'] = [\"Cebpa\"]\n",
    "test1.write_h5ad('../perturbations/paul1/test.h5ad')\n",
    "test2 = test_adata[test_adata.obs[\"perturbation\"].str.contains(\"Cebpe\"), :]\n",
    "test2.uns['perturbed_and_measured_genes'] = [\"Cebpe\"]\n",
    "test2.write_h5ad('../perturbations/paul2/test.h5ad')\n"
   ]
  },
  {
   "cell_type": "markdown",
   "metadata": {},
   "source": [
    "Finally, ensure that the dataset passes all the required checks in the data checker."
   ]
  },
  {
   "cell_type": "code",
   "execution_count": null,
   "metadata": {},
   "outputs": [],
   "source": [
    "# Set the path to the dataset\n",
    "dc.set_data_path(\"../perturbations\")\n",
    "\n",
    "# Check the dataset using the data checker\n",
    "is_valid = dc.check_perturbation_dataset(\"paul2\")\n",
    "is_valid = dc.check_perturbation_dataset(\"paul1\")"
   ]
  }
 ],
 "metadata": {
  "kernelspec": {
   "display_name": "ggrn",
   "language": "python",
   "name": "python3"
  },
  "language_info": {
   "codemirror_mode": {
    "name": "ipython",
    "version": 3
   },
   "file_extension": ".py",
   "mimetype": "text/x-python",
   "name": "python",
   "nbconvert_exporter": "python",
   "pygments_lexer": "ipython3",
   "version": "3.9.15"
  }
 },
 "nbformat": 4,
 "nbformat_minor": 2
}
