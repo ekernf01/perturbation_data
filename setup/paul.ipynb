{
 "cells": [
  {
   "cell_type": "markdown",
   "metadata": {},
   "source": [
    "### Understanding Paul's Cell Oracle Data - Version 2 (combined data)\n",
    "\n",
    "This notebook ingests a dataset from a paper about myeloid progenitor transcriptional heterogeneity ([Paul et al 2015](https://pubmed.ncbi.nlm.nih.gov/26627738/)). We reformat the data, conduct exploratory analysis, and annotate cell types. "
   ]
  },
  {
   "cell_type": "code",
   "execution_count": null,
   "metadata": {},
   "outputs": [],
   "source": [
    "# Get required libraries\n",
    "\n",
    "import pandas as pd\n",
    "import scanpy as sc\n",
    "import numpy as np\n",
    "import importlib\n",
    "import matplotlib.pyplot as plt\n",
    "import pereggrn_perturbations as dc # the data checker (dc)\n",
    "import scipy.sparse"
   ]
  },
  {
   "cell_type": "code",
   "execution_count": null,
   "metadata": {},
   "outputs": [],
   "source": [
    "# Load the main dataframe\n",
    "df = pd.read_csv('../not_ready/paul/GSE72857_umitab.txt', sep='\\t')\n",
    "\n",
    "# Load the experimental design table\n",
    "exp_design = pd.read_csv('../not_ready/paul/GSE72857_experimental_design.txt', sep='\\t', skiprows=19)"
   ]
  },
  {
   "cell_type": "markdown",
   "metadata": {},
   "source": [
    "##### Isolating the Wildtype and Perturbations\n",
    "\n",
    "The data is currently stored in two files:\n",
    "- GSE72857_umitab.txt which has the genes and sample/cell names based on well ID.\n",
    "- GSE72857_experimental_design which has metadata about each sample (based on well ID).\n",
    "\n",
    "Our next step will be merging the main dataframe with the experimental design table using the well IDs to have the data for wildtype and perturbations."
   ]
  },
  {
   "cell_type": "code",
   "execution_count": null,
   "metadata": {},
   "outputs": [],
   "source": [
    "# Transpose the main dataframe for merging\n",
    "df_t = df.T\n",
    "df_t.index.name = 'Well_ID'\n",
    "\n",
    "# Merge the main dataframe with the experimental design table using the well IDs\n",
    "# merged_df = df_t.merge(exp_design[['Well_ID', 'Batch_desc']], left_index=True, right_on='Well_ID', how='left')\n",
    "merged_df = df_t.merge(exp_design, left_index=True, right_on='Well_ID', how='left')\n",
    "merged_df.set_index('Well_ID', inplace=True)"
   ]
  },
  {
   "cell_type": "markdown",
   "metadata": {},
   "source": [
    "##### Creating the AnnData Structures\n",
    "\n",
    "Before transposing the matrix, the data appears to have gene names as row indices and sample/cell names as column headers.\n",
    "The values represent expression levels for each gene in each sample/cell.\n",
    "\n",
    "Do the following to convert the txt file to h5ad and add the necessary metadata:"
   ]
  },
  {
   "cell_type": "code",
   "execution_count": null,
   "metadata": {},
   "outputs": [],
   "source": [
    "# Extract gene names and expression data\n",
    "merged_gene_columns = [col for col in merged_df.select_dtypes(include=[np.number]).columns if col not in exp_design]\n",
    "merged_numeric_data = merged_df[merged_gene_columns]\n",
    "merged_gene_names = merged_numeric_data.columns.values\n",
    "merged_cell_names = merged_numeric_data.index.values\n",
    "\n",
    "# Create AnnData object\n",
    "adata_merged = sc.AnnData(X=merged_numeric_data.values.astype(float))\n",
    "adata_merged.X = scipy.sparse.csr_matrix(adata_merged.X)\n",
    "adata_merged.X = adata_merged.X.tocsr()\n",
    "adata_merged.var_names = merged_gene_names\n",
    "adata_merged.obs_names = merged_cell_names\n",
    "\n",
    "# Add metadata to obs\n",
    "adata_merged.obs['Batch_desc'] = merged_df['Batch_desc'].values\n",
    "adata_merged.obs['Seq_batch_ID'] = merged_df['Seq_batch_ID'].values\n",
    "adata_merged.obs['Amp_batch_ID'] = merged_df['Amp_batch_ID'].values\n",
    "adata_merged.obs['well_coordinates'] = merged_df['well_coordinates'].values\n",
    "adata_merged.obs['Mouse_ID'] = merged_df['Mouse_ID'].values\n",
    "adata_merged.obs['Plate_ID'] = merged_df['Plate_ID'].values\n",
    "adata_merged.obs['Pool_barcode'] = merged_df['Pool_barcode'].values\n",
    "adata_merged.obs['Cell_barcode'] = merged_df['Cell_barcode'].values\n",
    "adata_merged.obs['Number_of_cells'] = merged_df['Number_of_cells'].values\n",
    "adata_merged.obs['CD34_measurement'] = merged_df['CD34_measurement'].values\n",
    "adata_merged.obs['FcgR3_measurement'] = merged_df['FcgR3_measurement'].values\n",
    "adata_merged.obs[\"well_row\"]    = adata_merged.obs[\"well_coordinates\"].str.extract(r\"([A-Z])\\d+\")[0]\n",
    "adata_merged.obs[\"well_column\"] = adata_merged.obs[\"well_coordinates\"].str.extract(r\"([0-9]+)\")[0]"
   ]
  },
  {
   "cell_type": "markdown",
   "metadata": {},
   "source": [
    "##### Labeling by Cell Type\n",
    "\n",
    "To label by cell types, we'll have to process the data, perform PCA & clustering, and label based on the clusters and our knowledge of the sequence and relations of cell types in human hematopoiesis."
   ]
  },
  {
   "cell_type": "markdown",
   "metadata": {},
   "source": [
    "- Exclude cells with RNA count <1000, then normalize and apply log transformation"
   ]
  },
  {
   "cell_type": "code",
   "execution_count": null,
   "metadata": {},
   "outputs": [],
   "source": [
    "# Calculate the total counts per cell\n",
    "adata_merged.obs['total_counts'] = adata_merged.X.sum(axis=1)\n",
    "adata_merged.obs['log10_total_counts'] = np.log10(adata_merged.obs['total_counts'])\n",
    "# Filter out cells with fewer than 1,000 RNA counts\n",
    "print(f\"Total cells before filtering: {adata_merged.n_obs}\")\n",
    "adata_merged = adata_merged[adata_merged.obs['total_counts'] >= 1000, :].copy()\n",
    "\n",
    "# Verify filtering step\n",
    "print(f\"Total cells after filtering: {adata_merged.n_obs}\")"
   ]
  },
  {
   "cell_type": "code",
   "execution_count": null,
   "metadata": {},
   "outputs": [],
   "source": [
    "# Normalize each cell by the total counts, then multiply by a scaling factor (e.g., 10,000)\n",
    "adata_merged.X = adata_merged.X / adata_merged.obs['total_counts'].values[:, None] * 10000\n",
    "\n",
    "# Perform log transformation\n",
    "adata_merged.X = adata_merged.X.tocsr()\n",
    "adata_merged.raw = adata_merged.copy()\n",
    "adata_merged.X = np.log1p(adata_merged.X)  # This is equivalent to np.log(adata_merged.X + 1)\n",
    "adata_merged.X = adata_merged.X.tocsr()\n",
    "\n",
    "# Verify normalization and log transformation\n",
    "print(f\"Data after normalization and log transformation (top left corner):\\n{adata_merged.X.A[0:5, 0:5]}\")"
   ]
  },
  {
   "cell_type": "code",
   "execution_count": null,
   "metadata": {},
   "outputs": [],
   "source": [
    "# Check the dimensions of the filtered data\n",
    "print(f\"adata_filtered shape: {adata_merged.shape}\")\n",
    "\n",
    "# Check for NaN values\n",
    "if np.any(np.isnan(adata_merged.X.A)):\n",
    "    print(\"NaN values found in the data.\")\n",
    "else:\n",
    "    print(\"No NaN values found in the data.\")\n"
   ]
  },
  {
   "cell_type": "markdown",
   "metadata": {},
   "source": [
    "We run a typical exploratory analysis: variable gene selection, PCA, nearest-neighbors, diffusion maps, and modularity-minimizing graph clustering."
   ]
  },
  {
   "cell_type": "code",
   "execution_count": null,
   "metadata": {},
   "outputs": [],
   "source": [
    "sc.pp.highly_variable_genes(adata_merged, n_bins=50, n_top_genes = adata_merged.var.shape[0], flavor = \"seurat_v3\" )\n",
    "sc.tl.pca(adata_merged, svd_solver='arpack', n_comps=50)\n",
    "sc.pp.neighbors(adata_merged, n_neighbors=4, n_pcs=20)\n",
    "sc.tl.umap(adata_merged)\n",
    "sc.tl.diffmap(adata_merged)\n",
    "sc.tl.louvain(adata_merged, resolution=0.8)\n",
    "S_genes_hum = [\"MCM5\", \"PCNA\", \"TYMS\", \"FEN1\", \"MCM2\", \"MCM4\", \"RRM1\", \"UNG\", \"GINS2\", \n",
    "            \"MCM6\", \"CDCA7\", \"DTL\", \"PRIM1\", \"UHRF1\", \"CENPU\", \"HELLS\", \"RFC2\", \n",
    "            \"RPA2\", \"NASP\", \"RAD51AP1\", \"GMNN\", \"WDR76\", \"SLBP\", \"CCNE2\", \"UBR7\", \n",
    "            \"POLD3\", \"MSH2\", \"ATAD2\", \"RAD51\", \"RRM2\", \"CDC45\", \"CDC6\", \"EXO1\", \"TIPIN\", \n",
    "            \"DSCC1\", \"BLM\", \"CASP8AP2\", \"USP1\", \"CLSPN\", \"POLA1\", \"CHAF1B\", \"BRIP1\", \"E2F8\"]\n",
    "G2M_genes_hum = [\"HMGB2\", \"CDK1\", \"NUSAP1\", \"UBE2C\", \"BIRC5\", \"TPX2\", \"TOP2A\", \"NDC80\",\n",
    "             \"CKS2\", \"NUF2\", \"CKS1B\", \"MKI67\", \"TMPO\", \"CENPF\", \"TACC3\", \"PIMREG\", \n",
    "             \"SMC4\", \"CCNB2\", \"CKAP2L\", \"CKAP2\", \"AURKB\", \"BUB1\", \"KIF11\", \"ANP32E\", \n",
    "             \"TUBB4B\", \"GTSE1\", \"KIF20B\", \"HJURP\", \"CDCA3\", \"JPT1\", \"CDC20\", \"TTK\",\n",
    "             \"CDC25C\", \"KIF2C\", \"RANGAP1\", \"NCAPD2\", \"DLGAP5\", \"CDCA2\", \"CDCA8\", \"ECT2\", \n",
    "             \"KIF23\", \"HMMR\", \"AURKA\", \"PSRC1\", \"ANLN\", \"LBR\", \"CKAP5\", \"CENPE\", \n",
    "             \"CTCF\", \"NEK2\", \"G2E3\", \"GAS2L3\", \"CBX5\", \"CENPA\"]\n",
    "sc.tl.score_genes_cell_cycle(\n",
    "    adata_merged, \n",
    "    s_genes   = [g.title() for g in S_genes_hum if g.title() in adata_merged.var_names], \n",
    "    g2m_genes = [g.title() for g in G2M_genes_hum if g.title() in adata_merged.var_names]\n",
    ")\n",
    "adata_merged.write_h5ad('../not_ready/paul/paul_clustered_but_not_annotated.h5ad')"
   ]
  },
  {
   "cell_type": "code",
   "execution_count": null,
   "metadata": {},
   "outputs": [],
   "source": [
    "sc.pl.umap(adata_merged, color=adata_merged.obs.columns.difference({\"well_coordinates\", \"Cell_barcode\"}))\n",
    "markers = {\n",
    "    \"Erythroids\":[\"Gata1\", \"Klf1\", \"Gypa\", \"Hba-a2\"],\n",
    "    \"Megakaryocytes\":[\"Itga2b\", \"Pbx1\", \"Sdpr\", \"Vwf\"],\n",
    "    \"Granulocytes\":[\"Elane\", \"Cebpe\", \"Ctsg\", \"Mpo\", \"Gfi1\"],\n",
    "    \"Monocytes\":[\"Irf8\", \"Csf1r\", \"Ctsg\", \"Mpo\"],\n",
    "    \"Mast_cells\":[\"Cma1\", \"Gzmb\", \"Kit\"],\n",
    "    \"Basophils\":[\"Mcpt8\", \"Prss34\"]\n",
    "}\n",
    "for ct in markers.keys():\n",
    "    sc.pl.umap(adata_merged, color=set(markers[ct]).intersection(adata_merged.var_names))"
   ]
  }
 ],
 "metadata": {
  "kernelspec": {
   "display_name": "ggrn",
   "language": "python",
   "name": "python3"
  },
  "language_info": {
   "codemirror_mode": {
    "name": "ipython",
    "version": 3
   },
   "file_extension": ".py",
   "mimetype": "text/x-python",
   "name": "python",
   "nbconvert_exporter": "python",
   "pygments_lexer": "ipython3",
   "version": "3.9.15"
  }
 },
 "nbformat": 4,
 "nbformat_minor": 2
}
