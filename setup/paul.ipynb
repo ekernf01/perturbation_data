{
 "cells": [
  {
   "cell_type": "markdown",
   "metadata": {},
   "source": [
    "### Understanding Paul's Cell Oracle Data\n",
    "\n",
    "This notebook adjusts a dataset from a paper about Myeloid Progenitors Transcriptional Heterogeneity ([Paul et al 2017](https://pubmed.ncbi.nlm.nih.gov/26627738/)). The goal is to check the dataset against a data checker and make necessary adjustments until it passes all conditions.\n",
    "\n",
    "Here we tidy the dataset and carry out a simple exploration in pandas to ensure its integrity and usability."
   ]
  },
  {
   "cell_type": "code",
   "execution_count": 3,
   "metadata": {},
   "outputs": [],
   "source": [
    "# Get required libraries\n",
    "\n",
    "import pandas as pd\n",
    "import scanpy as sc\n",
    "import numpy as np\n",
    "import importlib\n",
    "import pereggrn_perturbations as dc # the data checker (dc)"
   ]
  },
  {
   "cell_type": "code",
   "execution_count": 39,
   "metadata": {},
   "outputs": [
    {
     "data": {
      "text/plain": [
       "<module 'pereggrn_perturbations' from '/home/ec2-user/expression_forecasting_benchmarks/perturbation_data/setup/pereggrn_perturbations.py'>"
      ]
     },
     "execution_count": 39,
     "metadata": {},
     "output_type": "execute_result"
    }
   ],
   "source": [
    "# Reload the module to catch any updates\n",
    "importlib.reload(dc)"
   ]
  },
  {
   "cell_type": "code",
   "execution_count": 4,
   "metadata": {},
   "outputs": [],
   "source": [
    "# Load the main dataframe\n",
    "df = pd.read_csv('../../perturbation_data_wrong/not_ready/paul/GSE72857_umitab.txt', sep='\\t')"
   ]
  },
  {
   "cell_type": "code",
   "execution_count": 40,
   "metadata": {},
   "outputs": [
    {
     "name": "stdout",
     "output_type": "stream",
     "text": [
      "                      W29953  W29954  W29955  W29956  W29957  W29958  W29959  \\\n",
      "0610007C21Rik;Apr3         0       0       0       0       0       0       0   \n",
      "0610007L01Rik              0       2       1       1       2       0       0   \n",
      "0610007P08Rik;Rad26l       0       0       0       0       1       0       0   \n",
      "0610007P14Rik              0       0       0       1       1       0       0   \n",
      "0610007P22Rik              0       0       0       0       0       0       0   \n",
      "\n",
      "                      W29960  W29961  W29962  ...  W76327  W76328  W76329  \\\n",
      "0610007C21Rik;Apr3         0       0       0  ...       0       0       0   \n",
      "0610007L01Rik              0       1       1  ...       0       0       0   \n",
      "0610007P08Rik;Rad26l       0       0       0  ...       0       0       0   \n",
      "0610007P14Rik              1       0       0  ...       1       0       0   \n",
      "0610007P22Rik              0       0       0  ...       0       0       0   \n",
      "\n",
      "                      W76330  W76331  W76332  W76333  W76334  W76335  W76336  \n",
      "0610007C21Rik;Apr3         0       0       0       0       0       0       0  \n",
      "0610007L01Rik              0       0       1       1       0       0       0  \n",
      "0610007P08Rik;Rad26l       0       0       0       0       0       0       0  \n",
      "0610007P14Rik              0       0       0       0       0       0       0  \n",
      "0610007P22Rik              0       0       0       0       0       0       0  \n",
      "\n",
      "[5 rows x 10368 columns]\n",
      "<class 'pandas.core.frame.DataFrame'>\n",
      "Index: 27297 entries, 0610007C21Rik;Apr3 to tspan-3;Tspan3\n",
      "Columns: 10368 entries, W29953 to W76336\n",
      "dtypes: int64(10368)\n",
      "memory usage: 2.1+ GB\n",
      "None\n",
      "             W29953        W29954        W29955        W29956        W29957  \\\n",
      "count  27297.000000  27297.000000  27297.000000  27297.000000  27297.000000   \n",
      "mean       0.008389      0.082720      0.005715      0.088654      0.215994   \n",
      "std        0.097047      0.533986      0.079636      0.578453      1.371746   \n",
      "min        0.000000      0.000000      0.000000      0.000000      0.000000   \n",
      "25%        0.000000      0.000000      0.000000      0.000000      0.000000   \n",
      "50%        0.000000      0.000000      0.000000      0.000000      0.000000   \n",
      "75%        0.000000      0.000000      0.000000      0.000000      0.000000   \n",
      "max        3.000000     22.000000      3.000000     24.000000     88.000000   \n",
      "\n",
      "             W29958        W29959        W29960        W29961        W29962  \\\n",
      "count  27297.000000  27297.000000  27297.000000  27297.000000  27297.000000   \n",
      "mean       0.092867      0.004579      0.115764      0.137341      0.069531   \n",
      "std        0.621564      0.072740      0.762743      0.755890      0.489561   \n",
      "min        0.000000      0.000000      0.000000      0.000000      0.000000   \n",
      "25%        0.000000      0.000000      0.000000      0.000000      0.000000   \n",
      "50%        0.000000      0.000000      0.000000      0.000000      0.000000   \n",
      "75%        0.000000      0.000000      0.000000      0.000000      0.000000   \n",
      "max       27.000000      3.000000     40.000000     35.000000     18.000000   \n",
      "\n",
      "       ...        W76327        W76328        W76329        W76330  \\\n",
      "count  ...  27297.000000  27297.000000  27297.000000  27297.000000   \n",
      "mean   ...      0.009561      0.002564      0.021504      0.004176   \n",
      "std    ...      0.111689      0.053395      0.206714      0.075967   \n",
      "min    ...      0.000000      0.000000      0.000000      0.000000   \n",
      "25%    ...      0.000000      0.000000      0.000000      0.000000   \n",
      "50%    ...      0.000000      0.000000      0.000000      0.000000   \n",
      "75%    ...      0.000000      0.000000      0.000000      0.000000   \n",
      "max    ...      5.000000      2.000000      7.000000      5.000000   \n",
      "\n",
      "             W76331        W76332        W76333        W76334        W76335  \\\n",
      "count  27297.000000  27297.000000  27297.000000  27297.000000  27297.000000   \n",
      "mean       0.075027      0.108180      0.151225      0.002491      0.008975   \n",
      "std        0.585531      0.860626      1.201975      0.050579      0.111410   \n",
      "min        0.000000      0.000000      0.000000      0.000000      0.000000   \n",
      "25%        0.000000      0.000000      0.000000      0.000000      0.000000   \n",
      "50%        0.000000      0.000000      0.000000      0.000000      0.000000   \n",
      "75%        0.000000      0.000000      0.000000      0.000000      0.000000   \n",
      "max       25.000000     45.000000     64.000000      2.000000      6.000000   \n",
      "\n",
      "             W76336  \n",
      "count  27297.000000  \n",
      "mean       0.002967  \n",
      "std        0.058920  \n",
      "min        0.000000  \n",
      "25%        0.000000  \n",
      "50%        0.000000  \n",
      "75%        0.000000  \n",
      "max        4.000000  \n",
      "\n",
      "[8 rows x 10368 columns]\n"
     ]
    }
   ],
   "source": [
    "# Inspect the DataFrame\n",
    "print(df.head())  # Print the first few rows to inspect the data\n",
    "print(df.info())  # Print information about the DataFrame\n",
    "print(df.describe())  # Get descriptive statistics if applicable"
   ]
  },
  {
   "cell_type": "code",
   "execution_count": 41,
   "metadata": {},
   "outputs": [
    {
     "name": "stdout",
     "output_type": "stream",
     "text": [
      "Index(['W29953', 'W29954', 'W29955', 'W29956', 'W29957', 'W29958', 'W29959',\n",
      "       'W29960', 'W29961', 'W29962',\n",
      "       ...\n",
      "       'W76327', 'W76328', 'W76329', 'W76330', 'W76331', 'W76332', 'W76333',\n",
      "       'W76334', 'W76335', 'W76336'],\n",
      "      dtype='object', length=10368)\n",
      "Index(['0610007C21Rik;Apr3', '0610007L01Rik', '0610007P08Rik;Rad26l',\n",
      "       '0610007P14Rik', '0610007P22Rik', '0610008F07Rik', '0610009B22Rik',\n",
      "       '0610009D07Rik', '0610009O20Rik', '0610010B08Rik;Gm14434;Gm14308',\n",
      "       ...\n",
      "       'mTPK1;Tpk1', 'mimp3;Igf2bp3;AK045244', 'mszf84;Gm14288;Gm14435;Gm8898',\n",
      "       'mt-Nd4', 'mt3-mmp;Mmp16', 'rp9', 'scmh1;Scmh1', 'slc43a2;Slc43a2',\n",
      "       'tsec-1;Tex9', 'tspan-3;Tspan3'],\n",
      "      dtype='object', length=27297)\n"
     ]
    }
   ],
   "source": [
    "# Understand the structure\n",
    "# Check for the presence of headers, the shape of the data, and sample the data\n",
    "print(df.columns)  # Check column names\n",
    "print(df.index)  # Check row indices"
   ]
  },
  {
   "cell_type": "code",
   "execution_count": 7,
   "metadata": {},
   "outputs": [],
   "source": [
    "# Load the experimental design table\n",
    "exp_design = pd.read_csv('../../perturbation_data_wrong/not_ready/paul/GSE72857_experimental_design.txt', sep='\\t', skiprows=19)"
   ]
  },
  {
   "cell_type": "code",
   "execution_count": 8,
   "metadata": {},
   "outputs": [
    {
     "name": "stdout",
     "output_type": "stream",
     "text": [
      "      Well_ID Seq_batch_ID Amp_batch_ID well_coordinates  Mouse_ID  Plate_ID  \\\n",
      "0      W29953         SB17        AB167               A1         1         1   \n",
      "1      W29954         SB17        AB167               C1         1         1   \n",
      "2      W29955         SB17        AB167               E1         1         1   \n",
      "3      W29956         SB17        AB167               G1         1         1   \n",
      "4      W29957         SB17        AB167               I1         1         1   \n",
      "...       ...          ...          ...              ...       ...       ...   \n",
      "10363  W76332         SB29        AB396              H24         6        27   \n",
      "10364  W76333         SB29        AB396              J24         6        27   \n",
      "10365  W76334         SB29        AB396              L24         6        27   \n",
      "10366  W76335         SB29        AB396              N24         6        27   \n",
      "10367  W76336         SB29        AB396              P24         6        27   \n",
      "\n",
      "          Batch_desc Pool_barcode Cell_barcode RMT_sequence  Number_of_cells  \\\n",
      "0           CMP CD41         TGAT       CTACCA         NNNN                1   \n",
      "1           CMP CD41         TGAT       CATGCT         NNNN                1   \n",
      "2           CMP CD41         TGAT       GCACAT         NNNN                1   \n",
      "3           CMP CD41         TGAT       TGCTCG         NNNN                1   \n",
      "4           CMP CD41         TGAT       AGCAAT         NNNN                1   \n",
      "...              ...          ...          ...          ...              ...   \n",
      "10363  Cebpa control         ATGC       GCATTG         NNNN                1   \n",
      "10364  Cebpa control         ATGC       GGCTAA         NNNN                1   \n",
      "10365  Cebpa control         ATGC       CTGTGA         NNNN                1   \n",
      "10366  Cebpa control         ATGC       CATGCA         NNNN                1   \n",
      "10367  Cebpa control         ATGC       GATCGA         NNNN                1   \n",
      "\n",
      "       CD34_measurement  FcgR3_measurement  \n",
      "0                   NaN                NaN  \n",
      "1                   NaN                NaN  \n",
      "2                   NaN                NaN  \n",
      "3                   NaN                NaN  \n",
      "4                   NaN                NaN  \n",
      "...                 ...                ...  \n",
      "10363               NaN                NaN  \n",
      "10364               NaN                NaN  \n",
      "10365               NaN                NaN  \n",
      "10366               NaN                NaN  \n",
      "10367               NaN                NaN  \n",
      "\n",
      "[10368 rows x 13 columns]\n"
     ]
    }
   ],
   "source": [
    "# Check that it only has the table of interest\n",
    "print(exp_design)"
   ]
  },
  {
   "cell_type": "markdown",
   "metadata": {},
   "source": [
    "##### Combining the Data with the perturbations, controls, etc.\n",
    "\n",
    "The data is currently stored in two files:\n",
    "- GSE72857_umitab.txt which has the genes and sample/cell names based on well ID.\n",
    "- GSE72857_experimental_design which has metadata about each sample (based on well ID).\n",
    "\n",
    "Our next step will be merging the main dataframe with the experimental design table using the well IDs to have the data for perturbations, controls, etc."
   ]
  },
  {
   "cell_type": "markdown",
   "metadata": {},
   "source": [
    "##### Understanding the Data Structure\n",
    "\n",
    "The data appears to have gene names as row indices and sample/cell names as column headers.\n",
    "The values represent expression levels for each gene in each sample/cell.\n",
    "\n",
    "Do the following to convert the txt file to h5ad"
   ]
  },
  {
   "cell_type": "code",
   "execution_count": 20,
   "metadata": {},
   "outputs": [],
   "source": [
    "# Transpose the DataFrame to have genes as columns and cells as rows\n",
    "df = df.T\n",
    "\n",
    "# Extract gene names and expression data\n",
    "gene_names = df.columns.values  # Gene names are in the columns\n",
    "expression_data = df.values  # Expression data as numpy array\n",
    "cell_names = df.index.values  # Cell/sample names are in the index\n",
    "\n",
    "# Create AnnData object\n",
    "adata = sc.AnnData(X=expression_data)\n",
    "adata.var_names = gene_names  # Set gene names\n",
    "adata.obs_names = cell_names  # Set cell/sample names"
   ]
  },
  {
   "cell_type": "markdown",
   "metadata": {},
   "source": [
    "Add the necessary metadata to pass the data checker"
   ]
  },
  {
   "cell_type": "code",
   "execution_count": 24,
   "metadata": {},
   "outputs": [],
   "source": [
    "# add highly_variable_rank by sorting the genes then ranking them\n",
    "\n",
    "# Calculate the variability (variance) of each gene\n",
    "variability = np.var(expression_data, axis=0)\n",
    "\n",
    "# Rank genes based on variability in descending order\n",
    "variability_rank = np.argsort(-variability)\n",
    "\n",
    "# Create a DataFrame to hold the rankings\n",
    "rankings_df = pd.DataFrame({\n",
    "    'variability': variability,\n",
    "    'highly_variable_rank': variability_rank\n",
    "}, index=gene_names)\n",
    "\n",
    "# Add the rankings to the AnnData object\n",
    "adata.var['highly_variable_rank'] = rankings_df.loc[adata.var_names, 'highly_variable_rank']\n"
   ]
  },
  {
   "cell_type": "code",
   "execution_count": 42,
   "metadata": {},
   "outputs": [],
   "source": [
    "# Use dummy data for the perturbations as I can't find them yet\n",
    "\n",
    "# Create synthetic perturbation data\n",
    "num_cells = adata.shape[0]\n",
    "perturbations = np.random.choice(['geneA', 'geneB', 'geneC'], size=num_cells)\n",
    "expression_levels = np.random.rand(num_cells)\n",
    "perturbation_types = np.random.choice(['knockout', 'overexpression', 'knockdown'], size=num_cells)\n",
    "\n",
    "# Add synthetic perturbation data to AnnData object\n",
    "adata.obs['perturbation'] = perturbations\n",
    "adata.obs['expression_level_after_perturbation'] = expression_levels\n",
    "adata.obs['perturbation_type'] = perturbation_types"
   ]
  },
  {
   "cell_type": "code",
   "execution_count": 43,
   "metadata": {},
   "outputs": [
    {
     "name": "stdout",
     "output_type": "stream",
     "text": [
      "Data successfully saved to ../perturbations/paul/test.h5ad\n"
     ]
    }
   ],
   "source": [
    "# Save to .h5ad file\n",
    "output_file_path = '../perturbations/paul/test.h5ad'\n",
    "adata.write_h5ad(output_file_path)\n",
    "\n",
    "print(f\"Data successfully saved to {output_file_path}\")"
   ]
  },
  {
   "cell_type": "code",
   "execution_count": 9,
   "metadata": {},
   "outputs": [],
   "source": [
    "# set the path to the dataset\n",
    "dc.set_data_path(\"../perturbations\")"
   ]
  },
  {
   "cell_type": "code",
   "execution_count": 45,
   "metadata": {},
   "outputs": [
    {
     "name": "stdout",
     "output_type": "stream",
     "text": [
      "Index(['highly_variable_rank'], dtype='object')\n"
     ]
    }
   ],
   "source": [
    "# load the paul perturbation dataset to the data checker\n",
    "paul = dc.load_perturbation(\"paul\")\n",
    "print(paul.var.columns)"
   ]
  },
  {
   "cell_type": "code",
   "execution_count": 46,
   "metadata": {},
   "outputs": [
    {
     "name": "stdout",
     "output_type": "stream",
     "text": [
      "Checking gene metadata...\n",
      "Checking perturbation labels...\n",
      "Checking control labels...\n"
     ]
    },
    {
     "ename": "AssertionError",
     "evalue": "No 'is_control' column",
     "output_type": "error",
     "traceback": [
      "\u001b[0;31m---------------------------------------------------------------------------\u001b[0m",
      "\u001b[0;31mAssertionError\u001b[0m                            Traceback (most recent call last)",
      "Cell \u001b[0;32mIn[46], line 2\u001b[0m\n\u001b[1;32m      1\u001b[0m \u001b[38;5;66;03m# check the dataset using the data checker\u001b[39;00m\n\u001b[0;32m----> 2\u001b[0m is_valid \u001b[38;5;241m=\u001b[39m \u001b[43mdc\u001b[49m\u001b[38;5;241;43m.\u001b[39;49m\u001b[43mcheck_perturbation_dataset\u001b[49m\u001b[43m(\u001b[49m\u001b[43mad\u001b[49m\u001b[38;5;241;43m=\u001b[39;49m\u001b[43mpaul\u001b[49m\u001b[43m)\u001b[49m\n\u001b[1;32m      3\u001b[0m \u001b[38;5;28mprint\u001b[39m(\u001b[38;5;124m\"\u001b[39m\u001b[38;5;124mDataset validation result:\u001b[39m\u001b[38;5;124m\"\u001b[39m, is_valid)\n",
      "File \u001b[0;32m~/expression_forecasting_benchmarks/perturbation_data/setup/pereggrn_perturbations.py:171\u001b[0m, in \u001b[0;36mcheck_perturbation_dataset\u001b[0;34m(dataset_name, ad, is_timeseries, do_full, is_perturbation)\u001b[0m\n\u001b[1;32m    169\u001b[0m \u001b[38;5;66;03m# Check if the boolean control status (\"is_control\") is correctly labeled\u001b[39;00m\n\u001b[1;32m    170\u001b[0m \u001b[38;5;28mprint\u001b[39m(\u001b[38;5;124m\"\u001b[39m\u001b[38;5;124mChecking control labels...\u001b[39m\u001b[38;5;124m\"\u001b[39m, flush \u001b[38;5;241m=\u001b[39m \u001b[38;5;28;01mTrue\u001b[39;00m)\n\u001b[0;32m--> 171\u001b[0m \u001b[38;5;28;01massert\u001b[39;00m \u001b[38;5;124m\"\u001b[39m\u001b[38;5;124mis_control\u001b[39m\u001b[38;5;124m\"\u001b[39m   \u001b[38;5;129;01min\u001b[39;00m \u001b[38;5;28mset\u001b[39m(ad\u001b[38;5;241m.\u001b[39mobs\u001b[38;5;241m.\u001b[39mcolumns), \u001b[38;5;124m\"\u001b[39m\u001b[38;5;124mNo \u001b[39m\u001b[38;5;124m'\u001b[39m\u001b[38;5;124mis_control\u001b[39m\u001b[38;5;124m'\u001b[39m\u001b[38;5;124m column\u001b[39m\u001b[38;5;124m\"\u001b[39m \u001b[38;5;66;03m# Ensure 'is_control' column exists\u001b[39;00m\n\u001b[1;32m    172\u001b[0m \u001b[38;5;28;01massert\u001b[39;00m \u001b[38;5;28mbool\u001b[39m\u001b[38;5;241m==\u001b[39mad\u001b[38;5;241m.\u001b[39mobs[\u001b[38;5;124m\"\u001b[39m\u001b[38;5;124mis_control\u001b[39m\u001b[38;5;124m\"\u001b[39m]\u001b[38;5;241m.\u001b[39mdtype, \u001b[38;5;124m\"\u001b[39m\u001b[38;5;124mnon-boolean \u001b[39m\u001b[38;5;124m'\u001b[39m\u001b[38;5;124mis_control\u001b[39m\u001b[38;5;124m'\u001b[39m\u001b[38;5;124m column\u001b[39m\u001b[38;5;124m\"\u001b[39m \u001b[38;5;66;03m# Ensure it's a boolean type\u001b[39;00m\n\u001b[1;32m    173\u001b[0m \u001b[38;5;28;01massert\u001b[39;00m       ad\u001b[38;5;241m.\u001b[39mobs[\u001b[38;5;124m\"\u001b[39m\u001b[38;5;124mis_control\u001b[39m\u001b[38;5;124m\"\u001b[39m]\u001b[38;5;241m.\u001b[39many(), \u001b[38;5;124m\"\u001b[39m\u001b[38;5;124mno controls found\u001b[39m\u001b[38;5;124m\"\u001b[39m \u001b[38;5;66;03m# Ensure there is at least one control sample\u001b[39;00m\n",
      "\u001b[0;31mAssertionError\u001b[0m: No 'is_control' column"
     ]
    }
   ],
   "source": [
    "# check the dataset using the data checker\n",
    "is_valid = dc.check_perturbation_dataset(ad=paul)\n",
    "print(\"Dataset validation result:\", is_valid)"
   ]
  }
 ],
 "metadata": {
  "kernelspec": {
   "display_name": "ggrn",
   "language": "python",
   "name": "python3"
  },
  "language_info": {
   "codemirror_mode": {
    "name": "ipython",
    "version": 3
   },
   "file_extension": ".py",
   "mimetype": "text/x-python",
   "name": "python",
   "nbconvert_exporter": "python",
   "pygments_lexer": "ipython3",
   "version": "3.9.18"
  }
 },
 "nbformat": 4,
 "nbformat_minor": 2
}
