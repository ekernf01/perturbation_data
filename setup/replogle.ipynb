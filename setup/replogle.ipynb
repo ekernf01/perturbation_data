{
 "cells": [
  {
   "attachments": {},
   "cell_type": "markdown",
   "id": "a377c2a0",
   "metadata": {
    "tags": []
   },
   "source": [
    "### K562 overexpression example\n",
    "\n",
    "This notebook prepares a dataset from a tech-dev paper with a gazillion Perturb-seq experiments applied to mostly K562 ([Replogle et al 2020](https://www.nature.com/articles/s41587-020-0470-y)). We'll focus on just the CRISPRa multiplexing experiment, which does overexpression. \n",
    "\n",
    "Here we tidy the dataset and carry out a simple exploration in scanpy.\n",
    "\n",
    "Note: there is a known issue in this notebook where the HVG ranking is conducted before filtering for minimum expression. Ranks may be sparse/skippy, e.g. 1 2 4 6 8 9. For backwards compatibility, we have not revised this yet."
   ]
  },
  {
   "cell_type": "code",
   "execution_count": null,
   "id": "5207ee00",
   "metadata": {},
   "outputs": [],
   "source": [
    "import warnings\n",
    "warnings.filterwarnings('ignore')\n",
    "import regex as re\n",
    "import os\n",
    "import shutil\n",
    "import importlib\n",
    "import matplotlib.colors as colors\n",
    "import matplotlib.pyplot as plt\n",
    "import numpy as np\n",
    "import pandas as pd\n",
    "import scanpy as sc\n",
    "import seaborn as sns\n",
    "from scipy.stats import spearmanr as spearmanr\n",
    "from IPython.display import display, HTML\n",
    "# local\n",
    "import importlib\n",
    "import sys\n",
    "sys.path.append(\"setup\")\n",
    "import ingestion\n",
    "importlib.reload(ingestion)\n",
    "\n",
    "import anndata\n",
    "import os, sys\n",
    "import itertools as it\n",
    "from scipy.stats import spearmanr, pearsonr, rankdata, f_oneway\n",
    "from statsmodels.stats.multitest import multipletests\n",
    "from sklearn.metrics import mutual_info_score\n",
    "import matplotlib.pyplot as plt\n",
    "import seaborn as sns\n",
    "from collections import Counter\n",
    "\n",
    "\n",
    "#      visualization settings\n",
    "%matplotlib inline\n",
    "plt.rcParams['figure.figsize'] = [6, 4.5]\n",
    "plt.rcParams[\"savefig.dpi\"] = 300\n",
    "\n",
    "# I prefer to specify the working directory explicitly.\n",
    "os.chdir(\"/home/ekernf01/Desktop/jhu/research/projects/perturbation_prediction/cell_type_knowledge_transfer/perturbation_data\")\n",
    "\n",
    "# Universal\n",
    "geneAnnotationPath = \"../accessory_data/gencode.v35.annotation.gtf.gz\"       # Downloaded from https://www.gencodegenes.org/human/release_35.html\n",
    "humanTFPath =  \"../accessory_data/humanTFs.csv\"                              # Downloaded from http://humantfs.ccbr.utoronto.ca/download.php\n",
    "humanEpiPath = \"../accessory_data/epiList.csv\"                               # Downloaded from https://epifactors.autosome.org/description \n",
    "cellcycleGenePath = \"../accessory_data/regev_lab_cell_cycle_genes.txt\"\n",
    "\n",
    "# Replogle1 Specific\n",
    "dataset_name = \"replogle\"\n",
    "perturbEffectTFOnlyPath = \"setup/replogle1TFOnly.csv\"                         # a path to store temp file\n",
    "perturbEffectFullTranscriptomePath = \"setup/replogle1FullTranscriptome.csv\"   # a path to store temp file"
   ]
  },
  {
   "attachments": {},
   "cell_type": "markdown",
   "id": "f0b76e7c",
   "metadata": {
    "jp-MarkdownHeadingCollapsed": true,
    "tags": []
   },
   "source": [
    "### How many TF's are perturbed?"
   ]
  },
  {
   "cell_type": "code",
   "execution_count": null,
   "id": "cf771c46",
   "metadata": {
    "tags": []
   },
   "outputs": [],
   "source": [
    "human_tfs = pd.read_csv(humanTFPath)\n",
    "EpiList   = pd.read_csv(humanEpiPath, index_col=0).iloc[:, [0,14]]\n",
    "human_tfs = human_tfs.loc[human_tfs[\"Is TF?\"]==\"Yes\",:]\n",
    "replogle_perturbations = pd.read_csv(f\"not_ready/{dataset_name}/perturbed_genes.csv\")\n",
    "replogle_perturbations.drop_duplicates(inplace = True)\n",
    "replogle_perturbations[\"is_tf\"] = replogle_perturbations[\"gene\"].isin(human_tfs[\"HGNC symbol\"]) # | replogle_perturbations[\"gene\"].isin(EpiList[\"HGNC_symbol\"]) \n",
    "display(replogle_perturbations.groupby(\"experiment\").count()) #total\n",
    "display(replogle_perturbations.groupby(\"experiment\").sum()) #tf only\n",
    "replogle_perturbations.query(\"experiment=='CRISPRa multiplex' & is_tf\")[\"gene\"].unique()"
   ]
  },
  {
   "attachments": {},
   "cell_type": "markdown",
   "id": "275b88c7",
   "metadata": {
    "jp-MarkdownHeadingCollapsed": true,
    "tags": []
   },
   "source": [
    "### Load expression data & set up cell metadata"
   ]
  },
  {
   "cell_type": "code",
   "execution_count": null,
   "id": "07d803df",
   "metadata": {},
   "outputs": [],
   "source": [
    "# Reading from .mtx is slow, so we memoize to h5ad. \n",
    "if not os.path.exists(f\"not_ready/{dataset_name}/GSM4367986_exp8/overall.h5ad.gzip\"):\n",
    "    expression_quantified = sc.read_10x_mtx(f\"not_ready/{dataset_name}/GSM4367986_exp8/\")\n",
    "    expression_quantified.write_h5ad(f\"not_ready/{dataset_name}/GSM4367986_exp8/overall.h5ad.gzip\", compression=\"gzip\")\n",
    "else:\n",
    "    expression_quantified = sc.read_h5ad(f\"not_ready/{dataset_name}/GSM4367986_exp8/overall.h5ad.gzip\")"
   ]
  },
  {
   "cell_type": "code",
   "execution_count": null,
   "id": "26ca1f8f",
   "metadata": {},
   "outputs": [],
   "source": [
    "sc.pp.calculate_qc_metrics(expression_quantified, inplace = True)\n",
    "cell_metadata = pd.read_csv(f\"not_ready/{dataset_name}/GSM4367986_exp8/cell_identities.csv.gz\")\n",
    "cell_metadata.index = cell_metadata[\"cell_barcode\"]\n",
    "cell_metadata[\"target_symbol\"] = ingestion.convert_ens_to_symbol(\n",
    "    cell_metadata[\"target\"], \n",
    "    gtf=geneAnnotationPath, \n",
    "    strip_version = True)\n",
    "cell_metadata[\"target_is_tf\"] = cell_metadata[\"target_symbol\"].isin(human_tfs[\"HGNC symbol\"]).astype(\"int\")\n",
    "expression_quantified.obs = pd.merge(expression_quantified.obs,\n",
    "                                     cell_metadata, \n",
    "                                     how = \"left\", \n",
    "                                     left_index = True, \n",
    "                                     right_index = True)\n",
    "\n",
    "expression_quantified.obs[\"has_guide_annotations\"] = pd.notnull(expression_quantified.obs[\"coverage\"]).astype(\"int\")\n",
    "expression_quantified.obs[\"good_coverage\"] = expression_quantified.obs[\"good_coverage\"].astype(\"str\")\n",
    "expression_quantified.raw = expression_quantified.copy()"
   ]
  },
  {
   "cell_type": "code",
   "execution_count": null,
   "id": "aa4fa7ca-5748-4d06-b51a-dfc6bedee759",
   "metadata": {},
   "outputs": [],
   "source": [
    "expression_quantified = expression_quantified[~expression_quantified.obs.target_symbol.isna(), :]"
   ]
  },
  {
   "attachments": {},
   "cell_type": "markdown",
   "id": "1453631e",
   "metadata": {
    "jp-MarkdownHeadingCollapsed": true,
    "tags": []
   },
   "source": [
    "### How many cells do we have for each target?"
   ]
  },
  {
   "cell_type": "code",
   "execution_count": null,
   "id": "a99c0000",
   "metadata": {
    "tags": []
   },
   "outputs": [],
   "source": [
    "n_cells_per_target = expression_quantified.obs.groupby(\"target_symbol\")[[\"cell_barcode\"]].count().sort_values(\"cell_barcode\")\n",
    "n_cells_per_target.columns = [\"n_cells\"]\n",
    "n_cells_per_target[\"is_tf\"] = n_cells_per_target.index.isin(human_tfs[\"HGNC symbol\"])\n",
    "n_cells_per_target.reset_index(inplace = True)\n",
    "display(n_cells_per_target)\n",
    "plt.rcParams['figure.figsize'] = [6, 9]\n",
    "sns.barplot(data = n_cells_per_target, x = \"n_cells\", y = \"target_symbol\", hue = \"is_tf\").set_title(\"CRISPRa in K562\")"
   ]
  },
  {
   "attachments": {},
   "cell_type": "markdown",
   "id": "4b3d7666",
   "metadata": {
    "jp-MarkdownHeadingCollapsed": true,
    "tags": []
   },
   "source": [
    "### Convert ensembl gene id's to gene symbol"
   ]
  },
  {
   "cell_type": "code",
   "execution_count": null,
   "id": "1e8dac1f",
   "metadata": {},
   "outputs": [],
   "source": [
    "expression_quantified.var_names = ingestion.convert_ens_to_symbol(\n",
    "    expression_quantified.var_names, \n",
    "    gtf=geneAnnotationPath, \n",
    ")\n",
    "display(expression_quantified.var.head())\n",
    "display(expression_quantified.var_names[0:5])"
   ]
  },
  {
   "attachments": {},
   "cell_type": "markdown",
   "id": "d2a6cc7c",
   "metadata": {
    "jp-MarkdownHeadingCollapsed": true,
    "tags": []
   },
   "source": [
    "### Fill `perturbation` & `Is_control`"
   ]
  },
  {
   "cell_type": "code",
   "execution_count": null,
   "id": "594eca40",
   "metadata": {},
   "outputs": [],
   "source": [
    "controls = [\"Non-Targeting\"]\n",
    "expression_quantified.obs[\"perturbation\"]     = expression_quantified.obs['target_symbol']\n",
    "expression_quantified.obs[\"is_control\"]       = expression_quantified.obs['target_symbol'].isin(controls)\n",
    "expression_quantified.obs[\"is_control_int\"]   = expression_quantified.obs['target_symbol'].isin(controls).astype(int)"
   ]
  },
  {
   "cell_type": "code",
   "execution_count": null,
   "id": "2001ce95-f28d-4100-a5c0-2ff5ae707c9a",
   "metadata": {},
   "outputs": [],
   "source": [
    "expression_quantified"
   ]
  },
  {
   "attachments": {},
   "cell_type": "markdown",
   "id": "d337f543",
   "metadata": {
    "jp-MarkdownHeadingCollapsed": true,
    "tags": []
   },
   "source": [
    "### Single-cell RNA standard filters\n",
    "\n",
    "We prefer to err on the side of discarding real cells rather than risking inclusion of empty droplets, doublets, or other artifacts in our analysis. Out of an abundance of caution, we remove droplets with especially high or low total counts, and we remove droplets with high fractions of RNA from mitochondrial RNA's, ribosomal protein subunit RNA's, or high-expressed RNA's. With apologies, please RTFS below for exact thresholds and numbers. "
   ]
  },
  {
   "cell_type": "code",
   "execution_count": null,
   "id": "0f5e5f81-eb92-4fe2-aeab-d0ab0702d1d9",
   "metadata": {
    "tags": []
   },
   "outputs": [],
   "source": [
    "sc.pl.highest_expr_genes(expression_quantified, n_top=30, palette=\"Blues\", width=.3)"
   ]
  },
  {
   "cell_type": "code",
   "execution_count": null,
   "id": "1d02edfd-414a-4d06-a618-50a17a6df759",
   "metadata": {},
   "outputs": [],
   "source": [
    "expression_quantified.var['mt']   = expression_quantified.var_names.str.startswith((\"MT-\"))\n",
    "expression_quantified.var['ribo'] = expression_quantified.var_names.str.startswith((\"RPS\",\"RPL\"))\n",
    "expression_quantified.var['mt'].sum(), expression_quantified.var['ribo'].sum(), "
   ]
  },
  {
   "cell_type": "code",
   "execution_count": null,
   "id": "d282f0ab-8071-4f4a-9b31-0874b2effd55",
   "metadata": {},
   "outputs": [],
   "source": [
    "sc.pp.calculate_qc_metrics(expression_quantified, qc_vars=['ribo', 'mt'], percent_top=None, log1p=False, inplace=True)"
   ]
  },
  {
   "cell_type": "code",
   "execution_count": null,
   "id": "c523eaf4-c7bd-4bcd-8dd6-fa443482a420",
   "metadata": {
    "tags": []
   },
   "outputs": [],
   "source": [
    "axs = sc.pl.violin(expression_quantified, ['n_genes_by_counts', \n",
    "                                           'total_counts', \n",
    "                                           'pct_counts_mt', \n",
    "                                           'pct_counts_ribo', \n",
    "                                           'pct_counts_in_top_50_genes'], \n",
    "                   jitter=0.5, multi_panel=True)"
   ]
  },
  {
   "cell_type": "code",
   "execution_count": null,
   "id": "2cf8bab8-5594-451e-a62e-271f9ff7f681",
   "metadata": {
    "tags": []
   },
   "outputs": [],
   "source": [
    "fig, ax = plt.subplots(1,1,figsize=(2,2))\n",
    "sc.pl.scatter(expression_quantified, x='total_counts', y='n_genes_by_counts', ax=ax)"
   ]
  },
  {
   "cell_type": "code",
   "execution_count": null,
   "id": "0dd4fb39-8bf0-4653-8f78-07d1f0dd9df5",
   "metadata": {},
   "outputs": [],
   "source": [
    "print(\"Number of cells: \", expression_quantified.n_obs)\n",
    "\n",
    "# figure out the total counts == 95 percentile\n",
    "thresh = np.percentile(expression_quantified.obs['total_counts'], 99)\n",
    "print(\"99th percentile: \", thresh)"
   ]
  },
  {
   "cell_type": "code",
   "execution_count": null,
   "id": "3b8186c9-e129-4b87-a6fa-9e7a6293968c",
   "metadata": {},
   "outputs": [],
   "source": [
    "expression_quantified = expression_quantified[expression_quantified.obs['total_counts'] < thresh, :].copy()\n",
    "print(\"Number of cells: \", expression_quantified.n_obs)"
   ]
  },
  {
   "cell_type": "code",
   "execution_count": null,
   "id": "2fe993ee-ca9d-4fa4-9e9c-d902ab361851",
   "metadata": {},
   "outputs": [],
   "source": [
    "expression_quantified = expression_quantified[expression_quantified.obs[\"total_counts\"] >= 2000, :].copy()\n",
    "print(\"Number of cells: \", expression_quantified.n_obs)"
   ]
  },
  {
   "cell_type": "code",
   "execution_count": null,
   "id": "7dd30092-c8a6-438e-b7ec-9f4159a7b3db",
   "metadata": {},
   "outputs": [],
   "source": [
    "expression_quantified = expression_quantified[expression_quantified.obs[\"pct_counts_in_top_50_genes\"] <= 40, :].copy()\n",
    "print(\"Number of cells: \", expression_quantified.n_obs)"
   ]
  },
  {
   "cell_type": "code",
   "execution_count": null,
   "id": "0472f2c1-5380-437c-8882-1a8d47b9e3e2",
   "metadata": {},
   "outputs": [],
   "source": [
    "# filter for % mt\n",
    "expression_quantified = expression_quantified[expression_quantified.obs['pct_counts_mt'] < 20, :].copy()\n",
    "print(\"Number of cells: \", expression_quantified.n_obs)"
   ]
  },
  {
   "cell_type": "code",
   "execution_count": null,
   "id": "e1d44196-242a-4f1c-8686-d1df67d3d66a",
   "metadata": {},
   "outputs": [],
   "source": [
    "# filter for % ribo > 50%\n",
    "expression_quantified = expression_quantified[expression_quantified.obs['pct_counts_ribo'] < 30, :].copy()\n",
    "print(\"Number of cells: \", expression_quantified.n_obs)"
   ]
  },
  {
   "cell_type": "code",
   "execution_count": null,
   "id": "ca5823c1-4a98-4cb9-944b-8a675b26368a",
   "metadata": {},
   "outputs": [],
   "source": [
    "\"\"\" To verify the outcome of filtering cells \"\"\"\n",
    "sc.pp.calculate_qc_metrics(expression_quantified, qc_vars=['ribo', 'mt'], percent_top=None, log1p=False, inplace=True)"
   ]
  },
  {
   "cell_type": "code",
   "execution_count": null,
   "id": "0af05f68-3986-42e1-93e8-8284d2774568",
   "metadata": {
    "tags": []
   },
   "outputs": [],
   "source": [
    "axs = sc.pl.violin(expression_quantified, ['n_genes_by_counts', \n",
    "                                           'total_counts', \n",
    "                                           'pct_counts_mt', \n",
    "                                           'pct_counts_ribo', \n",
    "                                           'pct_counts_in_top_50_genes'], \n",
    "                   jitter=0.4, multi_panel=True)"
   ]
  },
  {
   "cell_type": "code",
   "execution_count": null,
   "id": "c681b220-682c-47b5-b6e2-bcb197d8ca6c",
   "metadata": {
    "tags": []
   },
   "outputs": [],
   "source": [
    "fig, ax = plt.subplots(1,1,figsize=(2,2))\n",
    "sc.pl.scatter(expression_quantified, x='total_counts', y='n_genes_by_counts', ax=ax)"
   ]
  },
  {
   "cell_type": "code",
   "execution_count": null,
   "id": "26b9eedf-5d13-4d4c-923c-f57f64559b5e",
   "metadata": {},
   "outputs": [],
   "source": [
    "print(\"Number of genes: \", expression_quantified.n_vars)\n",
    "gThresh = 10\n",
    "\n",
    "sc.pp.filter_genes(expression_quantified, min_cells=gThresh)\n",
    "print(\"Number of genes: \", expression_quantified.n_vars)"
   ]
  },
  {
   "cell_type": "code",
   "execution_count": null,
   "id": "1f515804-6a78-455b-a61d-b29feb3a290b",
   "metadata": {},
   "outputs": [],
   "source": [
    "\"\"\" Specifically rescuing the perturbed genes \"\"\"\n",
    "rows = [np.where(expression_quantified.var_names == p)[0] \n",
    "        for p in set(expression_quantified.obs.perturbation) \n",
    "        if p in expression_quantified.var_names]\n",
    "perturbedKeep = np.full(expression_quantified.n_vars, False)\n",
    "perturbedKeep[rows] = True\n",
    "np.sum(perturbedKeep)"
   ]
  },
  {
   "cell_type": "code",
   "execution_count": null,
   "id": "a965bb00-4987-473e-9940-e316377c815c",
   "metadata": {},
   "outputs": [],
   "source": [
    "mito_genes = expression_quantified.var_names.str.startswith('MT-')\n",
    "ribo_genes = expression_quantified.var_names.str.startswith((\"RPL\",\"RPS\"))\n",
    "malat_gene = expression_quantified.var_names.str.startswith(\"MALAT1\")"
   ]
  },
  {
   "cell_type": "code",
   "execution_count": null,
   "id": "0ae3b47a-cbcb-47b6-9d44-1a8bb63feb98",
   "metadata": {},
   "outputs": [],
   "source": [
    "remove = np.add(mito_genes, ribo_genes)\n",
    "remove = np.add(remove, malat_gene)\n",
    "keep = np.invert(remove)\n",
    "keep = keep | perturbedKeep\n",
    "expression_quantified = expression_quantified[:,keep].copy()\n",
    "print(\"Number of genes: \", expression_quantified.n_vars)"
   ]
  },
  {
   "cell_type": "code",
   "execution_count": null,
   "id": "d2a0028a-99c6-48a3-83c7-3f1f931cfebd",
   "metadata": {},
   "outputs": [],
   "source": [
    "[idx for idx, n in enumerate(expression_quantified.var.index) if n.upper() == 'GAPDH']"
   ]
  },
  {
   "cell_type": "code",
   "execution_count": null,
   "id": "8ff84511-b4a3-469b-a21c-b52d4bebfa0a",
   "metadata": {
    "tags": []
   },
   "outputs": [],
   "source": [
    "sc.pl.highest_expr_genes(expression_quantified, n_top=20, palette=\"Blues\", width=.3)"
   ]
  },
  {
   "cell_type": "code",
   "execution_count": null,
   "id": "339c6fc9-f020-4764-9798-baa29178f3e6",
   "metadata": {},
   "outputs": [],
   "source": [
    "\"\"\" To verify the outcome of filtering genes \"\"\"\n",
    "sc.pp.calculate_qc_metrics(expression_quantified, qc_vars=['ribo', 'mt'], percent_top=None, log1p=False, inplace=True)"
   ]
  },
  {
   "cell_type": "code",
   "execution_count": null,
   "id": "47617032-3455-4514-b4bc-2217634a7cfe",
   "metadata": {
    "tags": []
   },
   "outputs": [],
   "source": [
    "axs = sc.pl.violin(expression_quantified, ['n_genes_by_counts', \n",
    "                                           'total_counts', \n",
    "                                           'pct_counts_mt', \n",
    "                                           'pct_counts_ribo', \n",
    "                                           'pct_counts_in_top_50_genes'], \n",
    "                   jitter=0.4, multi_panel=True)"
   ]
  },
  {
   "cell_type": "code",
   "execution_count": null,
   "id": "28d7120f-1972-4996-80ef-a08c5b0e9158",
   "metadata": {
    "tags": []
   },
   "outputs": [],
   "source": [
    "fig, ax = plt.subplots(1,1,figsize=(2,2))\n",
    "sc.pl.scatter(expression_quantified, x='total_counts', y='n_genes_by_counts', ax=ax)"
   ]
  },
  {
   "attachments": {},
   "cell_type": "markdown",
   "id": "8ed1c47b",
   "metadata": {},
   "source": [
    "### Basic EDA \n",
    "\n",
    "We supply some basic exploratory plots."
   ]
  },
  {
   "cell_type": "code",
   "execution_count": null,
   "id": "1e4ba4ef-aa62-45f2-9e74-45be08eaf99b",
   "metadata": {
    "jupyter": {
     "source_hidden": true
    },
    "tags": []
   },
   "outputs": [],
   "source": [
    "# When we do pseudo-bulk aggregation, we will want \"raw\" counts (not normalized), \n",
    "# but after applying the above filters. So we re-save the .raw attribute now.\n",
    "expression_quantified.raw = expression_quantified.copy()\n",
    "sc.pp.log1p(expression_quantified)\n",
    "sc.pp.highly_variable_genes(expression_quantified, flavor = \"seurat_v3\", n_top_genes=expression_quantified.var.shape[0])\n",
    "sc.pl.highly_variable_genes(expression_quantified)\n",
    "with warnings.catch_warnings():\n",
    "    sc.tl.pca(expression_quantified, n_comps=100)\n",
    "sc.pp.neighbors(expression_quantified)\n",
    "sc.tl.umap(expression_quantified)\n",
    "clusterResolutions = []\n",
    "sc.tl.leiden(expression_quantified)\n",
    "cc_genes = pd.read_csv(cellcycleGenePath, header = None)[0]\n",
    "sc.tl.score_genes_cell_cycle(expression_quantified, s_genes=cc_genes[:43], g2m_genes=cc_genes[43:])\n",
    "plt.rcParams['figure.figsize'] = [6, 4.5]\n",
    "sc.pl.umap(expression_quantified, color = [\n",
    "    # \"PTPRC\",\n",
    "    \"leiden\", \n",
    "    \"is_control_int\",\n",
    "    \"perturbation\",\n",
    "    'total_counts', \n",
    "    'log1p_total_counts',\n",
    "    'pct_counts_in_top_50_genes', \n",
    "    'has_guide_annotations',\n",
    "])\n",
    "# Will ask CellOracle to use only one cluster.\n",
    "# This requires setting certain other undocumented aspects of object state. :(\n",
    "expression_quantified.obs[\"fake_cluster\"]=\"all_one_cluster\"\n",
    "expression_quantified.obs.fake_cluster = expression_quantified.obs.fake_cluster.astype(\"category\")\n",
    "expression_quantified.uns[\"fake_cluster_colors\"] = ['#1f77b4']"
   ]
  },
  {
   "attachments": {},
   "cell_type": "markdown",
   "id": "70f0f777-5468-437c-b29f-f78ab4ac2886",
   "metadata": {
    "jp-MarkdownHeadingCollapsed": true,
    "tags": []
   },
   "source": [
    "### Aggregate For Pseudo-Bulk"
   ]
  },
  {
   "cell_type": "code",
   "execution_count": null,
   "id": "deb084f7-5de4-4d30-8cad-735086766631",
   "metadata": {
    "tags": []
   },
   "outputs": [],
   "source": [
    "pseudobulk = ingestion.aggregate_by_perturbation(expression_quantified, group_by = ['target_symbol', 'type'])"
   ]
  },
  {
   "cell_type": "code",
   "execution_count": null,
   "id": "0df0fca6-acaf-4578-8e19-8a2e05d99e10",
   "metadata": {
    "tags": []
   },
   "outputs": [],
   "source": [
    "rows = [np.where(expression_quantified.var_names == p)[0] \n",
    "        for p in set(expression_quantified.obs.perturbation) \n",
    "        if p in expression_quantified.var_names]\n",
    "perturbedKeep = np.full(expression_quantified.n_vars, False)\n",
    "perturbedKeep[rows] = True\n",
    "print(f\"{np.sum(perturbedKeep)} columns to keep (perturbed genes)\")\n",
    "retainColumn = np.max(pseudobulk.X[~pseudobulk.obs.is_control], axis=0) > 100\n",
    "retainColumn = retainColumn | perturbedKeep\n",
    "pseudobulk = pseudobulk[:, retainColumn].copy()\n",
    "print(f\"{pseudobulk.shape} is post-filtering shape.\")"
   ]
  },
  {
   "attachments": {},
   "cell_type": "markdown",
   "id": "16c338f2-69a4-42f2-ab9c-37375bcdc744",
   "metadata": {
    "jp-MarkdownHeadingCollapsed": true,
    "tags": []
   },
   "source": [
    "### Normalization on pseudobulk"
   ]
  },
  {
   "cell_type": "code",
   "execution_count": null,
   "id": "7ced76bd-f665-4abb-a3f7-bc07a2ff2b94",
   "metadata": {},
   "outputs": [],
   "source": [
    "pseudobulk.raw = pseudobulk"
   ]
  },
  {
   "cell_type": "code",
   "execution_count": null,
   "id": "1f5402b7-8b3a-4dc5-b02d-ffad96335a40",
   "metadata": {},
   "outputs": [],
   "source": [
    "pseudobulk.X = ingestion.deseq2Normalization(pseudobulk.X.T).T"
   ]
  },
  {
   "attachments": {},
   "cell_type": "markdown",
   "id": "0e2efa62-eba9-4d48-bdeb-139f01d050ee",
   "metadata": {
    "jp-MarkdownHeadingCollapsed": true,
    "tags": []
   },
   "source": [
    "### Visualize Normalization Effort"
   ]
  },
  {
   "cell_type": "code",
   "execution_count": null,
   "id": "54627161-9812-41ac-b2d8-47a82dbce63b",
   "metadata": {
    "tags": []
   },
   "outputs": [],
   "source": [
    "z2 = pseudobulk.copy()"
   ]
  },
  {
   "cell_type": "code",
   "execution_count": null,
   "id": "5da454ae-12ec-4d8d-894e-043b26ed26cb",
   "metadata": {
    "tags": []
   },
   "outputs": [],
   "source": [
    "\"\"\" Sanity check: expression for house keeping genes are relatively stable \"\"\"\n",
    "fig, axes = plt.subplots(1, 2, figsize=(8,2))\n",
    "axes[0].hist(z2.X[:, [idx for idx, n in enumerate(pseudobulk.var.index) if n.upper() == 'ACTB']], bins=100, label=\"ACTB\")\n",
    "axes[1].hist(z2.X[:, [idx for idx, n in enumerate(pseudobulk.var.index) if n.upper() == 'GAPDH']], bins=100, label=\"GAPDH\")\n",
    "axes[0].legend()\n",
    "axes[1].legend()\n",
    "plt.suptitle(\"Expression across pseudobulk samples\")\n",
    "plt.show()"
   ]
  },
  {
   "cell_type": "code",
   "execution_count": null,
   "id": "c0327832-97a3-41a4-bb3c-cd93e09bcb7f",
   "metadata": {
    "tags": []
   },
   "outputs": [],
   "source": [
    "\"\"\" The sum of gene expression before and after normalization \"\"\"\n",
    "fig, axes = plt.subplots(1, 2, figsize=(12,3))\n",
    "axes[0].hist(pseudobulk.raw.X.sum(axis=1), bins=100, log=True, label=\"before DESeq2 norm\")\n",
    "axes[1].hist(pseudobulk    .X.sum(axis=1), bins=100, log=True, label= \"after DESeq2 norm\")\n",
    "axes[0].legend()\n",
    "axes[1].legend()\n",
    "plt.show()"
   ]
  },
  {
   "attachments": {},
   "cell_type": "markdown",
   "id": "bd8707ea-a56c-404f-ae12-dfdf68fdbe2c",
   "metadata": {
    "jp-MarkdownHeadingCollapsed": true,
    "tags": []
   },
   "source": [
    "### Check Consistency between perturbation and measured"
   ]
  },
  {
   "cell_type": "code",
   "execution_count": null,
   "id": "d00dc4d3-3cb7-42e1-aefe-022072477793",
   "metadata": {
    "tags": []
   },
   "outputs": [],
   "source": [
    "# If verbose is set to True, display disconcordant trials and their controls\n",
    "status, logFC = ingestion.checkConsistency(pseudobulk, \n",
    "                                           perturbationType=\"overexpression\", \n",
    "                                           group=None,\n",
    "                                           verbose=False) \n",
    "pseudobulk.obs[\"consistentW/Perturbation\"] = status\n",
    "pseudobulk.obs[\"logFC\"] = logFC\n",
    "Counter(status)"
   ]
  },
  {
   "attachments": {},
   "cell_type": "markdown",
   "id": "186300f4-da89-4121-b716-c014c267c84e",
   "metadata": {
    "jp-MarkdownHeadingCollapsed": true,
    "tags": []
   },
   "source": [
    "### Final decision on QC filtering\n",
    "\n",
    "Remove guide combinations that appear not to overexpress the targeted gene."
   ]
  },
  {
   "cell_type": "code",
   "execution_count": null,
   "id": "e124b332-e240-4412-95ec-17ae040a9097",
   "metadata": {},
   "outputs": [],
   "source": [
    "pseudobulk_filtered = pseudobulk[pseudobulk.obs['consistentW/Perturbation'] != 'No'].copy()"
   ]
  },
  {
   "attachments": {},
   "cell_type": "markdown",
   "id": "72f01c9b-054d-4e89-97d2-64c69ad6d96b",
   "metadata": {
    "jp-MarkdownHeadingCollapsed": true,
    "tags": []
   },
   "source": [
    "### Check Consistency between replications"
   ]
  },
  {
   "cell_type": "code",
   "execution_count": null,
   "id": "79973fea-4974-4751-b794-d29c641bbc51",
   "metadata": {
    "scrolled": true,
    "tags": []
   },
   "outputs": [],
   "source": [
    "correlations = ingestion.computeCorrelation(pseudobulk_filtered, verbose=True)\n",
    "pseudobulk_filtered.obs[\"spearmanCorr\"] = correlations[0]\n",
    "pseudobulk_filtered.obs[\" pearsonCorr\"] = correlations[1]\n",
    "\n",
    "pseudobulk = pseudobulk_filtered.copy()"
   ]
  },
  {
   "attachments": {},
   "cell_type": "markdown",
   "id": "82ee4df1-82de-449a-8713-b84c4e4165a0",
   "metadata": {
    "jp-MarkdownHeadingCollapsed": true,
    "tags": []
   },
   "source": [
    "### Compute the Magnitude of Perturbation Effect"
   ]
  },
  {
   "cell_type": "code",
   "execution_count": null,
   "id": "e3cc7c20-c0fd-4a88-9ddd-c469f0c7738e",
   "metadata": {},
   "outputs": [],
   "source": [
    "\"\"\"\n",
    "Downloaded from http://humantfs.ccbr.utoronto.ca/download.php \"\"\"\n",
    "TFList = pd.read_csv(humanTFPath, index_col=0).iloc[:, [1,3]]\n",
    "TFDict = dict([tuple(i) for i in TFList.to_numpy().tolist() if i[1] == 'Yes'])\n",
    "\n",
    "\"\"\"\n",
    "Downloaded from https://epifactors.autosome.org/description \"\"\"\n",
    "EpiList = pd.read_csv(humanEpiPath, index_col=0).iloc[:, [0,14]]\n",
    "EpiDict = dict([tuple(i) for i in EpiList.to_numpy().tolist()])"
   ]
  },
  {
   "attachments": {},
   "cell_type": "markdown",
   "id": "aa38b38e",
   "metadata": {},
   "source": [
    "### How big are the effects?\n",
    "\n",
    "We compute several different measures to get a sense for the overall strength of each effect. They are all well correlated. "
   ]
  },
  {
   "cell_type": "code",
   "execution_count": null,
   "id": "71e3533c-2b43-4f68-ab12-1e695423ad66",
   "metadata": {
    "scrolled": true,
    "tags": []
   },
   "outputs": [],
   "source": [
    "\"\"\" If want to look at bigness on TF only \"\"\"\n",
    "TFVar = [i for i,p in enumerate(pseudobulk.var.index) if p in TFDict or p in EpiDict]\n",
    "pseudobulkTFOnly = pseudobulk[:, TFVar].copy()\n",
    "ingestion.quantifyEffect(adata=pseudobulkTFOnly, \n",
    "                         fname=perturbEffectTFOnlyPath, \n",
    "                         group=None, \n",
    "                         diffExprFC=False, \n",
    "                         prefix=\"TFOnly\")\n",
    "\n",
    "ingestion.quantifyEffect(adata=pseudobulk, \n",
    "                         fname=perturbEffectFullTranscriptomePath, \n",
    "                         group=None,\n",
    "                         diffExprFC=False, \n",
    "                         prefix=\"\")\n",
    "\n",
    "listOfMetrics = [\"DEG\", \"MI\", \"logFCMean\", \"logFCNorm2\", \"logFCMedian\"]\n",
    "for m in listOfMetrics:\n",
    "    pseudobulk.obs[f\"TFOnly{m}\"] = pseudobulkTFOnly.obs[f\"TFOnly{m}\"]"
   ]
  },
  {
   "cell_type": "code",
   "execution_count": null,
   "id": "b66094b3-06c5-4f10-b7f9-cfcea52565b4",
   "metadata": {
    "tags": []
   },
   "outputs": [],
   "source": [
    "metricOfInterest = [\"MI\", \"logFCMean\", \"logFCNorm2\", \"logFCMedian\", \n",
    "                    \"TFOnlyMI\", \"TFOnlylogFCMean\", \"TFOnlylogFCNorm2\", \"TFOnlylogFCMedian\"]\n",
    "ingestion.checkPerturbationEffectMetricCorrelation(pseudobulk, metrics=metricOfInterest)"
   ]
  },
  {
   "cell_type": "code",
   "execution_count": null,
   "id": "c7b015b9-bf0f-40e9-a13e-3a3cec7163b7",
   "metadata": {
    "tags": []
   },
   "outputs": [],
   "source": [
    "ingestion.visualizePerturbationEffect(pseudobulk, metrics=metricOfInterest, TFDict=TFDict, EpiDict=EpiDict)"
   ]
  },
  {
   "cell_type": "code",
   "execution_count": null,
   "id": "9aaa3167-0ef0-4004-81b3-d3d06c13e819",
   "metadata": {
    "scrolled": true,
    "tags": []
   },
   "outputs": [],
   "source": [
    "sorted(set([(i,j) for i,j in pseudobulk.obs[['perturbation', 'logFCNorm2']].to_numpy()]), key=lambda x: x[1])"
   ]
  },
  {
   "cell_type": "code",
   "execution_count": null,
   "id": "fbe7b492-ca5e-45de-b564-59d5e8f24dfd",
   "metadata": {
    "tags": []
   },
   "outputs": [],
   "source": [
    "temp = pseudobulk.copy()\n",
    "\n",
    "\"\"\" If wish to see more clearer, by masking the ones with \n",
    "much higher logFC norm2 values \"\"\"\n",
    "# temp = pseudobulk[(pseudobulk.obs.perturbation != 'CCDC51') \n",
    "#                   & (pseudobulk.obs.perturbation != 'HSPD1') \n",
    "#                   & (pseudobulk.obs.perturbation != 'SPI1') \n",
    "#                   & (pseudobulk.obs.perturbation != 'CEBPB')\n",
    "#                  ].copy()\n",
    "\n",
    "\"\"\" If you wish to see the magnitude of perturbation effect more clearer,\n",
    "    i.e. a smoother gradient of the color shift, feel free to uncomment\n",
    "    the line below, which takes the log of the norm2 \"\"\"\n",
    "temp.obs['logFCNorm2 (log-scale)'] = np.log2(temp.obs['logFCNorm2'])\n",
    "\n",
    "ingestion.visualizePerturbationMetadata(temp, \n",
    "                                        x=\"spearmanCorr\", \n",
    "                                        y=\"logFC\", \n",
    "                                        style=\"consistentW/Perturbation\", \n",
    "                                        hue=\"logFCNorm2 (log-scale)\", \n",
    "                                        markers=['o', '^'], \n",
    "                                        xlim=[-0.1, 0.8])"
   ]
  },
  {
   "attachments": {},
   "cell_type": "markdown",
   "id": "c2d8d347",
   "metadata": {
    "jp-MarkdownHeadingCollapsed": true,
    "tags": []
   },
   "source": [
    "### Basic EDA\n",
    "\n",
    "What does the final, fully filtered set of pseudo-bulk profiles look like?"
   ]
  },
  {
   "cell_type": "code",
   "execution_count": null,
   "id": "97c2e7b3",
   "metadata": {
    "tags": []
   },
   "outputs": [],
   "source": [
    "sc.pp.log1p(pseudobulk)\n",
    "with warnings.catch_warnings():\n",
    "    sc.tl.pca(pseudobulk, n_comps=100)\n",
    "sc.pp.neighbors(pseudobulk)\n",
    "sc.tl.umap(pseudobulk)\n",
    "clusterResolutions = []\n",
    "sc.tl.leiden(pseudobulk)\n",
    "cc_genes = pd.read_csv(cellcycleGenePath, header = None)[0]\n",
    "sc.tl.score_genes_cell_cycle(pseudobulk, s_genes=cc_genes[:43], g2m_genes=cc_genes[43:])"
   ]
  },
  {
   "cell_type": "code",
   "execution_count": null,
   "id": "5216afa0",
   "metadata": {
    "scrolled": true
   },
   "outputs": [],
   "source": [
    "plt.rcParams['figure.figsize'] = [6, 4.5]\n",
    "sc.pl.umap(pseudobulk, color = [\n",
    "    # \"PTPRC\",\n",
    "    \"leiden\", \n",
    "    \"is_control_int\",\n",
    "    \"perturbation\",\n",
    "])"
   ]
  },
  {
   "cell_type": "code",
   "execution_count": null,
   "id": "4f8497a6-6f17-4d97-bcc0-dd7646ec4e0e",
   "metadata": {},
   "outputs": [],
   "source": [
    "pseudobulk"
   ]
  },
  {
   "cell_type": "code",
   "execution_count": null,
   "id": "84b48ae3",
   "metadata": {},
   "outputs": [],
   "source": [
    "perturbed_genes = set(list(pseudobulk.obs['perturbation'].unique())).difference(controls)\n",
    "perturbed_and_measured_genes = perturbed_genes.intersection(pseudobulk.var.index)\n",
    "perturbed_but_not_measured_genes = perturbed_genes.difference(pseudobulk.var.index)\n",
    "genes_keep = pseudobulk.var.index[pseudobulk.var['highly_variable']]\n",
    "genes_keep = set(genes_keep).union(perturbed_and_measured_genes)\n",
    "print(\"These genes were perturbed:\")\n",
    "print(perturbed_genes)\n",
    "print(\"These genes were perturbed but not measured:\")\n",
    "print(perturbed_but_not_measured_genes)\n"
   ]
  },
  {
   "cell_type": "code",
   "execution_count": null,
   "id": "44bf3fcf",
   "metadata": {},
   "outputs": [],
   "source": [
    "# final form, ready to save\n",
    "pseudobulk.uns[\"perturbed_and_measured_genes\"]     = list(perturbed_and_measured_genes)\n",
    "pseudobulk.uns[\"perturbed_but_not_measured_genes\"] = list(perturbed_but_not_measured_genes)\n",
    "pseudobulk = ingestion.describe_perturbation_effect(pseudobulk, \"overexpression\")"
   ]
  },
  {
   "cell_type": "code",
   "execution_count": null,
   "id": "e9207240",
   "metadata": {},
   "outputs": [],
   "source": [
    "os.makedirs(f\"perturbations/{dataset_name}\", exist_ok = True)\n",
    "pseudobulk.write_h5ad(f\"perturbations/{dataset_name}/test.h5ad\")"
   ]
  },
  {
   "cell_type": "code",
   "execution_count": null,
   "id": "cf4a5d56",
   "metadata": {},
   "outputs": [],
   "source": []
  }
 ],
 "metadata": {
  "kernelspec": {
   "display_name": "Python 3.9.13 ('cell_type_grn_transfer')",
   "language": "python",
   "name": "python3"
  },
  "language_info": {
   "codemirror_mode": {
    "name": "ipython",
    "version": 3
   },
   "file_extension": ".py",
   "mimetype": "text/x-python",
   "name": "python",
   "nbconvert_exporter": "python",
   "pygments_lexer": "ipython3",
   "version": "3.9.15"
  },
  "vscode": {
   "interpreter": {
    "hash": "7658a1e878c2df46706cc47028d7885e1865315efe8f971cf3b351dc4de1c60e"
   }
  }
 },
 "nbformat": 4,
 "nbformat_minor": 5
}
