{
 "cells": [
  {
   "cell_type": "markdown",
   "id": "a377c2a0",
   "metadata": {},
   "source": [
    "### K562 overexpression example\n",
    "\n",
    "This notebook prepares a dataset from a tech-dev paper with a gazillion Perturb-seq experiments applied to mostly K562 ([Replogle et al 2020](https://www.nature.com/articles/s41587-020-0470-y)). We'll focus on just the CRISPRa multiplexing experiment. \n",
    "\n",
    "Here we tidy the dataset and carry out a simple exploration in scanpy."
   ]
  },
  {
   "cell_type": "code",
   "execution_count": 1,
   "id": "5207ee00",
   "metadata": {
    "scrolled": false
   },
   "outputs": [],
   "source": [
    "import warnings\n",
    "warnings.filterwarnings('ignore')\n",
    "import regex as re\n",
    "import os\n",
    "import shutil\n",
    "import importlib\n",
    "import matplotlib.colors as colors\n",
    "import matplotlib.pyplot as plt\n",
    "import numpy as np\n",
    "import pandas as pd\n",
    "import scanpy as sc\n",
    "import seaborn as sns\n",
    "import celloracle as co\n",
    "from scipy.stats import spearmanr as spearmanr\n",
    "from IPython.display import display, HTML\n",
    "# local\n",
    "import importlib\n",
    "import sys\n",
    "sys.path.append(\"setup\")\n",
    "import ingestion\n",
    "importlib.reload(ingestion)\n",
    "\n",
    "#      visualization settings\n",
    "%config InlineBackend.figure_format = 'retina'\n",
    "%matplotlib inline\n",
    "plt.rcParams['figure.figsize'] = [6, 4.5]\n",
    "plt.rcParams[\"savefig.dpi\"] = 300\n",
    "\n",
    "# Specify the working directory explicitly.\n",
    "os.chdir(\"/home/ekernf01/Desktop/jhu/research/projects/perturbation_prediction/cell_type_knowledge_transfer/perturbations/\")"
   ]
  },
  {
   "cell_type": "markdown",
   "id": "f0b76e7c",
   "metadata": {},
   "source": [
    "### How many TF's are perturbed?"
   ]
  },
  {
   "cell_type": "code",
   "execution_count": 2,
   "id": "cf771c46",
   "metadata": {},
   "outputs": [
    {
     "data": {
      "text/html": [
       "<div>\n",
       "<style scoped>\n",
       "    .dataframe tbody tr th:only-of-type {\n",
       "        vertical-align: middle;\n",
       "    }\n",
       "\n",
       "    .dataframe tbody tr th {\n",
       "        vertical-align: top;\n",
       "    }\n",
       "\n",
       "    .dataframe thead th {\n",
       "        text-align: right;\n",
       "    }\n",
       "</style>\n",
       "<table border=\"1\" class=\"dataframe\">\n",
       "  <thead>\n",
       "    <tr style=\"text-align: right;\">\n",
       "      <th></th>\n",
       "      <th>gene</th>\n",
       "      <th>is_tf</th>\n",
       "    </tr>\n",
       "    <tr>\n",
       "      <th>experiment</th>\n",
       "      <th></th>\n",
       "      <th></th>\n",
       "    </tr>\n",
       "  </thead>\n",
       "  <tbody>\n",
       "    <tr>\n",
       "      <th>CRISPRa multiplex</th>\n",
       "      <td>63</td>\n",
       "      <td>63</td>\n",
       "    </tr>\n",
       "    <tr>\n",
       "      <th>CRISPRi multiplex</th>\n",
       "      <td>104</td>\n",
       "      <td>104</td>\n",
       "    </tr>\n",
       "    <tr>\n",
       "      <th>IPSC</th>\n",
       "      <td>19</td>\n",
       "      <td>19</td>\n",
       "    </tr>\n",
       "    <tr>\n",
       "      <th>Interaction</th>\n",
       "      <td>41</td>\n",
       "      <td>42</td>\n",
       "    </tr>\n",
       "    <tr>\n",
       "      <th>UPR validation</th>\n",
       "      <td>30</td>\n",
       "      <td>30</td>\n",
       "    </tr>\n",
       "  </tbody>\n",
       "</table>\n",
       "</div>"
      ],
      "text/plain": [
       "                   gene  is_tf\n",
       "experiment                    \n",
       "CRISPRa multiplex    63     63\n",
       "CRISPRi multiplex   104    104\n",
       "IPSC                 19     19\n",
       "Interaction          41     42\n",
       "UPR validation       30     30"
      ]
     },
     "metadata": {},
     "output_type": "display_data"
    },
    {
     "data": {
      "text/html": [
       "<div>\n",
       "<style scoped>\n",
       "    .dataframe tbody tr th:only-of-type {\n",
       "        vertical-align: middle;\n",
       "    }\n",
       "\n",
       "    .dataframe tbody tr th {\n",
       "        vertical-align: top;\n",
       "    }\n",
       "\n",
       "    .dataframe thead th {\n",
       "        text-align: right;\n",
       "    }\n",
       "</style>\n",
       "<table border=\"1\" class=\"dataframe\">\n",
       "  <thead>\n",
       "    <tr style=\"text-align: right;\">\n",
       "      <th></th>\n",
       "      <th>is_tf</th>\n",
       "    </tr>\n",
       "    <tr>\n",
       "      <th>experiment</th>\n",
       "      <th></th>\n",
       "    </tr>\n",
       "  </thead>\n",
       "  <tbody>\n",
       "    <tr>\n",
       "      <th>CRISPRa multiplex</th>\n",
       "      <td>39</td>\n",
       "    </tr>\n",
       "    <tr>\n",
       "      <th>CRISPRi multiplex</th>\n",
       "      <td>16</td>\n",
       "    </tr>\n",
       "    <tr>\n",
       "      <th>IPSC</th>\n",
       "      <td>5</td>\n",
       "    </tr>\n",
       "    <tr>\n",
       "      <th>Interaction</th>\n",
       "      <td>4</td>\n",
       "    </tr>\n",
       "    <tr>\n",
       "      <th>UPR validation</th>\n",
       "      <td>2</td>\n",
       "    </tr>\n",
       "  </tbody>\n",
       "</table>\n",
       "</div>"
      ],
      "text/plain": [
       "                   is_tf\n",
       "experiment              \n",
       "CRISPRa multiplex     39\n",
       "CRISPRi multiplex     16\n",
       "IPSC                   5\n",
       "Interaction            4\n",
       "UPR validation         2"
      ]
     },
     "metadata": {},
     "output_type": "display_data"
    },
    {
     "data": {
      "text/plain": [
       "array(['CDKN1A', 'CDKN1B', 'CEBPB', 'CERKL', 'COL2A1', 'EOMES', 'ETS2',\n",
       "       'FOXC1', 'HHEX', 'HIC2', 'HOXD13', 'IGDCC3', 'IRF1', 'KLF1',\n",
       "       'LHX4', 'MAP2K3', 'MAP2K6', 'MAPK1', 'MEIS2', 'NEUROD1', 'NPM1',\n",
       "       'PRTG', 'PTPN1', 'SET', 'SPI1', 'TIPARP', 'TLE3', 'TTC6', 'ZNF296',\n",
       "       'AIRE', 'ASCL1', 'ATF4', 'ATF5', 'BACH2', 'CCDC51', 'COX5A',\n",
       "       'CREB1', 'DDIT3', 'DDIT4', 'EIF2S1', 'FOXP3', 'GATA3', 'HIF1A',\n",
       "       'HSF1', 'HSPA9', 'HSPD1', 'MTOR', 'NEUROG2', 'NRF1', 'PISD',\n",
       "       'PPARGC1A', 'RANBP1', 'RORA', 'RPL30', 'RPS18', 'SREBF1', 'TBX21',\n",
       "       'TFAP4', 'TIMM50', 'TMA7', 'UPF1', 'ZNF236', 'ZNF574'],\n",
       "      dtype=object)"
      ]
     },
     "execution_count": 2,
     "metadata": {},
     "output_type": "execute_result"
    }
   ],
   "source": [
    "dataset_name = \"replogle\"\n",
    "human_tfs = pd.read_csv(\"../accessory_data/humanTFs.csv\")\n",
    "replogle_perturbations = pd.read_csv(f\"not_ready/{dataset_name}/perturbed_genes.csv\")\n",
    "replogle_perturbations.drop_duplicates(inplace = True)\n",
    "replogle_perturbations[\"is_tf\"] = replogle_perturbations[\"gene\"].isin(human_tfs[\"HGNC symbol\"])\n",
    "display(replogle_perturbations.groupby(\"experiment\").count()) #total\n",
    "display(replogle_perturbations.groupby(\"experiment\").sum()) #tf only\n",
    "replogle_perturbations.query(\"experiment=='CRISPRa multiplex'\")[\"gene\"].unique() #which TF's"
   ]
  },
  {
   "cell_type": "markdown",
   "id": "275b88c7",
   "metadata": {},
   "source": [
    "### Load expression data & set up cell metadata"
   ]
  },
  {
   "cell_type": "code",
   "execution_count": null,
   "id": "07d803df",
   "metadata": {},
   "outputs": [],
   "source": [
    "expression_quantified = sc.read_10x_mtx(f\"not_ready/{dataset_name}/GSM4367986_exp8/\")"
   ]
  },
  {
   "cell_type": "code",
   "execution_count": null,
   "id": "26ca1f8f",
   "metadata": {},
   "outputs": [],
   "source": [
    "sc.pp.calculate_qc_metrics(expression_quantified, inplace = True)\n",
    "cell_metadata = pd.read_csv(f\"not_ready/{dataset_name}/GSM4367986_exp8/cell_identities.csv.gz\")\n",
    "cell_metadata.index = cell_metadata[\"cell_barcode\"]\n",
    "cell_metadata[\"target_symbol\"] = ingestion.convert_ens_to_symbol(\n",
    "    cell_metadata[\"target\"], \n",
    "    gtf = \"../accessory_data/gencode.v35.annotation.gtf.gz\", \n",
    "    strip_version = True)\n",
    "cell_metadata[\"target_is_tf\"] = cell_metadata[\"target_symbol\"].isin(human_tfs[\"HGNC symbol\"]).astype(\"int\")\n",
    "expression_quantified.obs = pd.merge(expression_quantified.obs,\n",
    "                                     cell_metadata, \n",
    "                                     how = \"left\", \n",
    "                                     left_index = True, \n",
    "                                     right_index = True)\n",
    "\n",
    "expression_quantified.obs[\"has_guide_annotations\"] = pd.notnull(expression_quantified.obs[\"coverage\"]).astype(\"int\")\n",
    "expression_quantified.obs[\"good_coverage\"] = expression_quantified.obs[\"good_coverage\"].astype(\"str\")"
   ]
  },
  {
   "cell_type": "markdown",
   "id": "1453631e",
   "metadata": {},
   "source": [
    "### How many cells do we have for each target?"
   ]
  },
  {
   "cell_type": "code",
   "execution_count": null,
   "id": "a99c0000",
   "metadata": {},
   "outputs": [],
   "source": [
    "n_cells_per_target = expression_quantified.obs.groupby(\"target_symbol\")[[\"cell_barcode\"]].count().sort_values(\"cell_barcode\")\n",
    "n_cells_per_target.columns = [\"n_cells\"]\n",
    "n_cells_per_target[\"is_tf\"] = n_cells_per_target.index.isin(human_tfs[\"HGNC symbol\"])\n",
    "n_cells_per_target.reset_index(inplace = True)\n",
    "display(n_cells_per_target)\n",
    "plt.rcParams['figure.figsize'] = [6, 9]\n",
    "sns.barplot(data = n_cells_per_target, x = \"n_cells\", y = \"target_symbol\", hue = \"is_tf\").set_title(\"CRISPRa in K562\")"
   ]
  },
  {
   "cell_type": "markdown",
   "id": "4b3d7666",
   "metadata": {},
   "source": [
    "### Convert ensembl gene id's to gene symbol"
   ]
  },
  {
   "cell_type": "code",
   "execution_count": null,
   "id": "1e8dac1f",
   "metadata": {},
   "outputs": [],
   "source": [
    "expression_quantified.var_names = ingestion.convert_ens_to_symbol(\n",
    "    expression_quantified.var_names, \n",
    "    gtf = \"../accessory_data/gencode.v35.annotation.gtf.gz\", \n",
    ")\n",
    "display(expression_quantified.var.head())\n",
    "display(expression_quantified.var_names[0:5])"
   ]
  },
  {
   "cell_type": "markdown",
   "id": "d2a6cc7c",
   "metadata": {},
   "source": [
    "### Fill `perturbation` & `Is_control`"
   ]
  },
  {
   "cell_type": "code",
   "execution_count": null,
   "id": "594eca40",
   "metadata": {},
   "outputs": [],
   "source": [
    "controls = [\"Non-Targeting\"]\n",
    "expression_quantified.obs[\"perturbation\"] = expression_quantified.obs['target_symbol']\n",
    "expression_quantified.obs[\"is_control\"]   = expression_quantified.obs['target_symbol'].isin(controls).astype(int)"
   ]
  },
  {
   "cell_type": "markdown",
   "id": "09477f39",
   "metadata": {},
   "source": [
    "### QC filters"
   ]
  },
  {
   "cell_type": "code",
   "execution_count": null,
   "id": "77addd44",
   "metadata": {},
   "outputs": [],
   "source": [
    "expression_quantified = expression_quantified[expression_quantified.obs[\"total_counts\"]>= 2000, :]\n",
    "expression_quantified = expression_quantified[expression_quantified.obs[\"pct_counts_in_top_50_genes\"]<= 50, :]\n",
    "expression_quantified"
   ]
  },
  {
   "cell_type": "markdown",
   "id": "c2d8d347",
   "metadata": {},
   "source": [
    "### Basic EDA"
   ]
  },
  {
   "cell_type": "code",
   "execution_count": null,
   "id": "97c2e7b3",
   "metadata": {},
   "outputs": [],
   "source": [
    "sc.pp.normalize_total(expression_quantified, target_sum=1e4)\n",
    "sc.pp.log1p(expression_quantified)\n",
    "sc.pp.highly_variable_genes(expression_quantified, min_mean=0.2, max_mean=4, min_disp=0.2, n_bins=50)\n",
    "sc.pl.highly_variable_genes(expression_quantified)\n",
    "with warnings.catch_warnings():\n",
    "    sc.tl.pca(expression_quantified, n_comps=100)\n",
    "sc.pp.neighbors(expression_quantified)\n",
    "sc.tl.umap(expression_quantified)\n",
    "clusterResolutions = []\n",
    "sc.tl.leiden(expression_quantified)\n",
    "cc_genes = pd.read_csv(\"../accessory_data/regev_lab_cell_cycle_genes.txt\", header = None)[0]\n",
    "sc.tl.score_genes_cell_cycle(expression_quantified, s_genes=cc_genes[:43], g2m_genes=cc_genes[43:])"
   ]
  },
  {
   "cell_type": "code",
   "execution_count": null,
   "id": "5216afa0",
   "metadata": {
    "scrolled": true
   },
   "outputs": [],
   "source": [
    "plt.rcParams['figure.figsize'] = [6, 4.5]\n",
    "sc.pl.umap(expression_quantified, color = [\n",
    "    \"PTPRC\",\n",
    "    \"leiden\", \n",
    "    \"is_control\",\n",
    "    \"perturbation\",\n",
    "    'S_score',\n",
    "    'G2M_score', \n",
    "    'phase', \n",
    "    'total_counts', \n",
    "    'log1p_total_counts',\n",
    "    'pct_counts_in_top_50_genes', \n",
    "    'has_guide_annotations',\n",
    "])\n",
    "# Will ask CO to use only one cluster.\n",
    "# Requires setting certain other undocumented aspects of object state. :(\n",
    "expression_quantified.obs[\"fake_cluster\"]=\"all_one_cluster\"\n",
    "expression_quantified.obs.fake_cluster = expression_quantified.obs.fake_cluster.astype(\"category\")\n",
    "expression_quantified.uns[\"fake_cluster_colors\"] = ['#1f77b4']"
   ]
  },
  {
   "cell_type": "markdown",
   "id": "44a4a02a",
   "metadata": {},
   "source": [
    "### Data reduction\n",
    "\n",
    "With only 64GB of RAM, I have been unable to make whole-transcriptome predictions with CellOracle. A data reduction step is necessary where only highly variable genes are included. We also keep all genes that are perturbed, whether or not they appear highly variable -- unless they are unavailable in the first place. "
   ]
  },
  {
   "cell_type": "code",
   "execution_count": null,
   "id": "84b48ae3",
   "metadata": {},
   "outputs": [],
   "source": [
    "perturbed_genes = set(list(expression_quantified.obs['perturbation'].unique())).difference(controls)\n",
    "perturbed_and_measured_genes = perturbed_genes.intersection(expression_quantified.var.index)\n",
    "perturbed_but_not_measured_genes = perturbed_genes.difference(expression_quantified.var.index)\n",
    "genes_keep = expression_quantified.var.index[expression_quantified.var['highly_variable']]\n",
    "genes_keep = set(genes_keep).union(perturbed_and_measured_genes)\n",
    "expression_quantified_orig = expression_quantified.copy()\n",
    "print(\"These genes were perturbed:\")\n",
    "print(perturbed_genes)\n",
    "print(\"These genes were perturbed but not measured:\")\n",
    "print(perturbed_but_not_measured_genes)\n",
    "print(\"This many variable genes will be kept and used by CO:\")\n",
    "print(len(genes_keep))"
   ]
  },
  {
   "cell_type": "code",
   "execution_count": null,
   "id": "619d4c01",
   "metadata": {},
   "outputs": [],
   "source": [
    "# final form, ready to save\n",
    "expression_quantified = expression_quantified_orig[:,list(genes_keep)]\n",
    "expression_quantified.uns[\"perturbed_and_measured_genes\"]     = list(perturbed_and_measured_genes)\n",
    "expression_quantified.uns[\"perturbed_but_not_measured_genes\"] = list(perturbed_but_not_measured_genes)"
   ]
  },
  {
   "cell_type": "code",
   "execution_count": null,
   "id": "ba9c754c",
   "metadata": {
    "scrolled": true
   },
   "outputs": [],
   "source": [
    "os.makedirs(f\"perturbations/{dataset_name}\", exist_ok = True)\n",
    "expression_quantified.write_h5ad(f\"perturbations/{dataset_name}/test.h5ad\")"
   ]
  },
  {
   "cell_type": "code",
   "execution_count": null,
   "id": "44bf3fcf",
   "metadata": {},
   "outputs": [],
   "source": []
  }
 ],
 "metadata": {
  "kernelspec": {
   "display_name": "Python 3 (ipykernel)",
   "language": "python",
   "name": "python3"
  },
  "language_info": {
   "codemirror_mode": {
    "name": "ipython",
    "version": 3
   },
   "file_extension": ".py",
   "mimetype": "text/x-python",
   "name": "python",
   "nbconvert_exporter": "python",
   "pygments_lexer": "ipython3",
   "version": "3.9.7"
  }
 },
 "nbformat": 4,
 "nbformat_minor": 5
}
